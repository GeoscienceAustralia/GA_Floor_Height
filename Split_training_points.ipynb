{
 "cells": [
  {
   "cell_type": "code",
   "execution_count": 1,
   "metadata": {},
   "outputs": [],
   "source": [
    "import geopandas as gpd\n",
    "from sklearn.model_selection import train_test_split\n",
    "import os\n",
    "import pandas as pd"
   ]
  },
  {
   "cell_type": "code",
   "execution_count": 3,
   "metadata": {},
   "outputs": [
    {
     "name": "stdout",
     "output_type": "stream",
     "text": [
      "GeoJSON with split attribute saved to: output\\Wagga\\Final_Wagga_training_samples_split.geojson\n"
     ]
    }
   ],
   "source": [
    "\n",
    "# Load the GeoJSON file\n",
    "input_folder='output\\Wagga'\n",
    "input_geojson=os.path.join(input_folder,\"Final_Wagga_training_samples.geojson\")\n",
    "geo_df = gpd.read_file(input_geojson)\n",
    "\n",
    "# Define the attributes for stratification\n",
    "stratify_columns = ['cluster','Ground_surveyed', 'AGE','WALL_M','USAGE','Ground_Level_bin']\n",
    "\n",
    "# Ensure the stratify columns exist and handle missing data (optional)\n",
    "geo_df = geo_df.dropna(subset=stratify_columns)\n",
    "\n",
    "# Create a new column for stratification by combining the stratify columns\n",
    "geo_df['stratify'] = geo_df[stratify_columns].astype(str).agg('_'.join, axis=1)\n",
    "\n",
    "# Check class distribution\n",
    "class_counts = geo_df['stratify'].value_counts()\n",
    "problematic_classes = class_counts[class_counts < 2].index\n",
    "\n",
    "# Handle problematic classes (Option A: Remove them)\n",
    "geo_df = geo_df[~geo_df['stratify'].isin(problematic_classes)]\n",
    "\n",
    "# Split the data into training and validation sets\n",
    "train, val = train_test_split(\n",
    "    geo_df,\n",
    "    test_size=0.2,  # Adjust validation size (20% here)\n",
    "    stratify=geo_df['stratify'],\n",
    "    random_state=42  # For reproducibility\n",
    ")\n",
    "\n",
    "# Add a new column to indicate the split\n",
    "train['split'] = 'train'\n",
    "val['split'] = 'validation'\n",
    "\n",
    "# Combine the datasets back into a single GeoDataFrame\n",
    "combined = gpd.GeoDataFrame(pd.concat([train, val], ignore_index=True))\n",
    "\n",
    "# Drop the auxiliary 'stratify' column\n",
    "combined = combined.drop(columns=['stratify'])\n",
    "\n",
    "# Export the combined dataset to GeoJSON\n",
    "output_geojson = os.path.join(input_folder,\"Final_Wagga_training_samples_split.geojson\")\n",
    "combined.to_file(output_geojson, driver=\"GeoJSON\")\n",
    "\n",
    "print(f\"GeoJSON with split attribute saved to: {output_geojson}\")\n"
   ]
  }
 ],
 "metadata": {
  "kernelspec": {
   "display_name": "floorheight",
   "language": "python",
   "name": "python3"
  },
  "language_info": {
   "codemirror_mode": {
    "name": "ipython",
    "version": 3
   },
   "file_extension": ".py",
   "mimetype": "text/x-python",
   "name": "python",
   "nbconvert_exporter": "python",
   "pygments_lexer": "ipython3",
   "version": "3.10.15"
  }
 },
 "nbformat": 4,
 "nbformat_minor": 2
}
