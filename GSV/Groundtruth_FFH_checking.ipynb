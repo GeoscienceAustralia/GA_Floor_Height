{
 "cells": [
  {
   "cell_type": "markdown",
   "metadata": {},
   "source": [
    "This notebook allows you to manually and interactively to estimate FFH from a given GSV pano image, which is useful for ground-truth data assessment and updates (if required) and more reliable than visual assessment. It requires:\n",
    "* building/eave height measured from building & canopy height raster\n",
    "* building eave width measured from DSM or building & canopy height raster\n",
    "* pano id of corresponding building (to allow searching for pano image)\n",
    "* interactively measured building/eave height in pixels\n",
    "* interactively measured eave width in pixels\n",
    "* interactively measured floor height in pixels  \n",
    "\n",
    "Update the first two parameters each time and re-run all cells.\n",
    "\n",
    "__Note: There seems bug on using ESC key to close window, so you will need to click on close button to finish each window.__"
   ]
  },
  {
   "cell_type": "markdown",
   "metadata": {},
   "source": [
    "### Load dependencies"
   ]
  },
  {
   "cell_type": "code",
   "execution_count": 19,
   "metadata": {},
   "outputs": [],
   "source": [
    "import cv2\n",
    "import glob\n",
    "import os"
   ]
  },
  {
   "cell_type": "markdown",
   "metadata": {},
   "source": [
    "### Set input parameters:\n",
    "* input pano images folder\n",
    "* pano image id\n",
    "* building/eave height (m) - derived from building &canopy height raster\n",
    "* building eave width (m) - derived from DSM or building &canopy height raster"
   ]
  },
  {
   "cell_type": "code",
   "execution_count": 20,
   "metadata": {},
   "outputs": [],
   "source": [
    "pano_folder=r\"C:\\Users\\lliu\\FrontierSI\\Projects - 127 Residential Dwelling Floor Height\\4 Executing\\Data Exploration\\GSV\\Wagga\\Pano_clipped_all\""
   ]
  },
  {
   "cell_type": "code",
   "execution_count": 21,
   "metadata": {},
   "outputs": [],
   "source": [
    "# pano_id='Sdp4ax7QS6z-NBY_iBH5ww' # please update every time you run this notebook\n",
    "# building_height_m=3.5 # remember to update correspondingly the same feature you are measuring\n",
    "\n",
    "pano_id='qRwIoP-OssOI6-Czcvn9Xg'\n",
    "building_height_m=3.5\n",
    "eave_width_m=1.2 # just an example not measured value"
   ]
  },
  {
   "cell_type": "code",
   "execution_count": 22,
   "metadata": {},
   "outputs": [],
   "source": [
    "# Load image\n",
    "pano_file=glob.glob(os.path.join(pano_folder,pano_id+'.jpg'))[0]\n",
    "original_img = cv2.imread(pano_file)"
   ]
  },
  {
   "cell_type": "markdown",
   "metadata": {},
   "source": [
    "### Store measured points"
   ]
  },
  {
   "cell_type": "code",
   "execution_count": 23,
   "metadata": {},
   "outputs": [],
   "source": [
    "# List to store two points\n",
    "points_buildingheight = []\n",
    "points_eavewidth = []\n",
    "points_floorheight = []\n",
    "\n",
    "dist_buildingheight=[]\n",
    "dist_eavewidth=[]\n",
    "dist_floorheight=[]\n"
   ]
  },
  {
   "cell_type": "markdown",
   "metadata": {},
   "source": [
    "### defines callback function"
   ]
  },
  {
   "cell_type": "code",
   "execution_count": 24,
   "metadata": {},
   "outputs": [],
   "source": [
    "def measure_distance(event, x, y, flags, param):\n",
    "    \"\"\"Handles mouse clicks to measure X and Y distances.\"\"\"\n",
    "    img_ref, points, dists, window_name = param  # Unpack parameters\n",
    "    # global points, img\n",
    "\n",
    "    if event == cv2.EVENT_LBUTTONDOWN:\n",
    "        points.append((x, y))\n",
    "\n",
    "        if len(points) == 2:\n",
    "            # Calculate distances\n",
    "            x_dist = abs(points[1][0] - points[0][0])\n",
    "            y_dist = abs(points[1][1] - points[0][1])\n",
    "\n",
    "            print(f\"Start point coordinates: {points[0]}\")\n",
    "            print(f\"End point coordinates: {points[1]}\")\n",
    "            print(f\"X Distance: {x_dist} pixels\")\n",
    "            print(f\"Y Distance: {y_dist} pixels\")\n",
    "            \n",
    "            dists.append((x_dist,y_dist))\n",
    "\n",
    "            # Draw points and line\n",
    "            cv2.circle(img_ref, points[0], 5, (0, 0, 255), -1)  # Red point\n",
    "            cv2.circle(img_ref, points[1], 5, (0, 255, 0), -1)  # Green point\n",
    "            cv2.line(img_ref, points[0], (points[1][0], points[0][1]), (255, 0, 0), 2)  # Horizontal line\n",
    "            cv2.line(img_ref, points[1], (points[1][0], points[0][1]), (255, 0, 0), 2)  # Vertical line\n",
    "            # Refresh the window with updated image\n",
    "            cv2.imshow(window_name, img_ref)\n",
    "\n",
    "            points = []  # Reset points\n",
    "            dists = []"
   ]
  },
  {
   "cell_type": "markdown",
   "metadata": {},
   "source": [
    "### Interactively measure building/eave and floor heights\n",
    "* three image windows will be open, one for building/eave height, one for eave width and the other for floor height measuring\n",
    "* single click on two points on each image to measure\n",
    "* close window to finish"
   ]
  },
  {
   "cell_type": "code",
   "execution_count": 25,
   "metadata": {},
   "outputs": [],
   "source": [
    "# Initialize active window tracker\n",
    "active_window = None\n",
    "\n",
    "def set_active_window(window_name):\n",
    "    \"\"\"Updates the active window when mouse interacts with a window.\"\"\"\n",
    "    global active_window\n",
    "    active_window = window_name\n",
    "\n",
    "def on_mouse(event, x, y, flags, param):\n",
    "    \"\"\"Mouse callback that updates the active window.\"\"\"\n",
    "    img, points, dist, window_name = param\n",
    "    if event == cv2.EVENT_LBUTTONDOWN:\n",
    "        set_active_window(window_name)\n",
    "    # Your existing measure_distance logic here\n",
    "    measure_distance(event, x, y, flags, (img, points, dist, window_name))"
   ]
  },
  {
   "cell_type": "code",
   "execution_count": 26,
   "metadata": {},
   "outputs": [],
   "source": [
    "# Create two windows\n",
    "window_buildingheight='Measure_building_height_'+pano_id\n",
    "window_eavewidth='Measure_eave_width_'+pano_id\n",
    "window_floorheight='Measure_floor_height_'+pano_id\n",
    "cv2.namedWindow(window_buildingheight)\n",
    "cv2.namedWindow(window_eavewidth)\n",
    "cv2.namedWindow(window_floorheight)\n",
    "\n",
    "# Create copies of the original image for drawing\n",
    "img_building = original_img.copy()\n",
    "img_eave = original_img.copy()\n",
    "img_floor = original_img.copy()\n",
    "\n",
    "# set mouse callback\n",
    "cv2.setMouseCallback(window_buildingheight, measure_distance, param=(img_building, points_buildingheight, dist_buildingheight,window_buildingheight))\n",
    "cv2.setMouseCallback(window_eavewidth, measure_distance, param=(img_eave, points_eavewidth, dist_eavewidth,window_eavewidth))\n",
    "cv2.setMouseCallback(window_floorheight, measure_distance, param=(img_floor, points_floorheight, dist_floorheight,window_floorheight))\n"
   ]
  },
  {
   "cell_type": "code",
   "execution_count": 27,
   "metadata": {},
   "outputs": [],
   "source": [
    "# # Track window status\n",
    "# building_open = True\n",
    "# eave_open = True\n",
    "# floor_open = True\n",
    "\n",
    "# # Show images and handle closing\n",
    "# while building_open or eave_open or floor_open:\n",
    "#     # Only display open windows\n",
    "#     if building_open and cv2.getWindowProperty(window_buildingheight, cv2.WND_PROP_VISIBLE) >= 1:\n",
    "#         cv2.imshow(window_buildingheight, img_building)\n",
    "#     else:\n",
    "#         building_open = False  # Window is closed manually\n",
    "\n",
    "#     if eave_open and cv2.getWindowProperty(window_eavewidth, cv2.WND_PROP_VISIBLE) >= 1:\n",
    "#         cv2.imshow(window_eavewidth, img_eave)\n",
    "#     else:\n",
    "#         eave_open = False  # Window is closed manually\n",
    "\n",
    "#     if floor_open and cv2.getWindowProperty(window_floorheight, cv2.WND_PROP_VISIBLE) >= 1:\n",
    "#         cv2.imshow(window_floorheight, img_floor)\n",
    "#     else:\n",
    "#         floor_open = False  # Window is closed manually\n",
    "\n",
    "#     key = cv2.waitKey(1) & 0xFF  # Check for key press\n",
    "\n",
    "#     # Close windows independently when ESC is pressed (order: building → eave → floor)\n",
    "#     if key == 27:\n",
    "#         if building_open:  # Close building window first if open\n",
    "#             cv2.destroyWindow(window_buildingheight)\n",
    "#             building_open = False\n",
    "#         elif eave_open:  # Then close eave window if open\n",
    "#             cv2.destroyWindow(window_eavewidth)\n",
    "#             eave_open = False\n",
    "#         elif floor_open:  # Finally close floor window if open\n",
    "#             cv2.destroyWindow(window_floorheight)\n",
    "#             floor_open = False\n",
    "\n",
    "# # Ensure all windows are closed\n",
    "# cv2.destroyAllWindows()\n"
   ]
  },
  {
   "cell_type": "code",
   "execution_count": 28,
   "metadata": {},
   "outputs": [
    {
     "name": "stdout",
     "output_type": "stream",
     "text": [
      "Start point coordinates: (1078, 2030)\n",
      "End point coordinates: (1195, 2030)\n",
      "X Distance: 117 pixels\n",
      "Y Distance: 0 pixels\n",
      "Start point coordinates: (1489, 2254)\n",
      "End point coordinates: (1492, 2306)\n",
      "X Distance: 3 pixels\n",
      "Y Distance: 52 pixels\n",
      "Start point coordinates: (1645, 1978)\n",
      "End point coordinates: (1627, 2297)\n",
      "X Distance: 18 pixels\n",
      "Y Distance: 319 pixels\n"
     ]
    }
   ],
   "source": [
    "\n",
    "# Window status tracking\n",
    "windows = {\n",
    "    window_buildingheight: True,\n",
    "    window_eavewidth: True,\n",
    "    window_floorheight: True\n",
    "}\n",
    "\n",
    "while any(windows.values()):\n",
    "    # Update window status\n",
    "    for window in list(windows.keys()):\n",
    "        windows[window] = cv2.getWindowProperty(window, cv2.WND_PROP_VISIBLE) > 0\n",
    "    \n",
    "    # Display open windows\n",
    "    if windows[window_buildingheight]:\n",
    "        cv2.imshow(window_buildingheight, img_building)\n",
    "    if windows[window_eavewidth]:\n",
    "        cv2.imshow(window_eavewidth, img_eave)\n",
    "    if windows[window_floorheight]:\n",
    "        cv2.imshow(window_floorheight, img_floor)\n",
    "\n",
    "    key = cv2.waitKey(1) & 0xFF\n",
    "\n",
    "    # ESC closes only the active window\n",
    "    if key == 27 and active_window and windows.get(active_window, False):\n",
    "        cv2.destroyWindow(active_window)\n",
    "        windows[active_window] = False\n",
    "        active_window = None  # Reset after closing\n",
    "\n",
    "cv2.destroyAllWindows()"
   ]
  },
  {
   "cell_type": "markdown",
   "metadata": {},
   "source": [
    "### Estimate floor height\n",
    "* EEH estimation result will be printed out in the end"
   ]
  },
  {
   "cell_type": "code",
   "execution_count": 29,
   "metadata": {},
   "outputs": [
    {
     "name": "stdout",
     "output_type": "stream",
     "text": [
      "Estimated floor height (m) using building/eave height: 0.5705329153605015\n",
      "Estimated floor height (m) using building eave width: 0.5333333333333333\n"
     ]
    }
   ],
   "source": [
    "floor_height_m_1=dist_floorheight[0][1]/dist_buildingheight[0][1]*building_height_m\n",
    "floor_height_m_2=dist_floorheight[0][1]/dist_eavewidth[0][0]*eave_width_m\n",
    "print('Estimated floor height (m) using building/eave height:',floor_height_m_1)\n",
    "print('Estimated floor height (m) using building eave width:',floor_height_m_2)"
   ]
  }
 ],
 "metadata": {
  "kernelspec": {
   "display_name": "floorheight",
   "language": "python",
   "name": "python3"
  },
  "language_info": {
   "codemirror_mode": {
    "name": "ipython",
    "version": 3
   },
   "file_extension": ".py",
   "mimetype": "text/x-python",
   "name": "python",
   "nbconvert_exporter": "python",
   "pygments_lexer": "ipython3",
   "version": "3.10.15"
  }
 },
 "nbformat": 4,
 "nbformat_minor": 2
}
