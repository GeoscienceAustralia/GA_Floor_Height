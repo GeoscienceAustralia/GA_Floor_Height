{
 "cells": [
  {
   "cell_type": "markdown",
   "metadata": {},
   "source": [
    "This notebook allows you to manually and interactively to estimate FFH from a given GSV pano image, which is useful for ground-truth data assessment and updates (if required) and more reliable than visual assessment. It requires:\n",
    "* building/eave height measured from building & canopy height raster\n",
    "* pano id of corresponding building (to allow searching for pano image)\n",
    "* interactively measured building/eave height in pixels\n",
    "* interactively measured floor height in pixels  \n",
    "\n",
    "Update the first two parameters each time and re-run all cells."
   ]
  },
  {
   "cell_type": "markdown",
   "metadata": {},
   "source": [
    "### Load dependencies"
   ]
  },
  {
   "cell_type": "code",
   "execution_count": 105,
   "metadata": {},
   "outputs": [],
   "source": [
    "import cv2\n",
    "import glob\n",
    "import os"
   ]
  },
  {
   "cell_type": "markdown",
   "metadata": {},
   "source": [
    "### Set input parameters:\n",
    "* input pano images folder\n",
    "* pano image id\n",
    "* building/eave height (m) - derived from building/canopy height raster"
   ]
  },
  {
   "cell_type": "code",
   "execution_count": 106,
   "metadata": {},
   "outputs": [],
   "source": [
    "pano_folder=r\"C:\\Users\\lliu\\FrontierSI\\Projects - 127 Residential Dwelling Floor Height\\4 Executing\\Data Exploration\\GSV\\Wagga\\Pano_clipped_all\"\n"
   ]
  },
  {
   "cell_type": "code",
   "execution_count": 107,
   "metadata": {},
   "outputs": [],
   "source": [
    "# pano_id='Sdp4ax7QS6z-NBY_iBH5ww' # please update every time you run this notebook\n",
    "# building_height_m=3.5 # remember to update correspondingly the same feature you are measuring\n",
    "\n",
    "pano_id='qRwIoP-OssOI6-Czcvn9Xg'\n",
    "building_height_m=3.5"
   ]
  },
  {
   "cell_type": "code",
   "execution_count": 108,
   "metadata": {},
   "outputs": [],
   "source": [
    "# Load image\n",
    "pano_file=glob.glob(os.path.join(pano_folder,pano_id+'.jpg'))[0]\n",
    "original_img = cv2.imread(pano_file)"
   ]
  },
  {
   "cell_type": "markdown",
   "metadata": {},
   "source": [
    "### Store measured points"
   ]
  },
  {
   "cell_type": "code",
   "execution_count": 109,
   "metadata": {},
   "outputs": [],
   "source": [
    "# List to store two points\n",
    "points_buildingheight = []\n",
    "points_floorheight = []\n",
    "dist_buildingheight=[]\n",
    "dist_floorheight=[]\n"
   ]
  },
  {
   "cell_type": "markdown",
   "metadata": {},
   "source": [
    "### defines callback function"
   ]
  },
  {
   "cell_type": "code",
   "execution_count": 110,
   "metadata": {},
   "outputs": [],
   "source": [
    "def measure_distance(event, x, y, flags, param):\n",
    "    \"\"\"Handles mouse clicks to measure X and Y distances.\"\"\"\n",
    "    img_ref, points, dists, window_name = param  # Unpack parameters\n",
    "    # global points, img\n",
    "\n",
    "    if event == cv2.EVENT_LBUTTONDOWN:\n",
    "        points.append((x, y))\n",
    "\n",
    "        if len(points) == 2:\n",
    "            # Calculate distances\n",
    "            x_dist = abs(points[1][0] - points[0][0])\n",
    "            y_dist = abs(points[1][1] - points[0][1])\n",
    "\n",
    "            print(f\"Start point coordinates: {points[0]}\")\n",
    "            print(f\"End point coordinates: {points[1]}\")\n",
    "            print(f\"X Distance: {x_dist} pixels\")\n",
    "            print(f\"Y Distance: {y_dist} pixels\")\n",
    "            \n",
    "            dists.append((x_dist,y_dist))\n",
    "\n",
    "            # Draw points and line\n",
    "            cv2.circle(img_ref, points[0], 5, (0, 0, 255), -1)  # Red point\n",
    "            cv2.circle(img_ref, points[1], 5, (0, 255, 0), -1)  # Green point\n",
    "            cv2.line(img_ref, points[0], (points[1][0], points[0][1]), (255, 0, 0), 2)  # Horizontal line\n",
    "            cv2.line(img_ref, points[1], (points[1][0], points[0][1]), (255, 0, 0), 2)  # Vertical line\n",
    "            # Refresh the window with updated image\n",
    "            cv2.imshow(window_name, img_ref)\n",
    "\n",
    "            points = []  # Reset points\n",
    "            dists = []"
   ]
  },
  {
   "cell_type": "markdown",
   "metadata": {},
   "source": [
    "### Interactively measure building/eave and floor heights\n",
    "* two image windows will be open, one for building/eave height and another for floor height measuring\n",
    "* single click on two points on each image to measure\n",
    "* press esc key to finish"
   ]
  },
  {
   "cell_type": "code",
   "execution_count": 111,
   "metadata": {},
   "outputs": [
    {
     "name": "stdout",
     "output_type": "stream",
     "text": [
      "Start point coordinates: (1452, 2254)\n",
      "End point coordinates: (1452, 2309)\n",
      "X Distance: 0 pixels\n",
      "Y Distance: 55 pixels\n",
      "Start point coordinates: (1517, 1975)\n",
      "End point coordinates: (1517, 2306)\n",
      "X Distance: 0 pixels\n",
      "Y Distance: 331 pixels\n"
     ]
    }
   ],
   "source": [
    "# Create two windows\n",
    "window_buildingheight='Measure_building_height_'+pano_id\n",
    "window_floorheight='Measure_floor_height_'+pano_id\n",
    "cv2.namedWindow(window_buildingheight)\n",
    "cv2.namedWindow(window_floorheight)\n",
    "\n",
    "# Create copies of the original image for drawing\n",
    "img_building = original_img.copy()\n",
    "img_floor = original_img.copy()\n",
    "\n",
    "# set mouse callback\n",
    "cv2.setMouseCallback(window_buildingheight, measure_distance, param=(img_building, points_buildingheight, dist_buildingheight,window_buildingheight))\n",
    "cv2.setMouseCallback(window_floorheight, measure_distance, param=(img_floor, points_floorheight, dist_floorheight,window_floorheight))\n",
    "\n",
    "# Track window status\n",
    "building_open = True\n",
    "floor_open = True\n",
    "# Show images and handle closing\n",
    "while building_open or floor_open:\n",
    "    # Only display open windows\n",
    "    if building_open and cv2.getWindowProperty(window_buildingheight, cv2.WND_PROP_VISIBLE) >= 1:\n",
    "        cv2.imshow(window_buildingheight, img_building)\n",
    "    else:\n",
    "        building_open = False  # Window is closed manually\n",
    "\n",
    "    if floor_open and cv2.getWindowProperty(window_floorheight, cv2.WND_PROP_VISIBLE) >= 1:\n",
    "        cv2.imshow(window_floorheight, img_floor)\n",
    "    else:\n",
    "        floor_open = False  # Window is closed manually\n",
    "\n",
    "    key = cv2.waitKey(1) & 0xFF  # Check for key press\n",
    "\n",
    "    # Close windows independently when ESC is pressed\n",
    "    if key == 27:\n",
    "        if floor_open:  # Close floor window first if open\n",
    "            cv2.destroyWindow(window_floorheight)\n",
    "            floor_open = False\n",
    "        elif building_open:  # Then close building window if open\n",
    "            cv2.destroyWindow(window_buildingheight)\n",
    "            building_open = False\n",
    "\n",
    "# Ensure all windows are closed\n",
    "cv2.destroyAllWindows()\n",
    "\n",
    "# while True:\n",
    "#     # Display the windows\n",
    "#     cv2.imshow(window_buildingheight, original_img)\n",
    "#     cv2.imshow(window_floorheight, original_img)\n",
    "#     # Wait for a key press\n",
    "#     key = cv2.waitKey(0) & 0xFF  # Wait indefinitely until a key is pressed\n",
    "#     # Check if ESC key is pressed (27 is the ASCII value of ESC)\n",
    "#     if key == 27:  # ESC key\n",
    "#         cv2.destroyWindow(window_buildingheight)  # Close the first window\n",
    "#         break  # Exit the loop when the first window is closed\n",
    "\n",
    "# while True:\n",
    "#     key = cv2.waitKey(0) & 0xFF\n",
    "#     if key == 27:  # ESC key\n",
    "#         cv2.destroyWindow(window_buildingheight)\n",
    "#         break\n",
    "\n",
    "# # Close all windows when both are closed\n",
    "# cv2.destroyAllWindows()"
   ]
  },
  {
   "cell_type": "markdown",
   "metadata": {},
   "source": [
    "### Estimate floor height\n",
    "* EEH estimation result will be printed out in the end"
   ]
  },
  {
   "cell_type": "code",
   "execution_count": 112,
   "metadata": {},
   "outputs": [
    {
     "name": "stdout",
     "output_type": "stream",
     "text": [
      "Estimated floor height (m): 0.581570996978852\n"
     ]
    }
   ],
   "source": [
    "floor_height_m=dist_floorheight[0][1]/dist_buildingheight[0][1]*building_height_m\n",
    "print('Estimated floor height (m):',floor_height_m)"
   ]
  }
 ],
 "metadata": {
  "kernelspec": {
   "display_name": "floorheight",
   "language": "python",
   "name": "python3"
  },
  "language_info": {
   "codemirror_mode": {
    "name": "ipython",
    "version": 3
   },
   "file_extension": ".py",
   "mimetype": "text/x-python",
   "name": "python",
   "nbconvert_exporter": "python",
   "pygments_lexer": "ipython3",
   "version": "3.10.15"
  }
 },
 "nbformat": 4,
 "nbformat_minor": 2
}
