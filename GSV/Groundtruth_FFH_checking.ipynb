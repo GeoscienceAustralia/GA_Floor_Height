{
 "cells": [
  {
   "cell_type": "markdown",
   "metadata": {},
   "source": [
    "This notebook allows you to mannually and interactively estimate an approximate value of FFH from a given GSV pano image, which is useful for ground-truth data assessment and updates (if required) and more reliable than visual assessment. It requires:\n",
    "* building height (or eave height) measured from building & canopy height raster\n",
    "* pano id of corresponding building (to allow searching for pano image)\n",
    "* interactively measured building height (or eave height) in pixels\n",
    "* interactively measured floor height in pixels"
   ]
  },
  {
   "cell_type": "markdown",
   "metadata": {},
   "source": [
    "### Load dependencies"
   ]
  },
  {
   "cell_type": "code",
   "execution_count": 40,
   "metadata": {},
   "outputs": [],
   "source": [
    "import cv2\n",
    "import glob\n",
    "import os"
   ]
  },
  {
   "cell_type": "markdown",
   "metadata": {},
   "source": [
    "### Set input parameters:\n",
    "* input pano images folder\n",
    "* pano image id\n",
    "* building/eave height (m) - derived from building/canopy height raster"
   ]
  },
  {
   "cell_type": "code",
   "execution_count": 41,
   "metadata": {},
   "outputs": [],
   "source": [
    "pano_folder=r\"C:\\Users\\lliu\\FrontierSI\\Projects - 127 Residential Dwelling Floor Height\\4 Executing\\Data Exploration\\GSV\\Wagga\\Pano_clipped_all\"\n"
   ]
  },
  {
   "cell_type": "code",
   "execution_count": 42,
   "metadata": {},
   "outputs": [],
   "source": [
    "# pano_id='Sdp4ax7QS6z-NBY_iBH5ww'\n",
    "# building_height_m=3.5\n",
    "\n",
    "pano_id='qRwIoP-OssOI6-Czcvn9Xg'\n",
    "building_height_m=3.5"
   ]
  },
  {
   "cell_type": "code",
   "execution_count": 43,
   "metadata": {},
   "outputs": [],
   "source": [
    "# Load image\n",
    "pano_file=glob.glob(os.path.join(pano_folder,pano_id+'.jpg'))[0]\n",
    "original_img = cv2.imread(pano_file)"
   ]
  },
  {
   "cell_type": "markdown",
   "metadata": {},
   "source": [
    "### Store measured points"
   ]
  },
  {
   "cell_type": "code",
   "execution_count": 44,
   "metadata": {},
   "outputs": [],
   "source": [
    "original_img_copy=original_img.copy()\n",
    "\n",
    "# List to store two points\n",
    "points_buildingheight = []\n",
    "points_floorheight = []\n",
    "dist_buildingheight=[]\n",
    "dist_floorheight=[]\n"
   ]
  },
  {
   "cell_type": "markdown",
   "metadata": {},
   "source": [
    "### defines callback function"
   ]
  },
  {
   "cell_type": "code",
   "execution_count": 45,
   "metadata": {},
   "outputs": [],
   "source": [
    "def measure_distance(event, x, y, flags, param):\n",
    "    \"\"\"Handles mouse clicks to measure X and Y distances.\"\"\"\n",
    "    original_img, points, dists, window_name = param  # Unpack parameters\n",
    "    # global points, img\n",
    "\n",
    "    if event == cv2.EVENT_LBUTTONDOWN:\n",
    "        points.append((x, y))\n",
    "\n",
    "        if len(points) == 2:\n",
    "            # Calculate distances\n",
    "            x_dist = abs(points[1][0] - points[0][0])\n",
    "            y_dist = abs(points[1][1] - points[0][1])\n",
    "\n",
    "            print(f\"Start point coordinates: {points[0]}\")\n",
    "            print(f\"End point coordinates: {points[1]}\")\n",
    "            print(f\"X Distance: {x_dist} pixels\")\n",
    "            print(f\"Y Distance: {y_dist} pixels\")\n",
    "            \n",
    "            dists.append((x_dist,y_dist))\n",
    "\n",
    "            # Draw points and line\n",
    "            img = original_img.copy()  # Reset image\n",
    "            cv2.circle(img, points[0], 5, (0, 0, 255), -1)  # Red point\n",
    "            cv2.circle(img, points[1], 5, (0, 255, 0), -1)  # Green point\n",
    "            cv2.line(img, points[0], (points[1][0], points[0][1]), (255, 0, 0), 2)  # Horizontal line\n",
    "            cv2.line(img, points[1], (points[1][0], points[0][1]), (255, 0, 0), 2)  # Vertical line\n",
    "            cv2.imshow(window_name, img)\n",
    "\n",
    "            points = []  # Reset points\n",
    "            dists = []"
   ]
  },
  {
   "cell_type": "markdown",
   "metadata": {},
   "source": [
    "### Interactively measure building/eave and floor heights\n",
    "* single click on two points on the image\n",
    "* press esc key once finished"
   ]
  },
  {
   "cell_type": "code",
   "execution_count": 46,
   "metadata": {},
   "outputs": [
    {
     "name": "stdout",
     "output_type": "stream",
     "text": [
      "Start point coordinates: (1642, 1978)\n",
      "End point coordinates: (1670, 2294)\n",
      "X Distance: 28 pixels\n",
      "Y Distance: 316 pixels\n",
      "Start point coordinates: (1373, 2248)\n",
      "End point coordinates: (1379, 2309)\n",
      "X Distance: 6 pixels\n",
      "Y Distance: 61 pixels\n"
     ]
    }
   ],
   "source": [
    "# Create two windows\n",
    "window_buildingheight='Measure_building_height_'+pano_id\n",
    "window_floorheight='Measure_floor_height_'+pano_id\n",
    "cv2.namedWindow(window_buildingheight)\n",
    "cv2.namedWindow(window_floorheight)\n",
    "\n",
    "# set mouse callback\n",
    "cv2.setMouseCallback(window_buildingheight, measure_distance, param=(original_img, points_buildingheight, dist_buildingheight,window_buildingheight))\n",
    "cv2.setMouseCallback(window_floorheight, measure_distance, param=(original_img, points_floorheight, dist_floorheight,window_floorheight))\n",
    "\n",
    "# Show image\n",
    "while True:\n",
    "    # Display the first window\n",
    "    cv2.imshow(window_buildingheight, original_img)\n",
    "    # Wait for a key press\n",
    "    key = cv2.waitKey(0) & 0xFF  # Wait indefinitely until a key is pressed\n",
    "    # Check if ESC key is pressed (27 is the ASCII value of ESC)\n",
    "    if key == 27:  # ESC key\n",
    "        cv2.destroyWindow(window_buildingheight)  # Close the first window\n",
    "        break  # Exit the loop when the first window is closed\n",
    "\n",
    "while True:\n",
    "    cv2.imshow(window_floorheight, original_img)\n",
    "    key = cv2.waitKey(0) & 0xFF\n",
    "    if key == 27:  # ESC key\n",
    "        cv2.destroyWindow(window_buildingheight)\n",
    "        break\n",
    "\n",
    "# Close all windows when both are closed\n",
    "cv2.destroyAllWindows()"
   ]
  },
  {
   "cell_type": "markdown",
   "metadata": {},
   "source": [
    "### Estimate floor height"
   ]
  },
  {
   "cell_type": "code",
   "execution_count": 47,
   "metadata": {},
   "outputs": [
    {
     "name": "stdout",
     "output_type": "stream",
     "text": [
      "Estimated floor height (m): 0.6756329113924051\n"
     ]
    }
   ],
   "source": [
    "floor_height_m=dist_floorheight[0][1]/dist_buildingheight[0][1]*building_height_m\n",
    "print('Estimated floor height (m):',floor_height_m)"
   ]
  }
 ],
 "metadata": {
  "kernelspec": {
   "display_name": "floorheight",
   "language": "python",
   "name": "python3"
  },
  "language_info": {
   "codemirror_mode": {
    "name": "ipython",
    "version": 3
   },
   "file_extension": ".py",
   "mimetype": "text/x-python",
   "name": "python",
   "nbconvert_exporter": "python",
   "pygments_lexer": "ipython3",
   "version": "3.10.15"
  }
 },
 "nbformat": 4,
 "nbformat_minor": 2
}
