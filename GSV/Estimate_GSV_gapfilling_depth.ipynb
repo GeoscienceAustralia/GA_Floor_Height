{
 "cells": [
  {
   "cell_type": "markdown",
   "metadata": {},
   "source": [
    "This notebook estimates rough distance between GSV camera and closest building as gap-filling depth measure."
   ]
  },
  {
   "cell_type": "markdown",
   "metadata": {},
   "source": [
    "## Import dependencies\n",
    "* Functions on geometry restoration are contained in the geometry.py module."
   ]
  },
  {
   "cell_type": "code",
   "execution_count": 57,
   "metadata": {},
   "outputs": [
    {
     "name": "stdout",
     "output_type": "stream",
     "text": [
      "The autoreload extension is already loaded. To reload it, use:\n",
      "  %reload_ext autoreload\n"
     ]
    }
   ],
   "source": [
    "%load_ext autoreload\n",
    "%autoreload 2"
   ]
  },
  {
   "cell_type": "code",
   "execution_count": 58,
   "metadata": {},
   "outputs": [],
   "source": [
    "import numpy as np\n",
    "import os\n",
    "import glob\n",
    "import geopandas as gpd\n",
    "import matplotlib.pyplot as plt\n",
    "import rasterio\n",
    "import rasterio.mask\n",
    "from shapely.geometry import Point, LineString, Polygon\n",
    "from tqdm import tqdm\n",
    "from pyproj import Proj, Transformer"
   ]
  },
  {
   "cell_type": "markdown",
   "metadata": {},
   "source": [
    "## Set input files\n",
    "* Building points file containing GSV panorama metadata\n",
    "* Building footprint file"
   ]
  },
  {
   "cell_type": "code",
   "execution_count": 59,
   "metadata": {},
   "outputs": [],
   "source": [
    "# Launceston\n",
    "building_point_file=r'D:\\Launceston\\GSV\\LC_Final_meta_camera_height_ground_elevations.geojson'\n",
    "building_footprint_file=r'C:\\Users\\lliu\\FrontierSI\\Projects - 127 Residential Dwelling Floor Height\\4 Executing\\Data Exploration\\overture\\launceston_building.gpkg'"
   ]
  },
  {
   "cell_type": "code",
   "execution_count": 60,
   "metadata": {},
   "outputs": [],
   "source": [
    "# # Wagga\n",
    "# building_point_file=r'D:\\Wagga\\GSV\\Final_Wagga_meta_camera_height_ground_elevations.geojson'\n",
    "# building_footprint_file=r'C:\\Users\\lliu\\FrontierSI\\Projects - 127 Residential Dwelling Floor Height\\4 Executing\\Data Exploration\\overture\\wagga_building.gpkg'"
   ]
  },
  {
   "cell_type": "markdown",
   "metadata": {},
   "source": [
    "## Read in building points file and extract GSV camera locations"
   ]
  },
  {
   "cell_type": "code",
   "execution_count": 61,
   "metadata": {},
   "outputs": [],
   "source": [
    "projected_crs=\"EPSG:3857\"\n",
    "transformer = Transformer.from_crs(\"EPSG:4326\", projected_crs, always_xy=True)"
   ]
  },
  {
   "cell_type": "code",
   "execution_count": 62,
   "metadata": {},
   "outputs": [
    {
     "data": {
      "text/html": [
       "<div>\n",
       "<style scoped>\n",
       "    .dataframe tbody tr th:only-of-type {\n",
       "        vertical-align: middle;\n",
       "    }\n",
       "\n",
       "    .dataframe tbody tr th {\n",
       "        vertical-align: top;\n",
       "    }\n",
       "\n",
       "    .dataframe thead th {\n",
       "        text-align: right;\n",
       "    }\n",
       "</style>\n",
       "<table border=\"1\" class=\"dataframe\">\n",
       "  <thead>\n",
       "    <tr style=\"text-align: right;\">\n",
       "      <th></th>\n",
       "      <th>EASTING</th>\n",
       "      <th>NORTHING</th>\n",
       "      <th>UFI</th>\n",
       "      <th>ZONE</th>\n",
       "      <th>DEM</th>\n",
       "      <th>LID</th>\n",
       "      <th>ADDRESS</th>\n",
       "      <th>SUBURB</th>\n",
       "      <th>POSTCODE</th>\n",
       "      <th>FEATURE_NA</th>\n",
       "      <th>...</th>\n",
       "      <th>pitch</th>\n",
       "      <th>roll</th>\n",
       "      <th>elevation</th>\n",
       "      <th>date</th>\n",
       "      <th>height_c</th>\n",
       "      <th>grd_elev_GSV</th>\n",
       "      <th>grd_elev_building_min</th>\n",
       "      <th>grd_elev_building_mean</th>\n",
       "      <th>grd_elev_building_max</th>\n",
       "      <th>geometry</th>\n",
       "    </tr>\n",
       "  </thead>\n",
       "  <tbody>\n",
       "    <tr>\n",
       "      <th>0</th>\n",
       "      <td>510962.988188</td>\n",
       "      <td>5.412541e+06</td>\n",
       "      <td>1002</td>\n",
       "      <td>15.0 Urban Mixed Use</td>\n",
       "      <td>2.697813</td>\n",
       "      <td>GNAF_GATAS702308914</td>\n",
       "      <td>13 PARK STREET</td>\n",
       "      <td>LAUNCESTON</td>\n",
       "      <td>7250</td>\n",
       "      <td>None</td>\n",
       "      <td>...</td>\n",
       "      <td>0.022252</td>\n",
       "      <td>6.228637</td>\n",
       "      <td>5.546635</td>\n",
       "      <td>2019-10</td>\n",
       "      <td>2.298505</td>\n",
       "      <td>2.697813</td>\n",
       "      <td>2.32000</td>\n",
       "      <td>2.718059</td>\n",
       "      <td>3.013333</td>\n",
       "      <td>POINT (16378573.381 -5077255.621)</td>\n",
       "    </tr>\n",
       "    <tr>\n",
       "      <th>1</th>\n",
       "      <td>511021.688427</td>\n",
       "      <td>5.412248e+06</td>\n",
       "      <td>33</td>\n",
       "      <td>11.0 Inner Residential</td>\n",
       "      <td>4.208417</td>\n",
       "      <td>GNAF_GATAS702204375</td>\n",
       "      <td>293 BRISBANE STREET</td>\n",
       "      <td>LAUNCESTON</td>\n",
       "      <td>7250</td>\n",
       "      <td>None</td>\n",
       "      <td>...</td>\n",
       "      <td>0.037883</td>\n",
       "      <td>6.235322</td>\n",
       "      <td>5.922997</td>\n",
       "      <td>2023-09</td>\n",
       "      <td>2.547754</td>\n",
       "      <td>4.208417</td>\n",
       "      <td>4.18531</td>\n",
       "      <td>4.789202</td>\n",
       "      <td>5.885000</td>\n",
       "      <td>POINT (16378652.195 -5077648.094)</td>\n",
       "    </tr>\n",
       "    <tr>\n",
       "      <th>2</th>\n",
       "      <td>511082.136711</td>\n",
       "      <td>5.412226e+06</td>\n",
       "      <td>31</td>\n",
       "      <td>11.0 Inner Residential</td>\n",
       "      <td>4.540370</td>\n",
       "      <td>GNAF_GATAS702478623</td>\n",
       "      <td>4 MIDDLE STREET</td>\n",
       "      <td>LAUNCESTON</td>\n",
       "      <td>7250</td>\n",
       "      <td>None</td>\n",
       "      <td>...</td>\n",
       "      <td>0.039241</td>\n",
       "      <td>0.022607</td>\n",
       "      <td>7.156610</td>\n",
       "      <td>2023-09</td>\n",
       "      <td>2.427306</td>\n",
       "      <td>4.540370</td>\n",
       "      <td>4.10874</td>\n",
       "      <td>4.491268</td>\n",
       "      <td>4.910000</td>\n",
       "      <td>POINT (16378732.79 -5077677.2)</td>\n",
       "    </tr>\n",
       "    <tr>\n",
       "      <th>3</th>\n",
       "      <td>511068.760790</td>\n",
       "      <td>5.412219e+06</td>\n",
       "      <td>28</td>\n",
       "      <td>11.0 Inner Residential</td>\n",
       "      <td>5.212643</td>\n",
       "      <td>GNAF_GATAS702296648</td>\n",
       "      <td>6 MIDDLE STREET</td>\n",
       "      <td>LAUNCESTON</td>\n",
       "      <td>7250</td>\n",
       "      <td>None</td>\n",
       "      <td>...</td>\n",
       "      <td>0.051902</td>\n",
       "      <td>0.010492</td>\n",
       "      <td>7.739836</td>\n",
       "      <td>2023-09</td>\n",
       "      <td>2.578520</td>\n",
       "      <td>5.212643</td>\n",
       "      <td>3.88800</td>\n",
       "      <td>4.751154</td>\n",
       "      <td>5.595274</td>\n",
       "      <td>POINT (16378714.979 -5077685.813)</td>\n",
       "    </tr>\n",
       "    <tr>\n",
       "      <th>4</th>\n",
       "      <td>511048.726805</td>\n",
       "      <td>5.412229e+06</td>\n",
       "      <td>26</td>\n",
       "      <td>11.0 Inner Residential</td>\n",
       "      <td>5.162260</td>\n",
       "      <td>GNAF_GATAS702290011</td>\n",
       "      <td>8 MIDDLE STREET</td>\n",
       "      <td>LAUNCESTON</td>\n",
       "      <td>7250</td>\n",
       "      <td>None</td>\n",
       "      <td>...</td>\n",
       "      <td>0.034847</td>\n",
       "      <td>0.021449</td>\n",
       "      <td>8.384348</td>\n",
       "      <td>2023-09</td>\n",
       "      <td>2.563187</td>\n",
       "      <td>5.162260</td>\n",
       "      <td>4.53000</td>\n",
       "      <td>5.015464</td>\n",
       "      <td>5.865000</td>\n",
       "      <td>POINT (16378688.262 -5077672.596)</td>\n",
       "    </tr>\n",
       "  </tbody>\n",
       "</table>\n",
       "<p>5 rows × 81 columns</p>\n",
       "</div>"
      ],
      "text/plain": [
       "         EASTING      NORTHING   UFI                    ZONE       DEM  \\\n",
       "0  510962.988188  5.412541e+06  1002    15.0 Urban Mixed Use  2.697813   \n",
       "1  511021.688427  5.412248e+06    33  11.0 Inner Residential  4.208417   \n",
       "2  511082.136711  5.412226e+06    31  11.0 Inner Residential  4.540370   \n",
       "3  511068.760790  5.412219e+06    28  11.0 Inner Residential  5.212643   \n",
       "4  511048.726805  5.412229e+06    26  11.0 Inner Residential  5.162260   \n",
       "\n",
       "                   LID              ADDRESS      SUBURB POSTCODE FEATURE_NA  \\\n",
       "0  GNAF_GATAS702308914       13 PARK STREET  LAUNCESTON     7250       None   \n",
       "1  GNAF_GATAS702204375  293 BRISBANE STREET  LAUNCESTON     7250       None   \n",
       "2  GNAF_GATAS702478623      4 MIDDLE STREET  LAUNCESTON     7250       None   \n",
       "3  GNAF_GATAS702296648      6 MIDDLE STREET  LAUNCESTON     7250       None   \n",
       "4  GNAF_GATAS702290011      8 MIDDLE STREET  LAUNCESTON     7250       None   \n",
       "\n",
       "   ...     pitch      roll  elevation     date  height_c  grd_elev_GSV  \\\n",
       "0  ...  0.022252  6.228637   5.546635  2019-10  2.298505      2.697813   \n",
       "1  ...  0.037883  6.235322   5.922997  2023-09  2.547754      4.208417   \n",
       "2  ...  0.039241  0.022607   7.156610  2023-09  2.427306      4.540370   \n",
       "3  ...  0.051902  0.010492   7.739836  2023-09  2.578520      5.212643   \n",
       "4  ...  0.034847  0.021449   8.384348  2023-09  2.563187      5.162260   \n",
       "\n",
       "   grd_elev_building_min grd_elev_building_mean grd_elev_building_max  \\\n",
       "0                2.32000               2.718059              3.013333   \n",
       "1                4.18531               4.789202              5.885000   \n",
       "2                4.10874               4.491268              4.910000   \n",
       "3                3.88800               4.751154              5.595274   \n",
       "4                4.53000               5.015464              5.865000   \n",
       "\n",
       "                            geometry  \n",
       "0  POINT (16378573.381 -5077255.621)  \n",
       "1  POINT (16378652.195 -5077648.094)  \n",
       "2     POINT (16378732.79 -5077677.2)  \n",
       "3  POINT (16378714.979 -5077685.813)  \n",
       "4  POINT (16378688.262 -5077672.596)  \n",
       "\n",
       "[5 rows x 81 columns]"
      ]
     },
     "execution_count": 62,
     "metadata": {},
     "output_type": "execute_result"
    }
   ],
   "source": [
    "gdf_points=gpd.read_file(building_point_file).to_crs(projected_crs)\n",
    "gdf_points.head()"
   ]
  },
  {
   "cell_type": "code",
   "execution_count": 63,
   "metadata": {},
   "outputs": [
    {
     "data": {
      "text/html": [
       "<div>\n",
       "<style scoped>\n",
       "    .dataframe tbody tr th:only-of-type {\n",
       "        vertical-align: middle;\n",
       "    }\n",
       "\n",
       "    .dataframe tbody tr th {\n",
       "        vertical-align: top;\n",
       "    }\n",
       "\n",
       "    .dataframe thead th {\n",
       "        text-align: right;\n",
       "    }\n",
       "</style>\n",
       "<table border=\"1\" class=\"dataframe\">\n",
       "  <thead>\n",
       "    <tr style=\"text-align: right;\">\n",
       "      <th></th>\n",
       "      <th>id</th>\n",
       "      <th>min_height_ahd</th>\n",
       "      <th>max_height_ahd</th>\n",
       "      <th>geometry</th>\n",
       "    </tr>\n",
       "  </thead>\n",
       "  <tbody>\n",
       "    <tr>\n",
       "      <th>0</th>\n",
       "      <td>5ba66050-bb4c-44ae-a94d-ba2225385e8b</td>\n",
       "      <td>211.220</td>\n",
       "      <td>211.925</td>\n",
       "      <td>POLYGON ((16373316.696 -5079316.623, 16373323....</td>\n",
       "    </tr>\n",
       "    <tr>\n",
       "      <th>1</th>\n",
       "      <td>4175cad2-999d-44e3-a6b7-deb2bc25009e</td>\n",
       "      <td>211.700</td>\n",
       "      <td>211.740</td>\n",
       "      <td>POLYGON ((16373333.458 -5079328.723, 16373342....</td>\n",
       "    </tr>\n",
       "    <tr>\n",
       "      <th>2</th>\n",
       "      <td>e212aad3-a557-4123-bbef-b817dae4aa9b</td>\n",
       "      <td>211.350</td>\n",
       "      <td>211.790</td>\n",
       "      <td>POLYGON ((16373346.295 -5079327.55, 16373356.3...</td>\n",
       "    </tr>\n",
       "    <tr>\n",
       "      <th>3</th>\n",
       "      <td>a3dc6530-7b7c-41e5-bca9-c30c879598da</td>\n",
       "      <td>207.660</td>\n",
       "      <td>210.443</td>\n",
       "      <td>POLYGON ((16373290.367 -5079263.025, 16373273....</td>\n",
       "    </tr>\n",
       "    <tr>\n",
       "      <th>4</th>\n",
       "      <td>4bb13f43-5d95-4adc-a238-a7cea5b4adad</td>\n",
       "      <td>141.472</td>\n",
       "      <td>142.290</td>\n",
       "      <td>POLYGON ((16373701.416 -5078587.555, 16373700....</td>\n",
       "    </tr>\n",
       "  </tbody>\n",
       "</table>\n",
       "</div>"
      ],
      "text/plain": [
       "                                     id  min_height_ahd  max_height_ahd  \\\n",
       "0  5ba66050-bb4c-44ae-a94d-ba2225385e8b         211.220         211.925   \n",
       "1  4175cad2-999d-44e3-a6b7-deb2bc25009e         211.700         211.740   \n",
       "2  e212aad3-a557-4123-bbef-b817dae4aa9b         211.350         211.790   \n",
       "3  a3dc6530-7b7c-41e5-bca9-c30c879598da         207.660         210.443   \n",
       "4  4bb13f43-5d95-4adc-a238-a7cea5b4adad         141.472         142.290   \n",
       "\n",
       "                                            geometry  \n",
       "0  POLYGON ((16373316.696 -5079316.623, 16373323....  \n",
       "1  POLYGON ((16373333.458 -5079328.723, 16373342....  \n",
       "2  POLYGON ((16373346.295 -5079327.55, 16373356.3...  \n",
       "3  POLYGON ((16373290.367 -5079263.025, 16373273....  \n",
       "4  POLYGON ((16373701.416 -5078587.555, 16373700....  "
      ]
     },
     "execution_count": 63,
     "metadata": {},
     "output_type": "execute_result"
    }
   ],
   "source": [
    "gdf_footprint=gpd.read_file(building_footprint_file).to_crs(projected_crs)\n",
    "gdf_footprint.head()"
   ]
  },
  {
   "cell_type": "markdown",
   "metadata": {},
   "source": [
    "## Calculate distance between camera and building facade\n",
    "* matching building footprint with the nearest GSV pano location\n",
    "* intersect with building outline"
   ]
  },
  {
   "cell_type": "code",
   "execution_count": 69,
   "metadata": {},
   "outputs": [
    {
     "data": {
      "text/plain": [
       "<bound method BaseGeometry.geometryType of <LINESTRING (16379568.651 -5073939.273, 16379564.547 -5073932.906)>>"
      ]
     },
     "execution_count": 69,
     "metadata": {},
     "output_type": "execute_result"
    }
   ],
   "source": [
    "intersection.geometryType"
   ]
  },
  {
   "cell_type": "code",
   "execution_count": 64,
   "metadata": {},
   "outputs": [
    {
     "name": "stderr",
     "output_type": "stream",
     "text": [
      " 17%|█▋        | 221/1276 [01:16<05:57,  2.95it/s]"
     ]
    },
    {
     "name": "stdout",
     "output_type": "stream",
     "text": [
      "no pano information available\n"
     ]
    },
    {
     "name": "stderr",
     "output_type": "stream",
     "text": [
      " 18%|█▊        | 226/1276 [01:18<05:56,  2.94it/s]"
     ]
    },
    {
     "name": "stdout",
     "output_type": "stream",
     "text": [
      "no pano information available\n"
     ]
    },
    {
     "name": "stderr",
     "output_type": "stream",
     "text": [
      " 19%|█▊        | 238/1276 [01:22<05:44,  3.02it/s]"
     ]
    },
    {
     "name": "stdout",
     "output_type": "stream",
     "text": [
      "no pano information available\n"
     ]
    },
    {
     "name": "stderr",
     "output_type": "stream",
     "text": [
      " 19%|█▊        | 239/1276 [01:22<05:50,  2.96it/s]"
     ]
    },
    {
     "name": "stdout",
     "output_type": "stream",
     "text": [
      "no pano information available\n"
     ]
    },
    {
     "name": "stderr",
     "output_type": "stream",
     "text": [
      " 20%|█▉        | 251/1276 [01:26<05:55,  2.89it/s]"
     ]
    },
    {
     "name": "stdout",
     "output_type": "stream",
     "text": [
      "no pano information available\n"
     ]
    },
    {
     "name": "stderr",
     "output_type": "stream",
     "text": [
      " 20%|██        | 259/1276 [01:29<05:52,  2.88it/s]"
     ]
    },
    {
     "name": "stdout",
     "output_type": "stream",
     "text": [
      "no pano information available\n"
     ]
    },
    {
     "name": "stderr",
     "output_type": "stream",
     "text": [
      " 21%|██        | 263/1276 [01:31<05:41,  2.96it/s]"
     ]
    },
    {
     "name": "stdout",
     "output_type": "stream",
     "text": [
      "no pano information available\n"
     ]
    },
    {
     "name": "stderr",
     "output_type": "stream",
     "text": [
      " 22%|██▏       | 278/1276 [01:36<07:16,  2.29it/s]"
     ]
    },
    {
     "name": "stdout",
     "output_type": "stream",
     "text": [
      "no pano information available\n"
     ]
    },
    {
     "name": "stderr",
     "output_type": "stream",
     "text": [
      " 22%|██▏       | 281/1276 [01:37<06:17,  2.63it/s]"
     ]
    },
    {
     "name": "stdout",
     "output_type": "stream",
     "text": [
      "no pano information available\n"
     ]
    },
    {
     "name": "stderr",
     "output_type": "stream",
     "text": [
      " 39%|███▉      | 496/1276 [02:59<04:24,  2.95it/s]"
     ]
    },
    {
     "name": "stdout",
     "output_type": "stream",
     "text": [
      "no pano information available\n"
     ]
    },
    {
     "name": "stderr",
     "output_type": "stream",
     "text": [
      " 62%|██████▏   | 796/1276 [04:47<02:42,  2.95it/s]"
     ]
    },
    {
     "name": "stdout",
     "output_type": "stream",
     "text": [
      "no pano information available\n"
     ]
    },
    {
     "name": "stderr",
     "output_type": "stream",
     "text": [
      " 88%|████████▊ | 1118/1276 [06:43<00:53,  2.93it/s]"
     ]
    },
    {
     "name": "stdout",
     "output_type": "stream",
     "text": [
      "no pano information available\n"
     ]
    },
    {
     "name": "stderr",
     "output_type": "stream",
     "text": [
      " 93%|█████████▎| 1190/1276 [07:08<00:27,  3.11it/s]"
     ]
    },
    {
     "name": "stdout",
     "output_type": "stream",
     "text": [
      "no pano information available\n"
     ]
    },
    {
     "name": "stderr",
     "output_type": "stream",
     "text": [
      " 93%|█████████▎| 1193/1276 [07:09<00:26,  3.10it/s]"
     ]
    },
    {
     "name": "stdout",
     "output_type": "stream",
     "text": [
      "no pano information available\n"
     ]
    },
    {
     "name": "stderr",
     "output_type": "stream",
     "text": [
      " 94%|█████████▎| 1194/1276 [07:10<00:26,  3.09it/s]"
     ]
    },
    {
     "name": "stdout",
     "output_type": "stream",
     "text": [
      "no pano information available\n"
     ]
    },
    {
     "name": "stderr",
     "output_type": "stream",
     "text": [
      " 94%|█████████▍| 1201/1276 [07:12<00:24,  3.06it/s]"
     ]
    },
    {
     "name": "stdout",
     "output_type": "stream",
     "text": [
      "no pano information available\n"
     ]
    },
    {
     "name": "stderr",
     "output_type": "stream",
     "text": [
      " 95%|█████████▍| 1209/1276 [07:14<00:22,  3.01it/s]"
     ]
    },
    {
     "name": "stdout",
     "output_type": "stream",
     "text": [
      "no pano information available\n"
     ]
    },
    {
     "name": "stderr",
     "output_type": "stream",
     "text": [
      " 95%|█████████▍| 1210/1276 [07:15<00:21,  3.04it/s]"
     ]
    },
    {
     "name": "stdout",
     "output_type": "stream",
     "text": [
      "no pano information available\n"
     ]
    },
    {
     "name": "stderr",
     "output_type": "stream",
     "text": [
      " 95%|█████████▌| 1214/1276 [07:16<00:20,  3.09it/s]"
     ]
    },
    {
     "name": "stdout",
     "output_type": "stream",
     "text": [
      "no pano information available\n"
     ]
    },
    {
     "name": "stderr",
     "output_type": "stream",
     "text": [
      " 96%|█████████▌| 1222/1276 [07:19<00:17,  3.08it/s]"
     ]
    },
    {
     "name": "stdout",
     "output_type": "stream",
     "text": [
      "no pano information available\n"
     ]
    },
    {
     "name": "stderr",
     "output_type": "stream",
     "text": [
      " 96%|█████████▌| 1223/1276 [07:19<00:17,  3.04it/s]"
     ]
    },
    {
     "name": "stdout",
     "output_type": "stream",
     "text": [
      "no pano information available\n"
     ]
    },
    {
     "name": "stderr",
     "output_type": "stream",
     "text": [
      " 96%|█████████▌| 1224/1276 [07:19<00:16,  3.10it/s]"
     ]
    },
    {
     "name": "stdout",
     "output_type": "stream",
     "text": [
      "no pano information available\n"
     ]
    },
    {
     "name": "stderr",
     "output_type": "stream",
     "text": [
      " 99%|█████████▉| 1261/1276 [07:32<00:04,  3.03it/s]"
     ]
    },
    {
     "name": "stdout",
     "output_type": "stream",
     "text": [
      "no pano information available\n"
     ]
    },
    {
     "name": "stderr",
     "output_type": "stream",
     "text": [
      " 99%|█████████▉| 1264/1276 [07:33<00:03,  3.02it/s]"
     ]
    },
    {
     "name": "stdout",
     "output_type": "stream",
     "text": [
      "no pano information available\n"
     ]
    },
    {
     "name": "stderr",
     "output_type": "stream",
     "text": [
      " 99%|█████████▉| 1268/1276 [07:34<00:02,  3.06it/s]"
     ]
    },
    {
     "name": "stdout",
     "output_type": "stream",
     "text": [
      "no pano information available\n"
     ]
    },
    {
     "name": "stderr",
     "output_type": "stream",
     "text": [
      "100%|██████████| 1276/1276 [07:37<00:00,  2.79it/s]\n"
     ]
    }
   ],
   "source": [
    "gdf_points_updated=gdf_points.copy()\n",
    "distances=[]\n",
    "for idx, point in tqdm(gdf_points_updated.iterrows(),total=len(gdf_points_updated)):\n",
    "    # Find the nearest building footprint\n",
    "    gdf_footprint['distance']=gdf_footprint['geometry'].apply(lambda x: point.geometry.distance(x))\n",
    "    nearest_poly = gdf_footprint.loc[gdf_footprint['distance'].idxmin()]\n",
    "    # Create a line from the camera position in the direction of building centre point\n",
    "    if np.isnan(point['lng_c']) or np.isnan(point['lat_c']):\n",
    "        print('no pano information available')\n",
    "        distances.append(None)\n",
    "    else:\n",
    "        camera_x, camera_y = transformer.transform(point['lng_c'], point['lat_c'])\n",
    "        camera_coords=Point(camera_x,camera_y)\n",
    "        building_centroid=nearest_poly.geometry.centroid\n",
    "        direction_line = LineString([camera_coords, (building_centroid.x,building_centroid.y)])\n",
    "        # Calculate intersection with the building outline\n",
    "        intersection = nearest_poly.geometry.intersection(direction_line)\n",
    "        if not intersection.is_empty:\n",
    "            dist = camera_coords.distance(intersection)\n",
    "        else:\n",
    "            print('no intersection, using distance to centre point instead')\n",
    "            # If no intersection, estimate Z as the distance to the building center\n",
    "            dist = camera_coords.distance(Point(point.geometry.x,point.geometry.y))\n",
    "        distances.append(dist)"
   ]
  },
  {
   "cell_type": "code",
   "execution_count": 65,
   "metadata": {},
   "outputs": [],
   "source": [
    "# assign new columns for storing statistics\n",
    "gdf_points_updated['gapfilling_depth'] = distances"
   ]
  },
  {
   "cell_type": "markdown",
   "metadata": {},
   "source": [
    "### View derived elevations"
   ]
  },
  {
   "cell_type": "code",
   "execution_count": 66,
   "metadata": {},
   "outputs": [
    {
     "data": {
      "text/plain": [
       "(array([308., 568., 248.,  59.,  30.,  20.,  10.,   6.,   1.,   1.]),\n",
       " array([  0.        ,  11.02290007,  22.04580014,  33.06870021,\n",
       "         44.09160027,  55.11450034,  66.13740041,  77.16030048,\n",
       "         88.18320055,  99.20610062, 110.22900069]),\n",
       " <BarContainer object of 10 artists>)"
      ]
     },
     "execution_count": 66,
     "metadata": {},
     "output_type": "execute_result"
    },
    {
     "data": {
      "image/png": "[encoded data removed]",
      "text/plain": [
       "<Figure size 640x480 with 1 Axes>"
      ]
     },
     "metadata": {},
     "output_type": "display_data"
    }
   ],
   "source": [
    "plt.hist([h for h in distances if h is not None])"
   ]
  },
  {
   "cell_type": "markdown",
   "metadata": {},
   "source": [
    "## Export statistics to file"
   ]
  },
  {
   "cell_type": "code",
   "execution_count": 67,
   "metadata": {},
   "outputs": [],
   "source": [
    "out_file=r'D:\\Launceston\\GSV\\LC_Final_meta_camera_height_ground_elevations_gapfill_depth.geojson'\n",
    "gdf_points_updated.to_file(out_file, driver=\"GeoJSON\")"
   ]
  }
 ],
 "metadata": {
  "kernelspec": {
   "display_name": "floorheight",
   "language": "python",
   "name": "python3"
  },
  "language_info": {
   "codemirror_mode": {
    "name": "ipython",
    "version": 3
   },
   "file_extension": ".py",
   "mimetype": "text/x-python",
   "name": "python",
   "nbconvert_exporter": "python",
   "pygments_lexer": "ipython3",
   "version": "3.10.15"
  }
 },
 "nbformat": 4,
 "nbformat_minor": 2
}
