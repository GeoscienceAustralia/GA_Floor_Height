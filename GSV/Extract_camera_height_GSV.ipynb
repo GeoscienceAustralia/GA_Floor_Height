{
 "cells": [
  {
   "cell_type": "markdown",
   "metadata": {},
   "source": [
    "This notebook extracts camera height from depth maps, i.e. assuming the bottom row represents the vertical distance between camera and road surface."
   ]
  },
  {
   "cell_type": "markdown",
   "metadata": {},
   "source": [
    "## Load dependencies"
   ]
  },
  {
   "cell_type": "code",
   "execution_count": 20,
   "metadata": {},
   "outputs": [],
   "source": [
    "import glob\n",
    "from PIL import Image\n",
    "import geopandas as gpd\n",
    "import numpy as np\n",
    "import os\n",
    "import matplotlib.pyplot as plt"
   ]
  },
  {
   "cell_type": "markdown",
   "metadata": {},
   "source": [
    "## Set input depth maps folder and GSV metadata file"
   ]
  },
  {
   "cell_type": "code",
   "execution_count": 21,
   "metadata": {},
   "outputs": [],
   "source": [
    "# in_folder_depth=r'D:\\Wagga\\GSV\\Depth'\n",
    "# in_metadata_file=r'D:\\Wagga\\GSV\\Final_Wagga_meta.geojson'\n",
    "in_folder_depth=r'D:\\Launceston\\GSV\\Depth'\n",
    "in_metadata_file=r'D:\\Launceston\\GSV\\LC_Final_meta.geojson'"
   ]
  },
  {
   "cell_type": "code",
   "execution_count": 22,
   "metadata": {},
   "outputs": [
    {
     "data": {
      "text/html": [
       "<div>\n",
       "<style scoped>\n",
       "    .dataframe tbody tr th:only-of-type {\n",
       "        vertical-align: middle;\n",
       "    }\n",
       "\n",
       "    .dataframe tbody tr th {\n",
       "        vertical-align: top;\n",
       "    }\n",
       "\n",
       "    .dataframe thead th {\n",
       "        text-align: right;\n",
       "    }\n",
       "</style>\n",
       "<table border=\"1\" class=\"dataframe\">\n",
       "  <thead>\n",
       "    <tr style=\"text-align: right;\">\n",
       "      <th></th>\n",
       "      <th>EASTING</th>\n",
       "      <th>NORTHING</th>\n",
       "      <th>UFI</th>\n",
       "      <th>ZONE</th>\n",
       "      <th>DEM</th>\n",
       "      <th>LID</th>\n",
       "      <th>ADDRESS</th>\n",
       "      <th>SUBURB</th>\n",
       "      <th>POSTCODE</th>\n",
       "      <th>FEATURE_NA</th>\n",
       "      <th>...</th>\n",
       "      <th>Floor_height</th>\n",
       "      <th>pano_id</th>\n",
       "      <th>lat_c</th>\n",
       "      <th>lng_c</th>\n",
       "      <th>heading</th>\n",
       "      <th>pitch</th>\n",
       "      <th>roll</th>\n",
       "      <th>elevation</th>\n",
       "      <th>date</th>\n",
       "      <th>geometry</th>\n",
       "    </tr>\n",
       "  </thead>\n",
       "  <tbody>\n",
       "    <tr>\n",
       "      <th>0</th>\n",
       "      <td>510962.988188</td>\n",
       "      <td>5.412541e+06</td>\n",
       "      <td>1002</td>\n",
       "      <td>15.0 Urban Mixed Use</td>\n",
       "      <td>2.697813</td>\n",
       "      <td>GNAF_GATAS702308914</td>\n",
       "      <td>13 PARK STREET</td>\n",
       "      <td>LAUNCESTON</td>\n",
       "      <td>7250</td>\n",
       "      <td>None</td>\n",
       "      <td>...</td>\n",
       "      <td>3.12</td>\n",
       "      <td>YNLZF16ubLTqrzW7SkVC3A</td>\n",
       "      <td>-41.438551</td>\n",
       "      <td>147.131445</td>\n",
       "      <td>5.841477</td>\n",
       "      <td>0.022252</td>\n",
       "      <td>6.228637</td>\n",
       "      <td>5.546635</td>\n",
       "      <td>2019-10</td>\n",
       "      <td>POINT (147.13123 -41.43862)</td>\n",
       "    </tr>\n",
       "    <tr>\n",
       "      <th>1</th>\n",
       "      <td>511021.688427</td>\n",
       "      <td>5.412248e+06</td>\n",
       "      <td>33</td>\n",
       "      <td>11.0 Inner Residential</td>\n",
       "      <td>4.208417</td>\n",
       "      <td>GNAF_GATAS702204375</td>\n",
       "      <td>293 BRISBANE STREET</td>\n",
       "      <td>LAUNCESTON</td>\n",
       "      <td>7250</td>\n",
       "      <td>None</td>\n",
       "      <td>...</td>\n",
       "      <td>3.33</td>\n",
       "      <td>Tz6NjkiBNSG1ge0lKjXhdg</td>\n",
       "      <td>-41.441052</td>\n",
       "      <td>147.131782</td>\n",
       "      <td>1.040822</td>\n",
       "      <td>0.037883</td>\n",
       "      <td>6.235322</td>\n",
       "      <td>5.922997</td>\n",
       "      <td>2023-09</td>\n",
       "      <td>POINT (147.13194 -41.44127)</td>\n",
       "    </tr>\n",
       "    <tr>\n",
       "      <th>2</th>\n",
       "      <td>511082.136711</td>\n",
       "      <td>5.412226e+06</td>\n",
       "      <td>31</td>\n",
       "      <td>11.0 Inner Residential</td>\n",
       "      <td>4.540370</td>\n",
       "      <td>GNAF_GATAS702478623</td>\n",
       "      <td>4 MIDDLE STREET</td>\n",
       "      <td>LAUNCESTON</td>\n",
       "      <td>7250</td>\n",
       "      <td>None</td>\n",
       "      <td>...</td>\n",
       "      <td>3.70</td>\n",
       "      <td>hANXkavpLZzicH-g505L6g</td>\n",
       "      <td>-41.441531</td>\n",
       "      <td>147.132669</td>\n",
       "      <td>0.957574</td>\n",
       "      <td>0.039241</td>\n",
       "      <td>0.022607</td>\n",
       "      <td>7.156610</td>\n",
       "      <td>2023-09</td>\n",
       "      <td>POINT (147.13266 -41.44146)</td>\n",
       "    </tr>\n",
       "    <tr>\n",
       "      <th>3</th>\n",
       "      <td>511068.760790</td>\n",
       "      <td>5.412219e+06</td>\n",
       "      <td>28</td>\n",
       "      <td>11.0 Inner Residential</td>\n",
       "      <td>5.212643</td>\n",
       "      <td>GNAF_GATAS702296648</td>\n",
       "      <td>6 MIDDLE STREET</td>\n",
       "      <td>LAUNCESTON</td>\n",
       "      <td>7250</td>\n",
       "      <td>None</td>\n",
       "      <td>...</td>\n",
       "      <td>3.37</td>\n",
       "      <td>kC4sWh0ZUf1E7nz52Fb9xA</td>\n",
       "      <td>-41.441585</td>\n",
       "      <td>147.132567</td>\n",
       "      <td>0.963067</td>\n",
       "      <td>0.051902</td>\n",
       "      <td>0.010492</td>\n",
       "      <td>7.739836</td>\n",
       "      <td>2023-09</td>\n",
       "      <td>POINT (147.1325 -41.44152)</td>\n",
       "    </tr>\n",
       "    <tr>\n",
       "      <th>4</th>\n",
       "      <td>511048.726805</td>\n",
       "      <td>5.412229e+06</td>\n",
       "      <td>26</td>\n",
       "      <td>11.0 Inner Residential</td>\n",
       "      <td>5.162260</td>\n",
       "      <td>GNAF_GATAS702290011</td>\n",
       "      <td>8 MIDDLE STREET</td>\n",
       "      <td>LAUNCESTON</td>\n",
       "      <td>7250</td>\n",
       "      <td>None</td>\n",
       "      <td>...</td>\n",
       "      <td>3.37</td>\n",
       "      <td>hw9Rgp7d5H3mb-WlVW-Z_A</td>\n",
       "      <td>-41.441662</td>\n",
       "      <td>147.132419</td>\n",
       "      <td>0.959565</td>\n",
       "      <td>0.034847</td>\n",
       "      <td>0.021449</td>\n",
       "      <td>8.384348</td>\n",
       "      <td>2023-09</td>\n",
       "      <td>POINT (147.13226 -41.44143)</td>\n",
       "    </tr>\n",
       "  </tbody>\n",
       "</table>\n",
       "<p>5 rows × 76 columns</p>\n",
       "</div>"
      ],
      "text/plain": [
       "         EASTING      NORTHING   UFI                    ZONE       DEM  \\\n",
       "0  510962.988188  5.412541e+06  1002    15.0 Urban Mixed Use  2.697813   \n",
       "1  511021.688427  5.412248e+06    33  11.0 Inner Residential  4.208417   \n",
       "2  511082.136711  5.412226e+06    31  11.0 Inner Residential  4.540370   \n",
       "3  511068.760790  5.412219e+06    28  11.0 Inner Residential  5.212643   \n",
       "4  511048.726805  5.412229e+06    26  11.0 Inner Residential  5.162260   \n",
       "\n",
       "                   LID              ADDRESS      SUBURB POSTCODE FEATURE_NA  \\\n",
       "0  GNAF_GATAS702308914       13 PARK STREET  LAUNCESTON     7250       None   \n",
       "1  GNAF_GATAS702204375  293 BRISBANE STREET  LAUNCESTON     7250       None   \n",
       "2  GNAF_GATAS702478623      4 MIDDLE STREET  LAUNCESTON     7250       None   \n",
       "3  GNAF_GATAS702296648      6 MIDDLE STREET  LAUNCESTON     7250       None   \n",
       "4  GNAF_GATAS702290011      8 MIDDLE STREET  LAUNCESTON     7250       None   \n",
       "\n",
       "   ... Floor_height                 pano_id      lat_c       lng_c   heading  \\\n",
       "0  ...         3.12  YNLZF16ubLTqrzW7SkVC3A -41.438551  147.131445  5.841477   \n",
       "1  ...         3.33  Tz6NjkiBNSG1ge0lKjXhdg -41.441052  147.131782  1.040822   \n",
       "2  ...         3.70  hANXkavpLZzicH-g505L6g -41.441531  147.132669  0.957574   \n",
       "3  ...         3.37  kC4sWh0ZUf1E7nz52Fb9xA -41.441585  147.132567  0.963067   \n",
       "4  ...         3.37  hw9Rgp7d5H3mb-WlVW-Z_A -41.441662  147.132419  0.959565   \n",
       "\n",
       "      pitch      roll elevation     date                     geometry  \n",
       "0  0.022252  6.228637  5.546635  2019-10  POINT (147.13123 -41.43862)  \n",
       "1  0.037883  6.235322  5.922997  2023-09  POINT (147.13194 -41.44127)  \n",
       "2  0.039241  0.022607  7.156610  2023-09  POINT (147.13266 -41.44146)  \n",
       "3  0.051902  0.010492  7.739836  2023-09   POINT (147.1325 -41.44152)  \n",
       "4  0.034847  0.021449  8.384348  2023-09  POINT (147.13226 -41.44143)  \n",
       "\n",
       "[5 rows x 76 columns]"
      ]
     },
     "execution_count": 22,
     "metadata": {},
     "output_type": "execute_result"
    }
   ],
   "source": [
    "gdf_points=gpd.read_file(in_metadata_file)\n",
    "gdf_points.head()"
   ]
  },
  {
   "cell_type": "markdown",
   "metadata": {},
   "source": [
    "## Extract camera height from road surface"
   ]
  },
  {
   "cell_type": "code",
   "execution_count": 23,
   "metadata": {},
   "outputs": [
    {
     "name": "stdout",
     "output_type": "stream",
     "text": [
      "Depth file not found for id None, skipping...\n",
      "Depth file not found for id None, skipping...\n",
      "Depth file not found for id None, skipping...\n",
      "Depth file not found for id None, skipping...\n",
      "Depth file not found for id None, skipping...\n",
      "Depth file not found for id None, skipping...\n",
      "Depth file not found for id None, skipping...\n",
      "Depth file not found for id None, skipping...\n",
      "Depth file not found for id xu6VDV4fYDhfwVeZ0Pyjdg, skipping...\n",
      "Depth file not found for id None, skipping...\n",
      "Depth file not found for id xu6VDV4fYDhfwVeZ0Pyjdg, skipping...\n",
      "Depth file not found for id xu6VDV4fYDhfwVeZ0Pyjdg, skipping...\n",
      "Depth file not found for id None, skipping...\n",
      "Depth file not found for id None, skipping...\n",
      "Depth file not found for id v6EYrjLRYPcbv3bgHetB_Q, skipping...\n",
      "Depth file not found for id 31CqD7aH_KTvatw6IPmZrQ, skipping...\n",
      "Depth file not found for id 5jwIQT9LRZK7s1JN7XXJdw, skipping...\n",
      "Depth file not found for id None, skipping...\n",
      "Depth file not found for id None, skipping...\n",
      "Depth file not found for id None, skipping...\n",
      "Depth file not found for id None, skipping...\n",
      "Depth file not found for id None, skipping...\n",
      "Depth file not found for id None, skipping...\n",
      "Depth file not found for id None, skipping...\n",
      "Depth file not found for id None, skipping...\n",
      "Depth file not found for id None, skipping...\n",
      "Depth file not found for id None, skipping...\n",
      "Depth file not found for id None, skipping...\n",
      "Depth file not found for id None, skipping...\n",
      "Depth file not found for id None, skipping...\n",
      "Depth file not found for id None, skipping...\n"
     ]
    }
   ],
   "source": [
    "# Initialize a list to store heights\n",
    "camera_heights = []\n",
    "for pano_id in gdf_points['pano_id']:\n",
    "    # Search for the corresponding TIFF file using glob\n",
    "    tif_path = glob.glob(os.path.join(in_folder_depth, f\"{pano_id}.tif\"))\n",
    "    if tif_path:\n",
    "        # Use the first match from glob\n",
    "        tif_path = tif_path[0]\n",
    "        with Image.open(tif_path) as img:\n",
    "            # Convert the image to a numpy array\n",
    "            img_array = np.array(img)\n",
    "            # Extract the last row\n",
    "            bottom_row_values = img_array[-1, :]\n",
    "            camera_height = np.mean(bottom_row_values)\n",
    "            camera_heights.append(camera_height)\n",
    "    else:\n",
    "        print(f\"Depth file not found for id {pano_id}, skipping...\")\n",
    "        camera_heights.append(None)  # Handle missing TIFF files gracefully"
   ]
  },
  {
   "cell_type": "code",
   "execution_count": 24,
   "metadata": {},
   "outputs": [
    {
     "data": {
      "text/plain": [
       "(array([  7.,   0.,   4.,   1.,  30., 327., 492., 275.,  93.,  16.]),\n",
       " array([0.04078624, 0.38509306, 0.72939986, 1.07370663, 1.41801345,\n",
       "        1.76232028, 2.10662699, 2.45093393, 2.79524064, 3.13954759,\n",
       "        3.48385429]),\n",
       " <BarContainer object of 10 artists>)"
      ]
     },
     "execution_count": 24,
     "metadata": {},
     "output_type": "execute_result"
    },
    {
     "data": {
      "image/png": "[encoded data removed]",
      "text/plain": [
       "<Figure size 640x480 with 1 Axes>"
      ]
     },
     "metadata": {},
     "output_type": "display_data"
    }
   ],
   "source": [
    "plt.hist([h for h in camera_heights if h is not None])"
   ]
  },
  {
   "cell_type": "code",
   "execution_count": 25,
   "metadata": {},
   "outputs": [],
   "source": [
    "# Add the attribute to the GeoDataFrame\n",
    "gdf_points['height_c'] = camera_heights"
   ]
  },
  {
   "cell_type": "markdown",
   "metadata": {},
   "source": [
    "## Export updated metadata"
   ]
  },
  {
   "cell_type": "code",
   "execution_count": 26,
   "metadata": {},
   "outputs": [],
   "source": [
    "# Save the updated GeoJSON file\n",
    "# out_file=r'D:\\Wagga\\GSV\\Final_Wagga_meta_camera_height.geojson'\n",
    "out_file=r'D:\\Launceston\\GSV\\LC_Final_meta_camera_height.geojson'\n",
    "gdf_points.to_file(out_file, driver='GeoJSON')"
   ]
  }
 ],
 "metadata": {
  "kernelspec": {
   "display_name": "floorheight",
   "language": "python",
   "name": "python3"
  },
  "language_info": {
   "codemirror_mode": {
    "name": "ipython",
    "version": 3
   },
   "file_extension": ".py",
   "mimetype": "text/x-python",
   "name": "python",
   "nbconvert_exporter": "python",
   "pygments_lexer": "ipython3",
   "version": "3.10.15"
  }
 },
 "nbformat": 4,
 "nbformat_minor": 2
}
