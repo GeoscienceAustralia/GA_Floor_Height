{
 "cells": [
  {
   "cell_type": "code",
   "execution_count": 3,
   "metadata": {},
   "outputs": [
    {
     "data": {
      "text/plain": [
       "Index(['WALL_M', 'STEPS', 'USAGE', 'STOREYS', 'ASSESSOR', 'address', 'Area_1',\n",
       "       'PMF', 'Dep_500', 'Dep_200', 'Dep_100', 'Dep_50', 'Dep_20', 'Dep_10',\n",
       "       'Ground_Lev', 'Floor_Leve', 'AGE', 'UFI', 'ZONE_DESCR', 'Floor_height',\n",
       "       'Ground_surveyed', 'pano_id', 'lat_c', 'lng_c', 'heading', 'pitch',\n",
       "       'roll', 'elevation', 'date', 'geometry'],\n",
       "      dtype='object')"
      ]
     },
     "execution_count": 3,
     "metadata": {},
     "output_type": "execute_result"
    }
   ],
   "source": [
    "import geopandas as gpd\n",
    "gdf_GSV=gpd.read_file(r'D:\\Wagga\\GSV\\Final_Wagga_meta.geojson')\n",
    "gdf_RICS=gpd.read_file(r'D:\\Wagga\\RICS\\Final_Wagga.shp')\n",
    "gdf_GSV.columns"
   ]
  },
  {
   "cell_type": "code",
   "execution_count": 4,
   "metadata": {},
   "outputs": [],
   "source": [
    "gdf_merged=gdf_RICS.merge(gdf_GSV[['UFI','Floor_height']],on='UFI',how='left')\n",
    "gdf_merged.to_file(r'D:\\Wagga\\RICS\\Final_Wagga_meta.geojson')"
   ]
  }
 ],
 "metadata": {
  "kernelspec": {
   "display_name": "floorheight",
   "language": "python",
   "name": "python3"
  },
  "language_info": {
   "codemirror_mode": {
    "name": "ipython",
    "version": 3
   },
   "file_extension": ".py",
   "mimetype": "text/x-python",
   "name": "python",
   "nbconvert_exporter": "python",
   "pygments_lexer": "ipython3",
   "version": "3.10.15"
  }
 },
 "nbformat": 4,
 "nbformat_minor": 2
}
