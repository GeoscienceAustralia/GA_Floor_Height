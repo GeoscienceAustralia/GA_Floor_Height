{
 "cells": [
  {
   "cell_type": "markdown",
   "metadata": {},
   "source": [
    "This notebook implements FFH results assessment using manually derived groundtruth FFH values.\n",
    "May need to install if not already existing: pip install openpyxl."
   ]
  },
  {
   "cell_type": "code",
   "execution_count": null,
   "metadata": {},
   "outputs": [],
   "source": [
    "import pandas as pd\n",
    "import geopandas as gpd\n",
    "import matplotlib.pyplot as plt\n",
    "from sklearn.metrics import root_mean_squared_error, mean_absolute_error\n",
    "import numpy as np"
   ]
  },
  {
   "cell_type": "markdown",
   "metadata": {},
   "source": [
    "### Load input files"
   ]
  },
  {
   "cell_type": "code",
   "execution_count": null,
   "metadata": {},
   "outputs": [],
   "source": [
    "groundtruth_file=r\"/mnt/floorheightvolume/groundtruth/Wagga Groundtruth FFH Estimation.xlsx\"\n",
    "building_points_file_FFH = r'/home/ubuntu/lavender_floor_height/output/Final_Wagga_training_samples_pano_metadata_clipping_elevations_ffhs.geojson'"
   ]
  },
  {
   "cell_type": "markdown",
   "metadata": {},
   "source": [
    "Building points file which has both UFI and GSV pano id (only needed for Wagga as GSV was used for groundtruth data measurement but UFI was not recorded in results):"
   ]
  },
  {
   "cell_type": "code",
   "execution_count": null,
   "metadata": {},
   "outputs": [],
   "source": [
    "building_points_file_GSV = r\"/mnt/floorheightvolume/groundtruth/Final_Wagga_meta_FFH_GSV.geojson\""
   ]
  },
  {
   "cell_type": "markdown",
   "metadata": {},
   "source": [
    "Residential building only:"
   ]
  },
  {
   "cell_type": "code",
   "execution_count": null,
   "metadata": {},
   "outputs": [],
   "source": [
    "gdf_building_points_FFH=gpd.read_file(building_points_file_FFH)\n",
    "gdf_building_points_FFH=gdf_building_points_FFH[gdf_building_points_FFH[\"USAGE\"]==\"Residential\"].reset_index(drop=True)\n",
    "gdf_building_points_FFH"
   ]
  },
  {
   "cell_type": "code",
   "execution_count": null,
   "metadata": {},
   "outputs": [],
   "source": [
    "gdf_building_points_GSV=gpd.read_file(building_points_file_GSV)\n",
    "gdf_building_points_GSV"
   ]
  },
  {
   "cell_type": "markdown",
   "metadata": {},
   "source": [
    "Join by UFI:"
   ]
  },
  {
   "cell_type": "code",
   "execution_count": null,
   "metadata": {},
   "outputs": [],
   "source": [
    "gdf_building_points_FFH_joined = gdf_building_points_FFH.merge(gdf_building_points_GSV[['UFI','pano_id']], on='UFI', how='left')\n",
    "gdf_building_points_FFH_joined"
   ]
  },
  {
   "cell_type": "markdown",
   "metadata": {},
   "source": [
    "### Extract groundtruth measures for each building"
   ]
  },
  {
   "cell_type": "code",
   "execution_count": null,
   "metadata": {},
   "outputs": [],
   "source": [
    "# Combine sheet and column selection\n",
    "df_groundtruth = pd.read_excel(\n",
    "    groundtruth_file,\n",
    "    sheet_name='Combined Checking (GSV)',\n",
    "    usecols='A,P', # update based on data\n",
    "    names=['pano_id','groundtruth_FFH'],\n",
    "    dtype={'A':'str','P':'float64'},\n",
    "    skiprows=1  # Skip header row if needed\n",
    ").reset_index(drop=True)\n",
    "df_groundtruth"
   ]
  },
  {
   "cell_type": "markdown",
   "metadata": {},
   "source": [
    "### Join measures by pano_id"
   ]
  },
  {
   "cell_type": "code",
   "execution_count": null,
   "metadata": {},
   "outputs": [],
   "source": [
    "gdf_building_points_FFH_final=gdf_building_points_FFH_joined.merge(df_groundtruth[['pano_id','groundtruth_FFH']], on='pano_id', how='left')\n",
    "gdf_building_points_FFH_final"
   ]
  },
  {
   "cell_type": "markdown",
   "metadata": {},
   "source": [
    "### Compare predictions and groundtruth measures"
   ]
  },
  {
   "cell_type": "code",
   "execution_count": null,
   "metadata": {},
   "outputs": [],
   "source": [
    "# filter out invalid prediction/groundtruth data\n",
    "predicted_FFH=gdf_building_points_FFH_final['FFH3'].astype(float)\n",
    "gt_FFH=gdf_building_points_FFH_final['groundtruth_FFH']\n",
    "valid_indices = (~np.isnan(predicted_FFH))& (~np.isnan(gt_FFH))\n",
    "predicted_FFH = predicted_FFH[valid_indices]\n",
    "gt_FFH = gt_FFH[valid_indices]\n",
    "\n",
    "# Calculate RMSE and MAE\n",
    "rmse = root_mean_squared_error(gt_FFH, predicted_FFH)\n",
    "mae=mean_absolute_error(gt_FFH, predicted_FFH)\n",
    "# Calculate Correlation Coefficient\n",
    "correlation = np.corrcoef(gt_FFH, predicted_FFH)[0, 1]\n",
    "# Plot scatter points\n",
    "plt.figure(figsize=(8, 6))\n",
    "plt.scatter(gt_FFH, predicted_FFH, alpha=0.7, label=f'Points (n={len(predicted_FFH)})')\n",
    "# Add a line for ideal correlation (optional)\n",
    "plt.plot([predicted_FFH.min(), predicted_FFH.max()],[predicted_FFH.min(), predicted_FFH.max()], 'r--', label='Ideal Line')\n",
    "# Annotate RMSE and Correlation\n",
    "plt.text(0.05, 0.95, f'RMSE: {rmse:.2f}\\nMAE:{mae:.2f}\\nCorrelation: {correlation:.2f}', \n",
    "         transform=plt.gca().transAxes, fontsize=12, \n",
    "         verticalalignment='top', bbox=dict(boxstyle=\"round\", fc=\"wheat\", ec=\"black\", alpha=0.5))\n",
    "# Labeling\n",
    "plt.title('FFH - GSV prediction vs ground truth')\n",
    "plt.xlabel('Ground truth')\n",
    "plt.ylabel('GSV prediction')\n",
    "plt.legend()\n",
    "plt.grid()\n",
    "# Show plot\n",
    "plt.show()"
   ]
  },
  {
   "cell_type": "markdown",
   "metadata": {},
   "source": [
    "### Compare predictions and local council data"
   ]
  },
  {
   "cell_type": "code",
   "execution_count": null,
   "metadata": {},
   "outputs": [],
   "source": [
    "# filter out invalid prediction/groundtruth data\n",
    "predicted_FFH=gdf_building_points_FFH_final['FFH2'].astype(float)\n",
    "gt_FFH=gdf_building_points_FFH_final['Floor_height']\n",
    "valid_indices = (~np.isnan(predicted_FFH))& (~np.isnan(gt_FFH))\n",
    "predicted_FFH = predicted_FFH[valid_indices]\n",
    "gt_FFH = gt_FFH[valid_indices]\n",
    "\n",
    "# Calculate RMSE and MAE\n",
    "rmse = root_mean_squared_error(gt_FFH, predicted_FFH)\n",
    "mae=mean_absolute_error(gt_FFH, predicted_FFH)\n",
    "# Calculate Correlation Coefficient\n",
    "correlation = np.corrcoef(gt_FFH, predicted_FFH)[0, 1]\n",
    "# Plot scatter points\n",
    "plt.figure(figsize=(8, 6))\n",
    "plt.scatter(gt_FFH, predicted_FFH, alpha=0.7, label=f'Points (n={len(predicted_FFH)})')\n",
    "# Add a line for ideal correlation (optional)\n",
    "plt.plot([predicted_FFH.min(), predicted_FFH.max()],[predicted_FFH.min(), predicted_FFH.max()], 'r--', label='Ideal Line')\n",
    "# Annotate RMSE and Correlation\n",
    "plt.text(0.05, 0.95, f'RMSE: {rmse:.2f}\\nMAE:{mae:.2f}\\nCorrelation: {correlation:.2f}', \n",
    "         transform=plt.gca().transAxes, fontsize=12, \n",
    "         verticalalignment='top', bbox=dict(boxstyle=\"round\", fc=\"wheat\", ec=\"black\", alpha=0.5))\n",
    "# Labeling\n",
    "plt.title('FFH - GSV prediction vs council measure')\n",
    "plt.xlabel('Council measure')\n",
    "plt.ylabel('GSV prediction')\n",
    "plt.legend()\n",
    "plt.grid()\n",
    "# Show plot\n",
    "plt.show()"
   ]
  }
 ],
 "metadata": {
  "kernelspec": {
   "display_name": "pytorch",
   "language": "python",
   "name": "python3"
  },
  "language_info": {
   "codemirror_mode": {
    "name": "ipython",
    "version": 3
   },
   "file_extension": ".py",
   "mimetype": "text/x-python",
   "name": "python",
   "nbconvert_exporter": "python",
   "pygments_lexer": "ipython3",
   "version": "3.11.10"
  }
 },
 "nbformat": 4,
 "nbformat_minor": 2
}
