{
 "cells": [
  {
   "cell_type": "markdown",
   "metadata": {},
   "source": [
    "# Prepare data to support DEM comparison\n",
    "\n",
    "Various DEM/DSM and elevation values are used in the workflow. \n",
    "It's important to understand consistency between the DEM values."
   ]
  },
  {
   "cell_type": "markdown",
   "metadata": {},
   "source": [
    "DEMs to be compared\n",
    "\n",
    "* GA 5m - LiDAR surveys between 2001 and 2015\n",
    "* GA 1m - 2013 - \"GDA94 / MGA zone 55\" (\"EPSG:28355\")\n",
    "* AGO 1m - Tamar 2008 - \"GDA94 / MGA zone 55\"\n",
    "* AGO 7cm (DSM) - 2021 - \"WGS 84 / UTM zone 55S\" (\"EPSG:32755\")\n",
    "\n",
    "Comparison methods to be considered\n",
    "\n",
    "* Comparison to surveyed ground control points\n",
    "* Comparison of downsampled minimum elevation\n",
    "* Comparison of points over road\n",
    "\n"
   ]
  },
  {
   "cell_type": "code",
   "execution_count": 1,
   "metadata": {},
   "outputs": [],
   "source": [
    "import geopandas as gpd\n",
    "import pandas as pd\n",
    "from pyproj import CRS\n",
    "\n",
    "from matplotlib import pyplot as plt"
   ]
  },
  {
   "cell_type": "markdown",
   "metadata": {},
   "source": [
    "## AGO data prep\n",
    "\n",
    "7cm DSM\n",
    "\n",
    "Projection is \"WGS 84 / UTM zone 55S\" or \"EPSG:32755\"\n",
    "\n",
    "```\n",
    "% cd ~/Documents/Projects/AGO/Elevation/Launceston/AGO/DEM_DSM_DTM/Source\\ Elevation\\ Data/AUS_Launceston_2021_DSM/dsm\n",
    "\n",
    "# Make virtual raster\n",
    "% gdalbuildvrt launceston-dsm-7cm.vrt *.tif\n",
    "\n",
    "% gdalinfo launceston-dsm-7cm.vrt | grep \"Size\"      \n",
    "Size is 168000, 204000\n",
    "Pixel Size = (0.072000000000000,-0.072000000000000)\n",
    "\n",
    "# Downsample\n",
    "# original pixel size is 0.072\n",
    "% gdalwarp -r average -tr 0.288 0.288 launceston-dsm-7cm.vrt launceston-dsm-average-28cm.tif\n",
    "\n",
    "\n",
    "% gdalinfo launceston-dsm-average-28cm.tif|grep \"Size\"\n",
    "Size is 42000, 51000\n",
    "Pixel Size = (0.288000000000000,-0.288000000000000)\n",
    "```\n",
    "\n"
   ]
  },
  {
   "cell_type": "markdown",
   "metadata": {},
   "source": [
    "### Ground control points\n",
    "\n",
    "Survey control masks for Tasmania: \n",
    "https://nre.tas.gov.au/land-tasmania/geospatial-infrastructure-surveying/geodetic-survey/survey-control-marks-database-(surcom)"
   ]
  },
  {
   "cell_type": "code",
   "execution_count": 2,
   "metadata": {},
   "outputs": [],
   "source": [
    "# constrain using building dataset boundary\n",
    "buildings_file = \"/Users/Fangyuan/Library/CloudStorage/OneDrive-SharedLibraries-FrontierSI/Projects - Documents/Projects - Data Analytics/127 Residential Dwelling Floor Height/4 Executing/Data Exploration/overture/launceston_building.gpkg\"\n",
    "\n",
    "buildings  = gpd.read_file(buildings_file)"
   ]
  },
  {
   "cell_type": "code",
   "execution_count": 3,
   "metadata": {},
   "outputs": [],
   "source": [
    "csv_file = \"/Users/Fangyuan/FrontierSI/Projects - Documents/Projects - Data Analytics/127 Residential Dwelling Floor Height/4 Executing/Data Exploration/Ground control/Tasmania/SurcomBasicMkRep/survey_control.csv\"\n"
   ]
  },
  {
   "cell_type": "code",
   "execution_count": 4,
   "metadata": {},
   "outputs": [
    {
     "name": "stdout",
     "output_type": "stream",
     "text": [
      "crs: EPSG:7855\n"
     ]
    }
   ],
   "source": [
    "# Load CSV into a Pandas DataFrame\n",
    "df = pd.read_csv(csv_file, encoding=\"ISO-8859-1\")\n",
    "\n",
    "# Convert into vector\n",
    "# Use GDA2020 for better consistency with WGS84 and recent data\n",
    "\n",
    "# Ensure column names match your CSV structure\n",
    "easting_col = \"GDA2020_E\"\n",
    "northing_col = \"GDA2020_N\"\n",
    "zone_col = \"MGA_ZONE\"\n",
    "\n",
    "# Function to generate CRS based on MGA Zone\n",
    "def get_crs(mga_zone):\n",
    "    epsg_code = 7800 + int(mga_zone)  # GDA2020 MGA Zone EPSG Codes (e.g., Zone 55 → EPSG:7855)\n",
    "    return CRS.from_epsg(epsg_code)\n",
    "\n",
    "# Convert to GeoDataFrame\n",
    "df[\"geometry\"] = gpd.points_from_xy(df[easting_col], df[northing_col])\n",
    "gdf = gpd.GeoDataFrame(df, geometry=\"geometry\")\n",
    "\n",
    "# Assign the correct CRS based on the first row's MGA Zone\n",
    "if zone_col in df.columns:\n",
    "    mga_zone = df[zone_col].iloc[0]  # Assume all points share the same zone\n",
    "    target_crs = get_crs(mga_zone)\n",
    "    print(\"crs:\", target_crs)\n",
    "    gdf.set_crs(target_crs, inplace=True)\n"
   ]
  },
  {
   "cell_type": "code",
   "execution_count": 5,
   "metadata": {},
   "outputs": [
    {
     "data": {
      "text/plain": [
       "array(['STATE', 'AHD83', nan, 'LOCAL', 'AHD79'], dtype=object)"
      ]
     },
     "execution_count": 5,
     "metadata": {},
     "output_type": "execute_result"
    }
   ],
   "source": [
    "# Inspect data\n",
    "df.HGT_DATUM.unique()"
   ]
  },
  {
   "cell_type": "markdown",
   "metadata": {},
   "source": [
    "Criteria used in DTM validation report\n",
    "\n",
    "* MARKSTATUS ='EXISTING' and\n",
    "* HOR_ORDER in ('1ST','2ND','3RD','4TH') and\n",
    "* HGT_ORDER in (c) and\n",
    "* HGT_DATUM ='AHD83'"
   ]
  },
  {
   "cell_type": "markdown",
   "metadata": {},
   "source": []
  },
  {
   "cell_type": "code",
   "execution_count": 6,
   "metadata": {},
   "outputs": [
    {
     "data": {
      "text/html": [
       "<div>\n",
       "<style scoped>\n",
       "    .dataframe tbody tr th:only-of-type {\n",
       "        vertical-align: middle;\n",
       "    }\n",
       "\n",
       "    .dataframe tbody tr th {\n",
       "        vertical-align: top;\n",
       "    }\n",
       "\n",
       "    .dataframe thead th {\n",
       "        text-align: right;\n",
       "    }\n",
       "</style>\n",
       "<table border=\"1\" class=\"dataframe\">\n",
       "  <thead>\n",
       "    <tr style=\"text-align: right;\">\n",
       "      <th></th>\n",
       "      <th>PACK_ID</th>\n",
       "      <th>SCS_NAME</th>\n",
       "      <th>MGA_ZONE</th>\n",
       "      <th>GDA2020_E</th>\n",
       "      <th>GDA2020_N</th>\n",
       "      <th>GDA2020_PU</th>\n",
       "      <th>PU_METHOD</th>\n",
       "      <th>HEIGHT</th>\n",
       "      <th>HGT_DATUM</th>\n",
       "      <th>HGT_CLASS</th>\n",
       "      <th>HGT_ORDER</th>\n",
       "      <th>GDA94_E</th>\n",
       "      <th>GDA94_N</th>\n",
       "      <th>HOR_CLASS</th>\n",
       "      <th>HOR_ORDER</th>\n",
       "      <th>TARGET_STR</th>\n",
       "      <th>MARKSTATUS</th>\n",
       "      <th>DESCRIPT</th>\n",
       "      <th>ORDER_SYMB</th>\n",
       "      <th>geometry</th>\n",
       "    </tr>\n",
       "  </thead>\n",
       "  <tbody>\n",
       "    <tr>\n",
       "      <th>5</th>\n",
       "      <td>ST780</td>\n",
       "      <td>WHITE ROCK LT</td>\n",
       "      <td>55</td>\n",
       "      <td>531973.177</td>\n",
       "      <td>5241746.121</td>\n",
       "      <td>0.016</td>\n",
       "      <td>Rigorous</td>\n",
       "      <td>21.045</td>\n",
       "      <td>AHD83</td>\n",
       "      <td>DIRECT</td>\n",
       "      <td>3RD</td>\n",
       "      <td>531972.763</td>\n",
       "      <td>5241744.711</td>\n",
       "      <td>B</td>\n",
       "      <td>2ND</td>\n",
       "      <td>LT</td>\n",
       "      <td>EXISTING</td>\n",
       "      <td>Navigation Light.</td>\n",
       "      <td>purpletriangle</td>\n",
       "      <td>POINT (531973.177 5241746.121)</td>\n",
       "    </tr>\n",
       "    <tr>\n",
       "      <th>6</th>\n",
       "      <td>HECBM2490</td>\n",
       "      <td>NaN</td>\n",
       "      <td>55</td>\n",
       "      <td>383830.022</td>\n",
       "      <td>5387081.611</td>\n",
       "      <td>0.019</td>\n",
       "      <td>Rigorous</td>\n",
       "      <td>396.182</td>\n",
       "      <td>AHD83</td>\n",
       "      <td>LEV3</td>\n",
       "      <td>L3RD</td>\n",
       "      <td>383829.586</td>\n",
       "      <td>5387080.143</td>\n",
       "      <td>B</td>\n",
       "      <td>2ND</td>\n",
       "      <td>NaN</td>\n",
       "      <td>EXISTING</td>\n",
       "      <td>Brass HEC BM mushroom in concrete block, stone...</td>\n",
       "      <td>purpletriangle</td>\n",
       "      <td>POINT (383830.022 5387081.611)</td>\n",
       "    </tr>\n",
       "    <tr>\n",
       "      <th>8</th>\n",
       "      <td>SPM10307</td>\n",
       "      <td>NaN</td>\n",
       "      <td>55</td>\n",
       "      <td>407210.996</td>\n",
       "      <td>5451683.214</td>\n",
       "      <td>0.024</td>\n",
       "      <td>Rigorous</td>\n",
       "      <td>147.275</td>\n",
       "      <td>AHD83</td>\n",
       "      <td>GPS</td>\n",
       "      <td>3RD</td>\n",
       "      <td>407210.568</td>\n",
       "      <td>5451681.768</td>\n",
       "      <td>B</td>\n",
       "      <td>2ND</td>\n",
       "      <td>NaN</td>\n",
       "      <td>EXISTING</td>\n",
       "      <td>Bronze SPM disc in Telstra pit.</td>\n",
       "      <td>purpletriangle</td>\n",
       "      <td>POINT (407210.996 5451683.214)</td>\n",
       "    </tr>\n",
       "    <tr>\n",
       "      <th>11</th>\n",
       "      <td>SPM1121</td>\n",
       "      <td>NaN</td>\n",
       "      <td>55</td>\n",
       "      <td>449987.450</td>\n",
       "      <td>5435063.000</td>\n",
       "      <td>0.016</td>\n",
       "      <td>Rigorous</td>\n",
       "      <td>3.794</td>\n",
       "      <td>AHD83</td>\n",
       "      <td>LEV3</td>\n",
       "      <td>L3RD</td>\n",
       "      <td>449987.036</td>\n",
       "      <td>5435061.569</td>\n",
       "      <td>B</td>\n",
       "      <td>2ND</td>\n",
       "      <td>NaN</td>\n",
       "      <td>EXISTING</td>\n",
       "      <td>Brass pin in concrete block with CI cover box.</td>\n",
       "      <td>purpletriangle</td>\n",
       "      <td>POINT (449987.45 5435063)</td>\n",
       "    </tr>\n",
       "    <tr>\n",
       "      <th>12</th>\n",
       "      <td>DSM1508-03</td>\n",
       "      <td>NaN</td>\n",
       "      <td>55</td>\n",
       "      <td>515710.223</td>\n",
       "      <td>5408371.298</td>\n",
       "      <td>0.018</td>\n",
       "      <td>Rigorous</td>\n",
       "      <td>29.497</td>\n",
       "      <td>AHD83</td>\n",
       "      <td>GPS</td>\n",
       "      <td>3RD</td>\n",
       "      <td>515709.788</td>\n",
       "      <td>5408369.872</td>\n",
       "      <td>B</td>\n",
       "      <td>2ND</td>\n",
       "      <td>NaN</td>\n",
       "      <td>EXISTING</td>\n",
       "      <td>Brass Disc in Cover Box.</td>\n",
       "      <td>purpletriangle</td>\n",
       "      <td>POINT (515710.223 5408371.298)</td>\n",
       "    </tr>\n",
       "  </tbody>\n",
       "</table>\n",
       "</div>"
      ],
      "text/plain": [
       "       PACK_ID       SCS_NAME  MGA_ZONE   GDA2020_E    GDA2020_N  GDA2020_PU  \\\n",
       "5        ST780  WHITE ROCK LT        55  531973.177  5241746.121       0.016   \n",
       "6    HECBM2490            NaN        55  383830.022  5387081.611       0.019   \n",
       "8     SPM10307            NaN        55  407210.996  5451683.214       0.024   \n",
       "11     SPM1121            NaN        55  449987.450  5435063.000       0.016   \n",
       "12  DSM1508-03            NaN        55  515710.223  5408371.298       0.018   \n",
       "\n",
       "   PU_METHOD   HEIGHT HGT_DATUM HGT_CLASS HGT_ORDER     GDA94_E      GDA94_N  \\\n",
       "5   Rigorous   21.045     AHD83    DIRECT       3RD  531972.763  5241744.711   \n",
       "6   Rigorous  396.182     AHD83      LEV3      L3RD  383829.586  5387080.143   \n",
       "8   Rigorous  147.275     AHD83       GPS       3RD  407210.568  5451681.768   \n",
       "11  Rigorous    3.794     AHD83      LEV3      L3RD  449987.036  5435061.569   \n",
       "12  Rigorous   29.497     AHD83       GPS       3RD  515709.788  5408369.872   \n",
       "\n",
       "   HOR_CLASS HOR_ORDER TARGET_STR MARKSTATUS  \\\n",
       "5          B       2ND         LT   EXISTING   \n",
       "6          B       2ND        NaN   EXISTING   \n",
       "8          B       2ND        NaN   EXISTING   \n",
       "11         B       2ND        NaN   EXISTING   \n",
       "12         B       2ND        NaN   EXISTING   \n",
       "\n",
       "                                             DESCRIPT      ORDER_SYMB  \\\n",
       "5                                   Navigation Light.  purpletriangle   \n",
       "6   Brass HEC BM mushroom in concrete block, stone...  purpletriangle   \n",
       "8                     Bronze SPM disc in Telstra pit.  purpletriangle   \n",
       "11     Brass pin in concrete block with CI cover box.  purpletriangle   \n",
       "12                           Brass Disc in Cover Box.  purpletriangle   \n",
       "\n",
       "                          geometry  \n",
       "5   POINT (531973.177 5241746.121)  \n",
       "6   POINT (383830.022 5387081.611)  \n",
       "8   POINT (407210.996 5451683.214)  \n",
       "11       POINT (449987.45 5435063)  \n",
       "12  POINT (515710.223 5408371.298)  "
      ]
     },
     "execution_count": 6,
     "metadata": {},
     "output_type": "execute_result"
    }
   ],
   "source": [
    "# Filter use above rules\n",
    "filter = (gdf.MARKSTATUS=='EXISTING') & (gdf.HGT_DATUM=='AHD83') \n",
    "filter = filter & (gdf.HOR_ORDER.isin(['1ST', '2ND', '3RD', '4TH']))\n",
    "filter = filter & (gdf.HGT_ORDER.isin(['1ST','2ND','3RD', 'L3RD','L3RDLC']))\n",
    "filter = filter & (gdf.GDA2020_PU<0.1)\n",
    "gdf = gdf[filter]\n",
    "gdf.head()"
   ]
  },
  {
   "cell_type": "code",
   "execution_count": 7,
   "metadata": {},
   "outputs": [],
   "source": [
    "# filter within building boundary\n",
    "\n",
    "bounding = buildings.to_crs(target_crs).union_all().convex_hull\n",
    "gcps = gdf[gdf.geometry.within(bounding)]"
   ]
  },
  {
   "cell_type": "code",
   "execution_count": 8,
   "metadata": {},
   "outputs": [
    {
     "data": {
      "text/plain": [
       "468"
      ]
     },
     "execution_count": 8,
     "metadata": {},
     "output_type": "execute_result"
    }
   ],
   "source": [
    "len(gcps)"
   ]
  },
  {
   "cell_type": "code",
   "execution_count": 9,
   "metadata": {},
   "outputs": [
    {
     "data": {
      "text/plain": [
       "array(['LEV3', 'GPS', 'LEVU'], dtype=object)"
      ]
     },
     "execution_count": 9,
     "metadata": {},
     "output_type": "execute_result"
    }
   ],
   "source": [
    "gcps.HGT_CLASS.unique()"
   ]
  },
  {
   "cell_type": "code",
   "execution_count": 10,
   "metadata": {},
   "outputs": [
    {
     "data": {
      "text/plain": [
       "184"
      ]
     },
     "execution_count": 10,
     "metadata": {},
     "output_type": "execute_result"
    }
   ],
   "source": [
    "# filter out unreliable, not at ground level\n",
    "gcps = gcps[~gcps.DESCRIPT.isnull()]\n",
    "gcps = gcps[~(gcps.DESCRIPT.str.lower().str.contains('unsuitable') | gcps.DESCRIPT.str.lower().str.contains('destroyed'))]\n",
    "gcps = gcps[~(gcps.DESCRIPT.str.lower().str.contains('missing') | gcps.DESCRIPT.str.lower().str.contains('below ground'))]\n",
    "gcps = gcps[~(gcps.DESCRIPT.str.lower().str.contains('sub-surface') | gcps.DESCRIPT.str.lower().str.contains('deep'))]\n",
    "gcps = gcps[~(gcps.DESCRIPT.str.lower().str.contains('rod') | gcps.DESCRIPT.str.lower().str.contains('pole'))]\n",
    "gcps = gcps[~(gcps.DESCRIPT.str.lower().str.contains('roof') | gcps.DESCRIPT.str.lower().str.contains('wall'))]\n",
    "\n",
    "len(gcps)"
   ]
  },
  {
   "cell_type": "code",
   "execution_count": 11,
   "metadata": {},
   "outputs": [
    {
     "data": {
      "text/plain": [
       "array(['Brass pin in concrete block with coverbox over.',\n",
       "       'Brass pin in coverbox', 'Brass pin in concrete with cover box.',\n",
       "       'Brass pin in concrete with cover box. NOTE: This station was previously known as G143 and then 113/8.',\n",
       "       'Brass pin in cover box.',\n",
       "       'Brass pin in concrete block, coverbox over.',\n",
       "       'Brass pin in concrete block, cover box over.',\n",
       "       'Brass pin stamped 465 in concrete with steel cover box',\n",
       "       'Brass pin in cover box in footpath.',\n",
       "       'Brass pin in concrete, cover box over.', 'Brass pin in cover box',\n",
       "       'Brass pin in coverbox.',\n",
       "       'Brass pin in concrete block with coverbox over',\n",
       "       'Brass pin in concrete with steel cover box.'], dtype=object)"
      ]
     },
     "execution_count": 11,
     "metadata": {},
     "output_type": "execute_result"
    }
   ],
   "source": [
    "gcps[gcps.DESCRIPT.str.lower().str.contains('brass pin')==True].DESCRIPT.unique()"
   ]
  },
  {
   "cell_type": "code",
   "execution_count": 12,
   "metadata": {},
   "outputs": [
    {
     "data": {
      "text/plain": [
       "62"
      ]
     },
     "execution_count": 12,
     "metadata": {},
     "output_type": "execute_result"
    }
   ],
   "source": [
    "len(gcps[gcps.DESCRIPT.str.lower().str.contains('brass pin')==True])"
   ]
  },
  {
   "cell_type": "code",
   "execution_count": 13,
   "metadata": {},
   "outputs": [
    {
     "data": {
      "text/plain": [
       "count                         184\n",
       "unique                         63\n",
       "top       Brass SPM disc in kerb.\n",
       "freq                           29\n",
       "Name: DESCRIPT, dtype: object"
      ]
     },
     "execution_count": 13,
     "metadata": {},
     "output_type": "execute_result"
    }
   ],
   "source": [
    "gcps.DESCRIPT.describe()"
   ]
  },
  {
   "cell_type": "code",
   "execution_count": 14,
   "metadata": {},
   "outputs": [
    {
     "data": {
      "text/plain": [
       "array(['Brass Lands disc in kerb.',\n",
       "       'Brass pin in concrete block with coverbox over.',\n",
       "       'Bronze SPM disc in kerb.', 'Pin in coverbox',\n",
       "       'Brass pin in coverbox', 'Brass pin in concrete with cover box.',\n",
       "       'Brass SPM disc in kerb.',\n",
       "       'Brass pin in concrete with cover box. NOTE: This station was previously known as G143 and then 113/8.',\n",
       "       'Brass pin in cover box.',\n",
       "       'Brass pin in concrete block, coverbox over.',\n",
       "       'Bronze disc in concrete block with coverbox over.',\n",
       "       'Bronze SPM disc in pram crossing.',\n",
       "       'Brass pin in concrete block, cover box over.',\n",
       "       'Brass SPM disc in cover box.',\n",
       "       'Brass Survey disc in concrete kerb.',\n",
       "       'Brass mushroom in concrete, coverbox over.',\n",
       "       'Brass Lands disc in Telstra pit.',\n",
       "       'Brass pin stamped 465 in concrete with steel cover box',\n",
       "       'Brass SPM Disc in cover box.', 'Brass mushroom in concrete.',\n",
       "       'Brass SPM disc in concrete abutment.',\n",
       "       'Brass SPM disc in Telstra frame.',\n",
       "       'Brass SPM disc in cover box.REPORTED Buried under bitumen 23/06/20',\n",
       "       'Brass SPM disc in kerb', 'Brass pin in cover box in footpath.',\n",
       "       'Brass Disc in Cover Box.', 'Brass SPM disc in coverbox.',\n",
       "       'Brass Lands disc in concrete abutment of bridge.',\n",
       "       'Brass SPM disc in concrete bridge.',\n",
       "       'Brass SPM disc in concrete manhole frame.',\n",
       "       'Brass pin in concrete, cover box over.',\n",
       "       'Bronze Lands disc in rock.', 'Brass SPm Disc in cover box.',\n",
       "       'Brass disc in kerb.',\n",
       "       'Brass SPM disc in cover box in roundabout.',\n",
       "       'Brass Lands disc in concrete bridge abutment.',\n",
       "       'brass SPM disc in cover box.', 'Brass SPM disc in cover box ',\n",
       "       'Brass pin in cover box', 'Brass SPM disc in Telecom frame.',\n",
       "       'Pin in cover box',\n",
       "       'Survey mark in Cover Box.REPORTED Buried under bitumen 23/06/20',\n",
       "       'Brass pin in coverbox.', 'Bronze disc in concrete bridge.',\n",
       "       'Bronze disc in concrete with coverbox over.',\n",
       "       'Brass disc in concrete kerb', 'SPM disc in concrete footpath.',\n",
       "       'Bronze Lands disc in kerb.',\n",
       "       'Stainless steel pin in rock with bronze GPS plaque',\n",
       "       'Brass disc in cover box', 'Brass Lands disc in concrete.',\n",
       "       'Brass SPM disc in rock.', 'Brass SPM disc in concrete slab.',\n",
       "       'Brass disc in concrete lid of tank', 'Brass disc in cover box.',\n",
       "       'Brass pin in concrete block with coverbox over',\n",
       "       'Brass SPM disc in concrete kerb channel.',\n",
       "       'Brass SPM disc in concrete footpath.',\n",
       "       'SPM disc in concrete kerb',\n",
       "       'Brass pin in concrete with steel cover box.',\n",
       "       'Brass Lands disc in concrete footpath.', 'Brass Disk in Rock',\n",
       "       'Brass SPM disc in pavement, cover box over.'], dtype=object)"
      ]
     },
     "execution_count": 14,
     "metadata": {},
     "output_type": "execute_result"
    }
   ],
   "source": [
    "gcps.DESCRIPT.unique()"
   ]
  },
  {
   "cell_type": "code",
   "execution_count": 15,
   "metadata": {},
   "outputs": [],
   "source": [
    "# Save as GeoJSON\n",
    "gcps.to_file(\"/Users/Fangyuan/FrontierSI/Projects - Documents/Projects - Data Analytics/127 Residential Dwelling Floor Height/4 Executing/Data Exploration/Ground control/Tasmania/tasmania_survey_control_filtered.geojson\", driver=\"GeoJSON\")"
   ]
  },
  {
   "cell_type": "code",
   "execution_count": 16,
   "metadata": {},
   "outputs": [],
   "source": [
    "# Save as GeoJSON\n",
    "gcps[gcps.DESCRIPT.str.lower().str.contains('brass pin')==True].to_file(\"/Users/Fangyuan/FrontierSI/Projects - Documents/Projects - Data Analytics/127 Residential Dwelling Floor Height/4 Executing/Data Exploration/Ground control/Tasmania/tasmania_survey_control_filtered_brass_pin.geojson\", driver=\"GeoJSON\")"
   ]
  }
 ],
 "metadata": {
  "kernelspec": {
   "display_name": "floorheight",
   "language": "python",
   "name": "python3"
  },
  "language_info": {
   "codemirror_mode": {
    "name": "ipython",
    "version": 3
   },
   "file_extension": ".py",
   "mimetype": "text/x-python",
   "name": "python",
   "nbconvert_exporter": "python",
   "pygments_lexer": "ipython3",
   "version": "3.10.16"
  }
 },
 "nbformat": 4,
 "nbformat_minor": 2
}
