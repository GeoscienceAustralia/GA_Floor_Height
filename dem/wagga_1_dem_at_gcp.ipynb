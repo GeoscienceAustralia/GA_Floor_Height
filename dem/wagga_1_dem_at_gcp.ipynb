{
 "cells": [
  {
   "cell_type": "markdown",
   "metadata": {},
   "source": [
    "# Comparing DEMs and GCPs - Wagga Wagga\n",
    "\n",
    "The workflow below doesn't consider spatial mis-alignment."
   ]
  },
  {
   "cell_type": "code",
   "execution_count": 24,
   "metadata": {},
   "outputs": [],
   "source": [
    "import geopandas as gpd\n",
    "import numpy as np\n",
    "import rioxarray\n",
    "import seaborn as sns\n",
    "from matplotlib import pyplot as plt\n",
    "from scipy.stats import pearsonr"
   ]
  },
  {
   "cell_type": "code",
   "execution_count": 25,
   "metadata": {},
   "outputs": [],
   "source": [
    "gcp_file = \"/home/lng/sharepoint/Projects - Documents/Projects - Data Analytics/127 Residential Dwelling Floor Height/4 Executing/Data Exploration/Ground Control/NSW/wagga_scims_marks_filtered.gpkg\""
   ]
  },
  {
   "cell_type": "code",
   "execution_count": 26,
   "metadata": {},
   "outputs": [
    {
     "data": {
      "text/plain": [
       "86"
      ]
     },
     "execution_count": 26,
     "metadata": {},
     "output_type": "execute_result"
    }
   ],
   "source": [
    "gcps = gpd.read_file(gcp_file)\n",
    "len(gcps)"
   ]
  },
  {
   "cell_type": "code",
   "execution_count": 34,
   "metadata": {},
   "outputs": [
    {
     "name": "stdout",
     "output_type": "stream",
     "text": [
      "skipping cell\n"
     ]
    }
   ],
   "source": [
    "%%script echo skipping cell\n",
    "# Load DSM raster using xarray\n",
    "ds_7cm = rioxarray.open_rasterio(dem_7cm_file)  # Replace with your DSM file path\n",
    "ds_28cm = rioxarray.open_rasterio(dem_28cm_file)  # Replace with your DSM file path\n",
    "\n",
    "gcps = gcps.to_crs(ds_7cm.rio.crs)\n",
    "# Extract GCP coordinates\n",
    "gcps_x = gcps.geometry.x\n",
    "gcps_y = gcps.geometry.y\n",
    "# Extract raster values at GCP locations\n",
    "gcps[\"DSM_7cm\"] = [ds_7cm.sel(x=x, y=y, method=\"nearest\").values[0] for x, y in zip(gcps_x, gcps_y)]\n",
    "gcps[\"DSM_28cm\"] = [ds_28cm.sel(x=x, y=y, method=\"nearest\").values[0] for x, y in zip(gcps_x, gcps_y)]"
   ]
  },
  {
   "cell_type": "code",
   "execution_count": 23,
   "metadata": {},
   "outputs": [
    {
     "name": "stdout",
     "output_type": "stream",
     "text": [
      "skipping cell\n"
     ]
    }
   ],
   "source": [
    "%%script echo skipping cell\n",
    "# AGO 1m \n",
    "dem_1m_file = \"/Users/Fangyuan/Documents/Projects/AGO/Elevation/Launceston/AGO/DEM_DSM_DTM/Source Elevation Data/AUS_Tasmania_2008-19_DEM/z55/GDA94/Tamar2008_DEM_1m.vrt\"\n",
    "dem_1m = rioxarray.open_rasterio(dem_1m_file)\n",
    "gcps_1m = gcps.to_crs(dem_1m.rio.crs)\n",
    "# Extract GCP coordinates\n",
    "gcps[\"DEM_1m\"] = [dem_1m.sel(x=x, y=y, method=\"nearest\").values[0] for x, y in zip(gcps_1m.geometry.x, gcps_1m.geometry.y)]"
   ]
  },
  {
   "cell_type": "code",
   "execution_count": 28,
   "metadata": {},
   "outputs": [],
   "source": [
    "# NSW 1m - 2020 - \"GDA2020 / MGA zone 55\" (\"EPSG:7855\")\n",
    "nsw_1m_path = \"/home/lng/sharepoint/Projects - Documents/Projects - Data Analytics/127 Residential Dwelling Floor Height/4 Executing/Data Exploration/Wagga DEM/NSW_2020_DEM_1m.vrt\"\n",
    "nsw_1m = rioxarray.open_rasterio(nsw_1m_path)\n",
    "gcps_ga = gcps.to_crs(nsw_1m.rio.crs)\n",
    "# Extract GCP coordinates\n",
    "gcps[\"DEM_GA_1m\"] = [nsw_1m.sel(x=x, y=y, method=\"nearest\").values[0] for x, y in zip(gcps_ga.geometry.x, gcps_ga.geometry.y)]\n"
   ]
  },
  {
   "cell_type": "code",
   "execution_count": 29,
   "metadata": {},
   "outputs": [
    {
     "data": {
      "text/html": [
       "<div>\n",
       "<style scoped>\n",
       "    .dataframe tbody tr th:only-of-type {\n",
       "        vertical-align: middle;\n",
       "    }\n",
       "\n",
       "    .dataframe tbody tr th {\n",
       "        vertical-align: top;\n",
       "    }\n",
       "\n",
       "    .dataframe thead th {\n",
       "        text-align: right;\n",
       "    }\n",
       "</style>\n",
       "<table border=\"1\" class=\"dataframe\">\n",
       "  <thead>\n",
       "    <tr style=\"text-align: right;\">\n",
       "      <th></th>\n",
       "      <th>OBJECTID</th>\n",
       "      <th>marktype</th>\n",
       "      <th>marknumber</th>\n",
       "      <th>markstatus</th>\n",
       "      <th>monumenttype</th>\n",
       "      <th>markalias</th>\n",
       "      <th>trigname</th>\n",
       "      <th>trigtype</th>\n",
       "      <th>monumentlocation</th>\n",
       "      <th>mgazone</th>\n",
       "      <th>...</th>\n",
       "      <th>ausgeoid2020_label</th>\n",
       "      <th>gdaheight_label</th>\n",
       "      <th>gdaposuncertainty_label</th>\n",
       "      <th>gdalocuncertainty_label</th>\n",
       "      <th>ahdposuncertainty_label</th>\n",
       "      <th>ahdlocuncertainty_label</th>\n",
       "      <th>gdaheightposuncertainty_label</th>\n",
       "      <th>gdaheightlocuncertainty_label</th>\n",
       "      <th>geometry</th>\n",
       "      <th>DEM_GA_1m</th>\n",
       "    </tr>\n",
       "  </thead>\n",
       "  <tbody>\n",
       "    <tr>\n",
       "      <th>0</th>\n",
       "      <td>3387</td>\n",
       "      <td>SS</td>\n",
       "      <td>67644</td>\n",
       "      <td>F</td>\n",
       "      <td>SSM IN CONC</td>\n",
       "      <td>None</td>\n",
       "      <td>None</td>\n",
       "      <td>None</td>\n",
       "      <td>G</td>\n",
       "      <td>55</td>\n",
       "      <td>...</td>\n",
       "      <td>14.458</td>\n",
       "      <td>227.33</td>\n",
       "      <td>0.02</td>\n",
       "      <td>0.03</td>\n",
       "      <td></td>\n",
       "      <td></td>\n",
       "      <td>0.03</td>\n",
       "      <td>0.04</td>\n",
       "      <td>POINT Z (530049.942 6111307.226 0)</td>\n",
       "      <td>212.969864</td>\n",
       "    </tr>\n",
       "    <tr>\n",
       "      <th>1</th>\n",
       "      <td>3524</td>\n",
       "      <td>SS</td>\n",
       "      <td>20884</td>\n",
       "      <td>F</td>\n",
       "      <td>SSM IN CONC</td>\n",
       "      <td>None</td>\n",
       "      <td>None</td>\n",
       "      <td>None</td>\n",
       "      <td>G</td>\n",
       "      <td>55</td>\n",
       "      <td>...</td>\n",
       "      <td>14.641</td>\n",
       "      <td>230.79</td>\n",
       "      <td>0.02</td>\n",
       "      <td>0.03</td>\n",
       "      <td>0.12</td>\n",
       "      <td>0.09</td>\n",
       "      <td>0.03</td>\n",
       "      <td>0.04</td>\n",
       "      <td>POINT Z (531448.557 6119017.422 0)</td>\n",
       "      <td>216.321213</td>\n",
       "    </tr>\n",
       "    <tr>\n",
       "      <th>2</th>\n",
       "      <td>3685</td>\n",
       "      <td>SS</td>\n",
       "      <td>45502</td>\n",
       "      <td>F</td>\n",
       "      <td>SSM IN CONC</td>\n",
       "      <td>None</td>\n",
       "      <td>None</td>\n",
       "      <td>None</td>\n",
       "      <td>G</td>\n",
       "      <td>55</td>\n",
       "      <td>...</td>\n",
       "      <td>14.477</td>\n",
       "      <td>214.22</td>\n",
       "      <td>0.02</td>\n",
       "      <td>0.03</td>\n",
       "      <td></td>\n",
       "      <td></td>\n",
       "      <td>0.03</td>\n",
       "      <td>0.04</td>\n",
       "      <td>POINT Z (530515.112 6111748.69 0)</td>\n",
       "      <td>199.848801</td>\n",
       "    </tr>\n",
       "    <tr>\n",
       "      <th>3</th>\n",
       "      <td>3891</td>\n",
       "      <td>SS</td>\n",
       "      <td>20514</td>\n",
       "      <td>F</td>\n",
       "      <td>SSM IN CONC</td>\n",
       "      <td>None</td>\n",
       "      <td>None</td>\n",
       "      <td>None</td>\n",
       "      <td>G</td>\n",
       "      <td>55</td>\n",
       "      <td>...</td>\n",
       "      <td>14.613</td>\n",
       "      <td>223.89</td>\n",
       "      <td>0.02</td>\n",
       "      <td>0.03</td>\n",
       "      <td>0.12</td>\n",
       "      <td>0.08</td>\n",
       "      <td>0.03</td>\n",
       "      <td>0.04</td>\n",
       "      <td>POINT Z (536668.271 6108481.514 0)</td>\n",
       "      <td>209.385666</td>\n",
       "    </tr>\n",
       "    <tr>\n",
       "      <th>4</th>\n",
       "      <td>3966</td>\n",
       "      <td>SS</td>\n",
       "      <td>20520</td>\n",
       "      <td>F</td>\n",
       "      <td>SSM IN CONC</td>\n",
       "      <td>None</td>\n",
       "      <td>None</td>\n",
       "      <td>None</td>\n",
       "      <td>G</td>\n",
       "      <td>55</td>\n",
       "      <td>...</td>\n",
       "      <td>14.765</td>\n",
       "      <td>195.8</td>\n",
       "      <td>0.02</td>\n",
       "      <td>0.03</td>\n",
       "      <td>0.02</td>\n",
       "      <td>0.01</td>\n",
       "      <td>0.17</td>\n",
       "      <td></td>\n",
       "      <td>POINT Z (538780.407 6113277.394 0)</td>\n",
       "      <td>181.001465</td>\n",
       "    </tr>\n",
       "  </tbody>\n",
       "</table>\n",
       "<p>5 rows × 53 columns</p>\n",
       "</div>"
      ],
      "text/plain": [
       "   OBJECTID marktype  marknumber markstatus monumenttype markalias trigname  \\\n",
       "0      3387       SS       67644          F  SSM IN CONC      None     None   \n",
       "1      3524       SS       20884          F  SSM IN CONC      None     None   \n",
       "2      3685       SS       45502          F  SSM IN CONC      None     None   \n",
       "3      3891       SS       20514          F  SSM IN CONC      None     None   \n",
       "4      3966       SS       20520          F  SSM IN CONC      None     None   \n",
       "\n",
       "  trigtype monumentlocation  mgazone  ... ausgeoid2020_label gdaheight_label  \\\n",
       "0     None                G       55  ...             14.458          227.33   \n",
       "1     None                G       55  ...             14.641          230.79   \n",
       "2     None                G       55  ...             14.477          214.22   \n",
       "3     None                G       55  ...             14.613          223.89   \n",
       "4     None                G       55  ...             14.765           195.8   \n",
       "\n",
       "   gdaposuncertainty_label gdalocuncertainty_label ahdposuncertainty_label  \\\n",
       "0                     0.02                    0.03                           \n",
       "1                     0.02                    0.03                    0.12   \n",
       "2                     0.02                    0.03                           \n",
       "3                     0.02                    0.03                    0.12   \n",
       "4                     0.02                    0.03                    0.02   \n",
       "\n",
       "   ahdlocuncertainty_label gdaheightposuncertainty_label  \\\n",
       "0                                                   0.03   \n",
       "1                     0.09                          0.03   \n",
       "2                                                   0.03   \n",
       "3                     0.08                          0.03   \n",
       "4                     0.01                          0.17   \n",
       "\n",
       "  gdaheightlocuncertainty_label                            geometry  \\\n",
       "0                          0.04  POINT Z (530049.942 6111307.226 0)   \n",
       "1                          0.04  POINT Z (531448.557 6119017.422 0)   \n",
       "2                          0.04   POINT Z (530515.112 6111748.69 0)   \n",
       "3                          0.04  POINT Z (536668.271 6108481.514 0)   \n",
       "4                                POINT Z (538780.407 6113277.394 0)   \n",
       "\n",
       "    DEM_GA_1m  \n",
       "0  212.969864  \n",
       "1  216.321213  \n",
       "2  199.848801  \n",
       "3  209.385666  \n",
       "4  181.001465  \n",
       "\n",
       "[5 rows x 53 columns]"
      ]
     },
     "execution_count": 29,
     "metadata": {},
     "output_type": "execute_result"
    }
   ],
   "source": [
    "gcps.head()"
   ]
  },
  {
   "cell_type": "code",
   "execution_count": 30,
   "metadata": {},
   "outputs": [],
   "source": [
    "def compare_cols(col1, col2):\n",
    "    # Compute offset (difference)\n",
    "    offset = gcps[col1] - gcps[col2]\n",
    "    # Compute IQR (Interquartile Range) for Outlier Removal\n",
    "    Q1 = offset.quantile(0.25)\n",
    "    Q3 = offset.quantile(0.75)\n",
    "    IQR = Q3 - Q1\n",
    "    # Define outlier thresholds\n",
    "    lower_bound = Q1 - 1.5 * IQR\n",
    "    upper_bound = Q3 + 1.5 * IQR\n",
    "    keep = (offset >=lower_bound) & (offset <=upper_bound)\n",
    "\n",
    "    print(f\"{len(offset) - keep.sum()} outliers removed from {len(offset)} pairs\")\n",
    "\n",
    "    mean_offset = np.mean(offset[keep])\n",
    "    std_offset = np.std(offset[keep])\n",
    "\n",
    "    # Compute RMSE\n",
    "    rmse = np.sqrt(np.mean((offset[keep]-mean_offset)** 2))\n",
    "\n",
    "    # Compute MAE\n",
    "    mae = np.mean(np.abs((offset[keep]-mean_offset)))\n",
    "\n",
    "    # Compute correlation\n",
    "    cor, p_value = pearsonr(gcps[col1][keep], gcps[col2][keep])\n",
    "\n",
    "    print(f\"Correlation Between {col1} and {col2}: {cor:.3f}\")\n",
    "    print(f\"offset mean and std: {mean_offset:.3f}, {std_offset:.3f}\")\n",
    "    print(f\"rmse: {rmse:.3f}, mae: {mae:.3f}\")\n",
    "\n",
    "    # Plot scatter plot with regression line\n",
    "    plt.figure(figsize=(8, 6))\n",
    "    sns.regplot(x=gcps[col1][keep], y=gcps[col2][keep], scatter_kws={'s': 10}, line_kws={\"color\": \"red\"})\n",
    "\n",
    "    # Add labels and title\n",
    "    plt.xlabel(f\"{col1}\")\n",
    "    plt.ylabel(f\"{col2}\")\n",
    "    plt.title(f\"Correlation Between {col1} and {col2}(r={cor:.3f})\");"
   ]
  },
  {
   "cell_type": "code",
   "execution_count": 35,
   "metadata": {},
   "outputs": [
    {
     "name": "stdout",
     "output_type": "stream",
     "text": [
      "4 outliers removed from 86 pairs\n",
      "Correlation Between ahdheight_label and DEM_GA_1m: 1.000\n",
      "offset mean and std: -0.068, 0.090\n",
      "rmse: 0.090, mae: 0.072\n"
     ]
    },
    {
     "data": {
      "image/png": "[encoded data removed]",
      "text/plain": [
       "<Figure size 800x600 with 1 Axes>"
      ]
     },
     "metadata": {},
     "output_type": "display_data"
    }
   ],
   "source": [
    "# NSW 1m DEM\n",
    "compare_cols(\"ahdheight_label\", \"DEM_GA_1m\")"
   ]
  }
 ],
 "metadata": {
  "kernelspec": {
   "display_name": "ga-floor-heights",
   "language": "python",
   "name": "python3"
  },
  "language_info": {
   "codemirror_mode": {
    "name": "ipython",
    "version": 3
   },
   "file_extension": ".py",
   "mimetype": "text/x-python",
   "name": "python",
   "nbconvert_exporter": "python",
   "pygments_lexer": "ipython3",
   "version": "3.10.16"
  }
 },
 "nbformat": 4,
 "nbformat_minor": 2
}
