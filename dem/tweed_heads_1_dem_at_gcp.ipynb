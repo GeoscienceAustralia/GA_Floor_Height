{
 "cells": [
  {
   "cell_type": "markdown",
   "metadata": {},
   "source": [
    "# Comparing DEMs and GCPs - Tweed Heads\n",
    "The workflow below doesn't consider spatial mis-alignment."
   ]
  },
  {
   "cell_type": "code",
   "execution_count": 10,
   "metadata": {},
   "outputs": [],
   "source": [
    "import geopandas as gpd\n",
    "import numpy as np\n",
    "import rioxarray\n",
    "import seaborn as sns\n",
    "from matplotlib import pyplot as plt\n",
    "from scipy.stats import pearsonr"
   ]
  },
  {
   "cell_type": "code",
   "execution_count": 11,
   "metadata": {},
   "outputs": [],
   "source": [
    "gcp_file = \"/home/lng/sharepoint/Projects - Documents/Projects - Data Analytics/127 Residential Dwelling Floor Height/4 Executing/Data Exploration/Ground Control/NSW/tweed_heads_scims_marks_filtered.gpkg\""
   ]
  },
  {
   "cell_type": "code",
   "execution_count": 12,
   "metadata": {},
   "outputs": [
    {
     "data": {
      "text/plain": [
       "25"
      ]
     },
     "execution_count": 12,
     "metadata": {},
     "output_type": "execute_result"
    }
   ],
   "source": [
    "gcps = gpd.read_file(gcp_file)\n",
    "len(gcps)"
   ]
  },
  {
   "cell_type": "code",
   "execution_count": 13,
   "metadata": {},
   "outputs": [
    {
     "name": "stdout",
     "output_type": "stream",
     "text": [
      "skipping cell\n"
     ]
    }
   ],
   "source": [
    "%%script echo skipping cell\n",
    "# Load DSM raster using xarray\n",
    "ds_7cm = rioxarray.open_rasterio(dem_7cm_file)  # Replace with your DSM file path\n",
    "ds_28cm = rioxarray.open_rasterio(dem_28cm_file)  # Replace with your DSM file path\n",
    "\n",
    "gcps = gcps.to_crs(ds_7cm.rio.crs)\n",
    "# Extract GCP coordinates\n",
    "gcps_x = gcps.geometry.x\n",
    "gcps_y = gcps.geometry.y\n",
    "# Extract raster values at GCP locations\n",
    "gcps[\"DSM_7cm\"] = [ds_7cm.sel(x=x, y=y, method=\"nearest\").values[0] for x, y in zip(gcps_x, gcps_y)]\n",
    "gcps[\"DSM_28cm\"] = [ds_28cm.sel(x=x, y=y, method=\"nearest\").values[0] for x, y in zip(gcps_x, gcps_y)]"
   ]
  },
  {
   "cell_type": "code",
   "execution_count": 14,
   "metadata": {},
   "outputs": [
    {
     "name": "stdout",
     "output_type": "stream",
     "text": [
      "skipping cell\n"
     ]
    }
   ],
   "source": [
    "%%script echo skipping cell\n",
    "# AGO 1m \n",
    "dem_1m_file = \"/Users/Fangyuan/Documents/Projects/AGO/Elevation/Launceston/AGO/DEM_DSM_DTM/Source Elevation Data/AUS_Tasmania_2008-19_DEM/z55/GDA94/Tamar2008_DEM_1m.vrt\"\n",
    "dem_1m = rioxarray.open_rasterio(dem_1m_file)\n",
    "gcps_1m = gcps.to_crs(dem_1m.rio.crs)\n",
    "# Extract GCP coordinates\n",
    "gcps[\"DEM_1m\"] = [dem_1m.sel(x=x, y=y, method=\"nearest\").values[0] for x, y in zip(gcps_1m.geometry.x, gcps_1m.geometry.y)]"
   ]
  },
  {
   "cell_type": "code",
   "execution_count": 15,
   "metadata": {},
   "outputs": [],
   "source": [
    "# NSW 1m - 2020 - \"GDA2020 / MGA zone 55\" (\"EPSG:7855\")\n",
    "nsw_1m_path = \"/home/lng/sharepoint/Projects - Documents/Projects - Data Analytics/127 Residential Dwelling Floor Height/4 Executing/Data Exploration/Tweed Heads DEM/NSW_2020_DEM_1m.vrt\"\n",
    "nsw_1m = rioxarray.open_rasterio(nsw_1m_path)\n",
    "gcps_ga = gcps.to_crs(nsw_1m.rio.crs)\n",
    "# Extract GCP coordinates\n",
    "gcps[\"DEM_GA_1m\"] = [nsw_1m.sel(x=x, y=y, method=\"nearest\").values[0] for x, y in zip(gcps_ga.geometry.x, gcps_ga.geometry.y)]\n"
   ]
  },
  {
   "cell_type": "code",
   "execution_count": 16,
   "metadata": {},
   "outputs": [
    {
     "data": {
      "text/html": [
       "<div>\n",
       "<style scoped>\n",
       "    .dataframe tbody tr th:only-of-type {\n",
       "        vertical-align: middle;\n",
       "    }\n",
       "\n",
       "    .dataframe tbody tr th {\n",
       "        vertical-align: top;\n",
       "    }\n",
       "\n",
       "    .dataframe thead th {\n",
       "        text-align: right;\n",
       "    }\n",
       "</style>\n",
       "<table border=\"1\" class=\"dataframe\">\n",
       "  <thead>\n",
       "    <tr style=\"text-align: right;\">\n",
       "      <th></th>\n",
       "      <th>OBJECTID</th>\n",
       "      <th>marktype</th>\n",
       "      <th>marknumber</th>\n",
       "      <th>markstatus</th>\n",
       "      <th>monumenttype</th>\n",
       "      <th>markalias</th>\n",
       "      <th>trigname</th>\n",
       "      <th>trigtype</th>\n",
       "      <th>monumentlocation</th>\n",
       "      <th>mgazone</th>\n",
       "      <th>...</th>\n",
       "      <th>ausgeoid2020_label</th>\n",
       "      <th>gdaheight_label</th>\n",
       "      <th>gdaposuncertainty_label</th>\n",
       "      <th>gdalocuncertainty_label</th>\n",
       "      <th>ahdposuncertainty_label</th>\n",
       "      <th>ahdlocuncertainty_label</th>\n",
       "      <th>gdaheightposuncertainty_label</th>\n",
       "      <th>gdaheightlocuncertainty_label</th>\n",
       "      <th>geometry</th>\n",
       "      <th>DEM_GA_1m</th>\n",
       "    </tr>\n",
       "  </thead>\n",
       "  <tbody>\n",
       "    <tr>\n",
       "      <th>0</th>\n",
       "      <td>9846</td>\n",
       "      <td>SS</td>\n",
       "      <td>145528</td>\n",
       "      <td>F</td>\n",
       "      <td>BRASS PLAQUE</td>\n",
       "      <td>None</td>\n",
       "      <td>None</td>\n",
       "      <td>None</td>\n",
       "      <td>G</td>\n",
       "      <td>56</td>\n",
       "      <td>...</td>\n",
       "      <td>39.32</td>\n",
       "      <td>43.47</td>\n",
       "      <td>0.02</td>\n",
       "      <td>0.03</td>\n",
       "      <td></td>\n",
       "      <td></td>\n",
       "      <td>0.03</td>\n",
       "      <td>0.04</td>\n",
       "      <td>POINT Z (556412.896 6872632.727 0)</td>\n",
       "      <td>4.000000</td>\n",
       "    </tr>\n",
       "    <tr>\n",
       "      <th>1</th>\n",
       "      <td>12347</td>\n",
       "      <td>SS</td>\n",
       "      <td>76771</td>\n",
       "      <td>F</td>\n",
       "      <td>SSM IN CONC</td>\n",
       "      <td>None</td>\n",
       "      <td>None</td>\n",
       "      <td>None</td>\n",
       "      <td>G</td>\n",
       "      <td>56</td>\n",
       "      <td>...</td>\n",
       "      <td>39.594</td>\n",
       "      <td>128.57</td>\n",
       "      <td>0.02</td>\n",
       "      <td>0.03</td>\n",
       "      <td>0.05</td>\n",
       "      <td>0.01</td>\n",
       "      <td>0.03</td>\n",
       "      <td>0.04</td>\n",
       "      <td>POINT Z (549307.259 6876601.79 0)</td>\n",
       "      <td>88.931000</td>\n",
       "    </tr>\n",
       "    <tr>\n",
       "      <th>2</th>\n",
       "      <td>17904</td>\n",
       "      <td>SS</td>\n",
       "      <td>99689</td>\n",
       "      <td>F</td>\n",
       "      <td>BRASS PLAQUE</td>\n",
       "      <td>None</td>\n",
       "      <td>None</td>\n",
       "      <td>None</td>\n",
       "      <td>G</td>\n",
       "      <td>56</td>\n",
       "      <td>...</td>\n",
       "      <td>39.239</td>\n",
       "      <td>50.20</td>\n",
       "      <td>0.02</td>\n",
       "      <td>0.04</td>\n",
       "      <td></td>\n",
       "      <td></td>\n",
       "      <td>0.03</td>\n",
       "      <td>0.04</td>\n",
       "      <td>POINT Z (556126.94 6869189.831 0)</td>\n",
       "      <td>1.055000</td>\n",
       "    </tr>\n",
       "    <tr>\n",
       "      <th>3</th>\n",
       "      <td>25803</td>\n",
       "      <td>SS</td>\n",
       "      <td>145506</td>\n",
       "      <td>F</td>\n",
       "      <td>BRASS PLAQUE</td>\n",
       "      <td>None</td>\n",
       "      <td>None</td>\n",
       "      <td>None</td>\n",
       "      <td>G</td>\n",
       "      <td>56</td>\n",
       "      <td>...</td>\n",
       "      <td>39.306</td>\n",
       "      <td>49.25</td>\n",
       "      <td>0.02</td>\n",
       "      <td>0.03</td>\n",
       "      <td></td>\n",
       "      <td></td>\n",
       "      <td>0.03</td>\n",
       "      <td>0.04</td>\n",
       "      <td>POINT Z (556884.542 6872570.846 0)</td>\n",
       "      <td>24.191000</td>\n",
       "    </tr>\n",
       "    <tr>\n",
       "      <th>4</th>\n",
       "      <td>29336</td>\n",
       "      <td>GB</td>\n",
       "      <td>1832</td>\n",
       "      <td>F</td>\n",
       "      <td>DEEP DRIVEN ROD</td>\n",
       "      <td>TS 6679-5</td>\n",
       "      <td>None</td>\n",
       "      <td>None</td>\n",
       "      <td>G</td>\n",
       "      <td>56</td>\n",
       "      <td>...</td>\n",
       "      <td>39.565</td>\n",
       "      <td>94.99</td>\n",
       "      <td>0.03</td>\n",
       "      <td>0.04</td>\n",
       "      <td>0.01</td>\n",
       "      <td>0.01</td>\n",
       "      <td>0.07</td>\n",
       "      <td>0.07</td>\n",
       "      <td>POINT Z (538028.404 6865885.244 0)</td>\n",
       "      <td>66.581001</td>\n",
       "    </tr>\n",
       "  </tbody>\n",
       "</table>\n",
       "<p>5 rows × 53 columns</p>\n",
       "</div>"
      ],
      "text/plain": [
       "   OBJECTID marktype  marknumber markstatus     monumenttype  markalias  \\\n",
       "0      9846       SS      145528          F     BRASS PLAQUE       None   \n",
       "1     12347       SS       76771          F      SSM IN CONC       None   \n",
       "2     17904       SS       99689          F     BRASS PLAQUE       None   \n",
       "3     25803       SS      145506          F     BRASS PLAQUE       None   \n",
       "4     29336       GB        1832          F  DEEP DRIVEN ROD  TS 6679-5   \n",
       "\n",
       "  trigname trigtype monumentlocation  mgazone  ... ausgeoid2020_label  \\\n",
       "0     None     None                G       56  ...              39.32   \n",
       "1     None     None                G       56  ...             39.594   \n",
       "2     None     None                G       56  ...             39.239   \n",
       "3     None     None                G       56  ...             39.306   \n",
       "4     None     None                G       56  ...             39.565   \n",
       "\n",
       "  gdaheight_label  gdaposuncertainty_label gdalocuncertainty_label  \\\n",
       "0           43.47                     0.02                    0.03   \n",
       "1          128.57                     0.02                    0.03   \n",
       "2           50.20                     0.02                    0.04   \n",
       "3           49.25                     0.02                    0.03   \n",
       "4           94.99                     0.03                    0.04   \n",
       "\n",
       "  ahdposuncertainty_label  ahdlocuncertainty_label  \\\n",
       "0                                                    \n",
       "1                    0.05                     0.01   \n",
       "2                                                    \n",
       "3                                                    \n",
       "4                    0.01                     0.01   \n",
       "\n",
       "  gdaheightposuncertainty_label gdaheightlocuncertainty_label  \\\n",
       "0                          0.03                          0.04   \n",
       "1                          0.03                          0.04   \n",
       "2                          0.03                          0.04   \n",
       "3                          0.03                          0.04   \n",
       "4                          0.07                          0.07   \n",
       "\n",
       "                             geometry  DEM_GA_1m  \n",
       "0  POINT Z (556412.896 6872632.727 0)   4.000000  \n",
       "1   POINT Z (549307.259 6876601.79 0)  88.931000  \n",
       "2   POINT Z (556126.94 6869189.831 0)   1.055000  \n",
       "3  POINT Z (556884.542 6872570.846 0)  24.191000  \n",
       "4  POINT Z (538028.404 6865885.244 0)  66.581001  \n",
       "\n",
       "[5 rows x 53 columns]"
      ]
     },
     "execution_count": 16,
     "metadata": {},
     "output_type": "execute_result"
    }
   ],
   "source": [
    "gcps.head()"
   ]
  },
  {
   "cell_type": "code",
   "execution_count": 17,
   "metadata": {},
   "outputs": [],
   "source": [
    "def compare_cols(col1, col2):\n",
    "    # Compute offset (difference)\n",
    "    offset = gcps[col1] - gcps[col2]\n",
    "    # Compute IQR (Interquartile Range) for Outlier Removal\n",
    "    Q1 = offset.quantile(0.25)\n",
    "    Q3 = offset.quantile(0.75)\n",
    "    IQR = Q3 - Q1\n",
    "    # Define outlier thresholds\n",
    "    lower_bound = Q1 - 1.5 * IQR\n",
    "    upper_bound = Q3 + 1.5 * IQR\n",
    "    keep = (offset >=lower_bound) & (offset <=upper_bound)\n",
    "\n",
    "    print(f\"{len(offset) - keep.sum()} outliers removed from {len(offset)} pairs\")\n",
    "\n",
    "    mean_offset = np.mean(offset[keep])\n",
    "    std_offset = np.std(offset[keep])\n",
    "\n",
    "    # Compute RMSE\n",
    "    rmse = np.sqrt(np.mean((offset[keep]-mean_offset)** 2))\n",
    "\n",
    "    # Compute MAE\n",
    "    mae = np.mean(np.abs((offset[keep]-mean_offset)))\n",
    "\n",
    "    # Compute correlation\n",
    "    cor, p_value = pearsonr(gcps[col1][keep], gcps[col2][keep])\n",
    "\n",
    "    print(f\"Correlation Between {col1} and {col2}: {cor:.3f}\")\n",
    "    print(f\"offset mean and std: {mean_offset:.3f}, {std_offset:.3f}\")\n",
    "    print(f\"rmse: {rmse:.3f}, mae: {mae:.3f}\")\n",
    "\n",
    "    # Plot scatter plot with regression line\n",
    "    plt.figure(figsize=(8, 6))\n",
    "    sns.regplot(x=gcps[col1][keep], y=gcps[col2][keep], scatter_kws={'s': 10}, line_kws={\"color\": \"red\"})\n",
    "\n",
    "    # Add labels and title\n",
    "    plt.xlabel(f\"{col1}\")\n",
    "    plt.ylabel(f\"{col2}\")\n",
    "    plt.title(f\"Correlation Between {col1} and {col2}(r={cor:.3f})\");"
   ]
  },
  {
   "cell_type": "code",
   "execution_count": 18,
   "metadata": {},
   "outputs": [
    {
     "name": "stdout",
     "output_type": "stream",
     "text": [
      "8 outliers removed from 25 pairs\n",
      "Correlation Between ahdheight_label and DEM_GA_1m: 1.000\n",
      "offset mean and std: -0.049, 0.115\n",
      "rmse: 0.115, mae: 0.097\n"
     ]
    },
    {
     "data": {
      "image/png": "[encoded data removed]",
      "text/plain": [
       "<Figure size 800x600 with 1 Axes>"
      ]
     },
     "metadata": {},
     "output_type": "display_data"
    }
   ],
   "source": [
    "# NSW 1m DEM\n",
    "compare_cols(\"ahdheight_label\", \"DEM_GA_1m\")"
   ]
  }
 ],
 "metadata": {
  "kernelspec": {
   "display_name": "ga-floor-heights",
   "language": "python",
   "name": "python3"
  },
  "language_info": {
   "codemirror_mode": {
    "name": "ipython",
    "version": 3
   },
   "file_extension": ".py",
   "mimetype": "text/x-python",
   "name": "python",
   "nbconvert_exporter": "python",
   "pygments_lexer": "ipython3",
   "version": "3.10.16"
  }
 },
 "nbformat": 4,
 "nbformat_minor": 2
}
