{
 "cells": [
  {
   "cell_type": "markdown",
   "metadata": {},
   "source": [
    "# Prepare data to support DEM comparison - Tweed Heads\n",
    "\n",
    "Various DEM/DSM and elevation values are used in the workflow. \n",
    "It's important to understand consistency between the DEM values."
   ]
  },
  {
   "cell_type": "markdown",
   "metadata": {},
   "source": [
    "DEMs to be compared\n",
    "\n",
    "* NSW Spatial Services 1m - 2020 - \"GDA2020 / MGA zone 55\" (\"EPSG:7855\"), AHD71 - using local Geoid model\n",
    "* ~~AGO 1m - Tamar 2008 - \"GDA94 / MGA zone 55\"~~\n",
    "* ~~AGO 7cm (DSM) - 2021 - \"WGS 84 / UTM zone 55S\" (\"EPSG:32755)~~\n",
    "\n",
    "Comparison methods to be considered\n",
    "\n",
    "* Comparison to surveyed ground control points\n",
    "* Comparison of downsampled minimum elevation\n",
    "* Comparison of points over road"
   ]
  },
  {
   "cell_type": "code",
   "execution_count": 39,
   "metadata": {},
   "outputs": [],
   "source": [
    "import geopandas as gpd"
   ]
  },
  {
   "cell_type": "markdown",
   "metadata": {},
   "source": [
    "### Ground control points\n",
    "\n",
    "NSW Survey Control Information Management System (SCIMS) FeatureServer: https://portal.spatial.nsw.gov.au/server/rest/services/SurveyMarkGDA2020/FeatureServer"
   ]
  },
  {
   "cell_type": "code",
   "execution_count": 40,
   "metadata": {},
   "outputs": [],
   "source": [
    "# constrain using building dataset boundary\n",
    "buildings_path = \"/home/lng/sharepoint/Projects - Documents/Projects - Data Analytics/127 Residential Dwelling Floor Height/4 Executing/Data Exploration/overture/tweed_heads_building.gpkg\"\n",
    "\n",
    "buildings  = gpd.read_file(buildings_path)"
   ]
  },
  {
   "cell_type": "code",
   "execution_count": 41,
   "metadata": {},
   "outputs": [],
   "source": [
    "# Exported from NSW SCIMS Feature Server\n",
    "gpkg_path = \"/home/lng/sharepoint/Projects - Documents/Projects - Data Analytics/127 Residential Dwelling Floor Height/4 Executing/Data Exploration/Ground Control/NSW/tweed_heads_scims_marks.gpkg\"\n",
    "gdf = gpd.read_file(gpkg_path)\n"
   ]
  },
  {
   "cell_type": "code",
   "execution_count": 42,
   "metadata": {},
   "outputs": [],
   "source": [
    "# Project to GDA2020 MGA55\n",
    "gdf = gdf.to_crs(7856)\n"
   ]
  },
  {
   "cell_type": "code",
   "execution_count": 43,
   "metadata": {},
   "outputs": [
    {
     "data": {
      "text/plain": [
       "array(['PM - Established GDA2020 and Accurate AHD71',\n",
       "       'SS - Established GDA2020',\n",
       "       'SS - Established GDA2020 and Accurate AHD71',\n",
       "       'CP - Established GDA2020', 'PM - Established GDA2020',\n",
       "       'CR - Established GDA2020',\n",
       "       'TS - Established GDA2020 and Accurate AHD71',\n",
       "       'GB - Established GDA2020 and Accurate AHD71',\n",
       "       'TS - Established GDA2020',\n",
       "       'MM - Established GDA2020 and Accurate AHD71',\n",
       "       'CR - Established GDA2020 and Accurate AHD71',\n",
       "       'MM - Established GDA2020', 'PM - Unknown', 'SS - Unknown',\n",
       "       'SS - Accurate AHD71', 'PM - Accurate AHD71', 'TS - Unknown',\n",
       "       'SS - Approximate GDA2020 Only',\n",
       "       'SS - Accurate AHD71 and Approximate GDA2020', 'CP - Unknown',\n",
       "       'MM - Unknown'], dtype=object)"
      ]
     },
     "execution_count": 43,
     "metadata": {},
     "output_type": "execute_result"
    }
   ],
   "source": [
    "# Inspect data\n",
    "gdf.marksymbol_label.unique()"
   ]
  },
  {
   "cell_type": "code",
   "execution_count": 44,
   "metadata": {},
   "outputs": [
    {
     "data": {
      "text/plain": [
       "array(['UNKNOWN', 'SPIKE IN ROAD', 'SURVEY PLAQUE IN CONC',\n",
       "       'S/S PIN IN C/BOX', 'DH & WING IN KERB', 'BRASS PLAQUE',\n",
       "       'SSM IN CONC', 'CONC PILLAR', 'DEEP DRIVEN ROD', 'LIGHTHOUSE',\n",
       "       'STAR PICKET IN C/BOX', 'SSM TYPE 2', 'PLAQUE', 'SURVEY PLAQUE',\n",
       "       'S/S PIN IN CONC (ORIG)', 'BRASS TRIANGLE IN CONC', 'STEEL PILLAR',\n",
       "       'ANTENNA REFERENCE', 'SSM', 'SSM TYPE 15', 'S/S PIN',\n",
       "       'S/S PIN (ORIG)', 'BOLT', 'DRILL HOLE IN CONC', 'SSM TYPE 1'],\n",
       "      dtype=object)"
      ]
     },
     "execution_count": 44,
     "metadata": {},
     "output_type": "execute_result"
    }
   ],
   "source": [
    "gdf.monumenttype.unique()"
   ]
  },
  {
   "cell_type": "markdown",
   "metadata": {},
   "source": [
    "Position quality criteria\n",
    "* markstatus =\"F\" (found), \"R\" (restricted)  and\n",
    "* gdaclass in \"3A\", \"2A\", \"A\", \"B\", \"C\", \"D\", \"E\" (established survey marks)\n",
    "* ahdclass in \"L2A\", \"LA\", \"LB\", \"LC\", \"LD\", \"LE\", \"2A\", \"A\", \"B\" (accurate heights)\n"
   ]
  },
  {
   "cell_type": "code",
   "execution_count": 45,
   "metadata": {},
   "outputs": [
    {
     "data": {
      "text/plain": [
       "array(['S/S PIN IN C/BOX', 'UNKNOWN', 'BRASS PLAQUE', 'SSM IN CONC',\n",
       "       'DEEP DRIVEN ROD', 'LIGHTHOUSE', 'S/S PIN IN CONC (ORIG)',\n",
       "       'BRASS TRIANGLE IN CONC', 'ANTENNA REFERENCE', 'STEEL PILLAR',\n",
       "       'CONC PILLAR', 'DRILL HOLE IN CONC', 'STAR PICKET IN C/BOX'],\n",
       "      dtype=object)"
      ]
     },
     "execution_count": 45,
     "metadata": {},
     "output_type": "execute_result"
    }
   ],
   "source": [
    "# Filter using above rules\n",
    "filter = gdf.markstatus.isin([\"F\", \"R\"])\n",
    "filter &= gdf.gdaclass.isin([\"3A\", \"2A\", \"A\", \"B\", \"C\", \"D\"])\n",
    "filter &= gdf.ahdclass.isin([\"L2A\", \"LA\", \"LB\", \"LC\", \"LD\", \"LE\", \"2A\", \"A\", \"B\"])\n",
    "gdf_filtered = gdf[filter]\n",
    "gdf_filtered.monumenttype.unique()\n"
   ]
  },
  {
   "cell_type": "code",
   "execution_count": 46,
   "metadata": {},
   "outputs": [
    {
     "data": {
      "text/plain": [
       "63"
      ]
     },
     "execution_count": 46,
     "metadata": {},
     "output_type": "execute_result"
    }
   ],
   "source": [
    "len(gdf_filtered)"
   ]
  },
  {
   "cell_type": "markdown",
   "metadata": {},
   "source": [
    "Mark location criteria\n",
    "\n",
    "* unknown\n",
    "* c/box (below ground)\n",
    "* antenna (above ground)\n",
    "* pillar (above ground)\n",
    "* lighthouse\n"
   ]
  },
  {
   "cell_type": "code",
   "execution_count": 47,
   "metadata": {},
   "outputs": [
    {
     "data": {
      "text/plain": [
       "25"
      ]
     },
     "execution_count": 47,
     "metadata": {},
     "output_type": "execute_result"
    }
   ],
   "source": [
    "# Filter out unreliable, not at ground level\n",
    "filter = [\"unknown\", \"c/box\", \"antenna\", \"pillar\", \"lighthouse\"]\n",
    "\n",
    "gdf_filtered = gdf_filtered[~gdf_filtered.monumenttype.str.lower().str.contains('|'.join(filter))]\n",
    "\n",
    "len(gdf_filtered)"
   ]
  },
  {
   "cell_type": "code",
   "execution_count": 48,
   "metadata": {},
   "outputs": [
    {
     "data": {
      "text/plain": [
       "array(['SS - Established GDA2020 and Accurate AHD71',\n",
       "       'GB - Established GDA2020 and Accurate AHD71',\n",
       "       'PM - Established GDA2020 and Accurate AHD71',\n",
       "       'SS - Established GDA2020',\n",
       "       'TS - Established GDA2020 and Accurate AHD71'], dtype=object)"
      ]
     },
     "execution_count": 48,
     "metadata": {},
     "output_type": "execute_result"
    }
   ],
   "source": [
    "gdf_filtered.marksymbol_label.unique()"
   ]
  },
  {
   "cell_type": "code",
   "execution_count": 49,
   "metadata": {},
   "outputs": [
    {
     "data": {
      "text/plain": [
       "array(['BRASS PLAQUE', 'SSM IN CONC', 'DEEP DRIVEN ROD',\n",
       "       'S/S PIN IN CONC (ORIG)', 'BRASS TRIANGLE IN CONC',\n",
       "       'DRILL HOLE IN CONC'], dtype=object)"
      ]
     },
     "execution_count": 49,
     "metadata": {},
     "output_type": "execute_result"
    }
   ],
   "source": [
    "gdf_filtered.monumenttype.unique()"
   ]
  },
  {
   "cell_type": "code",
   "execution_count": 50,
   "metadata": {},
   "outputs": [
    {
     "data": {
      "text/plain": [
       "count               25\n",
       "unique               6\n",
       "top       BRASS PLAQUE\n",
       "freq                10\n",
       "Name: monumenttype, dtype: object"
      ]
     },
     "execution_count": 50,
     "metadata": {},
     "output_type": "execute_result"
    }
   ],
   "source": [
    "gdf_filtered.monumenttype.describe()"
   ]
  },
  {
   "cell_type": "code",
   "execution_count": 51,
   "metadata": {},
   "outputs": [],
   "source": [
    "gdf_filtered.ahdheight_label = gdf_filtered.ahdheight_label.astype(float)"
   ]
  },
  {
   "cell_type": "code",
   "execution_count": 52,
   "metadata": {},
   "outputs": [],
   "source": [
    "# Save as GeoPackage\n",
    "gdf_filtered.to_file(\"/home/lng/sharepoint/Projects - Documents/Projects - Data Analytics/127 Residential Dwelling Floor Height/4 Executing/Data Exploration/Ground Control/NSW/tweed_heads_scims_marks_filtered.gpkg\")"
   ]
  }
 ],
 "metadata": {
  "kernelspec": {
   "display_name": "ga-floor-heights",
   "language": "python",
   "name": "python3"
  },
  "language_info": {
   "codemirror_mode": {
    "name": "ipython",
    "version": 3
   },
   "file_extension": ".py",
   "mimetype": "text/x-python",
   "name": "python",
   "nbconvert_exporter": "python",
   "pygments_lexer": "ipython3",
   "version": "3.10.16"
  }
 },
 "nbformat": 4,
 "nbformat_minor": 2
}
