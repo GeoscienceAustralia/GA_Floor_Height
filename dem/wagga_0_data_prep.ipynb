{
 "cells": [
  {
   "cell_type": "markdown",
   "metadata": {},
   "source": [
    "# Prepare data to support DEM comparison - Wagga Wagga\n",
    "\n",
    "Various DEM/DSM and elevation values are used in the workflow. \n",
    "It's important to understand consistency between the DEM values."
   ]
  },
  {
   "cell_type": "markdown",
   "metadata": {},
   "source": [
    "DEMs to be compared\n",
    "\n",
    "* NSW Spatial Services 1m - 2020 - \"GDA2020 / MGA zone 55\" (\"EPSG:7855\"), AHD71 - using local Geoid model\n",
    "* ~~AGO 1m - Tamar 2008 - \"GDA94 / MGA zone 55\"~~\n",
    "* ~~AGO 7cm (DSM) - 2021 - \"WGS 84 / UTM zone 55S\" (\"EPSG:32755)~~\n",
    "\n",
    "Comparison methods to be considered\n",
    "\n",
    "* Comparison to surveyed ground control points\n",
    "* Comparison of downsampled minimum elevation\n",
    "* Comparison of points over road"
   ]
  },
  {
   "cell_type": "code",
   "execution_count": 116,
   "metadata": {},
   "outputs": [],
   "source": [
    "import geopandas as gpd"
   ]
  },
  {
   "cell_type": "markdown",
   "metadata": {},
   "source": [
    "### Ground control points\n",
    "\n",
    "NSW Survey Control Information Management System (SCIMS) FeatureServer: https://portal.spatial.nsw.gov.au/server/rest/services/SurveyMarkGDA2020/FeatureServer"
   ]
  },
  {
   "cell_type": "code",
   "execution_count": 117,
   "metadata": {},
   "outputs": [],
   "source": [
    "# constrain using building dataset boundary\n",
    "buildings_path = \"/home/lng/sharepoint/Projects - Documents/Projects - Data Analytics/127 Residential Dwelling Floor Height/4 Executing/Data Exploration/overture/wagga_building.gpkg\"\n",
    "\n",
    "buildings  = gpd.read_file(buildings_path)"
   ]
  },
  {
   "cell_type": "code",
   "execution_count": 118,
   "metadata": {},
   "outputs": [],
   "source": [
    "# Exported from NSW SCIMS Feature Server\n",
    "gpkg_path = \"/home/lng/sharepoint/Projects - Documents/Projects - Data Analytics/127 Residential Dwelling Floor Height/4 Executing/Data Exploration/Ground Control/NSW/wagga_scims_marks.gpkg\"\n",
    "gdf = gpd.read_file(gpkg_path)\n"
   ]
  },
  {
   "cell_type": "code",
   "execution_count": 119,
   "metadata": {},
   "outputs": [],
   "source": [
    "# Project to GDA2020 MGA55\n",
    "gdf = gdf.to_crs(7855)\n"
   ]
  },
  {
   "cell_type": "code",
   "execution_count": 120,
   "metadata": {},
   "outputs": [
    {
     "data": {
      "text/plain": [
       "array(['SS - Established GDA2020 and Accurate AHD71',\n",
       "       'SS - Established GDA2020',\n",
       "       'PM - Established GDA2020 and Accurate AHD71',\n",
       "       'PM - Established GDA2020', 'CP - Established GDA2020',\n",
       "       'TS - Established GDA2020 and Accurate AHD71',\n",
       "       'GB - Established GDA2020 and Accurate AHD71',\n",
       "       'CR - Established GDA2020', 'SS - Unknown', 'PM - Unknown',\n",
       "       'SS - Accurate AHD71', 'PM - Accurate AHD71',\n",
       "       'CR - Approximate GDA2020 Only', 'SS - Approximate GDA2020 Only',\n",
       "       'PM - Accurate AHD71 and Approximate GDA2020',\n",
       "       'SS - Accurate AHD71 and Approximate GDA2020',\n",
       "       'PM - Approximate GDA2020 Only'], dtype=object)"
      ]
     },
     "execution_count": 120,
     "metadata": {},
     "output_type": "execute_result"
    }
   ],
   "source": [
    "# Inspect data\n",
    "gdf.marksymbol_label.unique()"
   ]
  },
  {
   "cell_type": "code",
   "execution_count": 121,
   "metadata": {},
   "outputs": [
    {
     "data": {
      "text/plain": [
       "array(['UNKNOWN', 'SSM IN CONC', 'NAIL IN BITUMEN',\n",
       "       'STAR PICKET IN C/BOX', 'S/S PIN IN C/BOX', 'CONC PILLAR',\n",
       "       'BRASS PLAQUE', 'PLAQUE', 'DEEP DRIVEN ROD', 'STEEL PILLAR',\n",
       "       'S/S PIN IN CONC', 'GI PIPE IN SOIL', 'SSM IN ROCK',\n",
       "       'ANTENNA REFERENCE', 'REFERENCE TREE', 'DH & WING IN KERB',\n",
       "       'FENCE POST', 'GI PIPE', 'PEG', 'CONC BLOCK', 'DH & WING',\n",
       "       'IRON SPIKE', 'PHOTO POINT', 'SSM TYPE 1', 'BROAD ARROW',\n",
       "       'ALIGNMENT PIN', 'STAR PICKET', 'SSM TYPE 15', 'SSM TYPE 16',\n",
       "       'SSM TYPE 2', 'SSM'], dtype=object)"
      ]
     },
     "execution_count": 121,
     "metadata": {},
     "output_type": "execute_result"
    }
   ],
   "source": [
    "gdf.monumenttype.unique()"
   ]
  },
  {
   "cell_type": "markdown",
   "metadata": {},
   "source": [
    "Position quality criteria\n",
    "* markstatus =\"F\" (found), \"R\" (restricted)  and\n",
    "* gdaclass in \"3A\", \"2A\", \"A\", \"B\", \"C\", \"D\", \"E\" (established survey marks)\n",
    "* ahdclass in \"L2A\", \"LA\", \"LB\", \"LC\", \"LD\", \"LE\", \"2A\", \"A\", \"B\" (accurate heights)\n"
   ]
  },
  {
   "cell_type": "code",
   "execution_count": 122,
   "metadata": {},
   "outputs": [
    {
     "data": {
      "text/plain": [
       "array(['UNKNOWN', 'SSM IN CONC', 'CONC PILLAR', 'S/S PIN IN C/BOX',\n",
       "       'STAR PICKET IN C/BOX', 'PLAQUE', 'STEEL PILLAR',\n",
       "       'S/S PIN IN CONC', 'BRASS PLAQUE', 'SSM IN ROCK',\n",
       "       'DEEP DRIVEN ROD', 'ANTENNA REFERENCE'], dtype=object)"
      ]
     },
     "execution_count": 122,
     "metadata": {},
     "output_type": "execute_result"
    }
   ],
   "source": [
    "# Filter using above rules\n",
    "filter = gdf.markstatus.isin([\"F\", \"R\"])\n",
    "filter &= gdf.gdaclass.isin([\"3A\", \"2A\", \"A\", \"B\", \"C\", \"D\"])\n",
    "filter &= gdf.ahdclass.isin([\"L2A\", \"LA\", \"LB\", \"LC\", \"LD\", \"LE\", \"2A\", \"A\", \"B\"])\n",
    "gdf_filtered = gdf[filter]\n",
    "gdf_filtered.monumenttype.unique()\n"
   ]
  },
  {
   "cell_type": "code",
   "execution_count": 123,
   "metadata": {},
   "outputs": [
    {
     "data": {
      "text/plain": [
       "206"
      ]
     },
     "execution_count": 123,
     "metadata": {},
     "output_type": "execute_result"
    }
   ],
   "source": [
    "len(gdf_filtered)"
   ]
  },
  {
   "cell_type": "markdown",
   "metadata": {},
   "source": [
    "Mark location criteria\n",
    "\n",
    "* unknown\n",
    "* c/box (below ground)\n",
    "* antenna (above ground)\n",
    "* pillar (above ground)\n"
   ]
  },
  {
   "cell_type": "code",
   "execution_count": 124,
   "metadata": {},
   "outputs": [
    {
     "data": {
      "text/plain": [
       "86"
      ]
     },
     "execution_count": 124,
     "metadata": {},
     "output_type": "execute_result"
    }
   ],
   "source": [
    "# Filter out unreliable, not at ground level\n",
    "filter = [\"unknown\", \"c/box\", \"antenna\", \"pillar\"]\n",
    "\n",
    "gdf_filtered = gdf_filtered[~gdf_filtered.monumenttype.str.lower().str.contains('|'.join(filter))]\n",
    "\n",
    "len(gdf_filtered)"
   ]
  },
  {
   "cell_type": "code",
   "execution_count": 131,
   "metadata": {},
   "outputs": [
    {
     "data": {
      "text/plain": [
       "array(['SS - Established GDA2020 and Accurate AHD71',\n",
       "       'PM - Established GDA2020 and Accurate AHD71',\n",
       "       'GB - Established GDA2020 and Accurate AHD71'], dtype=object)"
      ]
     },
     "execution_count": 131,
     "metadata": {},
     "output_type": "execute_result"
    }
   ],
   "source": [
    "gdf_filtered.marksymbol_label.unique()"
   ]
  },
  {
   "cell_type": "code",
   "execution_count": 125,
   "metadata": {},
   "outputs": [
    {
     "data": {
      "text/plain": [
       "array(['SSM IN CONC', 'PLAQUE', 'S/S PIN IN CONC', 'BRASS PLAQUE',\n",
       "       'SSM IN ROCK', 'DEEP DRIVEN ROD'], dtype=object)"
      ]
     },
     "execution_count": 125,
     "metadata": {},
     "output_type": "execute_result"
    }
   ],
   "source": [
    "gdf_filtered.monumenttype.unique()"
   ]
  },
  {
   "cell_type": "code",
   "execution_count": 126,
   "metadata": {},
   "outputs": [
    {
     "data": {
      "text/plain": [
       "count              86\n",
       "unique              6\n",
       "top       SSM IN CONC\n",
       "freq               77\n",
       "Name: monumenttype, dtype: object"
      ]
     },
     "execution_count": 126,
     "metadata": {},
     "output_type": "execute_result"
    }
   ],
   "source": [
    "gdf_filtered.monumenttype.describe()"
   ]
  },
  {
   "cell_type": "code",
   "execution_count": 129,
   "metadata": {},
   "outputs": [],
   "source": [
    "gdf_filtered.ahdheight_label = gdf_filtered.ahdheight_label.astype(float)"
   ]
  },
  {
   "cell_type": "code",
   "execution_count": 130,
   "metadata": {},
   "outputs": [],
   "source": [
    "# Save as GeoPackage\n",
    "gdf_filtered.to_file(\"/home/lng/sharepoint/Projects - Documents/Projects - Data Analytics/127 Residential Dwelling Floor Height/4 Executing/Data Exploration/Ground Control/NSW/wagga_scims_marks_filtered.gpkg\")"
   ]
  }
 ],
 "metadata": {
  "kernelspec": {
   "display_name": "ga-floor-heights",
   "language": "python",
   "name": "python3"
  },
  "language_info": {
   "codemirror_mode": {
    "name": "ipython",
    "version": 3
   },
   "file_extension": ".py",
   "mimetype": "text/x-python",
   "name": "python",
   "nbconvert_exporter": "python",
   "pygments_lexer": "ipython3",
   "version": "3.10.16"
  }
 },
 "nbformat": 4,
 "nbformat_minor": 2
}
