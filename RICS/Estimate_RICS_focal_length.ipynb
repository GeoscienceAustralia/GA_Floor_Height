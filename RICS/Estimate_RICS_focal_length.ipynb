{
 "cells": [
  {
   "cell_type": "markdown",
   "metadata": {},
   "source": [
    "This notebook uses some RICS images examples where a typical front door is fully visible to estimate rough focal length range, based on the assumption of the dimension of the front door. The rough distance between camera and house is manually measured with an estimated error."
   ]
  },
  {
   "cell_type": "markdown",
   "metadata": {},
   "source": [
    "### Define function to estimate focal length"
   ]
  },
  {
   "cell_type": "code",
   "execution_count": 2,
   "metadata": {},
   "outputs": [],
   "source": [
    "def focal_length_with_gps_error(door_width_m, pixel_width, depth, gps_error, sensor_width_mm, image_width_pixels):\n",
    "    \"\"\"\n",
    "    Estimate focal length range given a set of known parameters and gps location error.\n",
    "\n",
    "    Parameters:\n",
    "    - door_width_m: Real-world width of the door (meters).\n",
    "    - pixel_width: Width of the door in pixels in the image.\n",
    "    - depth: Distance from the camera to the door (meters).\n",
    "    - gps_error: GPS accuracy/error (meters).\n",
    "    - sensor_width_mm: Sensor width (millimeters).\n",
    "    - image_width_pixels: Image width in pixels.\n",
    "\n",
    "    Returns:\n",
    "    - Dictionary of estimated focal length and range.\n",
    "    \"\"\"\n",
    "    # Focal length with true depth\n",
    "    focal_length_true = (pixel_width * depth) / door_width_m\n",
    "    focal_length_mm_true = (focal_length_true / image_width_pixels) * sensor_width_mm\n",
    "\n",
    "    # Focal length with overestimated depth\n",
    "    depth_over = depth + gps_error\n",
    "    focal_length_over = (pixel_width * depth_over) / door_width_m\n",
    "    focal_length_mm_over = (focal_length_over / image_width_pixels) * sensor_width_mm\n",
    "\n",
    "    # Focal length with underestimated depth\n",
    "    depth_under = depth - gps_error\n",
    "    focal_length_under = (pixel_width * depth_under) / door_width_m\n",
    "    focal_length_mm_under = (focal_length_under / image_width_pixels) * sensor_width_mm\n",
    "\n",
    "\n",
    "    return {\n",
    "        \"Estimated Focal Length (mm)\": focal_length_mm_true,\n",
    "        \"Estimated Focal Length Range Lower(mm)\": focal_length_mm_over,\n",
    "        \"Estimated Focal Length Range Higher(mm)\": focal_length_mm_under\n",
    "    }"
   ]
  },
  {
   "cell_type": "markdown",
   "metadata": {},
   "source": [
    "### Set common parameters"
   ]
  },
  {
   "cell_type": "code",
   "execution_count": 3,
   "metadata": {},
   "outputs": [],
   "source": [
    "# Parameters\n",
    "door_width_m = 0.9  # Real-world door width (meters)\n",
    "sensor_width_mm = 8.8  # Sensor width (millimeters, e.g., full-frame)\n",
    "image_width_pixels = 2448  # Image width in pixels\n",
    "gps_error = 5.0  # GPS error (meters)"
   ]
  },
  {
   "cell_type": "markdown",
   "metadata": {},
   "source": [
    "### Apply on RICS images\n",
    "* old_res_131112_33816_L_0003224 "
   ]
  },
  {
   "cell_type": "code",
   "execution_count": 4,
   "metadata": {},
   "outputs": [
    {
     "name": "stdout",
     "output_type": "stream",
     "text": [
      "Estimated Focal Length (mm): 6.74\n",
      "Estimated Focal Length Range Lower(mm): 9.42\n",
      "Estimated Focal Length Range Higher(mm): 4.07\n"
     ]
    }
   ],
   "source": [
    "pixel_width = 134  # Measured door width in pixels\n",
    "depth = 12.6  # Actual depth to the door (meters)\n",
    "# Run analysis\n",
    "results = focal_length_with_gps_error(door_width_m, pixel_width, depth, gps_error, sensor_width_mm, image_width_pixels)\n",
    "for key, value in results.items():\n",
    "    print(f\"{key}: {value:.2f}\")"
   ]
  },
  {
   "cell_type": "markdown",
   "metadata": {},
   "source": [
    "* old_res_131112_33816_L_0003235"
   ]
  },
  {
   "cell_type": "code",
   "execution_count": 5,
   "metadata": {},
   "outputs": [
    {
     "name": "stdout",
     "output_type": "stream",
     "text": [
      "Estimated Focal Length (mm): 7.19\n",
      "Estimated Focal Length Range Lower(mm): 9.19\n",
      "Estimated Focal Length Range Higher(mm): 5.19\n"
     ]
    }
   ],
   "source": [
    "pixel_width = 100  # Measured door width in pixels  \n",
    "depth = 18  # Actual depth to the door (meters)\n",
    "\n",
    "# Run analysis\n",
    "results = focal_length_with_gps_error(door_width_m, pixel_width, depth, gps_error, sensor_width_mm, image_width_pixels)\n",
    "for key, value in results.items():\n",
    "    print(f\"{key}: {value:.2f}\")\n"
   ]
  },
  {
   "cell_type": "markdown",
   "metadata": {},
   "source": [
    "* old_res_131112_33816_R_0003753 "
   ]
  },
  {
   "cell_type": "code",
   "execution_count": 6,
   "metadata": {},
   "outputs": [
    {
     "name": "stdout",
     "output_type": "stream",
     "text": [
      "Estimated Focal Length (mm): 5.47\n",
      "Estimated Focal Length Range Lower(mm): 8.21\n",
      "Estimated Focal Length Range Higher(mm): 2.74\n"
     ]
    }
   ],
   "source": [
    "pixel_width = 137  # Measured door width in pixels\n",
    "depth = 10  # Actual depth to the door (meters)\n",
    "\n",
    "# Run analysis\n",
    "results = focal_length_with_gps_error(door_width_m, pixel_width, depth, gps_error, sensor_width_mm, image_width_pixels)\n",
    "for key, value in results.items():\n",
    "    print(f\"{key}: {value:.2f}\")"
   ]
  }
 ],
 "metadata": {
  "kernelspec": {
   "display_name": "floorheight",
   "language": "python",
   "name": "python3"
  },
  "language_info": {
   "codemirror_mode": {
    "name": "ipython",
    "version": 3
   },
   "file_extension": ".py",
   "mimetype": "text/x-python",
   "name": "python",
   "nbconvert_exporter": "python",
   "pygments_lexer": "ipython3",
   "version": "3.10.15"
  }
 },
 "nbformat": 4,
 "nbformat_minor": 2
}
