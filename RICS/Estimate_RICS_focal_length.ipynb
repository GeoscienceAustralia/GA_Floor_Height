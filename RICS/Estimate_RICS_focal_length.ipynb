{
 "cells": [
  {
   "cell_type": "code",
   "execution_count": 6,
   "metadata": {},
   "outputs": [],
   "source": [
    "import geopandas as gpd\n",
    "from shapely.geometry import Point\n",
    "import math\n",
    "from pyproj import CRS"
   ]
  },
  {
   "cell_type": "code",
   "execution_count": 7,
   "metadata": {},
   "outputs": [],
   "source": [
    "def focal_length_with_gps_error(door_width_m, pixel_width, depth, gps_error, sensor_width_mm, image_width_pixels):\n",
    "    \"\"\"\n",
    "    Analyze the impact of GPS error on focal length estimation.\n",
    "\n",
    "    Parameters:\n",
    "    - door_width_m: Real-world width of the door (meters).\n",
    "    - pixel_width: Width of the door in pixels in the image.\n",
    "    - depth: Distance from the camera to the door (meters).\n",
    "    - gps_error: GPS accuracy/error (meters).\n",
    "    - sensor_width_mm: Sensor width (millimeters).\n",
    "    - image_width_pixels: Image width in pixels.\n",
    "\n",
    "    Returns:\n",
    "    - Dictionary of focal lengths and error impacts.\n",
    "    \"\"\"\n",
    "    # Focal length with true depth\n",
    "    focal_length_true = (pixel_width * depth) / door_width_m\n",
    "    focal_length_mm_true = (focal_length_true / image_width_pixels) * sensor_width_mm\n",
    "\n",
    "    # Focal length with overestimated depth\n",
    "    depth_over = depth + gps_error\n",
    "    focal_length_over = (pixel_width * depth_over) / door_width_m\n",
    "    focal_length_mm_over = (focal_length_over / image_width_pixels) * sensor_width_mm\n",
    "\n",
    "    # Focal length with underestimated depth\n",
    "    depth_under = depth - gps_error\n",
    "    focal_length_under = (pixel_width * depth_under) / door_width_m\n",
    "    focal_length_mm_under = (focal_length_under / image_width_pixels) * sensor_width_mm\n",
    "\n",
    "    # Error percentages\n",
    "    over_error_percent = abs(focal_length_mm_over - focal_length_mm_true) / focal_length_mm_true * 100\n",
    "    under_error_percent = abs(focal_length_mm_under - focal_length_mm_true) / focal_length_mm_true * 100\n",
    "\n",
    "    return {\n",
    "        \"True Focal Length (mm)\": focal_length_mm_true,\n",
    "        \"Overestimated Depth Focal Length (mm)\": focal_length_mm_over,\n",
    "        \"Underestimated Depth Focal Length (mm)\": focal_length_mm_under,\n",
    "        \"Over Error (%)\": over_error_percent,\n",
    "        \"Under Error (%)\": under_error_percent,\n",
    "    }"
   ]
  },
  {
   "cell_type": "code",
   "execution_count": null,
   "metadata": {},
   "outputs": [
    {
     "name": "stdout",
     "output_type": "stream",
     "text": [
      "True Focal Length (mm): 6.74\n",
      "Overestimated Depth Focal Length (mm): 9.42\n",
      "Underestimated Depth Focal Length (mm): 4.07\n",
      "Over Error (%): 39.68\n",
      "Under Error (%): 39.68\n"
     ]
    }
   ],
   "source": [
    "# Parameters\n",
    "door_width_m = 0.9  # Real-world door width (meters)\n",
    "gps_error = 5.0  # GPS error (meters)\n",
    "sensor_width_mm = 8.8  # Sensor width (millimeters, e.g., full-frame)\n",
    "image_width_pixels = 2448  # Image width in pixels\n",
    "\n",
    "pixel_width = 134  # Measured door width in pixels: image old_res_131112_33816_L_0003224 \n",
    "depth = 12.6  # Actual depth to the door (meters)\n",
    "# Run analysis\n",
    "results = focal_length_with_gps_error(door_width_m, pixel_width, depth, gps_error, sensor_width_mm, image_width_pixels)\n",
    "for key, value in results.items():\n",
    "    print(f\"{key}: {value:.2f}\")"
   ]
  },
  {
   "cell_type": "code",
   "execution_count": null,
   "metadata": {},
   "outputs": [
    {
     "name": "stdout",
     "output_type": "stream",
     "text": [
      "True Focal Length (mm): 7.19\n",
      "Overestimated Depth Focal Length (mm): 9.19\n",
      "Underestimated Depth Focal Length (mm): 5.19\n",
      "Over Error (%): 27.78\n",
      "Under Error (%): 27.78\n"
     ]
    }
   ],
   "source": [
    "pixel_width = 100  # Measured door width in pixels: old_res_131112_33816_L_0003235 \n",
    "depth = 18  # Actual depth to the door (meters)\n",
    "\n",
    "# Run analysis\n",
    "results = focal_length_with_gps_error(door_width_m, pixel_width, depth, gps_error, sensor_width_mm, image_width_pixels)\n",
    "for key, value in results.items():\n",
    "    print(f\"{key}: {value:.2f}\")\n"
   ]
  },
  {
   "cell_type": "code",
   "execution_count": 16,
   "metadata": {},
   "outputs": [
    {
     "name": "stdout",
     "output_type": "stream",
     "text": [
      "True Focal Length (mm): 5.47\n",
      "Overestimated Depth Focal Length (mm): 8.21\n",
      "Underestimated Depth Focal Length (mm): 2.74\n",
      "Over Error (%): 50.00\n",
      "Under Error (%): 50.00\n"
     ]
    }
   ],
   "source": [
    "pixel_width = 137  # Measured door width in pixels: old_res_131112_33816_R_0003753 \n",
    "depth = 10  # Actual depth to the door (meters)\n",
    "\n",
    "# Run analysis\n",
    "results = focal_length_with_gps_error(door_width_m, pixel_width, depth, gps_error, sensor_width_mm, image_width_pixels)\n",
    "for key, value in results.items():\n",
    "    print(f\"{key}: {value:.2f}\")"
   ]
  }
 ],
 "metadata": {
  "kernelspec": {
   "display_name": "floorheight",
   "language": "python",
   "name": "python3"
  },
  "language_info": {
   "codemirror_mode": {
    "name": "ipython",
    "version": 3
   },
   "file_extension": ".py",
   "mimetype": "text/x-python",
   "name": "python",
   "nbconvert_exporter": "python",
   "pygments_lexer": "ipython3",
   "version": "3.10.15"
  }
 },
 "nbformat": 4,
 "nbformat_minor": 2
}
