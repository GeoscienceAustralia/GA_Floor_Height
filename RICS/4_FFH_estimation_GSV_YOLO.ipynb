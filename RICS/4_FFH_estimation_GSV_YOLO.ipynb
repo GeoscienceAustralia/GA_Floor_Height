{
 "cells": [
  {
   "cell_type": "markdown",
   "metadata": {},
   "source": [
    "This notebook esimates FFH using YOLO object detection results from GSV pano images and corresponding depth maps, and conducts assessment of results using ground-truth data."
   ]
  },
  {
   "cell_type": "markdown",
   "metadata": {},
   "source": [
    "## Load modules\n",
    "* Functions on geometry restoration are contained in the geometry.py module."
   ]
  },
  {
   "cell_type": "code",
   "execution_count": 92,
   "metadata": {},
   "outputs": [
    {
     "name": "stdout",
     "output_type": "stream",
     "text": [
      "The autoreload extension is already loaded. To reload it, use:\n",
      "  %reload_ext autoreload\n"
     ]
    }
   ],
   "source": [
    "%load_ext autoreload\n",
    "%autoreload 2"
   ]
  },
  {
   "cell_type": "code",
   "execution_count": 93,
   "metadata": {},
   "outputs": [],
   "source": [
    "import numpy as np\n",
    "import os\n",
    "import glob\n",
    "from PIL import Image\n",
    "from geometry import extract_feature_pixels_lowest_region, calculate_height_difference, estimate_FFH, estimate_FFE\n",
    "import geopandas as gpd\n",
    "import matplotlib.pyplot as plt\n",
    "from sklearn.metrics import root_mean_squared_error, mean_absolute_error\n",
    "from tqdm import tqdm\n",
    "import pandas as pd"
   ]
  },
  {
   "cell_type": "markdown",
   "metadata": {},
   "source": [
    "## Set input file of object detection results, folder of depth images and ground-truth building points"
   ]
  },
  {
   "cell_type": "code",
   "execution_count": 94,
   "metadata": {},
   "outputs": [],
   "source": [
    "# # Wagga\n",
    "# predictions_file=r'C:\\Users\\lliu\\FrontierSI\\Projects - 127 Residential Dwelling Floor Height\\4 Executing\\Data Exploration\\GSV\\Wagga\\YOLO_test\\prediction\\object_detection_results.csv'\n",
    "# in_folder_depth=r'D:\\Wagga\\GSV\\Depth_clipped'\n",
    "# building_point_file=r'D:\\Wagga\\GSV\\Final_Wagga_meta_camera_height_ground_elevations_gapfill_depth.geojson'"
   ]
  },
  {
   "cell_type": "code",
   "execution_count": 95,
   "metadata": {},
   "outputs": [],
   "source": [
    "# Launceston\n",
    "predictions_file=r'C:\\Users\\lliu\\FrontierSI\\Projects - 127 Residential Dwelling Floor Height\\4 Executing\\Data Exploration\\GSV\\Launceston\\YOLO_test\\prediction\\object_detection_results.csv'\n",
    "in_folder_depth=r'D:\\Launceston\\GSV\\Depth_clipped'\n",
    "building_point_file=r'D:\\Launceston\\GSV\\LC_Final_meta_camera_height_ground_elevations_gapfill_depth.geojson'"
   ]
  },
  {
   "cell_type": "markdown",
   "metadata": {},
   "source": [
    "## Read in ground-truth data"
   ]
  },
  {
   "cell_type": "code",
   "execution_count": 96,
   "metadata": {},
   "outputs": [
    {
     "data": {
      "text/html": [
       "<div>\n",
       "<style scoped>\n",
       "    .dataframe tbody tr th:only-of-type {\n",
       "        vertical-align: middle;\n",
       "    }\n",
       "\n",
       "    .dataframe tbody tr th {\n",
       "        vertical-align: top;\n",
       "    }\n",
       "\n",
       "    .dataframe thead th {\n",
       "        text-align: right;\n",
       "    }\n",
       "</style>\n",
       "<table border=\"1\" class=\"dataframe\">\n",
       "  <thead>\n",
       "    <tr style=\"text-align: right;\">\n",
       "      <th></th>\n",
       "      <th>EASTING</th>\n",
       "      <th>NORTHING</th>\n",
       "      <th>UFI</th>\n",
       "      <th>ZONE</th>\n",
       "      <th>DEM</th>\n",
       "      <th>LID</th>\n",
       "      <th>ADDRESS</th>\n",
       "      <th>SUBURB</th>\n",
       "      <th>POSTCODE</th>\n",
       "      <th>FEATURE_NA</th>\n",
       "      <th>...</th>\n",
       "      <th>roll</th>\n",
       "      <th>elevation</th>\n",
       "      <th>date</th>\n",
       "      <th>height_c</th>\n",
       "      <th>grd_elev_GSV</th>\n",
       "      <th>grd_elev_building_min</th>\n",
       "      <th>grd_elev_building_mean</th>\n",
       "      <th>grd_elev_building_max</th>\n",
       "      <th>gapfilling_depth</th>\n",
       "      <th>geometry</th>\n",
       "    </tr>\n",
       "  </thead>\n",
       "  <tbody>\n",
       "    <tr>\n",
       "      <th>0</th>\n",
       "      <td>510962.988188</td>\n",
       "      <td>5.412541e+06</td>\n",
       "      <td>1002</td>\n",
       "      <td>15.0 Urban Mixed Use</td>\n",
       "      <td>2.697813</td>\n",
       "      <td>GNAF_GATAS702308914</td>\n",
       "      <td>13 PARK STREET</td>\n",
       "      <td>LAUNCESTON</td>\n",
       "      <td>7250</td>\n",
       "      <td>None</td>\n",
       "      <td>...</td>\n",
       "      <td>6.228637</td>\n",
       "      <td>5.546635</td>\n",
       "      <td>2019-10</td>\n",
       "      <td>2.298505</td>\n",
       "      <td>2.697813</td>\n",
       "      <td>2.32000</td>\n",
       "      <td>2.718059</td>\n",
       "      <td>3.013333</td>\n",
       "      <td>17.298815</td>\n",
       "      <td>POINT (16378573.381 -5077255.621)</td>\n",
       "    </tr>\n",
       "    <tr>\n",
       "      <th>1</th>\n",
       "      <td>511021.688427</td>\n",
       "      <td>5.412248e+06</td>\n",
       "      <td>33</td>\n",
       "      <td>11.0 Inner Residential</td>\n",
       "      <td>4.208417</td>\n",
       "      <td>GNAF_GATAS702204375</td>\n",
       "      <td>293 BRISBANE STREET</td>\n",
       "      <td>LAUNCESTON</td>\n",
       "      <td>7250</td>\n",
       "      <td>None</td>\n",
       "      <td>...</td>\n",
       "      <td>6.235322</td>\n",
       "      <td>5.922997</td>\n",
       "      <td>2023-09</td>\n",
       "      <td>2.547754</td>\n",
       "      <td>4.208417</td>\n",
       "      <td>4.18531</td>\n",
       "      <td>4.789202</td>\n",
       "      <td>5.885000</td>\n",
       "      <td>30.437919</td>\n",
       "      <td>POINT (16378652.195 -5077648.094)</td>\n",
       "    </tr>\n",
       "    <tr>\n",
       "      <th>2</th>\n",
       "      <td>511082.136711</td>\n",
       "      <td>5.412226e+06</td>\n",
       "      <td>31</td>\n",
       "      <td>11.0 Inner Residential</td>\n",
       "      <td>4.540370</td>\n",
       "      <td>GNAF_GATAS702478623</td>\n",
       "      <td>4 MIDDLE STREET</td>\n",
       "      <td>LAUNCESTON</td>\n",
       "      <td>7250</td>\n",
       "      <td>None</td>\n",
       "      <td>...</td>\n",
       "      <td>0.022607</td>\n",
       "      <td>7.156610</td>\n",
       "      <td>2023-09</td>\n",
       "      <td>2.427306</td>\n",
       "      <td>4.540370</td>\n",
       "      <td>4.10874</td>\n",
       "      <td>4.491268</td>\n",
       "      <td>4.910000</td>\n",
       "      <td>3.164598</td>\n",
       "      <td>POINT (16378732.79 -5077677.2)</td>\n",
       "    </tr>\n",
       "    <tr>\n",
       "      <th>3</th>\n",
       "      <td>511068.760790</td>\n",
       "      <td>5.412219e+06</td>\n",
       "      <td>28</td>\n",
       "      <td>11.0 Inner Residential</td>\n",
       "      <td>5.212643</td>\n",
       "      <td>GNAF_GATAS702296648</td>\n",
       "      <td>6 MIDDLE STREET</td>\n",
       "      <td>LAUNCESTON</td>\n",
       "      <td>7250</td>\n",
       "      <td>None</td>\n",
       "      <td>...</td>\n",
       "      <td>0.010492</td>\n",
       "      <td>7.739836</td>\n",
       "      <td>2023-09</td>\n",
       "      <td>2.578520</td>\n",
       "      <td>5.212643</td>\n",
       "      <td>3.88800</td>\n",
       "      <td>4.751154</td>\n",
       "      <td>5.595274</td>\n",
       "      <td>4.880474</td>\n",
       "      <td>POINT (16378714.979 -5077685.813)</td>\n",
       "    </tr>\n",
       "    <tr>\n",
       "      <th>4</th>\n",
       "      <td>511048.726805</td>\n",
       "      <td>5.412229e+06</td>\n",
       "      <td>26</td>\n",
       "      <td>11.0 Inner Residential</td>\n",
       "      <td>5.162260</td>\n",
       "      <td>GNAF_GATAS702290011</td>\n",
       "      <td>8 MIDDLE STREET</td>\n",
       "      <td>LAUNCESTON</td>\n",
       "      <td>7250</td>\n",
       "      <td>None</td>\n",
       "      <td>...</td>\n",
       "      <td>0.021449</td>\n",
       "      <td>8.384348</td>\n",
       "      <td>2023-09</td>\n",
       "      <td>2.563187</td>\n",
       "      <td>5.162260</td>\n",
       "      <td>4.53000</td>\n",
       "      <td>5.015464</td>\n",
       "      <td>5.865000</td>\n",
       "      <td>33.696933</td>\n",
       "      <td>POINT (16378688.262 -5077672.596)</td>\n",
       "    </tr>\n",
       "  </tbody>\n",
       "</table>\n",
       "<p>5 rows × 82 columns</p>\n",
       "</div>"
      ],
      "text/plain": [
       "         EASTING      NORTHING   UFI                    ZONE       DEM  \\\n",
       "0  510962.988188  5.412541e+06  1002    15.0 Urban Mixed Use  2.697813   \n",
       "1  511021.688427  5.412248e+06    33  11.0 Inner Residential  4.208417   \n",
       "2  511082.136711  5.412226e+06    31  11.0 Inner Residential  4.540370   \n",
       "3  511068.760790  5.412219e+06    28  11.0 Inner Residential  5.212643   \n",
       "4  511048.726805  5.412229e+06    26  11.0 Inner Residential  5.162260   \n",
       "\n",
       "                   LID              ADDRESS      SUBURB POSTCODE FEATURE_NA  \\\n",
       "0  GNAF_GATAS702308914       13 PARK STREET  LAUNCESTON     7250       None   \n",
       "1  GNAF_GATAS702204375  293 BRISBANE STREET  LAUNCESTON     7250       None   \n",
       "2  GNAF_GATAS702478623      4 MIDDLE STREET  LAUNCESTON     7250       None   \n",
       "3  GNAF_GATAS702296648      6 MIDDLE STREET  LAUNCESTON     7250       None   \n",
       "4  GNAF_GATAS702290011      8 MIDDLE STREET  LAUNCESTON     7250       None   \n",
       "\n",
       "   ...      roll  elevation     date  height_c  grd_elev_GSV  \\\n",
       "0  ...  6.228637   5.546635  2019-10  2.298505      2.697813   \n",
       "1  ...  6.235322   5.922997  2023-09  2.547754      4.208417   \n",
       "2  ...  0.022607   7.156610  2023-09  2.427306      4.540370   \n",
       "3  ...  0.010492   7.739836  2023-09  2.578520      5.212643   \n",
       "4  ...  0.021449   8.384348  2023-09  2.563187      5.162260   \n",
       "\n",
       "   grd_elev_building_min  grd_elev_building_mean grd_elev_building_max  \\\n",
       "0                2.32000                2.718059              3.013333   \n",
       "1                4.18531                4.789202              5.885000   \n",
       "2                4.10874                4.491268              4.910000   \n",
       "3                3.88800                4.751154              5.595274   \n",
       "4                4.53000                5.015464              5.865000   \n",
       "\n",
       "  gapfilling_depth                           geometry  \n",
       "0        17.298815  POINT (16378573.381 -5077255.621)  \n",
       "1        30.437919  POINT (16378652.195 -5077648.094)  \n",
       "2         3.164598     POINT (16378732.79 -5077677.2)  \n",
       "3         4.880474  POINT (16378714.979 -5077685.813)  \n",
       "4        33.696933  POINT (16378688.262 -5077672.596)  \n",
       "\n",
       "[5 rows x 82 columns]"
      ]
     },
     "execution_count": 96,
     "metadata": {},
     "output_type": "execute_result"
    }
   ],
   "source": [
    "gdf=gpd.read_file(building_point_file)\n",
    "gdf.head()"
   ]
  },
  {
   "cell_type": "markdown",
   "metadata": {},
   "source": [
    "## Read in object detection results and depth maps"
   ]
  },
  {
   "cell_type": "code",
   "execution_count": 97,
   "metadata": {},
   "outputs": [
    {
     "data": {
      "text/html": [
       "<div>\n",
       "<style scoped>\n",
       "    .dataframe tbody tr th:only-of-type {\n",
       "        vertical-align: middle;\n",
       "    }\n",
       "\n",
       "    .dataframe tbody tr th {\n",
       "        vertical-align: top;\n",
       "    }\n",
       "\n",
       "    .dataframe thead th {\n",
       "        text-align: right;\n",
       "    }\n",
       "</style>\n",
       "<table border=\"1\" class=\"dataframe\">\n",
       "  <thead>\n",
       "    <tr style=\"text-align: right;\">\n",
       "      <th></th>\n",
       "      <th>image</th>\n",
       "      <th>class</th>\n",
       "      <th>confidence</th>\n",
       "      <th>top</th>\n",
       "      <th>bottom</th>\n",
       "      <th>pano_id</th>\n",
       "      <th>x1</th>\n",
       "      <th>y1</th>\n",
       "      <th>x2</th>\n",
       "      <th>y2</th>\n",
       "    </tr>\n",
       "  </thead>\n",
       "  <tbody>\n",
       "    <tr>\n",
       "      <th>0</th>\n",
       "      <td>NaN</td>\n",
       "      <td>front door</td>\n",
       "      <td>0.362740</td>\n",
       "      <td>NaN</td>\n",
       "      <td>NaN</td>\n",
       "      <td>YNLZF16ubLTqrzW7SkVC3A</td>\n",
       "      <td>2494.0</td>\n",
       "      <td>2040.0</td>\n",
       "      <td>2589.0</td>\n",
       "      <td>2260.0</td>\n",
       "    </tr>\n",
       "    <tr>\n",
       "      <th>1</th>\n",
       "      <td>NaN</td>\n",
       "      <td>front door</td>\n",
       "      <td>0.886357</td>\n",
       "      <td>NaN</td>\n",
       "      <td>NaN</td>\n",
       "      <td>Tz6NjkiBNSG1ge0lKjXhdg</td>\n",
       "      <td>1824.0</td>\n",
       "      <td>2141.0</td>\n",
       "      <td>1934.0</td>\n",
       "      <td>2385.0</td>\n",
       "    </tr>\n",
       "    <tr>\n",
       "      <th>2</th>\n",
       "      <td>NaN</td>\n",
       "      <td>foundation</td>\n",
       "      <td>0.306104</td>\n",
       "      <td>NaN</td>\n",
       "      <td>NaN</td>\n",
       "      <td>kC4sWh0ZUf1E7nz52Fb9xA</td>\n",
       "      <td>1567.0</td>\n",
       "      <td>2789.0</td>\n",
       "      <td>1964.0</td>\n",
       "      <td>2837.0</td>\n",
       "    </tr>\n",
       "    <tr>\n",
       "      <th>3</th>\n",
       "      <td>NaN</td>\n",
       "      <td>garage door</td>\n",
       "      <td>0.433893</td>\n",
       "      <td>NaN</td>\n",
       "      <td>NaN</td>\n",
       "      <td>GvP_WNzTHiz53PaBhohUcw</td>\n",
       "      <td>15.0</td>\n",
       "      <td>1887.0</td>\n",
       "      <td>346.0</td>\n",
       "      <td>2520.0</td>\n",
       "    </tr>\n",
       "    <tr>\n",
       "      <th>4</th>\n",
       "      <td>NaN</td>\n",
       "      <td>front door</td>\n",
       "      <td>0.502356</td>\n",
       "      <td>NaN</td>\n",
       "      <td>NaN</td>\n",
       "      <td>yUC9VsjcbhJLP9IhkcS9NA</td>\n",
       "      <td>1814.0</td>\n",
       "      <td>2143.0</td>\n",
       "      <td>1978.0</td>\n",
       "      <td>2415.0</td>\n",
       "    </tr>\n",
       "  </tbody>\n",
       "</table>\n",
       "</div>"
      ],
      "text/plain": [
       "   image        class  confidence  top  bottom                 pano_id  \\\n",
       "0    NaN   front door    0.362740  NaN     NaN  YNLZF16ubLTqrzW7SkVC3A   \n",
       "1    NaN   front door    0.886357  NaN     NaN  Tz6NjkiBNSG1ge0lKjXhdg   \n",
       "2    NaN   foundation    0.306104  NaN     NaN  kC4sWh0ZUf1E7nz52Fb9xA   \n",
       "3    NaN  garage door    0.433893  NaN     NaN  GvP_WNzTHiz53PaBhohUcw   \n",
       "4    NaN   front door    0.502356  NaN     NaN  yUC9VsjcbhJLP9IhkcS9NA   \n",
       "\n",
       "       x1      y1      x2      y2  \n",
       "0  2494.0  2040.0  2589.0  2260.0  \n",
       "1  1824.0  2141.0  1934.0  2385.0  \n",
       "2  1567.0  2789.0  1964.0  2837.0  \n",
       "3    15.0  1887.0   346.0  2520.0  \n",
       "4  1814.0  2143.0  1978.0  2415.0  "
      ]
     },
     "execution_count": 97,
     "metadata": {},
     "output_type": "execute_result"
    }
   ],
   "source": [
    "df_predictions = pd.read_csv(predictions_file)\n",
    "df_predictions.head()"
   ]
  },
  {
   "cell_type": "code",
   "execution_count": 98,
   "metadata": {},
   "outputs": [],
   "source": [
    "classes=[\"foundation\", \"front door\", \"garage door\", \"stairs\"]\n",
    "coords_cols=['x1','y1','x2','y2']\n",
    "# Group by image and class to find the bounding box with the highest y2 (bottom most)\n",
    "lowest_features = (\n",
    "    df_predictions.loc[df_predictions.groupby(['pano_id', 'class'])['y2'].idxmax()]\n",
    "    .reset_index(drop=True)\n",
    ")\n",
    "# Create a dictionary with (x1, y1) tuples for each class per image\n",
    "results = {}\n",
    "for pano, group in lowest_features.groupby('pano_id'):\n",
    "    # Initialize a dictionary for the image with None for all classes\n",
    "    class_coords = {cls: None for cls in classes}\n",
    "    # Update with the actual (x1, y1) coordinates for existing classes\n",
    "    for _, row in group.iterrows():\n",
    "        class_coords[row['class']] = {col: int(row[col]) for col in coords_cols}\n",
    "    # Store results as a list of tuples (x1, y1) in the final dictionary\n",
    "    results[pano] = [class_coords[cls] for cls in classes]"
   ]
  },
  {
   "cell_type": "code",
   "execution_count": 99,
   "metadata": {},
   "outputs": [
    {
     "name": "stdout",
     "output_type": "stream",
     "text": [
      "--peTCkMWNfwDvhe3fjLKQ\n"
     ]
    }
   ],
   "source": [
    "pano_id,coords=list(results.items())[0]\n",
    "print(pano_id)"
   ]
  },
  {
   "cell_type": "code",
   "execution_count": 100,
   "metadata": {},
   "outputs": [],
   "source": [
    "pano_id='_0w_LRrd4G5vqZX3sFuJwA'\n",
    "coords=results[pano_id]"
   ]
  },
  {
   "cell_type": "code",
   "execution_count": 101,
   "metadata": {},
   "outputs": [],
   "source": [
    "depth_file=os.path.join(in_folder_depth,pano_id+'.tif')\n",
    "depth_arr=np.asarray(Image.open(depth_file))\n",
    "H_img = depth_arr.shape[0]  # Height of the cropped panorama"
   ]
  },
  {
   "cell_type": "code",
   "execution_count": 102,
   "metadata": {},
   "outputs": [
    {
     "data": {
      "text/plain": [
       "<matplotlib.colorbar.Colorbar at 0x21307e55630>"
      ]
     },
     "execution_count": 102,
     "metadata": {},
     "output_type": "execute_result"
    },
    {
     "data": {
      "image/png": "[encoded data removed]",
      "text/plain": [
       "<Figure size 640x480 with 2 Axes>"
      ]
     },
     "metadata": {},
     "output_type": "display_data"
    }
   ],
   "source": [
    "fig, ax = plt.subplots()\n",
    "im=ax.imshow(depth_arr,cmap='RdBu', interpolation='none')\n",
    "fig.colorbar(im)"
   ]
  },
  {
   "cell_type": "markdown",
   "metadata": {},
   "source": [
    "## Extract building ground elevation, roadway elevation and camera height"
   ]
  },
  {
   "cell_type": "code",
   "execution_count": 103,
   "metadata": {},
   "outputs": [],
   "source": [
    "building_elevation=gdf.loc[gdf['pano_id'] == pano_id, 'grd_elev_building_mean'].values[0]\n",
    "road_elevation=gdf.loc[gdf['pano_id'] == pano_id, 'grd_elev_GSV'].values[0]\n",
    "height_camera=gdf.loc[gdf['pano_id'] == pano_id, 'height_c'].values[0]"
   ]
  },
  {
   "cell_type": "code",
   "execution_count": 104,
   "metadata": {},
   "outputs": [
    {
     "data": {
      "text/plain": [
       "1.2682005"
      ]
     },
     "execution_count": 104,
     "metadata": {},
     "output_type": "execute_result"
    }
   ],
   "source": [
    "building_elevation"
   ]
  },
  {
   "cell_type": "code",
   "execution_count": 105,
   "metadata": {},
   "outputs": [
    {
     "data": {
      "text/plain": [
       "1.3038048"
      ]
     },
     "execution_count": 105,
     "metadata": {},
     "output_type": "execute_result"
    }
   ],
   "source": [
    "road_elevation"
   ]
  },
  {
   "cell_type": "code",
   "execution_count": 106,
   "metadata": {},
   "outputs": [
    {
     "data": {
      "text/plain": [
       "2.244783639907837"
      ]
     },
     "execution_count": 106,
     "metadata": {},
     "output_type": "execute_result"
    }
   ],
   "source": [
    "height_camera"
   ]
  },
  {
   "cell_type": "code",
   "execution_count": 107,
   "metadata": {},
   "outputs": [],
   "source": [
    "# extract camera elevation from GSV metadata\n",
    "# elev_camera=gdf.loc[gdf['pano_id'] == pano_id, 'elevation'].values[0]\n",
    "# print(elev_camera)\n",
    "elev_camera=height_camera+road_elevation"
   ]
  },
  {
   "cell_type": "markdown",
   "metadata": {},
   "source": [
    "### Extract gapfilling depth"
   ]
  },
  {
   "cell_type": "code",
   "execution_count": 108,
   "metadata": {},
   "outputs": [
    {
     "data": {
      "text/plain": [
       "17.24870044210966"
      ]
     },
     "execution_count": 108,
     "metadata": {},
     "output_type": "execute_result"
    }
   ],
   "source": [
    "depth_gapfill=gdf.loc[gdf['pano_id'] == pano_id, 'gapfilling_depth'].values[0]\n",
    "depth_gapfill"
   ]
  },
  {
   "cell_type": "markdown",
   "metadata": {},
   "source": [
    "## FFH/FFE Estimation\n",
    "### Extract feature top/bottom pixels for each class"
   ]
  },
  {
   "cell_type": "code",
   "execution_count": 109,
   "metadata": {},
   "outputs": [],
   "source": [
    "# extract bottom pixels of foundation, stairs, front door and garage door\n",
    "foundation_bottom_pixels = {(coords[0]['x1'],coords[0]['y2']),(coords[0]['x2'],coords[0]['y2'])} if coords[0] is not None else None\n",
    "frontdoor_bottom_pixels = {(coords[1]['x1'],coords[1]['y2']),(coords[1]['x2'],coords[1]['y2'])} if coords[1] is not None else None\n",
    "garagedoor_bottom_pixels = {(coords[2]['x1'],coords[2]['y2']),(coords[2]['x2'],coords[2]['y2'])} if coords[2] is not None else None\n",
    "stairs_bottom_pixels = {(coords[3]['x1'],coords[3]['y2']),(coords[3]['x2'],coords[3]['y2'])} if coords[3] is not None else None\n",
    "\n",
    "# extract top pixels of foundation and stairs\n",
    "foundation_top_pixels = {(coords[0]['x1'],coords[0]['y1']),(coords[0]['x2'],coords[0]['y1'])} if coords[0] is not None else None\n",
    "stairs_top_pixels = {(coords[3]['x1'],coords[3]['y1']),(coords[3]['x2'],coords[3]['y1'])} if coords[3] is not None else None"
   ]
  },
  {
   "cell_type": "code",
   "execution_count": 110,
   "metadata": {},
   "outputs": [],
   "source": [
    "garagedoor_bottom_pixels"
   ]
  },
  {
   "cell_type": "code",
   "execution_count": 111,
   "metadata": {},
   "outputs": [
    {
     "data": {
      "text/plain": [
       "{(1034, 2299), (1160, 2299)}"
      ]
     },
     "execution_count": 111,
     "metadata": {},
     "output_type": "execute_result"
    }
   ],
   "source": [
    "frontdoor_bottom_pixels"
   ]
  },
  {
   "cell_type": "markdown",
   "metadata": {},
   "source": [
    "### Calculate height difference between feature top/bottom and camera"
   ]
  },
  {
   "cell_type": "code",
   "execution_count": 112,
   "metadata": {},
   "outputs": [],
   "source": [
    "delta_foundation_bottom = calculate_height_difference(foundation_bottom_pixels, depth_arr, H_img, depth_gapfill=depth_gapfill)\n",
    "delta_stairs_bottom = calculate_height_difference(stairs_bottom_pixels, depth_arr, H_img, depth_gapfill=depth_gapfill)\n",
    "delta_frontdoor_bottom = calculate_height_difference(frontdoor_bottom_pixels, depth_arr, H_img, depth_gapfill=depth_gapfill)\n",
    "delta_garagedoor_bottom = calculate_height_difference(garagedoor_bottom_pixels, depth_arr, H_img, depth_gapfill=depth_gapfill)\n",
    "delta_foundation_top = calculate_height_difference(foundation_top_pixels, depth_arr, H_img, depth_gapfill=depth_gapfill)\n",
    "delta_stairs_top = calculate_height_difference(stairs_top_pixels, depth_arr, H_img, depth_gapfill=depth_gapfill)"
   ]
  },
  {
   "cell_type": "code",
   "execution_count": 113,
   "metadata": {},
   "outputs": [
    {
     "data": {
      "text/plain": [
       "6.73129"
      ]
     },
     "execution_count": 113,
     "metadata": {},
     "output_type": "execute_result"
    }
   ],
   "source": [
    "depth_arr[list(frontdoor_bottom_pixels)[1][1],list(frontdoor_bottom_pixels)[1][0]]"
   ]
  },
  {
   "cell_type": "code",
   "execution_count": 114,
   "metadata": {},
   "outputs": [
    {
     "data": {
      "text/plain": [
       "8.48631"
      ]
     },
     "execution_count": 114,
     "metadata": {},
     "output_type": "execute_result"
    }
   ],
   "source": [
    "depth_arr[depth_arr > 0].mean()"
   ]
  },
  {
   "cell_type": "code",
   "execution_count": 115,
   "metadata": {},
   "outputs": [
    {
     "data": {
      "text/plain": [
       "-0.6506044249126569"
      ]
     },
     "execution_count": 115,
     "metadata": {},
     "output_type": "execute_result"
    }
   ],
   "source": [
    "delta_frontdoor_bottom"
   ]
  },
  {
   "cell_type": "code",
   "execution_count": 116,
   "metadata": {},
   "outputs": [],
   "source": [
    "delta_foundation_top"
   ]
  },
  {
   "cell_type": "markdown",
   "metadata": {},
   "source": [
    "### Calculate FFH"
   ]
  },
  {
   "cell_type": "code",
   "execution_count": 117,
   "metadata": {},
   "outputs": [
    {
     "name": "stdout",
     "output_type": "stream",
     "text": [
      "Estimated First Floor Height (FFH): None\n"
     ]
    }
   ],
   "source": [
    "# calculate FFH\n",
    "FFH = estimate_FFH(delta_foundation_top=delta_foundation_top, \n",
    "                   delta_foundation_bottom=delta_foundation_bottom,\n",
    "                   delta_stairs_top=delta_stairs_top, \n",
    "                   delta_stairs_bottom=delta_stairs_bottom, \n",
    "                   delta_frontdoor_bottom=delta_frontdoor_bottom,\n",
    "                   delta_garagedoor_bottom=delta_garagedoor_bottom)\n",
    "print(\"Estimated First Floor Height (FFH):\", FFH)"
   ]
  },
  {
   "cell_type": "markdown",
   "metadata": {},
   "source": [
    "### Gap filling method to calculate FFH using elevations"
   ]
  },
  {
   "cell_type": "code",
   "execution_count": 118,
   "metadata": {},
   "outputs": [
    {
     "name": "stdout",
     "output_type": "stream",
     "text": [
      "Estimated First Floor Height (FFH): 1.6297835149951798\n"
     ]
    }
   ],
   "source": [
    "if FFH is None:\n",
    "    # calculate FFE\n",
    "    FFE = estimate_FFE(delta_foundation_top=delta_foundation_top, \n",
    "                            delta_stairs_top=delta_stairs_top, \n",
    "                            delta_frontdoor_bottom=delta_frontdoor_bottom,\n",
    "                            delta_garagedoor_bottom=delta_garagedoor_bottom,\n",
    "                            elev_camera=elev_camera)\n",
    "    FFH=FFE-building_elevation\n",
    "    # print(\"Estimated First Floor Elevation (FFE):\", FFE)\n",
    "    print(\"Estimated First Floor Height (FFH):\", FFH)"
   ]
  },
  {
   "cell_type": "code",
   "execution_count": 119,
   "metadata": {},
   "outputs": [
    {
     "data": {
      "text/html": [
       "<div>\n",
       "<style scoped>\n",
       "    .dataframe tbody tr th:only-of-type {\n",
       "        vertical-align: middle;\n",
       "    }\n",
       "\n",
       "    .dataframe tbody tr th {\n",
       "        vertical-align: top;\n",
       "    }\n",
       "\n",
       "    .dataframe thead th {\n",
       "        text-align: right;\n",
       "    }\n",
       "</style>\n",
       "<table border=\"1\" class=\"dataframe\">\n",
       "  <thead>\n",
       "    <tr style=\"text-align: right;\">\n",
       "      <th></th>\n",
       "      <th>EASTING</th>\n",
       "      <th>NORTHING</th>\n",
       "      <th>UFI</th>\n",
       "      <th>ZONE</th>\n",
       "      <th>DEM</th>\n",
       "      <th>LID</th>\n",
       "      <th>ADDRESS</th>\n",
       "      <th>SUBURB</th>\n",
       "      <th>POSTCODE</th>\n",
       "      <th>FEATURE_NA</th>\n",
       "      <th>...</th>\n",
       "      <th>roll</th>\n",
       "      <th>elevation</th>\n",
       "      <th>date</th>\n",
       "      <th>height_c</th>\n",
       "      <th>grd_elev_GSV</th>\n",
       "      <th>grd_elev_building_min</th>\n",
       "      <th>grd_elev_building_mean</th>\n",
       "      <th>grd_elev_building_max</th>\n",
       "      <th>gapfilling_depth</th>\n",
       "      <th>geometry</th>\n",
       "    </tr>\n",
       "  </thead>\n",
       "  <tbody>\n",
       "    <tr>\n",
       "      <th>612</th>\n",
       "      <td>511200.614636</td>\n",
       "      <td>5.413642e+06</td>\n",
       "      <td>281</td>\n",
       "      <td>11.0 Inner Residential</td>\n",
       "      <td>1.303805</td>\n",
       "      <td>GNAF_GATAS702451735</td>\n",
       "      <td>9 HUNTER STREET</td>\n",
       "      <td>INVERMAY</td>\n",
       "      <td>7248</td>\n",
       "      <td>None</td>\n",
       "      <td>...</td>\n",
       "      <td>0.008008</td>\n",
       "      <td>3.415468</td>\n",
       "      <td>2023-09</td>\n",
       "      <td>2.244784</td>\n",
       "      <td>1.303805</td>\n",
       "      <td>1.16</td>\n",
       "      <td>1.268201</td>\n",
       "      <td>1.33</td>\n",
       "      <td>17.2487</td>\n",
       "      <td>POINT (16378887.747 -5075782.69)</td>\n",
       "    </tr>\n",
       "  </tbody>\n",
       "</table>\n",
       "<p>1 rows × 82 columns</p>\n",
       "</div>"
      ],
      "text/plain": [
       "           EASTING      NORTHING  UFI                    ZONE       DEM  \\\n",
       "612  511200.614636  5.413642e+06  281  11.0 Inner Residential  1.303805   \n",
       "\n",
       "                     LID          ADDRESS    SUBURB POSTCODE FEATURE_NA  ...  \\\n",
       "612  GNAF_GATAS702451735  9 HUNTER STREET  INVERMAY     7248       None  ...   \n",
       "\n",
       "         roll  elevation     date  height_c  grd_elev_GSV  \\\n",
       "612  0.008008   3.415468  2023-09  2.244784      1.303805   \n",
       "\n",
       "     grd_elev_building_min  grd_elev_building_mean grd_elev_building_max  \\\n",
       "612                   1.16                1.268201                  1.33   \n",
       "\n",
       "    gapfilling_depth                          geometry  \n",
       "612          17.2487  POINT (16378887.747 -5075782.69)  \n",
       "\n",
       "[1 rows x 82 columns]"
      ]
     },
     "execution_count": 119,
     "metadata": {},
     "output_type": "execute_result"
    }
   ],
   "source": [
    "gdf[gdf['pano_id']==pano_id]"
   ]
  },
  {
   "cell_type": "code",
   "execution_count": 120,
   "metadata": {},
   "outputs": [
    {
     "data": {
      "text/plain": [
       "612    1.82\n",
       "Name: Floor_height, dtype: float64"
      ]
     },
     "execution_count": 120,
     "metadata": {},
     "output_type": "execute_result"
    }
   ],
   "source": [
    "gdf[gdf['pano_id']==pano_id]['Floor_height']"
   ]
  },
  {
   "cell_type": "markdown",
   "metadata": {},
   "source": [
    "## Batch processing for all images"
   ]
  },
  {
   "cell_type": "code",
   "execution_count": null,
   "metadata": {},
   "outputs": [
    {
     "name": "stdout",
     "output_type": "stream",
     "text": [
      "pano id:  --peTCkMWNfwDvhe3fjLKQ\n",
      "pano id:  -713ncrHbTNhc3P5oVaDHA\n",
      "pano id:  -M4A6fdt5k_3tbbqUDWDJA\n",
      "pano id:  -_haw2vdXK6dhXv3OGK_1g\n",
      "pano id:  -a5PFSqk_z60NVFWtpQA0Q\n",
      "pano id:  -o26CJoOJY9mqDZc3WtHnA\n",
      "pano id:  -x8LHZNwMXKFoif7YIFelQ\n",
      "pano id:  -zjY_sArQucXPSH4q1OC3A\n",
      "pano id:  05DIfBzohZqq_AoIEbE9sQ\n",
      "pano id:  0A9Rv5Cc0odC_vJkpMN9Yg\n",
      "pano id:  0LSO70v1NLH36pTSm6RejA\n",
      "using gap filling depth\n",
      "using gap filling depth\n",
      "using gap filling depth\n",
      "using gap filling depth\n",
      "pano id:  0WNir2Ykd6e5cULMqDRRlQ\n",
      "pano id:  0_-7bUT35_OkJTiASqKN-Q\n",
      "pano id:  0fssIbfpWS_DthhKy6H_uQ\n",
      "pano id:  0gP0bzpCb9jApLpL2kcIwA\n",
      "pano id:  151MbtipbvfRFRREL7ywtA\n",
      "pano id:  1Tn9zwC5Qod14e8Fc1Dj4g\n",
      "pano id:  1cdbYitreRVbuiOhMd6MlA\n",
      "pano id:  1i0f2iHNtuBc2cBcqf7iDw\n",
      "pano id:  1kiVhDEIvGva5Na8rlPZvw\n",
      "pano id:  1mt9ajJln0B3CiOoyBGloA\n",
      "pano id:  1qBJDAh00nmxM2ESXbHVwQ\n",
      "pano id:  1zsvHjTnVZ8WU8i7LevjIg\n",
      "pano id:  22gsPthTZqsyPlEi2RAyHg\n",
      "pano id:  2OVJAlM0JnWDWny_RFovmg\n",
      "pano id:  2q_1WqK2_eJgkZ5icI2y7w\n",
      "pano id:  32b50rRCRwwZx2zMV_hRcA\n",
      "pano id:  384HI-xZDEZ_tUBYaEklmg\n",
      "pano id:  3B020wo4uXDwsotA0VUx4Q\n",
      "pano id:  3H8-anxtqC5nQLeSML8bRg\n",
      "pano id:  3XBhylAs0XEqi4H-gxuRHw\n",
      "pano id:  46ZxwmkCxgww6BmK2I_Hrg\n",
      "pano id:  4Hp0NBBgJIJLd-u8jFhU-Q\n",
      "pano id:  4MlCPYGUPs4prBXE3Incgw\n",
      "pano id:  4Z87NWx_KJGetEoNFIPwpA\n",
      "pano id:  4tZDfPC5rkfGC1TM2DELTA\n",
      "pano id:  4zh2csMw6kTExFSnlMbUXA\n",
      "pano id:  5LZQglCtSvDR0ul3Bn3DSQ\n",
      "pano id:  5YcIaqMMQNgflj0DoH81Sw\n",
      "pano id:  5aJuwrX36HxEiQb5mBFxPQ\n",
      "pano id:  63qJG4xm941TDu_vHlTH_w\n",
      "pano id:  6h9-YEYQCltgV5yoko-GgA\n",
      "pano id:  6ok8CP2lixcM4o0n5r2pRg\n",
      "pano id:  7IfFUQ85ZMR_ckcVj3JkGg\n",
      "pano id:  7PJ_eqgzxLi_8egzGgvgGQ\n",
      "pano id:  7UoV3TWS7hlPaoiJjsAP3w\n",
      "pano id:  7qA-jrXXMrsnZsACT4pijA\n",
      "pano id:  8SleViKGid4IovIbfq4Sew\n",
      "pano id:  8UceN3Az173pO_QO2EaD8Q\n",
      "pano id:  8VpDpjXZxEONW0b5Go2meg\n",
      "pano id:  8Z7SfF3kvJWytz7h4xscVw\n",
      "pano id:  8geg7v8-YGCgTeo0uwMTsA\n",
      "pano id:  8h1QSjY2uUb1jOEXpaONBw\n",
      "using gap filling depth\n",
      "using gap filling depth\n",
      "pano id:  8tgPUcByPSeKx8y9mUyfcQ\n",
      "pano id:  8ujLXnl_MAAHh3EJgjURpQ\n",
      "pano id:  90vP_X77ikGsgsjGptzxHg\n",
      "pano id:  9DyGF9WFSi97ARetxOodIA\n",
      "pano id:  9FIq7TPckLy9oOWXbq1T0Q\n",
      "pano id:  9P1jvzICXjUrcBftH8NE7A\n",
      "pano id:  9Q1UV2QPLxnpcCGhbi388A\n",
      "pano id:  9U-TR8g-G6HGz01yFf5piw\n",
      "pano id:  9lMjCCjVGiB1cwkAmt1eMA\n",
      "pano id:  9zWoo377M9cQ786FOGE5mg\n",
      "pano id:  A3fnVrWyXEL4_2NI1Cyejg\n",
      "pano id:  A3mQ6_zuw8hz223y9A6J3A\n",
      "pano id:  AMG6Ab95PeBtol4CTh7x9w\n",
      "pano id:  AjrbyqHUUMUxJWNipv6Qfg\n",
      "pano id:  AxS4Kv_OZzdTyyhWcdRReA\n",
      "pano id:  B-0QpoDCEkf5uUd4C42z7A\n",
      "pano id:  B-RrD_r-bU-N50cX6kL-Tw\n",
      "pano id:  B7IB85bU6o3820mwDLzoJA\n",
      "pano id:  BBAqsFC_4SNuUhnoyPZqfQ\n",
      "pano id:  BUt-DC28jqyn3AW__IsTNw\n",
      "pano id:  BeKwX1h8qFRVjDBULkjFvw\n",
      "pano id:  C2OXtT8i3YeGqV0ek1mb3g\n",
      "pano id:  CBizSd-P5WXe_CjzNkgkTg\n",
      "pano id:  CDXBt2ESgdvfu-617mn4BQ\n",
      "pano id:  CUJQZOHtqCzxVYm8YRTIow\n",
      "pano id:  CVUGXPSfH6tMM17e8qO55A\n",
      "pano id:  CoxawaT3Z5_-uMCGANwBCA\n",
      "pano id:  CwfhdEedF1B18vGMmdm0Yw\n",
      "pano id:  CzIb5Jy6kXkX4Lud2boAqA\n",
      "pano id:  D6wsxzfbZM1rgdF0m-kknA\n",
      "pano id:  DAHeF1Fk-pCrf5PadU8oqA\n",
      "pano id:  DEfx5Z71-TYU6ww7reaR5A\n",
      "pano id:  DFtyTrGgoXDcp6qM6RiFWQ\n",
      "using gap filling depth\n",
      "pano id:  DMa7l0diXJRHtj1_TdI4ig\n",
      "using gap filling depth\n",
      "pano id:  DTCbPUn72mgqZl8C2hSE_w\n",
      "pano id:  DUflh8YtKc17AtooN5mdVw\n",
      "pano id:  Ddo6UOprOwt1tOcyuOGy4Q\n",
      "pano id:  DmIbuZ_VdRbZM6Gp1J4BxQ\n",
      "pano id:  DqnayNIjyaeZ84tjS2B0JA\n",
      "pano id:  Dyt-t_K49bLljivnlOBYWg\n",
      "pano id:  E2qqk-tHPcRP1ItzrWEOrQ\n",
      "pano id:  E6X6nygPOo59wFw7_d4nrw\n",
      "pano id:  E7K4ansPlsVJd60ySeMiXw\n",
      "pano id:  ENx8ddaRkNyp4dUn_LiG_Q\n",
      "using gap filling depth\n",
      "using gap filling depth\n",
      "pano id:  EPgZGfZFfBEv1K5YsswlXw\n",
      "using gap filling depth\n",
      "using gap filling depth\n",
      "pano id:  EcuNZ4-OJFPwXt32o0NOhA\n",
      "pano id:  EgrqGudGIMJ2Laymxu25EA\n",
      "pano id:  F-QEg55nI3UxNjb2-EhlhQ\n",
      "pano id:  F1Dc0iflll26O1GE6q_Xuw\n",
      "pano id:  F2EHDFV8ycLxsVFidcJk1g\n",
      "pano id:  F3SxDLj7MWlSH-oBXOrDyA\n",
      "pano id:  F7QACFKkTgtjj9dkeqQuNw\n",
      "pano id:  FBVaGBra_zVfFNAhff5CRw\n",
      "pano id:  FEmH8xfEwN_pC3jQp6HTXQ\n",
      "pano id:  FRuX5QCFwu8CNAkrNfl6HQ\n",
      "pano id:  FXEyfyzwZNq4XcwqP98Rfg\n",
      "pano id:  FXOZeK7Sv0aN-1j1aTksdQ\n",
      "using gap filling depth\n",
      "pano id:  FruUuOe5d0DG3Hh1I2tKeg\n",
      "pano id:  Fu_adwYoANDbn1yBvhdEDg\n",
      "pano id:  G3bE9jWVjkfuPmAhNqwl3w\n",
      "pano id:  GDTKZt8ZJj3tcg-olAgNJw\n",
      "pano id:  GM43JlJQA_jyYrXWS3hz1w\n",
      "pano id:  GN7uSNjs1-b353rp7Jpbaw\n",
      "pano id:  GRv6Z67gmgy5uriopSKTxg\n",
      "pano id:  GvP_WNzTHiz53PaBhohUcw\n",
      "pano id:  HDhjTsFyVveL2D0OkbfHpg\n",
      "pano id:  HNvxSgtrgl6HmVII51olZg\n",
      "pano id:  HVg0SRi8ndiIeGnYv0EGQw\n",
      "pano id:  HXM5n4ijS9SBthyI0zJjrw\n",
      "pano id:  HXuBIGO6pDquwOGsTzoA9w\n",
      "pano id:  HZW3zPYdpfr0P6jV5OPFwA\n",
      "pano id:  HsAvEiRi2hXIjNHdlBGqUw\n",
      "pano id:  I13NchKCNWCWYpyi3nL5Xw\n",
      "pano id:  IAocNVeOyosAtgdFj4eh8Q\n",
      "pano id:  ICdjk528BK_3zH9QBJWiAQ\n",
      "pano id:  IClNAXu2KBitdNrZH0EFxQ\n",
      "pano id:  IImQv9knJCapcEW045gSuQ\n",
      "pano id:  IMjlHCHrItC8FDC4BDtxBw\n",
      "pano id:  IXiIud3qN9r4swVoN82ytA\n",
      "pano id:  IZR-cT_E0QADsWwev8gmCQ\n",
      "pano id:  InZJ2Ngsvcgc8JMHpgma7Q\n",
      "pano id:  IoWWSs3ua7ozq6Gh70eOMQ\n",
      "pano id:  J-0yn34q6W0HfoA65mU6Cg\n",
      "pano id:  J4OSQ8E8wAx-Q0mwVV3g_A\n",
      "pano id:  J6553QpmViwayPq9MRnevQ\n",
      "pano id:  JKTvVOiTsrpYGfg9aQwRiQ\n",
      "pano id:  JLCkunqxbcAgG9PqTDtFtw\n",
      "pano id:  JcWiAWxdS7ZWiAoPQkYjWQ\n",
      "pano id:  JwfTYQg2sr9odH21vB-Cew\n",
      "pano id:  JwvrSJx_mMxcfgz1vCBOmg\n",
      "pano id:  K722WeoPFjTuqyJIdmuRug\n",
      "pano id:  KFieBWpFBlfvncOFjj5wEA\n",
      "using gap filling depth\n",
      "pano id:  KIAiJ86nXeDqhSIhLMV2kQ\n",
      "pano id:  KL6XR7msB1rxSOyW-lT7QA\n",
      "pano id:  KOY-AwsmLsOszdzSGPPonA\n",
      "pano id:  KYqT7dInNiQV-1djy0zuwA\n",
      "pano id:  KZov9_-cTJG8-5YzSVuYqw\n",
      "pano id:  Ke-6iKHjLtzfHIYXOsGjDA\n",
      "pano id:  KiIBlYNij6DHVfDMk0ahxg\n",
      "pano id:  KjLwar2V0gJkqTUiakvLhw\n",
      "pano id:  KjP0RfNx-b5omVy4JWMGjA\n",
      "pano id:  Knx-RNDQFclbceiSmTMy-g\n",
      "pano id:  KtK22BllOV01RMRpl58lqA\n",
      "pano id:  KvJ6ZB2rL1vHCYtLQpNT7g\n",
      "pano id:  LHsD2b8bOc1h1pPSg0fJBw\n",
      "pano id:  LQK5MkOqlIFKvREF7368dA\n",
      "pano id:  LX6rPOr3Vh1nDULrFGra3g\n",
      "pano id:  Lcm87FxQk-tYUH_FZhb5_w\n",
      "pano id:  LfyUgi-sYhH14uB4L4OR4A\n",
      "pano id:  LoFW7Q3xAcSmI58fg4f3Zg\n",
      "pano id:  LvHrjKfKTdrKtZFsOF26eg\n",
      "pano id:  M4AHoDb_OOnTUsZWGBU8RQ\n",
      "pano id:  MAFqTX-Hl3PNMxDgX0tSsg\n",
      "pano id:  MEVTwV5vNwbPtYpg6myuUw\n",
      "pano id:  MPibwjuDyfKLGXmcex7Bpw\n",
      "pano id:  MRkU3w8xZRHgM3eytmfS0g\n",
      "pano id:  MXMaVkUP-EWQhSIEJo0WBg\n",
      "pano id:  McXCTbebFtAomEf52co-hw\n",
      "pano id:  Mfu7jSH4Nmw7_ceCwxSNlw\n",
      "pano id:  MkFvuKC93rQKzD5H1ffb2g\n",
      "pano id:  N7h4ruPJKxo1QiHXwkHeuQ\n",
      "pano id:  NJmBTLKlBQhn7akYFLjMjQ\n",
      "pano id:  NQH7ICCrMftoC8jXtXQt4A\n",
      "pano id:  NUHVl0Nx-uYWwbvrsKOZFw\n",
      "pano id:  NVooK8DubviFolM2g3W_8Q\n",
      "pano id:  NaEZRezrL4gHu3Sm07BjBw\n",
      "pano id:  NbCnFpIucCyjLiAm3c0Yxw\n",
      "pano id:  Ne4GZV3OssEbPK4rpU_P1A\n",
      "pano id:  Nl85L5ZPasqUmJFzPzI6ew\n",
      "pano id:  Nmnt8Lvg9NCp-9JdhyKrpg\n",
      "pano id:  O4pNJoqsNjlk56Gh19JzlQ\n",
      "pano id:  OQPHvWS0U8CdFk-C3EwbZw\n",
      "pano id:  OSKTM3o-T6_uQHdOdERBJg\n",
      "pano id:  OXGd9Lz-ek8d9HqTBClUBQ\n",
      "pano id:  Oag4ewHgnnVqWwdSBpAy9Q\n",
      "pano id:  OcblmdjBd1FY7fCS9hicIw\n",
      "using gap filling depth\n",
      "using gap filling depth\n",
      "using gap filling depth\n",
      "using gap filling depth\n",
      "pano id:  OnO4sCm9JGQjRol-zMUeTw\n",
      "pano id:  OsNZpeBqepqg9jVp2KRxPQ\n",
      "pano id:  OtM_097HBzPYk1ckVDm7ig\n",
      "pano id:  P8W2r5gt6H4KxqqlqFdFjQ\n",
      "pano id:  P8jLWo4xes7IYMIegvVpzg\n",
      "pano id:  PBuNrqf1FYRyzAWLZkqtdg\n",
      "pano id:  PDVLWrkK3RqxvTjxoiBaJg\n",
      "using gap filling depth\n",
      "using gap filling depth\n",
      "pano id:  PGFOdjLfjwQVFjSybBdEZw\n",
      "pano id:  PINiapEGricIKaVToU2CiA\n",
      "pano id:  POwLsptbWOPsadLfOjDRkg\n",
      "pano id:  PR9eRSmKFdsgZ8zaOHdFig\n",
      "pano id:  PcNwq6zvSzBlF3zP-sbkkQ\n",
      "pano id:  Pi1nU4a82EtsGQFHpXQJow\n",
      "pano id:  Pkwpp6fVOxa4_-S3UkgnSw\n",
      "pano id:  Pxf_1KmHWY59t6Cgc1Adow\n",
      "pano id:  Py68M8VFjkqrktmx2aLDYA\n",
      "pano id:  QKuWTwIPTOFZOAZS-rd2_g\n",
      "pano id:  QVjdErPjJ_v_ADCHQoG3jg\n",
      "pano id:  QW27kA2pq7o7powUlKuLZA\n",
      "pano id:  Qhiw0Sxe-yV-DvlbMih9Xg\n",
      "pano id:  QlhNOInc-c26fX0rFDN68g\n",
      "pano id:  Qlx0JeVCB-DFj0GqspY8HA\n",
      "pano id:  QoY43papktf6iSv1UGGv6g\n",
      "pano id:  Qt13_0PPLa9-G3OUyrskMw\n",
      "pano id:  RHvKsHnfKFjCtMd7-gLSww\n",
      "pano id:  RKB_SU6-aHSDveb_iF0uGg\n",
      "pano id:  RKjl95wAQP6eWhERa3FpMw\n",
      "pano id:  RUfVawEJgvTECcRXvKIRKQ\n",
      "pano id:  RVr85Ig4aInIJfc7JbYKRw\n",
      "pano id:  RYlLMAv184cfcUAv8-vH0A\n",
      "pano id:  Rb0MnLUDwGfuLfB3DK-B6g\n",
      "pano id:  RxX7zulu2z1MFe5ofUg1uA\n",
      "using gap filling depth\n",
      "using gap filling depth\n",
      "pano id:  SCzloWIiewJafeFkq958cA\n",
      "pano id:  SGE9uAO368t9hi5wtyKYTA\n",
      "pano id:  SI7iPHPagVjKiIc-e0ajlA\n",
      "using gap filling depth\n",
      "using gap filling depth\n",
      "using gap filling depth\n",
      "using gap filling depth\n",
      "pano id:  SNjm6eJDKBf5IGsEWupLmg\n",
      "pano id:  SjgGHEzSHOXO-HHSQovccw\n",
      "pano id:  SlC3gfS7FDhrYIOKlJ0IFQ\n",
      "pano id:  SvAlXcv-YLFYX-rmAiE1Qw\n",
      "pano id:  T43bVCDDQaxlvwbCaDmlIw\n",
      "pano id:  TEfMDMP6mH-PgpKpnzF2vg\n",
      "pano id:  TPaAKbZoIGxNbFhGPdpDQw\n",
      "pano id:  TWqjdt1uRngPwtcwdXP0gg\n",
      "pano id:  TgdWgi_3bubHkVsiWDj7RQ\n",
      "pano id:  TySbUXhgCYRlo_p_vXL7PQ\n",
      "pano id:  Tz6NjkiBNSG1ge0lKjXhdg\n",
      "pano id:  UJlvyssZxGGtpmsCkixHOw\n",
      "pano id:  UMN3LCiOoeTLwWhBJvSTEQ\n",
      "pano id:  UV-f6aBC67GlDmhsShQYVQ\n",
      "pano id:  UZildtufHsJtpQYVQeo7hg\n",
      "pano id:  UbwHIOb3qw3rwaQ1cND5XQ\n",
      "pano id:  UhQMRNHgOCr9pIFWv6WHjg\n",
      "pano id:  UoCsBTRs1yT9fUZt2XF-4A\n",
      "pano id:  V2iEs7Gqj-GI06u4BmaEHg\n",
      "pano id:  VZEWWbfQvkI0aR_2XKEE_Q\n",
      "pano id:  VnmokbRuizi34cdbeqZ72Q\n",
      "pano id:  W5oTGjwyg1jgMR0pma_IWQ\n",
      "pano id:  WGj8etna30BUAkP5tXftYA\n",
      "pano id:  WVXLhjpdpdXo65jQYiFqxg\n",
      "pano id:  Wj0GDvoU-Fk3YdOWa0c5LA\n",
      "pano id:  WvmWQYMFjTAI47fJoOjNoA\n",
      "pano id:  XSaVBlf6YrWRabVvv_d8Pw\n",
      "pano id:  XcRZ0YPFeUWT2QJcXUgd9w\n",
      "pano id:  Xi17Ttd5QP0mPs23UpNw3A\n",
      "pano id:  XoUIbFm5ZEsKl8X558wtMw\n",
      "pano id:  Y1xyjjG08WJWQiZyaJMOrQ\n",
      "using gap filling depth\n",
      "using gap filling depth\n",
      "pano id:  YI7uQpE4ZKLGzydbIjFJ3A\n",
      "pano id:  YNLZF16ubLTqrzW7SkVC3A\n",
      "using gap filling depth\n",
      "using gap filling depth\n",
      "pano id:  Y_MAfupAUMjOTAphR-zMeA\n",
      "pano id:  YhegfJIt5xdGK8-Yt8uOsg\n",
      "pano id:  YoEuZaoWgZYDGzY6pfB1tw\n",
      "pano id:  YpHeMcV_FBNqb14t92oqTQ\n",
      "using gap filling depth\n",
      "using gap filling depth\n",
      "pano id:  YyPv0wUpcTVPUBf3ZaU9-g\n",
      "pano id:  Z-VfAXc2FuxVE-qz6hntag\n",
      "pano id:  Z0isMQNbqb-EYO9vlZdwZQ\n",
      "pano id:  Z1BWQIMsCPGH-FVZUGg1WA\n",
      "pano id:  Z7lIyKzkBkKDylh2e89Cng\n",
      "pano id:  ZF2nNgG-pbD-uQ1Gqf-qSQ\n",
      "using gap filling depth\n",
      "using gap filling depth\n",
      "using gap filling depth\n",
      "using gap filling depth\n",
      "using gap filling depth\n",
      "using gap filling depth\n",
      "pano id:  ZPso63zH08RK_2gaFvzerw\n",
      "pano id:  ZSk0vIziUOPwmnc-hWjysw\n",
      "pano id:  ZVrtS9rcKP6P319-4SjAtA\n",
      "pano id:  Z_9yNJDjSgX9UhLSm2cERA\n",
      "pano id:  ZaJZEZYyLVTEz8GWivKlzA\n",
      "pano id:  ZkTHcXo_x5UJSHXMiWni8Q\n",
      "pano id:  ZzKUuR7fSjcyR16OHCCMXQ\n",
      "pano id:  _0w_LRrd4G5vqZX3sFuJwA\n",
      "pano id:  _7Emcj8YyNhoNc-2aIKB9Q\n",
      "pano id:  _LzvnwK04fxWH26Xm5eYiA\n",
      "pano id:  _S3EJqhzs2xjdwFz9CqAyQ\n",
      "pano id:  _gfHNXbJO5RFu54WgUiLiQ\n",
      "pano id:  _jpPH53u-V7za19hRhgRAQ\n",
      "pano id:  _sc9dWNRNnkiUZEzoI2cQA\n",
      "pano id:  _y_jkTMIVA6Qj4sJnzyQpA\n",
      "using gap filling depth\n",
      "using gap filling depth\n",
      "pano id:  aH-y3ETPowJL-wSjxWyuuw\n",
      "pano id:  aNJDEM9SDJBWNQjxfJeG8w\n",
      "pano id:  aZ4jtTBs1tZA0IQ8KdrCgA\n",
      "pano id:  aierBFZn1Hfw0TsnN7Po1Q\n",
      "using gap filling depth\n",
      "using gap filling depth\n",
      "using gap filling depth\n",
      "using gap filling depth\n",
      "pano id:  akFBIUTOYdEl_xv4FMtuvw\n",
      "pano id:  b-szjPoxQwwYzVHKLiG8Hg\n",
      "pano id:  bC2RIcuf91n2Nbj3SYKDiA\n",
      "pano id:  bKd6RizUejp0Kg_852JnEg\n",
      "pano id:  bQLtyO9-ejV0ANHdNVXBQA\n",
      "pano id:  bTDZd7QqUIuzUukVfcwqzQ\n",
      "pano id:  bTbJme0GsVNUAP5rfUe56Q\n",
      "pano id:  bVaVr7cdaLiKpwTkf2nAXg\n",
      "pano id:  bY7nV5bCSqm0Jzki9koxqg\n",
      "pano id:  boNo3SAx_6BN2yDZKocjqQ\n",
      "pano id:  bqT9EKbQ4R8ZyXh8hw2f-w\n",
      "using gap filling depth\n",
      "using gap filling depth\n",
      "pano id:  c-JiB_f0U2lB93ZxxEr9qg\n",
      "pano id:  c1dN-NZv0WgIe1cFT7QfaQ\n",
      "using gap filling depth\n",
      "using gap filling depth\n",
      "pano id:  c4yWBxSuKqO_xKfrujRy9A\n",
      "pano id:  cF66qVndbxUkMQu6hMwjMg\n",
      "using gap filling depth\n",
      "using gap filling depth\n",
      "pano id:  cGjw6kPgKy9WpG5tUgG9aQ\n",
      "pano id:  cTdyfT5rP3VrPjifyjFmfg\n",
      "pano id:  cTpjgAau_ATd_8sBAhQnkg\n",
      "pano id:  caxfMrJoo2cYnxwPRaKBBw\n",
      "pano id:  cxOWImIaOzDtPogta0GBgw\n"
     ]
    }
   ],
   "source": [
    "min_FFH_all_predicted=[]\n",
    "mean_FFH_all_predicted=[]\n",
    "max_FFH_all_predicted=[]\n",
    "FFE_all_predicted=[]\n",
    "pano_ids=[]\n",
    "for pano_id,coords in results.items():\n",
    "    # extract pano id\n",
    "    depth_file=os.path.join(in_folder_depth,pano_id+'.tif')\n",
    "    if os.path.exists(depth_file):\n",
    "        pano_ids.append(pano_id)\n",
    "        print('pano id: ',pano_id)\n",
    "        # read in corresponding depth map\n",
    "        depth_arr=np.asarray(Image.open(depth_file))\n",
    "        H_img = depth_arr.shape[0]  # Height of the cropped panorama\n",
    "        \n",
    "        # extract elevations of buildings and roadways\n",
    "        min_building_elevation=gdf.loc[gdf['pano_id'] == pano_id, 'grd_elev_building_min'].values\n",
    "        mean_building_elevation=gdf.loc[gdf['pano_id'] == pano_id, 'grd_elev_building_mean'].values\n",
    "        max_building_elevation=gdf.loc[gdf['pano_id'] == pano_id, 'grd_elev_building_max'].values\n",
    "        road_elevation=gdf.loc[gdf['pano_id'] == pano_id, 'grd_elev_GSV'].values\n",
    "        height_camera=gdf.loc[gdf['pano_id'] == pano_id, 'height_c'].values\n",
    "        # extract gapfilling depth\n",
    "        depth_gapfill=gdf.loc[gdf['pano_id'] == pano_id, 'gapfilling_depth'].values[0]\n",
    "        \n",
    "        # if min_building_elevation.size>0 and road_elevation.size>0 and height_camera.size>0:\n",
    "            # elev_camera=height_camera[0]+road_elevation[0]\n",
    "            # extract bottom pixels of foundation, stairs, front door and garage door\n",
    "        foundation_bottom_pixels = {(coords[0]['x1'],coords[0]['y2']),(coords[0]['x2'],coords[0]['y2'])} if coords[0] is not None else None\n",
    "        frontdoor_bottom_pixels = {(coords[1]['x1'],coords[1]['y2']),(coords[1]['x2'],coords[1]['y2'])} if coords[1] is not None else None\n",
    "        garagedoor_bottom_pixels = {(coords[2]['x1'],coords[2]['y2']),(coords[2]['x2'],coords[2]['y2'])} if coords[2] is not None else None\n",
    "        stairs_bottom_pixels = {(coords[3]['x1'],coords[3]['y2']),(coords[3]['x2'],coords[3]['y2'])} if coords[3] is not None else None\n",
    "\n",
    "        # extract top pixels of foundation and stairs\n",
    "        foundation_top_pixels = {(coords[0]['x1'],coords[0]['y1']),(coords[0]['x2'],coords[0]['y1'])} if coords[0] is not None else None\n",
    "        stairs_top_pixels = {(coords[3]['x1'],coords[3]['y1']),(coords[3]['x2'],coords[3]['y1'])} if coords[3] is not None else None\n",
    "\n",
    "        # calculate height difference between feature top/bottom and camera\n",
    "        delta_foundation_bottom = calculate_height_difference(foundation_bottom_pixels, depth_arr, H_img)\n",
    "        delta_stairs_bottom = calculate_height_difference(stairs_bottom_pixels, depth_arr, H_img)\n",
    "        delta_frontdoor_bottom = calculate_height_difference(frontdoor_bottom_pixels, depth_arr, H_img, depth_gapfill=depth_gapfill)\n",
    "        delta_garagedoor_bottom = calculate_height_difference(garagedoor_bottom_pixels, depth_arr, H_img, depth_gapfill=depth_gapfill)\n",
    "        delta_foundation_top = calculate_height_difference(foundation_top_pixels, depth_arr, H_img, depth_gapfill=depth_gapfill)\n",
    "        delta_stairs_top = calculate_height_difference(stairs_top_pixels, depth_arr, H_img, depth_gapfill=depth_gapfill)\n",
    "        \n",
    "        # calculate FFH\n",
    "        FFH = estimate_FFH(delta_foundation_top=delta_foundation_top, \n",
    "                        delta_foundation_bottom=delta_foundation_bottom,\n",
    "                        delta_stairs_top=delta_stairs_top, \n",
    "                        delta_stairs_bottom=delta_stairs_bottom, \n",
    "                        delta_frontdoor_bottom=delta_frontdoor_bottom,\n",
    "                        delta_garagedoor_bottom=delta_garagedoor_bottom)\n",
    "        FFH_min=FFH\n",
    "        FFH_mean=FFH\n",
    "        FFH_max=FFH\n",
    "            # if FFH is None:\n",
    "            # # calculate FFE\n",
    "            #     FFE = estimate_FFE(delta_foundation_top=delta_foundation_top, \n",
    "            #                 delta_stairs_top=delta_stairs_top, \n",
    "            #                 delta_frontdoor_bottom=delta_frontdoor_bottom,\n",
    "            #                 delta_garagedoor_bottom=delta_garagedoor_bottom,\n",
    "            #                 elev_camera=elev_camera)\n",
    "            #     if FFE is not None:\n",
    "            #         FFH_min=FFE-max_building_elevation[0]\n",
    "            #         FFH_mean=FFE-mean_building_elevation[0]\n",
    "            #         FFH_max=FFE-min_building_elevation[0]\n",
    "            #         print(\"Estimated min First Floor Height (FFH):\", FFH_min)\n",
    "            #         print(\"Estimated mean First Floor Height (FFH):\", FFH_mean)\n",
    "            #         print(\"Estimated max First Floor Height (FFH):\", FFH_max)\n",
    "            #         # print(\"Estimated First Floor Elevation (FFE):\", FFE)\n",
    "            #         FFE_all_predicted.append(FFE)\n",
    "        min_FFH_all_predicted.append(FFH_min)\n",
    "        mean_FFH_all_predicted.append(FFH_mean)\n",
    "        max_FFH_all_predicted.append(FFH_max)\n",
    "    else:\n",
    "        print('no depth map exists, skipping...')"
   ]
  },
  {
   "cell_type": "markdown",
   "metadata": {},
   "source": [
    "## Write estimated FFH/FFE back to building points file"
   ]
  },
  {
   "cell_type": "code",
   "execution_count": 86,
   "metadata": {},
   "outputs": [],
   "source": [
    "gdf_updated=gdf.copy()\n",
    "pano_id_to_FFH=dict(zip(pano_ids, mean_FFH_all_predicted))\n",
    "# pano_id_to_FFH=dict(zip(pano_ids, min_FFH_all_predicted))\n",
    "pano_id_to_FFE=dict(zip(pano_ids, FFE_all_predicted))\n",
    "gdf_updated[\"FFH_GSV\"] = gdf_updated['pano_id'].map(pano_id_to_FFH)\n",
    "gdf_updated[\"FFE_GSV\"] = gdf_updated['pano_id'].map(pano_id_to_FFE)"
   ]
  },
  {
   "cell_type": "code",
   "execution_count": 47,
   "metadata": {},
   "outputs": [],
   "source": [
    "out_file=building_point_file.replace('.geojson','_FFH_GSV_YOLO.geojson')\n",
    "gdf_updated.to_file(out_file, driver=\"GeoJSON\")"
   ]
  },
  {
   "cell_type": "markdown",
   "metadata": {},
   "source": [
    "## Regression analysis and accuracy assessment\n",
    "### FFH"
   ]
  },
  {
   "cell_type": "code",
   "execution_count": 91,
   "metadata": {},
   "outputs": [
    {
     "data": {
      "image/png": "[encoded data removed]",
      "text/plain": [
       "<Figure size 800x600 with 1 Axes>"
      ]
     },
     "metadata": {},
     "output_type": "display_data"
    }
   ],
   "source": [
    "# filter out invalid prediction/groundtruth data\n",
    "predicted_FFH=gdf_updated[\"FFH_GSV\"]\n",
    "gt_FFH=gdf_updated[\"Floor_height\"]\n",
    "# valid_indices = ~np.isnan(predicted_FFH) & ~np.isnan(gt_FFH)\n",
    "# valid_indices = ~np.isnan(predicted_FFH) & ~np.isnan(gt_FFH) &(predicted_FFH!=0)& (gt_FFH!=0.28)\n",
    "valid_indices = (predicted_FFH>0) & (predicted_FFH<1) & ~np.isnan(gt_FFH)& (gt_FFH!=0.28)\n",
    "predicted_FFH = predicted_FFH[valid_indices]\n",
    "gt_FFH = gt_FFH[valid_indices]\n",
    "\n",
    "# Calculate RMSE and MAE\n",
    "rmse = root_mean_squared_error(gt_FFH, predicted_FFH)\n",
    "mae=mean_absolute_error(gt_FFH, predicted_FFH)\n",
    "# Calculate Correlation Coefficient\n",
    "correlation = np.corrcoef(gt_FFH, predicted_FFH)[0, 1]\n",
    "# Plot scatter points\n",
    "plt.figure(figsize=(8, 6))\n",
    "plt.scatter(gt_FFH, predicted_FFH, alpha=0.7, label=f'Points (n={len(predicted_FFH)})')\n",
    "# Add a line for ideal correlation (optional)\n",
    "plt.plot([predicted_FFH.min(), predicted_FFH.max()],[predicted_FFH.min(), predicted_FFH.max()], 'r--', label='Ideal Line')\n",
    "# Annotate RMSE and Correlation\n",
    "plt.text(0.05, 0.95, f'RMSE: {rmse:.2f}\\nMAE:{mae:.2f}\\nCorrelation: {correlation:.2f}', \n",
    "         transform=plt.gca().transAxes, fontsize=12, \n",
    "         verticalalignment='top', bbox=dict(boxstyle=\"round\", fc=\"wheat\", ec=\"black\", alpha=0.5))\n",
    "# Labeling\n",
    "plt.title('FFH - GSV prediction vs ground truth')\n",
    "plt.xlabel('Ground truth')\n",
    "plt.ylabel('GSV prediction')\n",
    "plt.legend()\n",
    "plt.grid()\n",
    "# Show plot\n",
    "plt.show()"
   ]
  },
  {
   "cell_type": "code",
   "execution_count": 82,
   "metadata": {},
   "outputs": [
    {
     "data": {
      "text/html": [
       "<div>\n",
       "<style scoped>\n",
       "    .dataframe tbody tr th:only-of-type {\n",
       "        vertical-align: middle;\n",
       "    }\n",
       "\n",
       "    .dataframe tbody tr th {\n",
       "        vertical-align: top;\n",
       "    }\n",
       "\n",
       "    .dataframe thead th {\n",
       "        text-align: right;\n",
       "    }\n",
       "</style>\n",
       "<table border=\"1\" class=\"dataframe\">\n",
       "  <thead>\n",
       "    <tr style=\"text-align: right;\">\n",
       "      <th></th>\n",
       "      <th>pano_id</th>\n",
       "      <th>Floor_height</th>\n",
       "      <th>FFH_GSV</th>\n",
       "    </tr>\n",
       "  </thead>\n",
       "  <tbody>\n",
       "    <tr>\n",
       "      <th>21</th>\n",
       "      <td>8RHDm0iunrI5VkoaIHpcbQ</td>\n",
       "      <td>0.28</td>\n",
       "      <td>0.226438</td>\n",
       "    </tr>\n",
       "    <tr>\n",
       "      <th>93</th>\n",
       "      <td>LiqptiIiopgSQoBXE3T58w</td>\n",
       "      <td>0.28</td>\n",
       "      <td>1.677549</td>\n",
       "    </tr>\n",
       "    <tr>\n",
       "      <th>118</th>\n",
       "      <td>WlG1TTUwcInq0PlUf9hgRg</td>\n",
       "      <td>0.28</td>\n",
       "      <td>0.145356</td>\n",
       "    </tr>\n",
       "    <tr>\n",
       "      <th>119</th>\n",
       "      <td>WlG1TTUwcInq0PlUf9hgRg</td>\n",
       "      <td>0.28</td>\n",
       "      <td>0.145356</td>\n",
       "    </tr>\n",
       "    <tr>\n",
       "      <th>124</th>\n",
       "      <td>W6aqLfkjFD8URnge4j1ljQ</td>\n",
       "      <td>0.28</td>\n",
       "      <td>0.763922</td>\n",
       "    </tr>\n",
       "    <tr>\n",
       "      <th>...</th>\n",
       "      <td>...</td>\n",
       "      <td>...</td>\n",
       "      <td>...</td>\n",
       "    </tr>\n",
       "    <tr>\n",
       "      <th>3194</th>\n",
       "      <td>3N0AUk4o5HQAeTM9rHD4Iw</td>\n",
       "      <td>0.28</td>\n",
       "      <td>0.037149</td>\n",
       "    </tr>\n",
       "    <tr>\n",
       "      <th>3315</th>\n",
       "      <td>eFNta3sOQ45whlg8VZ0erQ</td>\n",
       "      <td>0.28</td>\n",
       "      <td>0.328198</td>\n",
       "    </tr>\n",
       "    <tr>\n",
       "      <th>3332</th>\n",
       "      <td>eFNta3sOQ45whlg8VZ0erQ</td>\n",
       "      <td>0.28</td>\n",
       "      <td>0.328198</td>\n",
       "    </tr>\n",
       "    <tr>\n",
       "      <th>3376</th>\n",
       "      <td>hiP8-RQ39RTSWq2JQlAGuA</td>\n",
       "      <td>0.28</td>\n",
       "      <td>0.121820</td>\n",
       "    </tr>\n",
       "    <tr>\n",
       "      <th>3397</th>\n",
       "      <td>wNRNoOtC7Aiv2HCXJQ96qQ</td>\n",
       "      <td>0.28</td>\n",
       "      <td>0.030442</td>\n",
       "    </tr>\n",
       "  </tbody>\n",
       "</table>\n",
       "<p>90 rows × 3 columns</p>\n",
       "</div>"
      ],
      "text/plain": [
       "                     pano_id  Floor_height   FFH_GSV\n",
       "21    8RHDm0iunrI5VkoaIHpcbQ          0.28  0.226438\n",
       "93    LiqptiIiopgSQoBXE3T58w          0.28  1.677549\n",
       "118   WlG1TTUwcInq0PlUf9hgRg          0.28  0.145356\n",
       "119   WlG1TTUwcInq0PlUf9hgRg          0.28  0.145356\n",
       "124   W6aqLfkjFD8URnge4j1ljQ          0.28  0.763922\n",
       "...                      ...           ...       ...\n",
       "3194  3N0AUk4o5HQAeTM9rHD4Iw          0.28  0.037149\n",
       "3315  eFNta3sOQ45whlg8VZ0erQ          0.28  0.328198\n",
       "3332  eFNta3sOQ45whlg8VZ0erQ          0.28  0.328198\n",
       "3376  hiP8-RQ39RTSWq2JQlAGuA          0.28  0.121820\n",
       "3397  wNRNoOtC7Aiv2HCXJQ96qQ          0.28  0.030442\n",
       "\n",
       "[90 rows x 3 columns]"
      ]
     },
     "execution_count": 82,
     "metadata": {},
     "output_type": "execute_result"
    }
   ],
   "source": [
    "gdf_updated[valid_indices][['pano_id','Floor_height','FFH_GSV']]"
   ]
  },
  {
   "cell_type": "markdown",
   "metadata": {},
   "source": [
    "### FFE"
   ]
  },
  {
   "cell_type": "code",
   "execution_count": null,
   "metadata": {},
   "outputs": [],
   "source": [
    "# filter out invalid prediction/groundtruth data\n",
    "predicted_FFE=gdf_updated[\"FFE_GSV\"]\n",
    "gt_FFE=gdf_updated[\"Floor_Leve\"]\n",
    "valid_indices = ~np.isnan(predicted_FFE) & ~np.isnan(gt_FFE)\n",
    "predicted_FFE = predicted_FFE[valid_indices]\n",
    "gt_FFE = gt_FFE[valid_indices]\n",
    "\n",
    "# Calculate RMSE and MAE\n",
    "rmse_FFE = root_mean_squared_error(gt_FFE, predicted_FFE)\n",
    "mae_FFE=mean_absolute_error(gt_FFE, predicted_FFE)\n",
    "# Calculate Correlation Coefficient\n",
    "correlation_FFE = np.corrcoef(gt_FFE, predicted_FFE)[0, 1]\n",
    "# Plot scatter points\n",
    "plt.figure(figsize=(8, 6))\n",
    "plt.scatter(gt_FFE, predicted_FFE, alpha=0.7, label=f'Points (n={len(predicted_FFE)})')\n",
    "# Add a line for ideal correlation (optional)\n",
    "plt.plot([predicted_FFE.min(), predicted_FFE.max()],[predicted_FFE.min(), predicted_FFE.max()], 'r--', label='Ideal Line')\n",
    "# Annotate RMSE and Correlation\n",
    "plt.text(0.05, 0.95, f'RMSE: {rmse_FFE:.2f}\\nMAE:{mae_FFE:.2f}\\nCorrelation: {correlation_FFE:.2f}', \n",
    "         transform=plt.gca().transAxes, fontsize=12, \n",
    "         verticalalignment='top', bbox=dict(boxstyle=\"round\", fc=\"wheat\", ec=\"black\", alpha=0.5))\n",
    "# Labeling\n",
    "plt.title('FFH - GSV prediction vs ground truth')\n",
    "plt.xlabel('Ground truth')\n",
    "plt.ylabel('GSV prediction')\n",
    "plt.legend()\n",
    "plt.grid()\n",
    "# Show plot\n",
    "plt.show()"
   ]
  },
  {
   "cell_type": "code",
   "execution_count": null,
   "metadata": {},
   "outputs": [],
   "source": [
    "len(predicted_FFH)"
   ]
  }
 ],
 "metadata": {
  "kernelspec": {
   "display_name": "floorheight",
   "language": "python",
   "name": "python3"
  },
  "language_info": {
   "codemirror_mode": {
    "name": "ipython",
    "version": 3
   },
   "file_extension": ".py",
   "mimetype": "text/x-python",
   "name": "python",
   "nbconvert_exporter": "python",
   "pygments_lexer": "ipython3",
   "version": "3.10.15"
  }
 },
 "nbformat": 4,
 "nbformat_minor": 2
}
