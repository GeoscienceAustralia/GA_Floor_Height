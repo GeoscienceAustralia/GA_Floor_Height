{
 "cells": [
  {
   "cell_type": "markdown",
   "metadata": {},
   "source": [
    "This notebook extracts ground points from classified las file, remove outliers and and claculate statistics of ground elevations, and optionally generate DTM rasters from the processed las files. The elevations extracted may be used as a gap filling ground elevation level for FFH estimation."
   ]
  },
  {
   "cell_type": "code",
   "execution_count": null,
   "metadata": {},
   "outputs": [],
   "source": [
    "import pdal\n",
    "import json\n",
    "import numpy as np\n",
    "import os\n",
    "import geopandas as gpd\n",
    "import glob\n",
    "from lidar.point_cloud_processings import process_extract_ground_elevations\n",
    "import matplotlib.pyplot as plt"
   ]
  },
  {
   "cell_type": "markdown",
   "metadata": {},
   "source": [
    "### Input and output"
   ]
  },
  {
   "cell_type": "code",
   "execution_count": null,
   "metadata": {},
   "outputs": [],
   "source": [
    "building_points_file=r'/home/ubuntu/lavender_floor_height/output/Final_Wagga_training_samples_pano_metadata_clipping.geojson'\n",
    "las_files_folder = r\"/mnt/floorheightvolume/lidar_Wagga/clipped/\"\n",
    "\n",
    "out_folder=r\"/mnt/floorheightvolume/lidar_Wagga/clipped_DTM/\"\n",
    "os.makedirs(out_folder, exist_ok=True)\n",
    "out_building_points=r'/home/ubuntu/lavender_floor_height/output/Final_Wagga_training_samples_pano_metadata_clipping_elevations.geojson'"
   ]
  },
  {
   "cell_type": "markdown",
   "metadata": {},
   "source": [
    "### Load building points"
   ]
  },
  {
   "cell_type": "code",
   "execution_count": null,
   "metadata": {},
   "outputs": [],
   "source": [
    "gdf_building_points=gpd.read_file(building_points_file)\n",
    "gdf_building_points=gdf_building_points[gdf_building_points[\"USAGE\"]==\"Residential\"].reset_index(drop=True)"
   ]
  },
  {
   "cell_type": "markdown",
   "metadata": {},
   "source": [
    "### Test processing with one example"
   ]
  },
  {
   "cell_type": "code",
   "execution_count": null,
   "metadata": {},
   "outputs": [],
   "source": [
    "# gdf_building_points[gdf_building_points['UFI']==1624]"
   ]
  },
  {
   "cell_type": "code",
   "execution_count": null,
   "metadata": {},
   "outputs": [],
   "source": [
    "i=1\n",
    "building_ufi=gdf_building_points.iloc[i]['UFI']\n",
    "las_file_path=glob.glob(las_files_folder+'*'+'_UFI_'+str(building_ufi)+'.las')[0]\n",
    "las_file_path"
   ]
  },
  {
   "cell_type": "code",
   "execution_count": null,
   "metadata": {},
   "outputs": [],
   "source": [
    "resolution=0.1 # resolution of output DTM raster\n",
    "output_tiff=os.path.join(out_folder,os.path.basename(las_file_path).replace('.las','_DTM_filtered.tif')) # output file name"
   ]
  },
  {
   "cell_type": "code",
   "execution_count": null,
   "metadata": {},
   "outputs": [],
   "source": [
    "# Get CRS from source file first\n",
    "pipeline_info = {\n",
    "    \"pipeline\": [{\n",
    "        \"type\": \"readers.las\",\n",
    "        \"filename\": las_file_path\n",
    "    }]\n",
    "}\n",
    "info_pipeline = pdal.Pipeline(json.dumps(pipeline_info))\n",
    "info_pipeline.execute()\n",
    "metadata = info_pipeline.metadata\n",
    "crs = metadata['metadata']['readers.las']['srs']['horizontal']"
   ]
  },
  {
   "cell_type": "code",
   "execution_count": null,
   "metadata": {},
   "outputs": [],
   "source": [
    "stats=process_extract_ground_elevations(las_file_path=las_file_path, resolution=resolution, crs=crs, output_tiff=output_tiff)"
   ]
  },
  {
   "cell_type": "code",
   "execution_count": null,
   "metadata": {},
   "outputs": [],
   "source": [
    "# Print the statistics\n",
    "print(\"Ground Elevation Statistics:\")\n",
    "for key, value in stats.items():\n",
    "    print(f\"{key:>12}: {value:.3f}\")"
   ]
  },
  {
   "cell_type": "markdown",
   "metadata": {},
   "source": [
    "### Record the stats for future use"
   ]
  },
  {
   "cell_type": "code",
   "execution_count": null,
   "metadata": {},
   "outputs": [],
   "source": [
    "gdf_updated=gdf_building_points.copy()\n",
    "for attr in list(stats.keys()):\n",
    "    if attr not in gdf_updated.columns:\n",
    "        gdf_updated[attr]=np.nan\n",
    "for attr in list(stats.keys()):\n",
    "    gdf_updated.at[i,attr]=stats[attr]"
   ]
  },
  {
   "cell_type": "markdown",
   "metadata": {},
   "source": [
    "### Run for all buildings"
   ]
  },
  {
   "cell_type": "code",
   "execution_count": null,
   "metadata": {},
   "outputs": [],
   "source": [
    "for i in range(len(gdf_building_points)):\n",
    "    building_ufi=gdf_building_points.iloc[i]['UFI']\n",
    "    try:\n",
    "        las_file_path=glob.glob(las_files_folder+'*'+'_UFI_'+str(building_ufi)+'.las')[0]\n",
    "        output_tiff=os.path.join(out_folder,os.path.basename(las_file_path).replace('.las','_DTM_filtered.tif')) # output file name\n",
    "\n",
    "        # Get CRS from source file first\n",
    "        pipeline_info = {\n",
    "            \"pipeline\": [{\n",
    "                \"type\": \"readers.las\",\n",
    "                \"filename\": las_file_path\n",
    "            }]\n",
    "        }\n",
    "        info_pipeline = pdal.Pipeline(json.dumps(pipeline_info))\n",
    "        info_pipeline.execute()\n",
    "        metadata = info_pipeline.metadata\n",
    "        crs = metadata['metadata']['readers.las']['srs']['horizontal']\n",
    "\n",
    "        stats=process_extract_ground_elevations(las_file_path, resolution,crs=crs, output_tiff=output_tiff)\n",
    "\n",
    "        for attr in list(stats.keys()):\n",
    "            if attr not in gdf_updated.columns:\n",
    "                gdf_updated[attr]=np.nan\n",
    "        for attr in list(stats.keys()):\n",
    "            gdf_updated.at[i,attr]=stats[attr]\n",
    "    except Exception as e:\n",
    "        print(e)"
   ]
  },
  {
   "cell_type": "markdown",
   "metadata": {},
   "source": [
    "### Save stats to building points"
   ]
  },
  {
   "cell_type": "code",
   "execution_count": null,
   "metadata": {},
   "outputs": [],
   "source": [
    "gdf_updated.to_file(out_building_points)"
   ]
  },
  {
   "cell_type": "markdown",
   "metadata": {},
   "source": [
    "### Plot distributions"
   ]
  },
  {
   "cell_type": "code",
   "execution_count": null,
   "metadata": {},
   "outputs": [],
   "source": [
    "# gdf_updated = gpd.read_file(out_building_points)\n",
    "column_to_plot = 'lidar_elev_std'\n",
    "# Set up the figure\n",
    "plt.figure(figsize=(20, 6))\n",
    "# Plot histogram\n",
    "plt.subplot(2, 2, 1)\n",
    "gdf_updated[column_to_plot].hist(bins=200)\n",
    "plt.title('Std of filtered ground elevations (m)')"
   ]
  },
  {
   "cell_type": "code",
   "execution_count": null,
   "metadata": {},
   "outputs": [],
   "source": [
    "# gdf_updated = gpd.read_file(out_building_points)\n",
    "column_to_plot = 'lidar_elev_std'\n",
    "# Set up the figure\n",
    "plt.figure(figsize=(20, 6))\n",
    "# Plot histogram\n",
    "plt.subplot(2, 2, 1)\n",
    "(gdf_updated['lidar_elev_max'] - gdf_updated['lidar_elev_min']).hist(bins=200)\n",
    "plt.title('Range of filtered ground elevations (m)')"
   ]
  }
 ],
 "metadata": {
  "kernelspec": {
   "display_name": "pytorch",
   "language": "python",
   "name": "python3"
  },
  "language_info": {
   "codemirror_mode": {
    "name": "ipython",
    "version": 3
   },
   "file_extension": ".py",
   "mimetype": "text/x-python",
   "name": "python",
   "nbconvert_exporter": "python",
   "pygments_lexer": "ipython3",
   "version": "3.11.10"
  }
 },
 "nbformat": 4,
 "nbformat_minor": 2
}
