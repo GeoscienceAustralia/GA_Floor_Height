{
 "cells": [
  {
   "cell_type": "code",
   "execution_count": 10,
   "metadata": {},
   "outputs": [],
   "source": [
    "import boto3\n",
    "import struct\n",
    "import re\n",
    "import subprocess\n",
    "import json\n",
    "from shapely.geometry import box, mapping"
   ]
  },
  {
   "cell_type": "code",
   "execution_count": 11,
   "metadata": {},
   "outputs": [],
   "source": [
    "mfa_token = '793813' # replace with latest token\n",
    "cmd = (f'C:\\\\Program Files\\\\Amazon\\\\AWSCLIV2\\\\aws sts get-session-token --serial-number arn:aws:iam::693903849513:mfa/Lavender_AWS_MFA  --token-code {mfa_token}').split()\n",
    "result = subprocess.run(cmd, capture_output=True)\n",
    "bucket_name = 'frontiersi-p127-floor-height-private'\n",
    "\n",
    "# Check if the command was successful\n",
    "if result.returncode == 0:\n",
    "    # Parse JSON output into a dictionary\n",
    "    data = json.loads(result.stdout)\n",
    "    #print(data)  # Print or process the dictionary\n",
    "else:\n",
    "    print(\"Error:\", result.stderr)"
   ]
  },
  {
   "cell_type": "code",
   "execution_count": 12,
   "metadata": {},
   "outputs": [],
   "source": [
    "session = boto3.session.Session(\n",
    "    aws_access_key_id=data['Credentials']['AccessKeyId'],\n",
    "    aws_secret_access_key=data['Credentials']['SecretAccessKey'],\n",
    "    aws_session_token=data['Credentials']['SessionToken']\n",
    ")\n",
    "# Initialize an S3 client\n",
    "s3 = session.client('s3')"
   ]
  },
  {
   "cell_type": "code",
   "execution_count": 13,
   "metadata": {},
   "outputs": [],
   "source": [
    "# Read LAS header and extract bounding box info\n",
    "def read_las_header_from_s3(bucket, key):\n",
    "    try:\n",
    "        byte_range = 'bytes=0-374'  # LAS header is typically within the first 375 bytes\n",
    "        response = s3.get_object(Bucket=bucket, Key=key, Range=byte_range)\n",
    "        header = response['Body'].read()\n",
    "\n",
    "        # Extract bounding box (min/max X and Y)\n",
    "        min_x, max_x = struct.unpack('<dd', header[179:195])\n",
    "        min_y, max_y = struct.unpack('<dd', header[195:211])\n",
    "        min_z, max_z = struct.unpack('<dd', header[211:227])\n",
    "        point_count = struct.unpack('<I', header[247:251])[0]  # Total points\n",
    "\n",
    "        # Fallback: If point count is zero, download the full header file\n",
    "        if point_count == 0:\n",
    "            response = s3.get_object(Bucket=bucket, Key=key)\n",
    "            full_header = response['Body'].read(375)  # Read full header from complete file\n",
    "            point_count = struct.unpack('<I', full_header[247:251])[0]\n",
    "        return {\n",
    "            'min_x': min_x,\n",
    "            'max_x': max_x,\n",
    "            'min_y': min_y,\n",
    "            'max_y': max_y,\n",
    "            'min_z': min_z,\n",
    "            'max_z': max_z,\n",
    "            'point_count': point_count\n",
    "        }\n",
    "    except Exception as e:\n",
    "        print(f\"Failed to read {key}: {str(e)}\")\n",
    "        return None\n",
    "# Convert bounding box to GeoJSON feature\n",
    "def create_geojson_feature(tile_info, filename):\n",
    "    bbox = box(tile_info['min_x'], tile_info['min_y'], tile_info['max_x'], tile_info['max_y'])\n",
    "    feature = {\n",
    "        'type': 'Feature',\n",
    "        'geometry': mapping(bbox),\n",
    "        'properties': {\n",
    "            'filename': filename,\n",
    "            'point_count': tile_info['point_count'],\n",
    "            'min_z': tile_info['min_z'],\n",
    "            'max_z': tile_info['max_z'],\n",
    "            'crs': 'EPSG:28355'  # mga94 utm zone 55\n",
    "        }\n",
    "    }\n",
    "    return feature\n",
    "\n",
    "# Process all LAS files and generate GeoJSON\n",
    "def generate_geojson_from_s3(bucket_name, prefix, out_file):\n",
    "    paginator = s3.get_paginator('list_objects_v2')\n",
    "    page_iterator = paginator.paginate(Bucket=bucket_name, Prefix=prefix)\n",
    "\n",
    "    features = []\n",
    "    for page in page_iterator:\n",
    "        for obj in page.get('Contents', []):\n",
    "            if obj['Key'].endswith('.las'):\n",
    "                tile_info = read_las_header_from_s3(bucket_name, obj['Key'])\n",
    "                if tile_info:\n",
    "                    feature = create_geojson_feature(tile_info, obj['Key'])\n",
    "                    features.append(feature)\n",
    "\n",
    "    geojson = {\n",
    "        'type': 'FeatureCollection',\n",
    "        'crs': {\n",
    "            'type': 'name',\n",
    "            'properties': {\n",
    "                'name': 'EPSG:28355'  # mga94 utm zone 55\n",
    "            }\n",
    "        },\n",
    "        'features': features\n",
    "    }\n",
    "\n",
    "    # Save GeoJSON to file\n",
    "    with open(out_file, 'w') as f:\n",
    "        json.dump(geojson, f, indent=4)\n",
    "\n",
    "    print(\"GeoJSON file generated: \",out_file)"
   ]
  },
  {
   "cell_type": "code",
   "execution_count": 14,
   "metadata": {},
   "outputs": [
    {
     "name": "stdout",
     "output_type": "stream",
     "text": [
      "GeoJSON file generated:  C:\\Users\\lliu\\Desktop\\FrontierSI\\projects\\GA_floor_height\\QA4lidar\\tile_bbox.geojson\n"
     ]
    }
   ],
   "source": [
    "bucket_name = 'frontiersi-p127-floor-height-private'\n",
    "prefix = 'lidar/qa4mobile/'\n",
    "out_file=r'C:\\Users\\lliu\\Desktop\\FrontierSI\\projects\\GA_floor_height\\QA4lidar\\tile_bbox.geojson'\n",
    "generate_geojson_from_s3(bucket_name, prefix,out_file)"
   ]
  }
 ],
 "metadata": {
  "kernelspec": {
   "display_name": "floorheight",
   "language": "python",
   "name": "python3"
  },
  "language_info": {
   "codemirror_mode": {
    "name": "ipython",
    "version": 3
   },
   "file_extension": ".py",
   "mimetype": "text/x-python",
   "name": "python",
   "nbconvert_exporter": "python",
   "pygments_lexer": "ipython3",
   "version": "3.10.15"
  }
 },
 "nbformat": 4,
 "nbformat_minor": 2
}
