{
 "cells": [
  {
   "cell_type": "code",
   "execution_count": 4,
   "metadata": {},
   "outputs": [],
   "source": [
    "import pandas as pd\n",
    "import boto3\n",
    "import subprocess\n",
    "import json\n",
    "import os"
   ]
  },
  {
   "cell_type": "code",
   "execution_count": 5,
   "metadata": {},
   "outputs": [],
   "source": [
    "def csv_to_geojson(csv_file, attr_lat, attr_lon, attr_elev,output_geojson_file):\n",
    "    \"\"\"\n",
    "    Converts a CSV file with latitude, longitude, and altitude to a GeoJSON file with EPSG:7844 CRS.\n",
    "    All other columns in the CSV are included as properties in the GeoJSON features.\n",
    "    \n",
    "    Args:\n",
    "        csv_file (str): Path to the input CSV file.\n",
    "        output_geojson_file (str): Path to the output GeoJSON file.\n",
    "    \"\"\"\n",
    "    try:\n",
    "        # Read the CSV file\n",
    "        df = pd.read_csv(csv_file)\n",
    "        \n",
    "        # Validate required columns\n",
    "        required_columns = [attr_lat, attr_lon, attr_elev]\n",
    "        if not all(column in df.columns for column in required_columns):\n",
    "            raise ValueError(f\"CSV file must contain the following columns: {required_columns}\")\n",
    "        \n",
    "        # Create a list to hold the GeoJSON features\n",
    "        features = []\n",
    "        \n",
    "        # Iterate over each row in the DataFrame\n",
    "        for index, row in df.iterrows():\n",
    "            # Extract latitude, longitude, and altitude\n",
    "            lat = row[attr_lat]\n",
    "            lon = row[attr_lon]\n",
    "            altitude = row[attr_elev]\n",
    "            \n",
    "            # Create a GeoJSON Point geometry\n",
    "            point = {\n",
    "                \"type\": \"Point\",\n",
    "                \"coordinates\": [lon, lat, altitude]\n",
    "            }\n",
    "            \n",
    "            # Create a properties dictionary with all other columns\n",
    "            properties = row.drop([attr_lat, attr_lon, attr_elev]).to_dict()\n",
    "            \n",
    "            # Create a GeoJSON feature with the point and properties\n",
    "            feature = {\n",
    "                \"type\": \"Feature\",\n",
    "                \"geometry\": point,\n",
    "                \"properties\": properties\n",
    "            }\n",
    "            \n",
    "            # Add the feature to the list\n",
    "            features.append(feature)\n",
    "        \n",
    "        # Create a GeoJSON FeatureCollection\n",
    "        feature_collection = {\n",
    "            \"type\": \"FeatureCollection\",\n",
    "            \"features\": features,\n",
    "            \"crs\": {\n",
    "                \"type\": \"name\",\n",
    "                \"properties\": {\n",
    "                    \"name\": \"urn:ogc:def:crs:EPSG::7844\" # update to match the data CRS\n",
    "                }\n",
    "            }\n",
    "        }\n",
    "        \n",
    "        # Write the FeatureCollection to a GeoJSON file\n",
    "        with open(output_geojson_file, 'w') as f:\n",
    "            json.dump(feature_collection, f, indent=4)\n",
    "        \n",
    "        print(f\"GeoJSON file saved to {output_geojson_file}\")\n",
    "    \n",
    "    except Exception as e:\n",
    "        print(f\"An error occurred: {e}\")"
   ]
  },
  {
   "cell_type": "code",
   "execution_count": 6,
   "metadata": {},
   "outputs": [],
   "source": [
    "csv_file = 'output/panorama/FramePosOptimised-wagga-wagga.csv'  # output CSV file path\n",
    "output_geojson_file = 'output/panorama/FramePosOptimised-wagga-wagga_EPSG7844.geojson'  # output GeoJSON file path\n",
    "\n",
    "s3_bucket = 'frontiersi-p127-floor-height-woolpert'\n",
    "object_key='01_WaggaWagga/03_Ancillary/02_TrajectoryFiles/rev1/FramePosOptimised-wagga-wagga.csv'\n"
   ]
  },
  {
   "cell_type": "code",
   "execution_count": 7,
   "metadata": {},
   "outputs": [],
   "source": [
    "# set up connection to s2 bucket\n",
    "mfa_token = '821214'\n",
    "# cmd = (f'C:\\\\Program Files\\\\Amazon\\\\AWSCLIV2\\\\aws sts get-session-token --serial-number arn:aws:iam::693903849513:mfa/Lavender_AWS_MFA  --token-code {mfa_token}').split()\n",
    "cmd = (f'aws sts get-session-token --serial-number arn:aws:iam::693903849513:mfa/Lavender_AWS_MFA  --token-code {mfa_token}').split()\n",
    "result = subprocess.run(cmd, capture_output=True)\n",
    "# Check if the command was successful\n",
    "if result.returncode == 0:\n",
    "    # Parse JSON output into a dictionary\n",
    "    data = json.loads(result.stdout)\n",
    "    #print(data)  # Print or process the dictionary\n",
    "else:\n",
    "    print(\"Error:\", result.stderr)\n",
    "\n",
    "session = boto3.session.Session(\n",
    "    aws_access_key_id=data['Credentials']['AccessKeyId'],\n",
    "    aws_secret_access_key=data['Credentials']['SecretAccessKey'],\n",
    "    aws_session_token=data['Credentials']['SessionToken']\n",
    ")\n",
    "# Initialize an S3 client\n",
    "s3_client = session.client('s3')\n"
   ]
  },
  {
   "cell_type": "code",
   "execution_count": 8,
   "metadata": {},
   "outputs": [],
   "source": [
    "# download trajectory file\n",
    "s3_client.download_file(s3_bucket, object_key, csv_file)\n"
   ]
  },
  {
   "cell_type": "code",
   "execution_count": 9,
   "metadata": {},
   "outputs": [
    {
     "name": "stdout",
     "output_type": "stream",
     "text": [
      "GeoJSON file saved to output/panorama/FramePosOptimised-wagga-wagga_EPSG7844.geojson\n"
     ]
    }
   ],
   "source": [
    "# convert to csv\n",
    "csv_to_geojson(csv_file, 'Latitude_deg', 'Longitude_deg', 'Altitude_m', output_geojson_file)"
   ]
  },
  {
   "cell_type": "code",
   "execution_count": null,
   "metadata": {},
   "outputs": [],
   "source": []
  }
 ],
 "metadata": {
  "kernelspec": {
   "display_name": "pytorch",
   "language": "python",
   "name": "python3"
  },
  "language_info": {
   "codemirror_mode": {
    "name": "ipython",
    "version": 3
   },
   "file_extension": ".py",
   "mimetype": "text/x-python",
   "name": "python",
   "nbconvert_exporter": "python",
   "pygments_lexer": "ipython3",
   "version": "3.11.10"
  }
 },
 "nbformat": 4,
 "nbformat_minor": 2
}
