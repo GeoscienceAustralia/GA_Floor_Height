{
 "cells": [
  {
   "cell_type": "markdown",
   "metadata": {},
   "source": [
    "This notebook demonstrates projection of point cloud at the viewpoint of nearby panorma as rasters, and export clipped rasters."
   ]
  },
  {
   "cell_type": "code",
   "execution_count": null,
   "metadata": {},
   "outputs": [],
   "source": [
    "import numpy as np\n",
    "from matplotlib import cm\n",
    "from matplotlib import pyplot as plt\n",
    "from pyproj import Transformer\n",
    "from scipy.spatial.transform import Rotation as R\n",
    "# from lidar.point_cloud_processings import remove_noise, get_rotation_matrix, project_lidar_perspective, project_lidar_equirectangular\n",
    "import geopandas as gpd\n",
    "import pdal\n",
    "import glob\n",
    "import pyproj"
   ]
  },
  {
   "cell_type": "markdown",
   "metadata": {},
   "source": [
    "### Load building points"
   ]
  },
  {
   "cell_type": "code",
   "execution_count": 3,
   "metadata": {},
   "outputs": [
    {
     "data": {
      "text/html": [
       "<div>\n",
       "<style scoped>\n",
       "    .dataframe tbody tr th:only-of-type {\n",
       "        vertical-align: middle;\n",
       "    }\n",
       "\n",
       "    .dataframe tbody tr th {\n",
       "        vertical-align: top;\n",
       "    }\n",
       "\n",
       "    .dataframe thead th {\n",
       "        text-align: right;\n",
       "    }\n",
       "</style>\n",
       "<table border=\"1\" class=\"dataframe\">\n",
       "  <thead>\n",
       "    <tr style=\"text-align: right;\">\n",
       "      <th></th>\n",
       "      <th>WALL_M</th>\n",
       "      <th>STEPS</th>\n",
       "      <th>USAGE</th>\n",
       "      <th>STOREYS</th>\n",
       "      <th>ASSESSOR</th>\n",
       "      <th>address</th>\n",
       "      <th>Area_1</th>\n",
       "      <th>PMF</th>\n",
       "      <th>Dep_500</th>\n",
       "      <th>Dep_200</th>\n",
       "      <th>...</th>\n",
       "      <th>LTP_x_m</th>\n",
       "      <th>LTP_y_m</th>\n",
       "      <th>LTP_z_m</th>\n",
       "      <th>Roll_deg</th>\n",
       "      <th>Pitch_deg</th>\n",
       "      <th>Heading_deg</th>\n",
       "      <th>FRAMEID</th>\n",
       "      <th>IMGID</th>\n",
       "      <th>distance</th>\n",
       "      <th>geometry</th>\n",
       "    </tr>\n",
       "  </thead>\n",
       "  <tbody>\n",
       "    <tr>\n",
       "      <th>0</th>\n",
       "      <td>Brick</td>\n",
       "      <td>1</td>\n",
       "      <td>Residential</td>\n",
       "      <td>1</td>\n",
       "      <td>ROBERT</td>\n",
       "      <td>28 SPRING STREET</td>\n",
       "      <td>128.806974</td>\n",
       "      <td>6.9281</td>\n",
       "      <td>2.1277</td>\n",
       "      <td>-9999.0000</td>\n",
       "      <td>...</td>\n",
       "      <td>532008.2113</td>\n",
       "      <td>6114398.715</td>\n",
       "      <td>180.0966</td>\n",
       "      <td>-0.343451</td>\n",
       "      <td>-1.215830</td>\n",
       "      <td>166.445703</td>\n",
       "      <td>1739405253-0000003052</td>\n",
       "      <td>0504_1739405253-0000003052_Panorama_20250213_G...</td>\n",
       "      <td>18.901973</td>\n",
       "      <td>POINT (532026.09 6114393.029)</td>\n",
       "    </tr>\n",
       "    <tr>\n",
       "      <th>1</th>\n",
       "      <td>Brick</td>\n",
       "      <td>2</td>\n",
       "      <td>Residential</td>\n",
       "      <td>1</td>\n",
       "      <td>ROBERT</td>\n",
       "      <td>9 NORTH PARADE</td>\n",
       "      <td>154.755345</td>\n",
       "      <td>6.5745</td>\n",
       "      <td>-9999.0000</td>\n",
       "      <td>-9999.0000</td>\n",
       "      <td>...</td>\n",
       "      <td>532188.2897</td>\n",
       "      <td>6114311.309</td>\n",
       "      <td>180.7244</td>\n",
       "      <td>1.000789</td>\n",
       "      <td>-0.061197</td>\n",
       "      <td>-101.069299</td>\n",
       "      <td>1739405253-0000003272</td>\n",
       "      <td>0505_1739405253-0000003272_Panorama_20250213_G...</td>\n",
       "      <td>19.948013</td>\n",
       "      <td>POINT (532190.774 6114329.585)</td>\n",
       "    </tr>\n",
       "    <tr>\n",
       "      <th>2</th>\n",
       "      <td>Brick</td>\n",
       "      <td>1</td>\n",
       "      <td>Residential</td>\n",
       "      <td>2</td>\n",
       "      <td>ROBERT</td>\n",
       "      <td>4 THOMAS STREET</td>\n",
       "      <td>294.580219</td>\n",
       "      <td>6.8309</td>\n",
       "      <td>2.1030</td>\n",
       "      <td>1.1167</td>\n",
       "      <td>...</td>\n",
       "      <td>531982.4553</td>\n",
       "      <td>6114575.693</td>\n",
       "      <td>180.1386</td>\n",
       "      <td>0.110114</td>\n",
       "      <td>-0.999721</td>\n",
       "      <td>19.648854</td>\n",
       "      <td>1739332533-0000003367</td>\n",
       "      <td>0448_1739332533-0000003367_Panorama_20250212_G...</td>\n",
       "      <td>21.276532</td>\n",
       "      <td>POINT (531961.945 6114566.928)</td>\n",
       "    </tr>\n",
       "    <tr>\n",
       "      <th>3</th>\n",
       "      <td>Brick</td>\n",
       "      <td>1</td>\n",
       "      <td>Residential</td>\n",
       "      <td>1</td>\n",
       "      <td>ROBERT</td>\n",
       "      <td>40 SLOCUM STREET</td>\n",
       "      <td>290.352249</td>\n",
       "      <td>6.2612</td>\n",
       "      <td>1.6366</td>\n",
       "      <td>0.5181</td>\n",
       "      <td>...</td>\n",
       "      <td>532022.1804</td>\n",
       "      <td>6115201.164</td>\n",
       "      <td>180.9586</td>\n",
       "      <td>-0.614706</td>\n",
       "      <td>-0.105462</td>\n",
       "      <td>-71.002953</td>\n",
       "      <td>1739332533-0000006081</td>\n",
       "      <td>0274_1739332533-0000006081_Panorama_20250212_G...</td>\n",
       "      <td>12.458696</td>\n",
       "      <td>POINT (532025.932 6115188.022)</td>\n",
       "    </tr>\n",
       "    <tr>\n",
       "      <th>4</th>\n",
       "      <td>Brick</td>\n",
       "      <td>1</td>\n",
       "      <td>Residential</td>\n",
       "      <td>1</td>\n",
       "      <td>ROBERT</td>\n",
       "      <td>13 EVANS STREET</td>\n",
       "      <td>205.000441</td>\n",
       "      <td>5.7174</td>\n",
       "      <td>1.1566</td>\n",
       "      <td>-9999.0000</td>\n",
       "      <td>...</td>\n",
       "      <td>532032.1509</td>\n",
       "      <td>6114917.196</td>\n",
       "      <td>180.3083</td>\n",
       "      <td>-0.504672</td>\n",
       "      <td>1.289210</td>\n",
       "      <td>-159.715010</td>\n",
       "      <td>1739332533-0000007076</td>\n",
       "      <td>0344_1739332533-0000007076_Panorama_20250212_G...</td>\n",
       "      <td>27.159260</td>\n",
       "      <td>POINT (532057.001 6114925.415)</td>\n",
       "    </tr>\n",
       "  </tbody>\n",
       "</table>\n",
       "<p>5 rows × 42 columns</p>\n",
       "</div>"
      ],
      "text/plain": [
       "  WALL_M  STEPS        USAGE  STOREYS ASSESSOR           address      Area_1  \\\n",
       "0  Brick      1  Residential        1   ROBERT  28 SPRING STREET  128.806974   \n",
       "1  Brick      2  Residential        1   ROBERT    9 NORTH PARADE  154.755345   \n",
       "2  Brick      1  Residential        2   ROBERT   4 THOMAS STREET  294.580219   \n",
       "3  Brick      1  Residential        1   ROBERT  40 SLOCUM STREET  290.352249   \n",
       "4  Brick      1  Residential        1   ROBERT   13 EVANS STREET  205.000441   \n",
       "\n",
       "      PMF    Dep_500    Dep_200  ...      LTP_x_m      LTP_y_m   LTP_z_m  \\\n",
       "0  6.9281     2.1277 -9999.0000  ...  532008.2113  6114398.715  180.0966   \n",
       "1  6.5745 -9999.0000 -9999.0000  ...  532188.2897  6114311.309  180.7244   \n",
       "2  6.8309     2.1030     1.1167  ...  531982.4553  6114575.693  180.1386   \n",
       "3  6.2612     1.6366     0.5181  ...  532022.1804  6115201.164  180.9586   \n",
       "4  5.7174     1.1566 -9999.0000  ...  532032.1509  6114917.196  180.3083   \n",
       "\n",
       "   Roll_deg  Pitch_deg  Heading_deg                FRAMEID  \\\n",
       "0 -0.343451  -1.215830   166.445703  1739405253-0000003052   \n",
       "1  1.000789  -0.061197  -101.069299  1739405253-0000003272   \n",
       "2  0.110114  -0.999721    19.648854  1739332533-0000003367   \n",
       "3 -0.614706  -0.105462   -71.002953  1739332533-0000006081   \n",
       "4 -0.504672   1.289210  -159.715010  1739332533-0000007076   \n",
       "\n",
       "                                               IMGID   distance  \\\n",
       "0  0504_1739405253-0000003052_Panorama_20250213_G...  18.901973   \n",
       "1  0505_1739405253-0000003272_Panorama_20250213_G...  19.948013   \n",
       "2  0448_1739332533-0000003367_Panorama_20250212_G...  21.276532   \n",
       "3  0274_1739332533-0000006081_Panorama_20250212_G...  12.458696   \n",
       "4  0344_1739332533-0000007076_Panorama_20250212_G...  27.159260   \n",
       "\n",
       "                         geometry  \n",
       "0   POINT (532026.09 6114393.029)  \n",
       "1  POINT (532190.774 6114329.585)  \n",
       "2  POINT (531961.945 6114566.928)  \n",
       "3  POINT (532025.932 6115188.022)  \n",
       "4  POINT (532057.001 6114925.415)  \n",
       "\n",
       "[5 rows x 42 columns]"
      ]
     },
     "execution_count": 3,
     "metadata": {},
     "output_type": "execute_result"
    }
   ],
   "source": [
    "building_points_file=r'/home/ubuntu/lavender_floor_height/output/Final_Wagga_training_samples_pano_metadata.geojson'\n",
    "gdf_building_points=gpd.read_file(building_points_file)\n",
    "gdf_building_points=gdf_building_points[gdf_building_points[\"USAGE\"]==\"Residential\"].reset_index(drop=True)\n",
    "gdf_building_points.head()"
   ]
  },
  {
   "cell_type": "markdown",
   "metadata": {},
   "source": [
    "### Convert heading angles"
   ]
  },
  {
   "cell_type": "code",
   "execution_count": 4,
   "metadata": {},
   "outputs": [],
   "source": [
    "gdf_building_points['Heading_deg'] *= -1\n",
    "gdf_building_points.loc[gdf_building_points['Heading_deg'] < 0, 'Heading_deg'] += 360"
   ]
  },
  {
   "cell_type": "code",
   "execution_count": 5,
   "metadata": {},
   "outputs": [],
   "source": [
    "las_files_folder = r\"/mnt/floorheightvolume/lidar_Wagga/clipped/\""
   ]
  },
  {
   "cell_type": "markdown",
   "metadata": {},
   "source": [
    "## Test with one building example"
   ]
  },
  {
   "cell_type": "markdown",
   "metadata": {},
   "source": [
    "### Identify corresponding las file"
   ]
  },
  {
   "cell_type": "code",
   "execution_count": 6,
   "metadata": {},
   "outputs": [],
   "source": [
    "# building_ufi=1271\n",
    "# gdf_building_points[gdf_building_points['UFI']==building_ufi]"
   ]
  },
  {
   "cell_type": "code",
   "execution_count": 7,
   "metadata": {},
   "outputs": [
    {
     "data": {
      "text/plain": [
       "'/mnt/floorheightvolume/lidar_Wagga/clipped/gnaf_GANSW706136463_UFI_1271.las'"
      ]
     },
     "execution_count": 7,
     "metadata": {},
     "output_type": "execute_result"
    }
   ],
   "source": [
    "i=90\n",
    "building_ufi=gdf_building_points.iloc[i]['UFI']\n",
    "las_file_path=glob.glob(las_files_folder+'*'+'_UFI_'+str(building_ufi)+'.las')[0]\n",
    "las_file_path"
   ]
  },
  {
   "cell_type": "code",
   "execution_count": 8,
   "metadata": {},
   "outputs": [],
   "source": [
    "def project_las_to_equirectangular(\n",
    "    input_las,\n",
    "    camera_pos=[0, 0, 0],\n",
    "    camera_angles=[0,0,0],\n",
    "    width=2048,\n",
    "    height=1024\n",
    "):\n",
    "    \"\"\"\n",
    "    Projects LAS to equirectangular maps with intrinsic XYZ rotation.\n",
    "    Returns:\n",
    "        rgb_raster (np.uint8): (H,W,3) RGB image\n",
    "        z_raster (np.float32): (H,W) elevation map\n",
    "        depth_raster (np.float32): (H,W) depth map\n",
    "        class_raster (np.float32): (H,W) classification map\n",
    "    \"\"\"\n",
    "    # --- Data Loading ---\n",
    "    pipeline = pdal.Reader.las(filename=input_las).pipeline()\n",
    "    pipeline.execute()\n",
    "    points = pipeline.arrays[0]\n",
    "    x, y, z = points[\"X\"], points[\"Y\"], points[\"Z\"]\n",
    "    rgb = np.vstack([points[\"Red\"], points[\"Green\"], points[\"Blue\"]]).T/256\n",
    "    classification = points[\"Classification\"].astype(np.uint8)\n",
    "    print(\"RGB min/max:\", rgb.min(axis=0), rgb.max(axis=0))\n",
    "\n",
    "    # --- Coordinate Transformation ---\n",
    "    # Convert angles to radians\n",
    "    yaw_rad = np.radians(camera_angles[0])\n",
    "    pitch_rad = np.radians(camera_angles[1])\n",
    "    roll_rad = np.radians(camera_angles[2])\n",
    "\n",
    "    # Translate to camera origin\n",
    "    x -= camera_pos[0]\n",
    "    y -= camera_pos[1]\n",
    "    z -= camera_pos[2]\n",
    "\n",
    "    # Intrinsic XYZ rotation matrices\n",
    "    R_roll = np.array([\n",
    "        [1, 0, 0],\n",
    "        [0, np.cos(roll_rad), -np.sin(roll_rad)],\n",
    "        [0, np.sin(roll_rad), np.cos(roll_rad)]\n",
    "    ])\n",
    "    R_pitch = np.array([\n",
    "        [np.cos(pitch_rad), 0, np.sin(pitch_rad)],\n",
    "        [0, 1, 0],\n",
    "        [-np.sin(pitch_rad), 0, np.cos(pitch_rad)]\n",
    "    ])\n",
    "    R_heading = np.array([\n",
    "        [np.cos(yaw_rad), -np.sin(yaw_rad), 0],\n",
    "        [np.sin(yaw_rad), np.cos(yaw_rad), 0],\n",
    "        [0, 0, 1]\n",
    "    ])\n",
    "    R_total = R_heading @ R_pitch @ R_roll  # Intrinsic XYZ order\n",
    "\n",
    "    # Apply rotation\n",
    "    coords = np.vstack([x, y, z])\n",
    "    coords_local = R_total @ coords\n",
    "\n",
    "    # Transform to camera coordinate convention:\n",
    "    #    LiDAR's +Z (up) should become camera's +Y (down)\n",
    "    #    LiDAR's +Y (north) should become camera's -Z (forward)\n",
    "    x_cam = coords_local[0]\n",
    "    y_cam = -coords_local[2]  # LiDAR Z (up) -> Camera Y (down)\n",
    "    z_cam = coords_local[1]   # LiDAR Y (north) -> Camera Z (forward)\n",
    "\n",
    "    # --- Equirectangular Projection ---\n",
    "    r = np.sqrt(x_cam**2 + y_cam**2 + z_cam**2)  # Depth\n",
    "    theta = np.arctan2(x_cam, z_cam)               # Azimuth\n",
    "    phi = np.arccos(-y_cam / r)                       # flip Zenith\n",
    "\n",
    "    print(\"Theta range:\", np.min(theta), np.max(theta))\n",
    "    print(\"Phi range (deg):\", np.degrees(np.min(phi)), np.degrees(np.max(phi)))\n",
    "    # Pixel coordinates\n",
    "    u = (theta + np.pi) / (2 * np.pi) * width\n",
    "    v = phi / np.pi * height\n",
    "    u_idx = np.round(u).astype(int) % width\n",
    "    v_idx = np.clip(np.round(v).astype(int), 0, height - 1)\n",
    "\n",
    "    # --- Rasterization ---\n",
    "    rgb_raster = np.zeros((height, width, 3), dtype=np.uint8)\n",
    "    z_raster = np.full((height, width), np.nan, dtype=np.float32)\n",
    "    depth_raster = np.full((height, width), np.inf)\n",
    "    class_raster = np.zeros((height, width), dtype=np.uint8)\n",
    "\n",
    "    # rgb_raster[v_idx, u_idx] = rgb\n",
    "    # z_raster[v_idx, u_idx] = z + camera_pos[2]\n",
    "    # depth_raster[v_idx, u_idx] = r\n",
    "\n",
    "    # Rasterize closest points\n",
    "    for i in range(len(u_idx)):\n",
    "        row, col = v_idx[i], u_idx[i]\n",
    "        if r[i] < depth_raster[row, col]:\n",
    "            depth_raster[row, col] = r[i]\n",
    "            rgb_raster[row, col] = rgb[i]\n",
    "            z_raster[row, col] = z[i] + camera_pos[2]\n",
    "            class_raster[row, col] = classification[i]\n",
    "            \n",
    "    # Cleanup\n",
    "    z_raster[depth_raster == np.inf] = np.nan\n",
    "    class_raster[depth_raster == np.inf] = 0\n",
    "    \n",
    "    return rgb_raster, z_raster, depth_raster, class_raster\n"
   ]
  },
  {
   "cell_type": "code",
   "execution_count": 9,
   "metadata": {},
   "outputs": [
    {
     "data": {
      "text/plain": [
       "Index(['WALL_M', 'STEPS', 'USAGE', 'STOREYS', 'ASSESSOR', 'address', 'Area_1',\n",
       "       'PMF', 'Dep_500', 'Dep_200', 'Dep_100', 'Dep_50', 'Dep_20', 'Dep_10',\n",
       "       'Ground_Lev', 'Floor_Leve', 'AGE', 'UFI', 'ZONE_DESCR', 'Floor_height',\n",
       "       'Ground_surveyed', 'cluster', 'Ground_Level_bin', 'index_right', 'ucid',\n",
       "       'LONGITUDE', 'LATITUDE', 'ELEVATION', 'Frame_filename', 'dRMS',\n",
       "       'Systemtime_sec', 'Frame_index', 'LTP_x_m', 'LTP_y_m', 'LTP_z_m',\n",
       "       'Roll_deg', 'Pitch_deg', 'Heading_deg', 'FRAMEID', 'IMGID', 'distance',\n",
       "       'geometry'],\n",
       "      dtype='object')"
      ]
     },
     "execution_count": 9,
     "metadata": {},
     "output_type": "execute_result"
    }
   ],
   "source": [
    "gdf_building_points.columns"
   ]
  },
  {
   "cell_type": "markdown",
   "metadata": {},
   "source": [
    "### Reproject trajectory coordinates to match lidar points"
   ]
  },
  {
   "cell_type": "code",
   "execution_count": 12,
   "metadata": {},
   "outputs": [
    {
     "data": {
      "text/plain": [
       "[531981.7644594751, 6114520.6306446185, np.float64(180.327)]"
      ]
     },
     "execution_count": 12,
     "metadata": {},
     "output_type": "execute_result"
    }
   ],
   "source": [
    "transformer = pyproj.Transformer.from_crs(\n",
    "    \"EPSG:7844\",  # GDA2020 geographic (lat/lon)\n",
    "    \"EPSG:7855\",      # MGA Zone 55 (EPSG:7855)\n",
    "    always_xy=True\n",
    ")\n",
    "# lat, lon, elev = [gdf_building_points.iloc[i]['LATITUDE'],gdf_building_points.iloc[i]['LONGITUDE'],gdf_building_points.iloc[i]['ELEVATION']]\n",
    "lat, lon, elev = [gdf_building_points.iloc[i]['LATITUDE'],gdf_building_points.iloc[i]['LONGITUDE'],gdf_building_points.iloc[i]['LTP_z_m']] # TODO: confirming lidar data is in AHD\n",
    "x_proj, y_proj = transformer.transform(lon, lat)  # lon, lat order\n",
    "camera_pos_proj = [x_proj, y_proj, elev]\n",
    "camera_pos_proj"
   ]
  },
  {
   "cell_type": "code",
   "execution_count": 14,
   "metadata": {},
   "outputs": [
    {
     "data": {
      "text/plain": [
       "[np.float64(281.856283), np.float64(-0.249928), np.float64(1.843393)]"
      ]
     },
     "execution_count": 14,
     "metadata": {},
     "output_type": "execute_result"
    }
   ],
   "source": [
    "camera_angles=[gdf_building_points.iloc[i]['Heading_deg'], gdf_building_points.iloc[i]['Pitch_deg'], gdf_building_points.iloc[i]['Roll_deg']]\n",
    "camera_angles"
   ]
  },
  {
   "cell_type": "markdown",
   "metadata": {},
   "source": [
    "### Project the point cloud as rasters"
   ]
  },
  {
   "cell_type": "code",
   "execution_count": null,
   "metadata": {},
   "outputs": [
    {
     "name": "stdout",
     "output_type": "stream",
     "text": [
      "RGB min/max: [0. 0. 0.] [255. 255. 255.]\n",
      "Theta range: -2.13943346152298 -0.8988441179617334\n",
      "Phi range (deg): 81.43736836151186 101.94278462381118\n"
     ]
    }
   ],
   "source": [
    "rgb, z, depth, classification = project_las_to_equirectangular(\n",
    "    input_las=las_file_path,\n",
    "    camera_pos=camera_pos_proj,\n",
    "    camera_angles=camera_angles,\n",
    "    width=2048,  # Reduced for faster testing\n",
    "    height=1024\n",
    ")"
   ]
  },
  {
   "cell_type": "markdown",
   "metadata": {},
   "source": [
    "### Visualise rasters"
   ]
  },
  {
   "cell_type": "code",
   "execution_count": 132,
   "metadata": {},
   "outputs": [
    {
     "data": {
      "text/plain": [
       "Text(0.5, 1.0, 'RGB Panorama')"
      ]
     },
     "execution_count": 132,
     "metadata": {},
     "output_type": "execute_result"
    },
    {
     "data": {
      "image/png": "[encoded data removed]",
      "text/plain": [
       "<Figure size 1200x600 with 1 Axes>"
      ]
     },
     "metadata": {},
     "output_type": "display_data"
    }
   ],
   "source": [
    "fig, axes = plt.subplots(1, 1, figsize=(12, 6))\n",
    "# RGB plot\n",
    "axes.imshow(rgb)\n",
    "axes.set_title(\"RGB Panorama\")"
   ]
  },
  {
   "cell_type": "code",
   "execution_count": 131,
   "metadata": {},
   "outputs": [
    {
     "data": {
      "text/plain": [
       "Text(0.5, 1.0, 'Elevation Map (Z)')"
      ]
     },
     "execution_count": 131,
     "metadata": {},
     "output_type": "execute_result"
    },
    {
     "data": {
      "image/png": "[encoded data removed]",
      "text/plain": [
       "<Figure size 1200x600 with 1 Axes>"
      ]
     },
     "metadata": {},
     "output_type": "display_data"
    }
   ],
   "source": [
    "# Elevation plot\n",
    "fig, axes = plt.subplots(1, 1, figsize=(12, 6))\n",
    "axes.imshow(z, cmap=cm.viridis)\n",
    "axes.set_title(\"Elevation Map (Z)\")"
   ]
  },
  {
   "cell_type": "code",
   "execution_count": 130,
   "metadata": {},
   "outputs": [
    {
     "data": {
      "text/plain": [
       "Text(0.5, 1.0, 'Depth Map')"
      ]
     },
     "execution_count": 130,
     "metadata": {},
     "output_type": "execute_result"
    },
    {
     "data": {
      "image/png": "[encoded data removed]",
      "text/plain": [
       "<Figure size 1200x600 with 1 Axes>"
      ]
     },
     "metadata": {},
     "output_type": "display_data"
    }
   ],
   "source": [
    "# Depth plot\n",
    "fig, axes = plt.subplots(1, 1, figsize=(12, 6))\n",
    "axes.imshow(depth, cmap=cm.viridis)\n",
    "axes.set_title(\"Depth Map\")"
   ]
  },
  {
   "cell_type": "code",
   "execution_count": 140,
   "metadata": {},
   "outputs": [
    {
     "data": {
      "text/plain": [
       "Text(0.5, 1.0, 'Classification Map')"
      ]
     },
     "execution_count": 140,
     "metadata": {},
     "output_type": "execute_result"
    },
    {
     "data": {
      "image/png": "[encoded data removed]",
      "text/plain": [
       "<Figure size 1200x600 with 1 Axes>"
      ]
     },
     "metadata": {},
     "output_type": "display_data"
    }
   ],
   "source": [
    "# Classification plot\n",
    "fig, axes = plt.subplots(1, 1, figsize=(12, 6))\n",
    "axes.imshow(classification, cmap=cm.Set1,interpolation=None)\n",
    "axes.set_title(\"Classification Map\")"
   ]
  },
  {
   "cell_type": "markdown",
   "metadata": {},
   "source": [
    "### Clip projected rasters"
   ]
  },
  {
   "cell_type": "markdown",
   "metadata": {},
   "source": [
    "### Save rasters"
   ]
  },
  {
   "cell_type": "markdown",
   "metadata": {},
   "source": [
    "## Batch apply to all buildings with nearby panoramas"
   ]
  }
 ],
 "metadata": {
  "kernelspec": {
   "display_name": "pytorch",
   "language": "python",
   "name": "python3"
  },
  "language_info": {
   "codemirror_mode": {
    "name": "ipython",
    "version": 3
   },
   "file_extension": ".py",
   "mimetype": "text/x-python",
   "name": "python",
   "nbconvert_exporter": "python",
   "pygments_lexer": "ipython3",
   "version": "3.11.10"
  }
 },
 "nbformat": 4,
 "nbformat_minor": 2
}
