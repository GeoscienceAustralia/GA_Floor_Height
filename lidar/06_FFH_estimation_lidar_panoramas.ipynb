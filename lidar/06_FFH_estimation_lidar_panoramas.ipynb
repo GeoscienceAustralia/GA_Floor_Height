{
 "cells": [
  {
   "cell_type": "markdown",
   "metadata": {},
   "source": [
    "This notebook uses feature detection results from streetview images, elevation and classification rasters of building facades derived from lidar data, to calculate FFH."
   ]
  },
  {
   "cell_type": "markdown",
   "metadata": {},
   "source": [
    "## Load modules"
   ]
  },
  {
   "cell_type": "code",
   "execution_count": null,
   "metadata": {},
   "outputs": [],
   "source": [
    "%load_ext autoreload\n",
    "%autoreload 2"
   ]
  },
  {
   "cell_type": "code",
   "execution_count": null,
   "metadata": {},
   "outputs": [],
   "source": [
    "import numpy as np\n",
    "import os\n",
    "import glob\n",
    "from PIL import Image\n",
    "# from GSV.geometry import extract_feature_pixels_lowest_region, calculate_height_difference, calculate_width_difference, estimate_FFH, estimate_FFE\n",
    "import geopandas as gpd\n",
    "import matplotlib.pyplot as plt\n",
    "from sklearn.metrics import root_mean_squared_error, mean_absolute_error\n",
    "from tqdm import tqdm\n",
    "import pandas as pd\n",
    "import numpy as np\n",
    "from scipy.ndimage import label, generate_binary_structure"
   ]
  },
  {
   "cell_type": "markdown",
   "metadata": {},
   "source": [
    "## Set input parameters\n",
    "* building points containing ground elevation data\n",
    "* object detection results from streetview panoramas, containing buildnig ID and panorama ID\n",
    "* folder containing building facade elevation and classifcation rasters"
   ]
  },
  {
   "cell_type": "code",
   "execution_count": null,
   "metadata": {},
   "outputs": [],
   "source": [
    "building_points_file=r'/home/ubuntu/lavender_floor_height/output/Final_Wagga_training_samples_pano_metadata_clipping_elevations.geojson'\n",
    "predictions_file=r''\n",
    "las_projections_folder=r\"/mnt/floorheightvolume/lidar_Wagga/clipped_projected/\""
   ]
  },
  {
   "cell_type": "markdown",
   "metadata": {},
   "source": [
    "## Set outputs"
   ]
  },
  {
   "cell_type": "code",
   "execution_count": null,
   "metadata": {},
   "outputs": [],
   "source": []
  },
  {
   "cell_type": "markdown",
   "metadata": {},
   "source": [
    "## Read feature detection results"
   ]
  },
  {
   "cell_type": "code",
   "execution_count": null,
   "metadata": {},
   "outputs": [],
   "source": []
  },
  {
   "cell_type": "markdown",
   "metadata": {},
   "source": [
    "## Read in building points"
   ]
  },
  {
   "cell_type": "code",
   "execution_count": null,
   "metadata": {},
   "outputs": [],
   "source": [
    "gdf_building_points=gpd.read_file(building_points_file)\n",
    "gdf_building_points=gdf_building_points[gdf_building_points[\"USAGE\"]==\"Residential\"].reset_index(drop=True)\n",
    "gdf_building_points"
   ]
  },
  {
   "cell_type": "markdown",
   "metadata": {},
   "source": [
    "## Test calculation with one example\n",
    "#### Extract ground elevations across building and surrounding, derived from lidar"
   ]
  },
  {
   "cell_type": "code",
   "execution_count": null,
   "metadata": {},
   "outputs": [],
   "source": [
    "i=0\n",
    "gdf_building_points.iloc[i]['lidar_elev_min']"
   ]
  },
  {
   "cell_type": "code",
   "execution_count": null,
   "metadata": {},
   "outputs": [],
   "source": [
    "ground_elevation_overall = gdf_building_points.iloc[i]['lidar_elev_25pct']\n",
    "ground_elevation_overall"
   ]
  },
  {
   "cell_type": "markdown",
   "metadata": {},
   "source": [
    "#### Find corresponding projected rasters"
   ]
  },
  {
   "cell_type": "code",
   "execution_count": null,
   "metadata": {},
   "outputs": [],
   "source": [
    "building_ufi=gdf_building_points.iloc[i]['UFI']\n",
    "elevation_file_path=glob.glob(las_projections_folder+'*'+'_UFI_'+str(building_ufi)+'_elevation_resampled.tif')[0]\n",
    "classification_file_path=glob.glob(las_projections_folder+'*'+'_UFI_'+str(building_ufi)+'_classification_resampled.tif')[0]\n",
    "classification_file_path"
   ]
  },
  {
   "cell_type": "markdown",
   "metadata": {},
   "source": [
    "### Calculate feature properties\n",
    "* metrics for filtering: width, height, area and width/heigh ratio"
   ]
  },
  {
   "cell_type": "code",
   "execution_count": null,
   "metadata": {},
   "outputs": [],
   "source": []
  },
  {
   "cell_type": "markdown",
   "metadata": {},
   "source": [
    "### Filter detected features\n",
    "* Keep the front door with closest to standard feature metrics\n",
    "* Keep the lowest and most confident feature for the other classes"
   ]
  },
  {
   "cell_type": "code",
   "execution_count": null,
   "metadata": {},
   "outputs": [],
   "source": []
  },
  {
   "cell_type": "markdown",
   "metadata": {},
   "source": [
    "#### Calculate FFH based on rules"
   ]
  },
  {
   "cell_type": "code",
   "execution_count": null,
   "metadata": {},
   "outputs": [],
   "source": [
    "def get_closest_ground_area_optimized(class_raster, elev_raster, x, y, min_area=5):\n",
    "    \"\"\"\n",
    "    Optimized version that stops searching once the closest valid ground area is found.\n",
    "    \"\"\"\n",
    "    if class_raster[y, x] == 2:\n",
    "        return None\n",
    "\n",
    "    # Label ground areas only below the target pixel\n",
    "    struct = generate_binary_structure(2, 2)\n",
    "    mask = np.zeros_like(class_raster, dtype=bool)\n",
    "    mask[y+1:, :] = True  # Only search below\n",
    "    labeled_ground, _ = label((class_raster == 2) & mask, structure=struct)\n",
    "\n",
    "    closest_info = None\n",
    "    min_distance = float('inf')\n",
    "\n",
    "    # Scan row by row downward (closest first)\n",
    "    for gy in range(y + 1, class_raster.shape[0]):\n",
    "        row_checked = False\n",
    "        current_ydist = gy - y\n",
    "        \n",
    "        # Early exit if we can't possibly find a closer area\n",
    "        if current_ydist > min_distance:\n",
    "            break\n",
    "\n",
    "        for gx in range(class_raster.shape[1]):\n",
    "            label_id = labeled_ground[gy, gx]\n",
    "            if label_id > 0 and not row_checked:\n",
    "                # Get full area stats if this row might contain a closer area\n",
    "                ground_mask = (labeled_ground == label_id)\n",
    "                area_size = np.sum(ground_mask)\n",
    "                \n",
    "                # Only process if meets area threshold\n",
    "                if area_size >= min_area:\n",
    "                    # Find closest point in this area\n",
    "                    yy, xx = np.where(ground_mask)\n",
    "                    distances = np.sqrt((yy - y)**2 + (xx - x)**2)\n",
    "                    idx = np.argmin(distances)\n",
    "                    current_dist = distances[idx]\n",
    "                    \n",
    "                    if current_dist < min_distance:\n",
    "                        elev_values = elev_raster[ground_mask]\n",
    "                        closest_info = {\n",
    "                            'elev_diff': elev_raster[y, x] - np.mean(elev_values),\n",
    "                            'median_diff': elev_raster[y, x] - np.median(elev_values),\n",
    "                            'std_dev': np.std(elev_values),\n",
    "                            'area_size': area_size,\n",
    "                            'distance': current_dist,\n",
    "                            'closest_y': yy[idx],\n",
    "                            'closest_x': xx[idx]\n",
    "                        }\n",
    "                        min_distance = current_dist\n",
    "                row_checked = True  # Skip other pixels in this labeled area\n",
    "\n",
    "    return closest_info"
   ]
  },
  {
   "cell_type": "code",
   "execution_count": null,
   "metadata": {},
   "outputs": [],
   "source": [
    "classification_arr=np.array(Image.open(classification_file_path))\n",
    "elevation_arr=np.array(Image.open(elevation_file_path))\n",
    "x=1401\n",
    "y=1470\n",
    "min_area=5\n",
    "get_closest_ground_area_optimized(class_raster=classification_arr, elev_raster=elevation_arr,x=x,y=y,min_area=min_area)"
   ]
  },
  {
   "cell_type": "code",
   "execution_count": null,
   "metadata": {},
   "outputs": [],
   "source": [
    "elevation_arr[y,x]"
   ]
  },
  {
   "cell_type": "code",
   "execution_count": null,
   "metadata": {},
   "outputs": [],
   "source": [
    "elevation_arr[y,x] - ground_elevation_overall"
   ]
  },
  {
   "cell_type": "markdown",
   "metadata": {},
   "source": [
    "## Batch calculation for all buildings"
   ]
  },
  {
   "cell_type": "code",
   "execution_count": null,
   "metadata": {},
   "outputs": [],
   "source": []
  }
 ],
 "metadata": {
  "kernelspec": {
   "display_name": "pytorch",
   "language": "python",
   "name": "python3"
  },
  "language_info": {
   "codemirror_mode": {
    "name": "ipython",
    "version": 3
   },
   "file_extension": ".py",
   "mimetype": "text/x-python",
   "name": "python",
   "nbconvert_exporter": "python",
   "pygments_lexer": "ipython3",
   "version": "3.11.10"
  }
 },
 "nbformat": 4,
 "nbformat_minor": 2
}
