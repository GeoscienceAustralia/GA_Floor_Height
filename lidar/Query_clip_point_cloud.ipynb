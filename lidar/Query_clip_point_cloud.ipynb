{
 "cells": [
  {
   "cell_type": "markdown",
   "metadata": {},
   "source": [
    "This notebook queries .las file tiles using tile bounding boxes file, then clips the point cloud to building footprint extent. Running this notebook requires laspy python library which can be installed by _pip install laspy[lazrs]_"
   ]
  },
  {
   "cell_type": "markdown",
   "metadata": {},
   "source": [
    "### Load dependencies"
   ]
  },
  {
   "cell_type": "code",
   "execution_count": null,
   "metadata": {},
   "outputs": [],
   "source": [
    "import boto3\n",
    "import laspy\n",
    "import geopandas as gpd\n",
    "from shapely.geometry import Point, Polygon\n",
    "import subprocess\n",
    "import json\n",
    "import os\n",
    "import numpy as np\n",
    "from shapely.vectorized import contains\n",
    "from laspy.header import LasHeader\n",
    "from laspy import PointFormat\n",
    "import matplotlib.pyplot as plt"
   ]
  },
  {
   "cell_type": "markdown",
   "metadata": {},
   "source": [
    "### Set input files"
   ]
  },
  {
   "cell_type": "code",
   "execution_count": 7,
   "metadata": {},
   "outputs": [],
   "source": [
    "building_footprint_path = r\"C:/Users/lliu/Desktop/FrontierSI/projects/GA_floor_height/QA4lidar/test_footprint.shp\"\n",
    "tile_bbox_path=r'C:/Users/lliu/Desktop/FrontierSI/projects/GA_floor_height/QA4lidar/tile_bbox.geojson'"
   ]
  },
  {
   "cell_type": "markdown",
   "metadata": {},
   "source": [
    "### Connect to AWS buket"
   ]
  },
  {
   "cell_type": "code",
   "execution_count": 3,
   "metadata": {},
   "outputs": [],
   "source": [
    "mfa_token = '148615' # replace with latest token\n",
    "cmd = (f'C:\\\\Program Files\\\\Amazon\\\\AWSCLIV2\\\\aws sts get-session-token --serial-number arn:aws:iam::693903849513:mfa/Lavender_AWS_MFA  --token-code {mfa_token}').split()\n",
    "result = subprocess.run(cmd, capture_output=True)\n",
    "bucket_name = 'frontiersi-p127-floor-height-private'\n",
    "\n",
    "# Check if the command was successful\n",
    "if result.returncode == 0:\n",
    "    # Parse JSON output into a dictionary\n",
    "    data = json.loads(result.stdout)\n",
    "    #print(data)  # Print or process the dictionary\n",
    "else:\n",
    "    print(\"Error:\", result.stderr)"
   ]
  },
  {
   "cell_type": "code",
   "execution_count": 4,
   "metadata": {},
   "outputs": [],
   "source": [
    "session = boto3.session.Session(\n",
    "    aws_access_key_id=data['Credentials']['AccessKeyId'],\n",
    "    aws_secret_access_key=data['Credentials']['SecretAccessKey'],\n",
    "    aws_session_token=data['Credentials']['SessionToken']\n",
    ")\n",
    "# Initialize an S3 client\n",
    "s3 = session.client('s3')"
   ]
  },
  {
   "cell_type": "markdown",
   "metadata": {},
   "source": [
    "### Load bounding box tiles of las files"
   ]
  },
  {
   "cell_type": "code",
   "execution_count": 5,
   "metadata": {},
   "outputs": [
    {
     "data": {
      "text/html": [
       "<div>\n",
       "<style scoped>\n",
       "    .dataframe tbody tr th:only-of-type {\n",
       "        vertical-align: middle;\n",
       "    }\n",
       "\n",
       "    .dataframe tbody tr th {\n",
       "        vertical-align: top;\n",
       "    }\n",
       "\n",
       "    .dataframe thead th {\n",
       "        text-align: right;\n",
       "    }\n",
       "</style>\n",
       "<table border=\"1\" class=\"dataframe\">\n",
       "  <thead>\n",
       "    <tr style=\"text-align: right;\">\n",
       "      <th></th>\n",
       "      <th>filename</th>\n",
       "      <th>point_count</th>\n",
       "      <th>min_z</th>\n",
       "      <th>max_z</th>\n",
       "      <th>crs</th>\n",
       "      <th>geometry</th>\n",
       "    </tr>\n",
       "  </thead>\n",
       "  <tbody>\n",
       "    <tr>\n",
       "      <th>0</th>\n",
       "      <td>lidar/qa4mobile/531_MCPPC_F2_201402_MGA94_55_7...</td>\n",
       "      <td>0</td>\n",
       "      <td>16.54</td>\n",
       "      <td>-4.22</td>\n",
       "      <td>EPSG:28355</td>\n",
       "      <td>POLYGON ((724502.82 7662043.9, 724502.82 76620...</td>\n",
       "    </tr>\n",
       "    <tr>\n",
       "      <th>1</th>\n",
       "      <td>lidar/qa4mobile/531_MCPPC_F2_201402_MGA94_55_7...</td>\n",
       "      <td>0</td>\n",
       "      <td>29.51</td>\n",
       "      <td>2.26</td>\n",
       "      <td>EPSG:28355</td>\n",
       "      <td>POLYGON ((724550 7662049.99, 724550 7662000, 7...</td>\n",
       "    </tr>\n",
       "    <tr>\n",
       "      <th>2</th>\n",
       "      <td>lidar/qa4mobile/531_MCPPC_F2_201402_MGA94_55_7...</td>\n",
       "      <td>0</td>\n",
       "      <td>17.49</td>\n",
       "      <td>-15.61</td>\n",
       "      <td>EPSG:28355</td>\n",
       "      <td>POLYGON ((724556.56 7662099.96, 724556.56 7662...</td>\n",
       "    </tr>\n",
       "    <tr>\n",
       "      <th>3</th>\n",
       "      <td>lidar/qa4mobile/531_MCPPC_F2_201402_MGA94_55_7...</td>\n",
       "      <td>0</td>\n",
       "      <td>44.31</td>\n",
       "      <td>-26.80</td>\n",
       "      <td>EPSG:28355</td>\n",
       "      <td>POLYGON ((724600 7662049.99, 724600 7662000, 7...</td>\n",
       "    </tr>\n",
       "    <tr>\n",
       "      <th>4</th>\n",
       "      <td>lidar/qa4mobile/531_MCPPC_F2_201402_MGA94_55_7...</td>\n",
       "      <td>0</td>\n",
       "      <td>34.11</td>\n",
       "      <td>-1.68</td>\n",
       "      <td>EPSG:28355</td>\n",
       "      <td>POLYGON ((724600 7662099.99, 724600 7662050, 7...</td>\n",
       "    </tr>\n",
       "  </tbody>\n",
       "</table>\n",
       "</div>"
      ],
      "text/plain": [
       "                                            filename  point_count  min_z  \\\n",
       "0  lidar/qa4mobile/531_MCPPC_F2_201402_MGA94_55_7...            0  16.54   \n",
       "1  lidar/qa4mobile/531_MCPPC_F2_201402_MGA94_55_7...            0  29.51   \n",
       "2  lidar/qa4mobile/531_MCPPC_F2_201402_MGA94_55_7...            0  17.49   \n",
       "3  lidar/qa4mobile/531_MCPPC_F2_201402_MGA94_55_7...            0  44.31   \n",
       "4  lidar/qa4mobile/531_MCPPC_F2_201402_MGA94_55_7...            0  34.11   \n",
       "\n",
       "   max_z         crs                                           geometry  \n",
       "0  -4.22  EPSG:28355  POLYGON ((724502.82 7662043.9, 724502.82 76620...  \n",
       "1   2.26  EPSG:28355  POLYGON ((724550 7662049.99, 724550 7662000, 7...  \n",
       "2 -15.61  EPSG:28355  POLYGON ((724556.56 7662099.96, 724556.56 7662...  \n",
       "3 -26.80  EPSG:28355  POLYGON ((724600 7662049.99, 724600 7662000, 7...  \n",
       "4  -1.68  EPSG:28355  POLYGON ((724600 7662099.99, 724600 7662050, 7...  "
      ]
     },
     "execution_count": 5,
     "metadata": {},
     "output_type": "execute_result"
    }
   ],
   "source": [
    "gdf_tile_bbox=gpd.read_file(tile_bbox_path)\n",
    "gdf_tile_bbox.head()"
   ]
  },
  {
   "cell_type": "markdown",
   "metadata": {},
   "source": [
    "### Load building footprints"
   ]
  },
  {
   "cell_type": "code",
   "execution_count": 8,
   "metadata": {},
   "outputs": [
    {
     "data": {
      "text/html": [
       "<div>\n",
       "<style scoped>\n",
       "    .dataframe tbody tr th:only-of-type {\n",
       "        vertical-align: middle;\n",
       "    }\n",
       "\n",
       "    .dataframe tbody tr th {\n",
       "        vertical-align: top;\n",
       "    }\n",
       "\n",
       "    .dataframe thead th {\n",
       "        text-align: right;\n",
       "    }\n",
       "</style>\n",
       "<table border=\"1\" class=\"dataframe\">\n",
       "  <thead>\n",
       "    <tr style=\"text-align: right;\">\n",
       "      <th></th>\n",
       "      <th>id</th>\n",
       "      <th>geometry</th>\n",
       "    </tr>\n",
       "  </thead>\n",
       "  <tbody>\n",
       "    <tr>\n",
       "      <th>0</th>\n",
       "      <td>0</td>\n",
       "      <td>POLYGON ((725085.508 7662233.349, 725104.564 7...</td>\n",
       "    </tr>\n",
       "    <tr>\n",
       "      <th>1</th>\n",
       "      <td>1</td>\n",
       "      <td>POLYGON ((725359.728 7662171.352, 725362.945 7...</td>\n",
       "    </tr>\n",
       "    <tr>\n",
       "      <th>2</th>\n",
       "      <td>2</td>\n",
       "      <td>POLYGON ((725658.697 7662144.499, 725671.443 7...</td>\n",
       "    </tr>\n",
       "    <tr>\n",
       "      <th>3</th>\n",
       "      <td>3</td>\n",
       "      <td>POLYGON ((727576.961 7662517.345, 727579.601 7...</td>\n",
       "    </tr>\n",
       "  </tbody>\n",
       "</table>\n",
       "</div>"
      ],
      "text/plain": [
       "   id                                           geometry\n",
       "0   0  POLYGON ((725085.508 7662233.349, 725104.564 7...\n",
       "1   1  POLYGON ((725359.728 7662171.352, 725362.945 7...\n",
       "2   2  POLYGON ((725658.697 7662144.499, 725671.443 7...\n",
       "3   3  POLYGON ((727576.961 7662517.345, 727579.601 7..."
      ]
     },
     "execution_count": 8,
     "metadata": {},
     "output_type": "execute_result"
    }
   ],
   "source": [
    "gdf_building_footprint=gpd.read_file(building_footprint_path)\n",
    "# Ensure CRS matches\n",
    "if gdf_building_footprint.crs != gdf_tile_bbox.crs:\n",
    "    gdf_building_footprint = gdf_building_footprint.to_crs(gdf_tile_bbox.crs)\n",
    "gdf_building_footprint"
   ]
  },
  {
   "cell_type": "markdown",
   "metadata": {},
   "source": [
    "### Read in a single building outline to test workflow"
   ]
  },
  {
   "cell_type": "code",
   "execution_count": 47,
   "metadata": {},
   "outputs": [
    {
     "data": {
      "text/plain": [
       "2"
      ]
     },
     "execution_count": 47,
     "metadata": {},
     "output_type": "execute_result"
    }
   ],
   "source": [
    "building_polygon = gdf_building_footprint.geometry.iloc[2]\n",
    "building_id=gdf_building_footprint.iloc[2]['id']\n",
    "building_id"
   ]
  },
  {
   "cell_type": "markdown",
   "metadata": {},
   "source": [
    "### Buffer building footprint"
   ]
  },
  {
   "cell_type": "code",
   "execution_count": 48,
   "metadata": {},
   "outputs": [],
   "source": [
    "buffer_distance = 2  # Adjust buffer distance based on CRS (e.g., meters or degrees)\n",
    "building_polygon = building_polygon.buffer(buffer_distance)"
   ]
  },
  {
   "cell_type": "markdown",
   "metadata": {},
   "source": [
    "### Find overlapping tile(s)"
   ]
  },
  {
   "cell_type": "code",
   "execution_count": 49,
   "metadata": {},
   "outputs": [
    {
     "data": {
      "text/html": [
       "<div>\n",
       "<style scoped>\n",
       "    .dataframe tbody tr th:only-of-type {\n",
       "        vertical-align: middle;\n",
       "    }\n",
       "\n",
       "    .dataframe tbody tr th {\n",
       "        vertical-align: top;\n",
       "    }\n",
       "\n",
       "    .dataframe thead th {\n",
       "        text-align: right;\n",
       "    }\n",
       "</style>\n",
       "<table border=\"1\" class=\"dataframe\">\n",
       "  <thead>\n",
       "    <tr style=\"text-align: right;\">\n",
       "      <th></th>\n",
       "      <th>filename</th>\n",
       "      <th>point_count</th>\n",
       "      <th>min_z</th>\n",
       "      <th>max_z</th>\n",
       "      <th>crs</th>\n",
       "      <th>geometry</th>\n",
       "    </tr>\n",
       "  </thead>\n",
       "  <tbody>\n",
       "    <tr>\n",
       "      <th>172</th>\n",
       "      <td>lidar/qa4mobile/531_MCPPC_F2_201402_MGA94_55_7...</td>\n",
       "      <td>4135714816</td>\n",
       "      <td>12.59</td>\n",
       "      <td>3.15</td>\n",
       "      <td>EPSG:28355</td>\n",
       "      <td>POLYGON ((725650 7662149.99, 725650 7662100, 7...</td>\n",
       "    </tr>\n",
       "  </tbody>\n",
       "</table>\n",
       "</div>"
      ],
      "text/plain": [
       "                                              filename  point_count  min_z  \\\n",
       "172  lidar/qa4mobile/531_MCPPC_F2_201402_MGA94_55_7...   4135714816  12.59   \n",
       "\n",
       "     max_z         crs                                           geometry  \n",
       "172   3.15  EPSG:28355  POLYGON ((725650 7662149.99, 725650 7662100, 7...  "
      ]
     },
     "execution_count": 49,
     "metadata": {},
     "output_type": "execute_result"
    }
   ],
   "source": [
    "# Find overlapping tiles\n",
    "overlapping_tiles = gdf_tile_bbox[gdf_tile_bbox.geometry.intersects(building_polygon)]\n",
    "overlapping_tiles"
   ]
  },
  {
   "cell_type": "code",
   "execution_count": null,
   "metadata": {},
   "outputs": [
    {
     "data": {
      "image/png": "[encoded data removed]",
      "text/plain": [
       "<Figure size 640x480 with 1 Axes>"
      ]
     },
     "metadata": {},
     "output_type": "display_data"
    }
   ],
   "source": [
    "overlapping_tiles.plot(color=\"blue\", alpha=0.5)\n",
    "gdf_building_footprint.plot(color=\"red\", alpha=0.5, ax=plt.gca())\n",
    "plt.show()"
   ]
  },
  {
   "cell_type": "markdown",
   "metadata": {},
   "source": [
    "### Download all overlapping tiles, merge, clip and save to file"
   ]
  },
  {
   "cell_type": "code",
   "execution_count": null,
   "metadata": {},
   "outputs": [
    {
     "name": "stdout",
     "output_type": "stream",
     "text": [
      "Filtered points shape: (9949, 3)\n"
     ]
    }
   ],
   "source": [
    "merged_points = []\n",
    "output_directory=os.path.dirname(tile_bbox_path)\n",
    "# Download and process each overlapping tile\n",
    "for _, tile in overlapping_tiles.iterrows():\n",
    "    las_file_key=tile[\"filename\"]\n",
    "    tile_name = os.path.basename(las_file_key)\n",
    "    local_las_path = os.path.join(output_directory, tile_name)\n",
    "    \n",
    "    # Download LAS file from S3\n",
    "    s3.download_file(bucket_name, las_file_key, local_las_path)\n",
    "    \n",
    "    # Load LAS file\n",
    "    las = laspy.read(local_las_path)\n",
    "    points = las.xyz  # Extract points (X, Y, Z)\n",
    "    merged_points.append(points)\n",
    "\n",
    "# Merge all points into a single array\n",
    "merged_points = np.vstack(merged_points)\n",
    "\n",
    "# Filter points inside the building footprint\n",
    "las_points = [Point(x, y) for x, y, z in merged_points]\n",
    "inside_mask = contains(building_polygon, merged_points[:, 0], merged_points[:, 1])\n",
    "clipped_points = merged_points[inside_mask]\n",
    "print(f\"Filtered points shape: {clipped_points.shape}\")\n",
    "\n",
    "# Create a new header with the same point format as the original\n",
    "new_header = LasHeader(point_format=las.header.point_format, version=las.header.version)\n",
    "# Initialize a new LAS file with the new header\n",
    "clipped_las = laspy.LasData(new_header)\n",
    "clipped_las.x = clipped_points[:, 0]\n",
    "clipped_las.y = clipped_points[:, 1]\n",
    "clipped_las.z = clipped_points[:, 2]\n",
    "\n",
    "# Save the clipped LAS file locally\n",
    "clipped_las_path = os.path.join(output_directory, str(building_id)+'_clipped_buffered.las')\n",
    "clipped_las.write(clipped_las_path)"
   ]
  }
 ],
 "metadata": {
  "kernelspec": {
   "display_name": "floorheight",
   "language": "python",
   "name": "python3"
  },
  "language_info": {
   "codemirror_mode": {
    "name": "ipython",
    "version": 3
   },
   "file_extension": ".py",
   "mimetype": "text/x-python",
   "name": "python",
   "nbconvert_exporter": "python",
   "pygments_lexer": "ipython3",
   "version": "3.10.15"
  }
 },
 "nbformat": 4,
 "nbformat_minor": 2
}
