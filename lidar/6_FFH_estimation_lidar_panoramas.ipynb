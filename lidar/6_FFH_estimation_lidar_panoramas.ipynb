{
 "cells": [
  {
   "cell_type": "markdown",
   "metadata": {},
   "source": [
    "This notebook implements FFH estimation using:\n",
    "* feature detection results from streetview images\n",
    "* elevation, depth and classification rasters of building facades derived from lidar data."
   ]
  },
  {
   "cell_type": "markdown",
   "metadata": {},
   "source": [
    "## Load modules"
   ]
  },
  {
   "cell_type": "code",
   "execution_count": null,
   "metadata": {},
   "outputs": [],
   "source": [
    "%load_ext autoreload\n",
    "%autoreload 2"
   ]
  },
  {
   "cell_type": "code",
   "execution_count": null,
   "metadata": {},
   "outputs": [],
   "source": [
    "import numpy as np\n",
    "import os\n",
    "import glob\n",
    "from PIL import Image\n",
    "# from GSV.geometry import extract_feature_pixels_lowest_region, calculate_height_difference, calculate_width_difference, estimate_FFH, estimate_FFE\n",
    "from lidar.point_cloud_processings import estimate_FFH, get_closest_ground_to_feature,select_best_feature, compute_feature_properties, calculate_gapfill_depth\n",
    "import geopandas as gpd\n",
    "# import matplotlib.pyplot as plt\n",
    "# from sklearn.metrics import root_mean_squared_error, mean_absolute_error\n",
    "import pandas as pd\n",
    "import numpy as np"
   ]
  },
  {
   "cell_type": "markdown",
   "metadata": {},
   "source": [
    "## Set input parameters\n",
    "* building points containing ground elevation data\n",
    "* object detection results from streetview panoramas, containing buildnig ID and panorama ID\n",
    "* folder containing building facade elevation and classifcation rasters"
   ]
  },
  {
   "cell_type": "code",
   "execution_count": null,
   "metadata": {},
   "outputs": [],
   "source": [
    "building_points_file=r'/home/ubuntu/lavender_floor_height/output/Final_Wagga_training_samples_pano_metadata_clipping_elevations.geojson'\n",
    "predictions_file=r'/mnt/floorheightvolume/lidar_Wagga/yolo_predictions/object_detection_results.csv'\n",
    "las_projections_folder=r\"/mnt/floorheightvolume/lidar_Wagga/clipped_projected/\"\n",
    "out_buildings_file=r'/home/ubuntu/lavender_floor_height/output/Final_Wagga_training_samples_pano_metadata_clipping_elevations_ffhs.geojson'"
   ]
  },
  {
   "cell_type": "markdown",
   "metadata": {},
   "source": [
    "## Read feature detection results"
   ]
  },
  {
   "cell_type": "code",
   "execution_count": null,
   "metadata": {},
   "outputs": [],
   "source": [
    "df_predictions = pd.read_csv(predictions_file)\n",
    "df_predictions.head()"
   ]
  },
  {
   "cell_type": "markdown",
   "metadata": {},
   "source": [
    "## Read in building points"
   ]
  },
  {
   "cell_type": "code",
   "execution_count": null,
   "metadata": {},
   "outputs": [],
   "source": [
    "gdf_building_points=gpd.read_file(building_points_file)\n",
    "gdf_building_points=gdf_building_points[gdf_building_points[\"USAGE\"]==\"Residential\"].reset_index(drop=True)\n",
    "gdf_building_points.head()"
   ]
  },
  {
   "cell_type": "code",
   "execution_count": null,
   "metadata": {},
   "outputs": [],
   "source": [
    "gdf_building_points.columns"
   ]
  },
  {
   "cell_type": "markdown",
   "metadata": {},
   "source": [
    "## Test calculation with one example"
   ]
  },
  {
   "cell_type": "code",
   "execution_count": null,
   "metadata": {},
   "outputs": [],
   "source": [
    "i=0\n",
    "ufi=gdf_building_points.loc[i,'UFI']\n",
    "ufi"
   ]
  },
  {
   "cell_type": "markdown",
   "metadata": {},
   "source": [
    "Identify prediction results by building UFI:"
   ]
  },
  {
   "cell_type": "code",
   "execution_count": null,
   "metadata": {},
   "outputs": [],
   "source": [
    "formatted_search = f\"_{ufi}\"\n",
    "df_single=df_predictions[df_predictions['pano_id'].str.endswith(formatted_search)].reset_index(drop=True)\n",
    "df_single"
   ]
  },
  {
   "cell_type": "code",
   "execution_count": null,
   "metadata": {},
   "outputs": [],
   "source": [
    "ground_elevation_gapfill = gdf_building_points.iloc[i]['lidar_elev_25pct']\n",
    "ground_elevation_gapfill"
   ]
  },
  {
   "cell_type": "markdown",
   "metadata": {},
   "source": [
    "#### Read in corresponding projected rasters\n",
    "* Elevation\n",
    "* classification\n",
    "* Depth"
   ]
  },
  {
   "cell_type": "code",
   "execution_count": null,
   "metadata": {},
   "outputs": [],
   "source": [
    "elevation_file=glob.glob(os.path.join(las_projections_folder,'*'+'_UFI_'+str(ufi)+'_elevation_resampled.tif'))[0]\n",
    "classification_file=glob.glob(os.path.join(las_projections_folder,'*'+'_UFI_'+str(ufi)+'_classification_resampled.tif'))[0]\n",
    "depth_file=glob.glob(os.path.join(las_projections_folder,'*'+'_UFI_'+str(ufi)+'_depth_resampled.tif'))[0]"
   ]
  },
  {
   "cell_type": "code",
   "execution_count": null,
   "metadata": {},
   "outputs": [],
   "source": [
    "classification_arr=np.array(Image.open(classification_file))\n",
    "elevation_arr=np.array(Image.open(elevation_file))\n",
    "depth_arr=np.array(Image.open(depth_file))"
   ]
  },
  {
   "cell_type": "markdown",
   "metadata": {},
   "source": [
    "### Calculate gapfilling depth"
   ]
  },
  {
   "cell_type": "code",
   "execution_count": null,
   "metadata": {},
   "outputs": [],
   "source": [
    "gapfill_depth=calculate_gapfill_depth(depth_arr, classification_arr,nodata_depth=9999)\n",
    "gapfill_depth"
   ]
  },
  {
   "cell_type": "markdown",
   "metadata": {},
   "source": [
    "### Calculate feature properties\n",
    "* metrics for filtering: width, height, area and width/heigh ratio"
   ]
  },
  {
   "cell_type": "code",
   "execution_count": null,
   "metadata": {},
   "outputs": [],
   "source": [
    "for j in range(len(df_single)):\n",
    "    df_single.loc[j,['top_elevation','bottom_elevation','width_m', 'height_m','area_m2','ratio']] = compute_feature_properties(row=df_single.iloc[j],elevation_arr=elevation_arr,depth_arr=depth_arr,gapfill_depth=gapfill_depth)\n",
    "df_single"
   ]
  },
  {
   "cell_type": "markdown",
   "metadata": {},
   "source": [
    "### Filter detected features when multiple features are detected\n",
    "* Keep the Front Door with closest to standard feature metrics\n",
    "* Keep the lowest and most confident feature for the other classes"
   ]
  },
  {
   "cell_type": "code",
   "execution_count": null,
   "metadata": {},
   "outputs": [],
   "source": [
    "# Define real-world target values for Australian Front Doors\n",
    "frontdoor_standards = {\n",
    "    \"width_m\": 0.82,      # meters\n",
    "    \"height_m\": 2.04,     # meters\n",
    "    \"area_m2\": 1.67,      # meters²\n",
    "    \"ratio\": 0.40         # width-to-height ratio\n",
    "}\n",
    "weights = {'area_m2': 1, 'ratio': 1, 'confidence':1, 'x_location':1, 'y_location': 1}  # Default weights\n",
    "classes=[\"Foundation\", \"Front Door\", \"Garage Door\", \"Stairs\"]"
   ]
  },
  {
   "cell_type": "code",
   "execution_count": null,
   "metadata": {},
   "outputs": [],
   "source": [
    "df_selected=select_best_feature(df_single, weights=weights, classes=classes, \n",
    "                                img_width=depth_arr.shape[1], img_height=depth_arr.shape[0],\n",
    "                                frontdoor_standards=frontdoor_standards).reset_index(drop=True)\n",
    "df_selected"
   ]
  },
  {
   "cell_type": "markdown",
   "metadata": {},
   "source": [
    "#### Calculate FFHs based on rules"
   ]
  },
  {
   "cell_type": "code",
   "execution_count": null,
   "metadata": {},
   "outputs": [],
   "source": [
    "for j in range(len(df_selected)):\n",
    "    df_selected.loc[j,['nearest_ground_elev']] = get_closest_ground_to_feature(row=df_selected.iloc[j],classification_arr=classification_arr,elevation_arr=elevation_arr,min_area=5)\n",
    "df_selected"
   ]
  },
  {
   "cell_type": "code",
   "execution_count": null,
   "metadata": {},
   "outputs": [],
   "source": [
    "FFH1, FFH2, FFH3 = estimate_FFH(df_selected, ground_elevation_gapfill)\n",
    "FFH1, FFH2, FFH3"
   ]
  },
  {
   "cell_type": "markdown",
   "metadata": {},
   "source": [
    "### Attach results back to building points"
   ]
  },
  {
   "cell_type": "code",
   "execution_count": null,
   "metadata": {},
   "outputs": [],
   "source": [
    "gdf_building_points_updated=gdf_building_points.copy()\n",
    "gdf_building_points_updated.loc[i,['FFH1','FFH2','FFH3']]=[FFH1, FFH2, FFH3]"
   ]
  },
  {
   "cell_type": "markdown",
   "metadata": {},
   "source": [
    "## Batch calculation for all buildings"
   ]
  },
  {
   "cell_type": "code",
   "execution_count": null,
   "metadata": {},
   "outputs": [],
   "source": [
    "for i in range(len(gdf_building_points)):\n",
    "    try:\n",
    "        # get building ufi\n",
    "        ufi=gdf_building_points.loc[i,'UFI']\n",
    "        print('processing building ',ufi)\n",
    "\n",
    "        # find predictions\n",
    "        formatted_search = f\"_{ufi}\"\n",
    "        df_single=df_predictions[df_predictions['pano_id'].str.endswith(formatted_search)].reset_index(drop=True)\n",
    "        # print('features before filtering: ',df_single['class'].values.tolist())\n",
    "        # print('features confidence: ',df_single['confidence'].values.tolist())\n",
    "        \n",
    "        # extract elevation around house\n",
    "        ground_elevation_gapfill = gdf_building_points.iloc[i]['lidar_elev_25pct']\n",
    "        print('ground elevation around house: ',ground_elevation_gapfill)\n",
    "        \n",
    "        # find and read lidar projected rasters\n",
    "        elevation_file=glob.glob(os.path.join(las_projections_folder,'*'+'_UFI_'+str(ufi)+'_elevation_resampled.tif'))[0]\n",
    "        classification_file=glob.glob(os.path.join(las_projections_folder,'*'+'_UFI_'+str(ufi)+'_classification_resampled.tif'))[0]\n",
    "        depth_file=glob.glob(os.path.join(las_projections_folder,'*'+'_UFI_'+str(ufi)+'_depth_resampled.tif'))[0]\n",
    "        classification_arr=np.array(Image.open(classification_file))\n",
    "        elevation_arr=np.array(Image.open(elevation_file))\n",
    "        depth_arr=np.array(Image.open(depth_file))\n",
    "        \n",
    "        # calculate gapfilling depth\n",
    "        gapfill_depth=calculate_gapfill_depth(depth_arr, classification_arr,nodata_depth=9999)\n",
    "        print('gapfill_depth (m): ',gapfill_depth)\n",
    "\n",
    "        # calculate feature metrics\n",
    "        for j in range(len(df_single)):\n",
    "            df_single.loc[j,['top_elevation','bottom_elevation','width_m', 'height_m','area_m2','ratio']] = compute_feature_properties(row=df_single.iloc[j],elevation_arr=elevation_arr,depth_arr=depth_arr,gapfill_depth=gapfill_depth)\n",
    "        \n",
    "        # filter features\n",
    "        df_selected=select_best_feature(df_single, weights=weights, classes=classes, img_width=depth_arr.shape[1], \n",
    "                                        img_height=depth_arr.shape[0], frontdoor_standards=frontdoor_standards).reset_index(drop=True)\n",
    "        print('features after filtering: ',df_selected['class'].values.tolist())\n",
    "        print('features confidence: ',df_selected['confidence'].values.tolist())\n",
    "\n",
    "        # get elevation of nearest ground to feature\n",
    "        for j in range(len(df_selected)):\n",
    "            df_selected.loc[j,['nearest_ground_elev']] = get_closest_ground_to_feature(row=df_selected.iloc[j],classification_arr=classification_arr,elevation_arr=elevation_arr,min_area=5)\n",
    "\n",
    "        # calculate FFHs\n",
    "        FFH1, FFH2, FFH3 = estimate_FFH(df_selected, ground_elevation_gapfill=ground_elevation_gapfill)\n",
    "        print('FFHs: ', FFH1, FFH2, FFH3)\n",
    "\n",
    "        # attach back to building points\n",
    "        gdf_building_points_updated.loc[i,['FFH1','FFH2','FFH3']]=[FFH1, FFH2, FFH3]\n",
    "    except Exception as e:\n",
    "        print(e)"
   ]
  },
  {
   "cell_type": "code",
   "execution_count": null,
   "metadata": {},
   "outputs": [],
   "source": [
    "gdf_building_points_updated.to_file(out_buildings_file)"
   ]
  }
 ],
 "metadata": {
  "kernelspec": {
   "display_name": "geoenv",
   "language": "python",
   "name": "python3"
  },
  "language_info": {
   "codemirror_mode": {
    "name": "ipython",
    "version": 3
   },
   "file_extension": ".py",
   "mimetype": "text/x-python",
   "name": "python",
   "nbconvert_exporter": "python",
   "pygments_lexer": "ipython3",
   "version": "3.10.16"
  }
 },
 "nbformat": 4,
 "nbformat_minor": 2
}
