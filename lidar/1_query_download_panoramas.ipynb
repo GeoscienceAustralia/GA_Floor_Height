{
 "cells": [
  {
   "cell_type": "code",
   "execution_count": null,
   "metadata": {},
   "outputs": [],
   "source": [
    "import boto3\n",
    "import subprocess\n",
    "import json\n",
    "from shapely.geometry import box, mapping\n",
    "import geopandas as gpd\n",
    "import os\n",
    "from concurrent.futures import ThreadPoolExecutor\n",
    "from GSV import geometry"
   ]
  },
  {
   "cell_type": "code",
   "execution_count": null,
   "metadata": {},
   "outputs": [],
   "source": [
    "# trajectory_file='/home/ubuntu/lavender_floor_height/output/panorama/FramePosOptimised-wagga-wagga_EPSG7844.geojson' # trajectory file for panorama images\n",
    "# building_points_file='/home/ubuntu/lavender_floor_height/input/Final_Wagga_training_samples.geojson' # copy training building points samples from local computer if needed through VS Code remote explorer\n",
    "# out_epsg='EPSG:28355'\n",
    "# out_file='/home/ubuntu/lavender_floor_height/output/Final_Wagga_training_samples_pano_metadata.geojson' # ouput buildings points with panorama metadata joined"
   ]
  },
  {
   "cell_type": "code",
   "execution_count": null,
   "metadata": {},
   "outputs": [],
   "source": [
    "trajectory_file='/home/ubuntu/lavender_floor_height/output/panorama/FramePosOptimised-wagga-wagga_EPSG7844.geojson' # trajectory file for panorama images\n",
    "building_points_file='/mnt/floorheightvolume/all_buildings/Final_Wagga.geojson' # copy training building points samples from local computer if needed through VS Code remote explorer\n",
    "out_epsg='EPSG:28355'\n",
    "out_file='/mnt/floorheightvolume/all_buildings/Final_Wagga_pano_metadata.geojson' # ouput buildings points with panorama metadata joined"
   ]
  },
  {
   "cell_type": "code",
   "execution_count": null,
   "metadata": {},
   "outputs": [],
   "source": [
    "gdf_buildings=gpd.read_file(building_points_file).to_crs(out_epsg)\n",
    "gdf_buildings.head()"
   ]
  },
  {
   "cell_type": "code",
   "execution_count": null,
   "metadata": {},
   "outputs": [],
   "source": [
    "gdf_buildings=gdf_buildings[gdf_buildings[\"USAGE\"]==\"Residential\"].reset_index(drop=True)"
   ]
  },
  {
   "cell_type": "code",
   "execution_count": null,
   "metadata": {},
   "outputs": [],
   "source": [
    "len(gdf_buildings)"
   ]
  },
  {
   "cell_type": "code",
   "execution_count": null,
   "metadata": {},
   "outputs": [],
   "source": [
    "gdf_panorama = gpd.read_file(trajectory_file).to_crs(out_epsg)\n",
    "gdf_panorama.head()"
   ]
  },
  {
   "cell_type": "code",
   "execution_count": null,
   "metadata": {},
   "outputs": [],
   "source": [
    "len(gdf_panorama)"
   ]
  },
  {
   "cell_type": "code",
   "execution_count": null,
   "metadata": {},
   "outputs": [],
   "source": [
    "# identify nearest panorama images\n",
    "# Perform the spatial join with a 40-meter distance tolerance\n",
    "nearby_points = gpd.sjoin_nearest(gdf_buildings, gdf_panorama, max_distance=60, how='inner', distance_col=\"distance\")\n",
    "nearby_points"
   ]
  },
  {
   "cell_type": "code",
   "execution_count": null,
   "metadata": {},
   "outputs": [],
   "source": [
    "len(nearby_points[nearby_points['distance']>40]['UFI'])"
   ]
  },
  {
   "cell_type": "markdown",
   "metadata": {},
   "source": [
    "### Save file with panorama frame ID"
   ]
  },
  {
   "cell_type": "code",
   "execution_count": null,
   "metadata": {},
   "outputs": [],
   "source": [
    "nearby_points.to_file(out_file)"
   ]
  },
  {
   "cell_type": "code",
   "execution_count": null,
   "metadata": {},
   "outputs": [],
   "source": [
    "nearby_points.columns"
   ]
  },
  {
   "cell_type": "code",
   "execution_count": null,
   "metadata": {},
   "outputs": [],
   "source": [
    "panorama_names=nearby_points['IMGID'].to_list()\n",
    "panorama_names"
   ]
  },
  {
   "cell_type": "code",
   "execution_count": null,
   "metadata": {},
   "outputs": [],
   "source": [
    "mfa_token = '904846' # update every time you run\n",
    "cmd = (f'aws sts get-session-token --serial-number arn:aws:iam::693903849513:mfa/Lavender_AWS_MFA  --token-code {mfa_token}').split()\n",
    "result = subprocess.run(cmd, capture_output=True)\n",
    "# Check if the command was successful\n",
    "if result.returncode == 0:\n",
    "    # Parse JSON output into a dictionary\n",
    "    data = json.loads(result.stdout)\n",
    "    #print(data)  # Print or process the dictionary\n",
    "else:\n",
    "    print(\"Error:\", result.stderr)\n",
    "\n",
    "session = boto3.session.Session(\n",
    "    aws_access_key_id=data['Credentials']['AccessKeyId'],\n",
    "    aws_secret_access_key=data['Credentials']['SecretAccessKey'],\n",
    "    aws_session_token=data['Credentials']['SessionToken']\n",
    ")\n",
    "# Initialize an S3 client\n",
    "s3_client = session.client('s3')"
   ]
  },
  {
   "cell_type": "code",
   "execution_count": null,
   "metadata": {},
   "outputs": [],
   "source": [
    "s3_bucket = 'frontiersi-p127-floor-height-woolpert'\n",
    "s3_prefix='01_WaggaWagga/01_StreetViewImagery/'\n",
    "download_dir='/mnt/floorheightvolume/panorama_Wagga'\n",
    "os.makedirs(download_dir, exist_ok=True)"
   ]
  },
  {
   "cell_type": "code",
   "execution_count": null,
   "metadata": {},
   "outputs": [],
   "source": [
    "panorama_names"
   ]
  },
  {
   "cell_type": "code",
   "execution_count": null,
   "metadata": {},
   "outputs": [],
   "source": [
    "# panorama_names_set=set(panorama_names)  # Convert file_names to a set for faster lookup\n",
    "# extract frame ids in case not exact match\n",
    "frame_ids=[panorama_name.split('_')[1] for panorama_name in panorama_names]\n",
    "frame_ids_set=set(frame_ids)"
   ]
  },
  {
   "cell_type": "code",
   "execution_count": null,
   "metadata": {},
   "outputs": [],
   "source": [
    "paginator = s3_client.get_paginator('list_objects_v2')\n",
    "page_iterator = paginator.paginate(Bucket=s3_bucket, Prefix=s3_prefix)"
   ]
  },
  {
   "cell_type": "code",
   "execution_count": null,
   "metadata": {},
   "outputs": [],
   "source": [
    "# Function to download a single file\n",
    "def download_file(obj_key):\n",
    "    file_name = os.path.basename(obj_key)\n",
    "    local_path = os.path.join(download_dir, file_name)\n",
    "    # Check if file already exists\n",
    "    if not os.path.exists(local_path):\n",
    "        s3_client.download_file(s3_bucket, obj_key, local_path)\n",
    "        print(f\"Downloaded: {file_name}\")\n",
    "    else:\n",
    "        print(f\"Skipping (already exists): {file_name}\")"
   ]
  },
  {
   "cell_type": "code",
   "execution_count": null,
   "metadata": {},
   "outputs": [],
   "source": [
    "# Use ThreadPoolExecutor for concurrent downloads\n",
    "with ThreadPoolExecutor(max_workers=10) as executor:\n",
    "    for page in page_iterator:\n",
    "        if 'Contents' in page:\n",
    "            for obj in page['Contents']:\n",
    "                obj_key = obj['Key']\n",
    "                file_name = os.path.basename(obj_key)\n",
    "                if file_name.endswith('.jpg'):\n",
    "                    frame_id=file_name.split('_')[1]\n",
    "                    # if file_name in panorama_names_set:# exact file name matching\n",
    "                    if frame_id in frame_ids_set:\n",
    "                        # Submit download task to the thread pool\n",
    "                        executor.submit(download_file, obj_key)\n",
    "                        # panorama_names_set.remove(file_name)  # Remove to avoid redundant searches\n",
    "                        frame_ids_set.remove(frame_id)\n",
    "\n",
    "# # Check if any files were not found\n",
    "# if panorama_names_set:\n",
    "#     print(f\"Files not found: {panorama_names_set}\")\n",
    "\n",
    "# Check if any files were not found\n",
    "if frame_ids_set:\n",
    "    print(f\"Files not found: {frame_ids_set}\")"
   ]
  }
 ],
 "metadata": {
  "kernelspec": {
   "display_name": "pytorch",
   "language": "python",
   "name": "python3"
  },
  "language_info": {
   "codemirror_mode": {
    "name": "ipython",
    "version": 3
   },
   "file_extension": ".py",
   "mimetype": "text/x-python",
   "name": "python",
   "nbconvert_exporter": "python",
   "pygments_lexer": "ipython3",
   "version": "3.11.10"
  }
 },
 "nbformat": 4,
 "nbformat_minor": 2
}
