{
 "cells": [
  {
   "cell_type": "markdown",
   "metadata": {},
   "source": [
    "This notebook demonstrates filtering and reprojection of point cloud at a given viewpoint with camera metadata."
   ]
  },
  {
   "cell_type": "code",
   "execution_count": 413,
   "metadata": {},
   "outputs": [],
   "source": [
    "import numpy as np\n",
    "from PIL import Image, ImageDraw\n",
    "import laspy\n",
    "from matplotlib import pyplot as plt\n",
    "from pyproj import Transformer\n",
    "from scipy.spatial.transform import Rotation as R\n",
    "from lidar.point_cloud_processings import remove_noise"
   ]
  },
  {
   "cell_type": "code",
   "execution_count": 415,
   "metadata": {},
   "outputs": [],
   "source": [
    "def project_lidar_perspective(point_cloud, position, orientation,resolution, fov, no_data_value=-9999):\n",
    "    \"\"\"\n",
    "    Project LiDAR point cloud onto a 2D perspective image and calculate an elevation map.\n",
    "\n",
    "    Parameters:\n",
    "        point_cloud (numpy.ndarray): Nx3 array of LiDAR points (x, y, z) in EPSG:28355 and GDA1994 height datum.\n",
    "        position (tuple): (longitude, latitude, height) of the camera position in EPSG:4326 and GDA1994 height datum.\n",
    "        orientation (tuple): Viewpoint orientation as a 3-tuple (yaw, pitch, roll in radians).\n",
    "        resolution (tuple): Image resolution (width, height).\n",
    "        fov (float): Horizontal field of view in degrees.\n",
    "\n",
    "    Returns:\n",
    "        numpy.ndarray: 2D elevation map, averaged within each pixel grid.\n",
    "    \"\"\"\n",
    "    # Unpack inputs\n",
    "    px, py, pz = point_cloud.T  # Point cloud coordinates\n",
    "    vx, vy, vz = position  # Viewpoint position\n",
    "    yaw, pitch, roll = orientation  # Viewpoint orientation\n",
    "    img_width, img_height = resolution  # Image resolution\n",
    "\n",
    "    # Step 1: Translate points to the viewpoint's position\n",
    "    points = np.array([px - vx, py - vy, pz - vz]).T\n",
    "\n",
    "    # Step 2: Apply rotation to align with the viewpoint's orientation\n",
    "    rotation_matrix = R.from_euler('zyx', [yaw, pitch, roll]).as_matrix()\n",
    "    points = points @ rotation_matrix.T\n",
    "    \n",
    "\n",
    "    print('total number of points: ',len(points))\n",
    "    points = np.asarray(points)\n",
    "\n",
    "    # Perspective projection parameters\n",
    "    focal_length = 0.5 * img_width / np.tan(0.5 * fov)\n",
    "\n",
    "    # Filter points in front of the camera (z > 0)\n",
    "    x, y, z = points.T\n",
    "    valid = z > 0\n",
    "    x, y, z = x[valid], y[valid], z[valid]\n",
    "    print('number of points in front of camera: ',np.sum(valid))\n",
    "\n",
    "    # Project to image plane\n",
    "    u = (focal_length * x / z + img_width / 2).astype(int)\n",
    "    v = (focal_length * y / z + img_height / 2).astype(int)\n",
    "\n",
    "    print('u: ',u)\n",
    "    print('v: ',v)\n",
    "    print('z: ',z)\n",
    "    # Clip points to be within image bounds\n",
    "    valid_pixels = (u >= 0) & (u < img_width) & (v >= 0) & (v < img_height)\n",
    "    print('number of points within view: ',np.sum(valid_pixels))\n",
    "    print(valid_pixels)\n",
    "    u, v, z = u[valid_pixels], v[valid_pixels], z[valid_pixels]\n",
    "\n",
    "    # Create an elevation map and track counts for averaging\n",
    "    elevation_map = np.zeros((img_height, img_width), dtype=np.float32)\n",
    "    counts = np.zeros((img_height, img_width), dtype=np.int32)\n",
    "\n",
    "    for px, py, z_val in zip(u, v, z):\n",
    "        elevation_map[py, px] += z_val  # Accumulate elevation values\n",
    "        counts[py, px] += 1            # Count the number of points per pixel\n",
    "\n",
    "    # Avoid division by zero and calculate the average elevation\n",
    "    non_zero = counts > 0\n",
    "    elevation_map[non_zero] /= counts[non_zero]\n",
    "\n",
    "    # Replace zero or invalid elevation values with a no-data value (e.g., -1 for invalid elevation)\n",
    "    elevation_map[~non_zero] = no_data_value\n",
    "\n",
    "    return elevation_map"
   ]
  },
  {
   "cell_type": "code",
   "execution_count": 416,
   "metadata": {},
   "outputs": [],
   "source": [
    "def project_lidar_equirectangular(point_cloud, position, orientation, hfov, vfov, resolution,no_data_value=-9999):\n",
    "    \"\"\"\n",
    "    Calculate an elevation image from a point cloud projected within the field of view.\n",
    "\n",
    "    Parameters:\n",
    "        point_cloud (numpy.ndarray): Array of shape (N, 3) with 3D points (x, y, z).\n",
    "        position (tuple): Viewpoint position as a 3-tuple (x, y, z).\n",
    "        orientation (tuple): Viewpoint orientation as a 3-tuple (yaw, pitch, roll in radians).\n",
    "        hfov (float): Horizontal field of view in radians.\n",
    "        vfov (float): Vertical field of view in radians.\n",
    "        resolution (tuple): Image resolution (width, height).\n",
    "\n",
    "    Returns:\n",
    "        numpy.ndarray: 2D array representing the elevation image.\n",
    "    \"\"\"\n",
    "    # Unpack inputs\n",
    "    px, py, pz = point_cloud.T  # Point cloud coordinates\n",
    "    vx, vy, vz = position  # Viewpoint position\n",
    "    yaw, pitch, roll = orientation  # Viewpoint orientation\n",
    "    img_width, img_height = resolution  # Image resolution\n",
    "\n",
    "    # Step 1: Translate points to the viewpoint's position\n",
    "    points = np.array([px - vx, py - vy, pz - vz]).T\n",
    "\n",
    "    # Step 2: Apply rotation to align with the viewpoint's orientation\n",
    "    rotation_matrix = R.from_euler('zyx', [yaw, pitch, roll]).as_matrix()\n",
    "    points = points @ rotation_matrix.T\n",
    "\n",
    "    print('total number of points: ',len(points))\n",
    "    print('transformed points: ',points)\n",
    "    # Step 3: Convert to spherical coordinates\n",
    "    r = np.linalg.norm(points, axis=1)  # Radial distance\n",
    "    theta = np.arctan2(points[:, 1], points[:, 0])  # Azimuth angle\n",
    "    phi = np.arcsin(points[:, 2] / r)  # Elevation angle\n",
    "\n",
    "    # Step 4: Filter points within the field of view\n",
    "    mask = (\n",
    "        (theta >= -hfov / 2) & (theta <= hfov / 2) &\n",
    "        (phi >= -vfov / 2) & (phi <= vfov / 2)\n",
    "    )\n",
    "    print('number of points within view: ',np.sum(mask))\n",
    "    points = points[mask]\n",
    "    theta = theta[mask]\n",
    "    phi = phi[mask]\n",
    "    r = r[mask]\n",
    "\n",
    "    # Step 5: Map to image plane\n",
    "    u = ((theta + hfov / 2) / hfov * img_width).astype(int)\n",
    "    v = ((phi + vfov / 2) / vfov * img_height).astype(int)\n",
    "\n",
    "    print('u: ',u)\n",
    "    print('v: ',v)\n",
    "    u = np.clip(u, 0, img_width - 1)\n",
    "    v = np.clip(v, 0, img_height - 1)\n",
    "\n",
    "    print('u clipped: ',u)\n",
    "    print('v clipped: ',v)\n",
    "\n",
    "    # Step 6: Create the elevation image\n",
    "    elevation_image = np.full((img_height, img_width), no_data_value,dtype=float)\n",
    "    for ui, vi, ri in zip(u, v, points[:, 2]):\n",
    "        elevation_image[vi, ui] = max(elevation_image[vi, ui], ri)  # Max elevation\n",
    "\n",
    "    return elevation_image\n"
   ]
  },
  {
   "cell_type": "markdown",
   "metadata": {},
   "source": [
    "### Read LiDAR points from a .las file"
   ]
  },
  {
   "cell_type": "code",
   "execution_count": 417,
   "metadata": {},
   "outputs": [
    {
     "name": "stdout",
     "output_type": "stream",
     "text": [
      "total number of points:  9949\n",
      "number of points in front of camera:  9949\n",
      "u:  [ 954 1627 1527 ... 1326 1348 1376]\n",
      "v:  [129 129 135 ...  99  95  98]\n",
      "z:  [3.22 1.65 1.77 ... 3.32 3.35 3.29]\n",
      "number of points within view:  0\n",
      "[False False False ... False False False]\n"
     ]
    },
    {
     "data": {
      "text/plain": [
       "array([[-999., -999., -999., ..., -999., -999., -999.],\n",
       "       [-999., -999., -999., ..., -999., -999., -999.],\n",
       "       [-999., -999., -999., ..., -999., -999., -999.],\n",
       "       ...,\n",
       "       [-999., -999., -999., ..., -999., -999., -999.],\n",
       "       [-999., -999., -999., ..., -999., -999., -999.],\n",
       "       [-999., -999., -999., ..., -999., -999., -999.]], dtype=float32)"
      ]
     },
     "execution_count": 417,
     "metadata": {},
     "output_type": "execute_result"
    }
   ],
   "source": [
    "las_file_path = r\"C:\\Users\\lliu\\Desktop\\FrontierSI\\projects\\GA_floor_height\\QA4lidar\\2_clipped_buffered.las\"\n",
    "with laspy.open(las_file_path) as las:\n",
    "    lidar_data = las.read()\n",
    "    lidar_points = np.vstack((lidar_data.x, lidar_data.y, lidar_data.z)).T  # Extract x, y, z coordinates\n"
   ]
  },
  {
   "cell_type": "markdown",
   "metadata": {},
   "source": [
    "### Filter point cloud"
   ]
  },
  {
   "cell_type": "code",
   "execution_count": null,
   "metadata": {},
   "outputs": [],
   "source": [
    "# Remove noise points using DBSCAN\n",
    "eps = 3  # Maximum distance between points to be considered neighbors (meters)\n",
    "min_samples = 2  # Minimum number of points to form a cluster\n",
    "lidar_points = remove_noise(lidar_points, eps, min_samples)"
   ]
  },
  {
   "cell_type": "markdown",
   "metadata": {},
   "source": [
    "### Set camera metadata\n"
   ]
  },
  {
   "cell_type": "code",
   "execution_count": null,
   "metadata": {},
   "outputs": [],
   "source": [
    "# Camera in EPSG:4326 (longitude, latitude, height)\n",
    "camera_position = (149.1728570, -21.1282603, 7)  \n",
    "yaw = np.radians(250)         # Camera yaw angle\n",
    "pitch = np.radians(0)        # Camera pitch angle\n",
    "roll = np.radians(0)         # Camera roll angle\n",
    "orientation=(yaw, pitch, roll)\n",
    "# Image dimensions\n",
    "image_width = 256\n",
    "image_height = 256\n",
    "resolution=(image_width,image_height)\n",
    "# Field of views in degrees\n",
    "fov_v=np.radians(90)\n",
    "fov_h = np.radians(90)\n",
    "# fill value for background pixels\n",
    "nodata_value=-9999"
   ]
  },
  {
   "cell_type": "markdown",
   "metadata": {},
   "source": [
    "### Reproject viewpoint to be consistent with point cloud"
   ]
  },
  {
   "cell_type": "code",
   "execution_count": null,
   "metadata": {},
   "outputs": [],
   "source": [
    "transformer = Transformer.from_crs(\"EPSG:4326\", \"EPSG:28355\", always_xy=True)\n",
    "camera_easting, camera_northing = transformer.transform(camera_position[0], camera_position[1])\n",
    "camera_position=(camera_easting, camera_northing,camera_position[2])"
   ]
  },
  {
   "cell_type": "markdown",
   "metadata": {},
   "source": [
    "### project point cloud"
   ]
  },
  {
   "cell_type": "code",
   "execution_count": null,
   "metadata": {},
   "outputs": [],
   "source": [
    "# Project points\n",
    "elevation_image = project_lidar_perspective(lidar_points, camera_position, orientation, resolution, fov_h,no_data_value=nodata_value)\n",
    "elevation_image"
   ]
  },
  {
   "cell_type": "markdown",
   "metadata": {},
   "source": [
    "### Visualise projected image"
   ]
  },
  {
   "cell_type": "code",
   "execution_count": 372,
   "metadata": {},
   "outputs": [
    {
     "data": {
      "text/plain": [
       "<matplotlib.colorbar.Colorbar at 0x1da6e317c40>"
      ]
     },
     "execution_count": 372,
     "metadata": {},
     "output_type": "execute_result"
    },
    {
     "data": {
      "image/png": "[encoded data removed]",
      "text/plain": [
       "<Figure size 640x480 with 2 Axes>"
      ]
     },
     "metadata": {},
     "output_type": "display_data"
    }
   ],
   "source": [
    "elevation_image_copy=elevation_image.copy()\n",
    "elevation_image_copy[elevation_image_copy==nodata_value] = np.nan\n",
    "plt.imshow(elevation_image_copy,cmap='cool',interpolation='none',origin='lower')\n",
    "plt.colorbar(label='Elevation (m)')"
   ]
  }
 ],
 "metadata": {
  "kernelspec": {
   "display_name": "floorheight",
   "language": "python",
   "name": "python3"
  },
  "language_info": {
   "codemirror_mode": {
    "name": "ipython",
    "version": 3
   },
   "file_extension": ".py",
   "mimetype": "text/x-python",
   "name": "python",
   "nbconvert_exporter": "python",
   "pygments_lexer": "ipython3",
   "version": "3.10.15"
  }
 },
 "nbformat": 4,
 "nbformat_minor": 2
}
