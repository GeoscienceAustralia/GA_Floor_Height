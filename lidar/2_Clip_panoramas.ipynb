{
 "cells": [
  {
   "cell_type": "markdown",
   "metadata": {},
   "source": [
    "## Import modules"
   ]
  },
  {
   "cell_type": "code",
   "execution_count": null,
   "metadata": {},
   "outputs": [],
   "source": [
    "%load_ext autoreload\n",
    "%autoreload 2"
   ]
  },
  {
   "cell_type": "code",
   "execution_count": null,
   "metadata": {},
   "outputs": [],
   "source": [
    "import os\n",
    "os.chdir(\"/home/ubuntu/lavender_floor_height/GA-floor-height\")  # Set this to your repository folder root to allow loading other modules"
   ]
  },
  {
   "cell_type": "code",
   "execution_count": null,
   "metadata": {},
   "outputs": [],
   "source": [
    "import geopandas as gpd\n",
    "import math\n",
    "from PIL import Image\n",
    "import pandas as pd\n",
    "import glob\n",
    "from GSV import geometry"
   ]
  },
  {
   "cell_type": "markdown",
   "metadata": {},
   "source": [
    "## Set input and output folders"
   ]
  },
  {
   "cell_type": "code",
   "execution_count": null,
   "metadata": {},
   "outputs": [],
   "source": [
    "# input_buildings_pano_meta='/home/ubuntu/lavender_floor_height/output/Final_Wagga_training_samples_pano_metadata.geojson' # input buildings points with panorama metadata joined\n",
    "# input_folder='/mnt/floorheightvolume/panorama_Wagga' # input folder containing panorama images\n",
    "# out_folder='/mnt/floorheightvolume/panorama_Wagga_clipped' # output folder\n",
    "# out_building_pano_meta='/home/ubuntu/lavender_floor_height/output/Final_Wagga_training_samples_pano_metadata_clipping.geojson'\n",
    "# os.makedirs(out_folder, exist_ok=True)"
   ]
  },
  {
   "cell_type": "code",
   "execution_count": null,
   "metadata": {},
   "outputs": [],
   "source": [
    "input_buildings_pano_meta='/mnt/floorheightvolume/all_buildings/Final_Wagga_pano_metadata.geojson' # input buildings points with panorama metadata joined\n",
    "input_folder='/mnt/floorheightvolume/panorama_Wagga' # input folder containing panorama images\n",
    "out_folder='/mnt/floorheightvolume/panorama_Wagga_clipped' # output folder\n",
    "out_building_pano_meta='/mnt/floorheightvolume/all_buildings/Final_Wagga_pano_metadata_clipping.geojson'\n",
    "os.makedirs(out_folder, exist_ok=True)"
   ]
  },
  {
   "cell_type": "markdown",
   "metadata": {},
   "source": [
    "## Load metadata file"
   ]
  },
  {
   "cell_type": "code",
   "execution_count": null,
   "metadata": {},
   "outputs": [],
   "source": [
    "# Read the JSON file\n",
    "epsg_trajectory='EPSG:7844' # GDA2020\n",
    "gdf_meta=gpd.read_file(input_buildings_pano_meta).to_crs(epsg_trajectory)\n",
    "gdf_meta.head()"
   ]
  },
  {
   "cell_type": "code",
   "execution_count": null,
   "metadata": {},
   "outputs": [],
   "source": [
    "gdf_meta=gdf_meta[gdf_meta[\"USAGE\"]==\"Residential\"].reset_index(drop=True)\n",
    "gdf_meta"
   ]
  },
  {
   "cell_type": "code",
   "execution_count": null,
   "metadata": {},
   "outputs": [],
   "source": [
    "gdf_meta.Heading_deg"
   ]
  },
  {
   "cell_type": "code",
   "execution_count": null,
   "metadata": {},
   "outputs": [],
   "source": [
    "# declination_deg=11.87\n",
    "# declination_deg=0\n",
    "gdf_meta['Heading_deg'] *= -1\n",
    "# gdf_meta['Heading_deg']+= declination_deg\n",
    "gdf_meta.loc[gdf_meta['Heading_deg'] < 0, 'Heading_deg'] += 360\n",
    "# gdf_meta['Heading_deg']+= 180"
   ]
  },
  {
   "cell_type": "code",
   "execution_count": null,
   "metadata": {},
   "outputs": [],
   "source": [
    "gdf_meta.columns"
   ]
  },
  {
   "cell_type": "code",
   "execution_count": null,
   "metadata": {},
   "outputs": [],
   "source": [
    "gdf_meta.Heading_deg"
   ]
  },
  {
   "cell_type": "markdown",
   "metadata": {},
   "source": [
    "### Test one example"
   ]
  },
  {
   "cell_type": "code",
   "execution_count": null,
   "metadata": {},
   "outputs": [],
   "source": [
    "i=0"
   ]
  },
  {
   "cell_type": "code",
   "execution_count": null,
   "metadata": {},
   "outputs": [],
   "source": [
    "pano_id=gdf_meta.at[i,'FRAMEID']\n",
    "pano_id"
   ]
  },
  {
   "cell_type": "code",
   "execution_count": null,
   "metadata": {},
   "outputs": [],
   "source": [
    "ufi=gdf_meta.at[i,'UFI']\n",
    "ufi"
   ]
  },
  {
   "cell_type": "markdown",
   "metadata": {},
   "source": [
    "## Read in pano\n",
    "Allow large image to be loaded:"
   ]
  },
  {
   "cell_type": "code",
   "execution_count": null,
   "metadata": {},
   "outputs": [],
   "source": [
    "Image.MAX_IMAGE_PIXELS=None"
   ]
  },
  {
   "cell_type": "code",
   "execution_count": null,
   "metadata": {},
   "outputs": [],
   "source": [
    "pano_file=glob.glob(os.path.join(input_folder,'*'+pano_id+\"*.jpg\"))[0]\n",
    "pano_img=Image.open(pano_file)\n",
    "pano_file"
   ]
  },
  {
   "cell_type": "markdown",
   "metadata": {},
   "source": [
    "## Localise building of interest"
   ]
  },
  {
   "cell_type": "markdown",
   "metadata": {},
   "source": [
    "House location (horizontal pixel range) within pano image:"
   ]
  },
  {
   "cell_type": "code",
   "execution_count": null,
   "metadata": {},
   "outputs": [],
   "source": [
    "location = geometry.localize_house_in_panorama(lat_c=gdf_meta.at[i,'LATITUDE'], \n",
    "                                    lon_c=gdf_meta.at[i,'LONGITUDE'], \n",
    "                                    lat_house=gdf_meta.geometry.iloc[i].y, \n",
    "                                    lon_house=gdf_meta.geometry.iloc[i].x,\n",
    "                                    beta_yaw_deg=gdf_meta.at[i,'Heading_deg'], \n",
    "                                    Wim=pano_img.width,angle_extend=40)\n",
    "location"
   ]
  },
  {
   "cell_type": "markdown",
   "metadata": {},
   "source": [
    "Record locations:"
   ]
  },
  {
   "cell_type": "code",
   "execution_count": null,
   "metadata": {},
   "outputs": [],
   "source": [
    "gdf_meta_updated=gdf_meta.copy()\n",
    "if 'house_loc_left' not in gdf_meta_updated.columns:\n",
    "    gdf_meta_updated['house_loc_left']=None\n",
    "if 'house_loc_right' not in gdf_meta_updated.columns:\n",
    "    gdf_meta_updated['house_loc_right']=None\n",
    "gdf_meta_updated.at[i,'house_loc_left']=location['horizontal_pixel_range_house'][0]\n",
    "gdf_meta_updated.at[i,'house_loc_right']=location['horizontal_pixel_range_house'][1]"
   ]
  },
  {
   "cell_type": "markdown",
   "metadata": {},
   "source": [
    "## Clip panorama image to localised area\n",
    "- Horizontally clipped to calculated pixel range\n",
    "- Vertically clipped based on hard-coded upper and lower crop proportions range"
   ]
  },
  {
   "cell_type": "code",
   "execution_count": null,
   "metadata": {},
   "outputs": [],
   "source": [
    "upper_crop=0.25\n",
    "lower_crop=0.6"
   ]
  },
  {
   "cell_type": "code",
   "execution_count": null,
   "metadata": {},
   "outputs": [],
   "source": [
    "pano_img_clipped=pano_img.crop(box=(location['horizontal_pixel_range_house'][0],\n",
    "                   upper_crop*pano_img.height,\n",
    "                   location['horizontal_pixel_range_house'][1],\n",
    "                   lower_crop*pano_img.height\n",
    "                   ))\n",
    "pano_img_clipped"
   ]
  },
  {
   "cell_type": "markdown",
   "metadata": {},
   "source": [
    "### Save clipped images\n",
    "* added building UFI to avoid duplication of panoramas"
   ]
  },
  {
   "cell_type": "code",
   "execution_count": null,
   "metadata": {},
   "outputs": [],
   "source": [
    "pano_img_clipped.save(os.path.join(out_folder,os.path.basename(pano_file).split('.')[0]+'_'+str(ufi)+'.jpg'), \"jpeg\")"
   ]
  },
  {
   "cell_type": "markdown",
   "metadata": {},
   "source": [
    "## Batch clipping"
   ]
  },
  {
   "cell_type": "code",
   "execution_count": null,
   "metadata": {},
   "outputs": [],
   "source": [
    "# pano_ids=gdf_meta['FRAMEID'][gdf_meta['FRAMEID'].notna()]\n",
    "for i in range(len(gdf_meta)):\n",
    "    pano_id=gdf_meta.at[i,'FRAMEID']\n",
    "    print('frame id: ',pano_id)\n",
    "    ufi=gdf_meta.at[i,'UFI']\n",
    "    if not pd.isna(pano_id):\n",
    "        try:\n",
    "            pano_file=glob.glob(os.path.join(input_folder,'*'+pano_id+\"*.jpg\"))[0]\n",
    "            out_clipped_pano=os.path.join(out_folder,os.path.basename(pano_file).split('.')[0]+'_'+str(ufi)+'.jpg')\n",
    "            # read in pano image\n",
    "            if os.path.exists(pano_file):\n",
    "                pano_img=Image.open(pano_file)\n",
    "                # localise house of interest\n",
    "                location = geometry.localize_house_in_panorama(lat_c=gdf_meta.at[i,'LATITUDE'], \n",
    "                                            lon_c=gdf_meta.at[i,'LONGITUDE'], \n",
    "                                            lat_house=gdf_meta.geometry.iloc[i].y, \n",
    "                                            lon_house=gdf_meta.geometry.iloc[i].x,\n",
    "                                            beta_yaw_deg=gdf_meta.at[i,'Heading_deg'], \n",
    "                                            Wim=pano_img.width,angle_extend=40)\n",
    "                gdf_meta_updated.at[i,'house_loc_left']=location['horizontal_pixel_range_house'][0]\n",
    "                gdf_meta_updated.at[i,'house_loc_right']=location['horizontal_pixel_range_house'][1]\n",
    "                try:\n",
    "                    # clip pano image\n",
    "                    pano_img_clipped=pano_img.crop(box=(location['horizontal_pixel_range_house'][0],\n",
    "                                upper_crop*pano_img.height,\n",
    "                                location['horizontal_pixel_range_house'][1],\n",
    "                                lower_crop*pano_img.height\n",
    "                                ))\n",
    "                    pano_img_clipped.save(out_clipped_pano)\n",
    "                except Exception as e:\n",
    "                    print(e)\n",
    "            else:\n",
    "                print('pano file missing')\n",
    "        except Exception as e:\n",
    "            print(e)\n",
    "    else:\n",
    "        print('no pano file associated with building points')"
   ]
  },
  {
   "cell_type": "markdown",
   "metadata": {},
   "source": [
    "### Save updated building file with clipping range"
   ]
  },
  {
   "cell_type": "code",
   "execution_count": null,
   "metadata": {},
   "outputs": [],
   "source": [
    "gdf_meta_updated.to_file(out_building_pano_meta)"
   ]
  }
 ],
 "metadata": {
  "kernelspec": {
   "display_name": "pytorch",
   "language": "python",
   "name": "python3"
  },
  "language_info": {
   "codemirror_mode": {
    "name": "ipython",
    "version": 3
   },
   "file_extension": ".py",
   "mimetype": "text/x-python",
   "name": "python",
   "nbconvert_exporter": "python",
   "pygments_lexer": "ipython3",
   "version": "3.11.10"
  }
 },
 "nbformat": 4,
 "nbformat_minor": 2
}
