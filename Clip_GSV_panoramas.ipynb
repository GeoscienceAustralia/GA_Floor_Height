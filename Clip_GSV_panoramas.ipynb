{
 "cells": [
  {
   "cell_type": "markdown",
   "metadata": {},
   "source": [
    "## Import modules"
   ]
  },
  {
   "cell_type": "code",
   "execution_count": null,
   "metadata": {},
   "outputs": [],
   "source": [
    "%load_ext autoreload\n",
    "%autoreload 2"
   ]
  },
  {
   "cell_type": "code",
   "execution_count": null,
   "metadata": {},
   "outputs": [],
   "source": [
    "import geopandas as gpd\n",
    "import json\n",
    "import os\n",
    "import math\n",
    "import requests\n",
    "import geometry\n",
    "from PIL import Image"
   ]
  },
  {
   "cell_type": "markdown",
   "metadata": {},
   "source": [
    "## Set input and output folders"
   ]
  },
  {
   "cell_type": "code",
   "execution_count": null,
   "metadata": {},
   "outputs": [],
   "source": [
    "# input_folder='data'\n",
    "input_folder='output\\Wagga\\Panos'\n",
    "input_folder_depth='output\\Wagga\\Depth_decoded'\n",
    "\n",
    "out_folder='output\\Wagga\\Panos_clipped'\n",
    "out_folder_depth='output\\Wagga\\Depth_decoded_clipped'"
   ]
  },
  {
   "cell_type": "markdown",
   "metadata": {},
   "source": [
    "## Load metadata file"
   ]
  },
  {
   "cell_type": "code",
   "execution_count": null,
   "metadata": {},
   "outputs": [],
   "source": [
    "# Read the JSON file\n",
    "metadata_file=os.path.join(input_folder,'metadata_all.json')\n",
    "with open(metadata_file, 'r') as json_file:\n",
    "    metadata = json.load(json_file)\n",
    "pano_ids = list(metadata.keys())\n",
    "len(pano_ids)"
   ]
  },
  {
   "cell_type": "code",
   "execution_count": null,
   "metadata": {},
   "outputs": [],
   "source": [
    "# pano_id=pano_ids[2]\n",
    "pano_id='8z3aOgFCC5fbk1vvH3RWuQ'\n",
    "pano_id"
   ]
  },
  {
   "cell_type": "markdown",
   "metadata": {},
   "source": [
    "## Read in pano"
   ]
  },
  {
   "cell_type": "code",
   "execution_count": null,
   "metadata": {},
   "outputs": [],
   "source": [
    "pano_file=os.path.join(input_folder,pano_id+\".jpg\")\n",
    "gsv_pano=Image.open(pano_file)\n",
    "gsv_pano"
   ]
  },
  {
   "cell_type": "markdown",
   "metadata": {},
   "source": [
    "## Read in decoded depth map"
   ]
  },
  {
   "cell_type": "code",
   "execution_count": null,
   "metadata": {},
   "outputs": [],
   "source": [
    "depth_file=os.path.join(input_folder_depth,pano_id+\".tif\")\n",
    "gsv_depth=Image.open(depth_file)\n",
    "gsv_depth"
   ]
  },
  {
   "cell_type": "markdown",
   "metadata": {},
   "source": [
    "## Localise building of interest"
   ]
  },
  {
   "cell_type": "markdown",
   "metadata": {},
   "source": [
    "House location (horizontal pixel range) within pano image:"
   ]
  },
  {
   "cell_type": "code",
   "execution_count": null,
   "metadata": {},
   "outputs": [],
   "source": [
    "# below are standard google pano image dimension which does not apply to user uploaded data\n",
    "# width=512*(2**zoom_level) # pano image width\n",
    "# height=512*(2**(zoom_level-1)) # pano image height\n",
    "heading=metadata[pano_id]['All_panos'][pano_id]['heading']\n",
    "location = geometry.localize_house_in_panorama(lat_c=metadata[pano_id]['location']['lat'], \n",
    "                                    lon_c=metadata[pano_id]['location']['lng'], \n",
    "                                    lat_house=metadata[pano_id]['house_location']['lat'], \n",
    "                                    lon_house=metadata[pano_id]['house_location']['lng'],\n",
    "                                    beta_yaw_deg=heading, \n",
    "                                    Wim=gsv_pano.width,angle_extend=40)\n",
    "location"
   ]
  },
  {
   "cell_type": "markdown",
   "metadata": {},
   "source": [
    "## Clip panorama image to localised area\n",
    "- Horizontally clipped to calculated pixel range\n",
    "- Vertically clipped based on hard-coded upper and lower crop proportions range"
   ]
  },
  {
   "cell_type": "code",
   "execution_count": null,
   "metadata": {},
   "outputs": [],
   "source": [
    "upper_crop=0.25\n",
    "lower_crop=0.6"
   ]
  },
  {
   "cell_type": "code",
   "execution_count": null,
   "metadata": {},
   "outputs": [],
   "source": [
    "gsv_pano_clipped=gsv_pano.crop(box=(location['horizontal_pixel_range_house'][0],\n",
    "                   upper_crop*gsv_pano.height,\n",
    "                   location['horizontal_pixel_range_house'][1],\n",
    "                   lower_crop*gsv_pano.height\n",
    "                   ))\n",
    "gsv_pano_clipped"
   ]
  },
  {
   "cell_type": "code",
   "execution_count": null,
   "metadata": {},
   "outputs": [],
   "source": [
    "gsv_depth_clipped=gsv_depth.crop(box=(location['horizontal_pixel_range_house'][0],\n",
    "                   upper_crop*gsv_pano.height,\n",
    "                   location['horizontal_pixel_range_house'][1],\n",
    "                   lower_crop*gsv_pano.height\n",
    "                   ))\n",
    "gsv_depth_clipped"
   ]
  },
  {
   "cell_type": "markdown",
   "metadata": {},
   "source": [
    "### Save clipped images"
   ]
  },
  {
   "cell_type": "code",
   "execution_count": null,
   "metadata": {},
   "outputs": [],
   "source": [
    "gsv_pano_clipped.save(os.path.join(out_folder,pano_id+\".jpg\"), \"jpeg\")"
   ]
  },
  {
   "cell_type": "code",
   "execution_count": null,
   "metadata": {},
   "outputs": [],
   "source": [
    "gsv_depth_clipped.save(os.path.join(out_folder_depth,pano_id+\".tif\"))"
   ]
  },
  {
   "cell_type": "markdown",
   "metadata": {},
   "source": [
    "## Batch clipping"
   ]
  },
  {
   "cell_type": "code",
   "execution_count": null,
   "metadata": {},
   "outputs": [],
   "source": [
    "for pano_id in pano_ids:\n",
    "    if metadata[pano_id].get('status') == 'OK':\n",
    "        try:\n",
    "            # read in pano image\n",
    "            pano_file=os.path.join(input_folder,pano_id+\".jpg\")\n",
    "            gsv_pano=Image.open(pano_file)\n",
    "\n",
    "            # read in depth map\n",
    "            depth_file=os.path.join(input_folder_depth,pano_id+\".tif\")\n",
    "            gsv_depth=Image.open(depth_file)\n",
    "            \n",
    "            # localise house of interest\n",
    "            heading=metadata[pano_id]['All_panos'][pano_id]['heading']\n",
    "            location = geometry.localize_house_in_panorama(lat_c=metadata[pano_id]['location']['lat'], \n",
    "                                            lon_c=metadata[pano_id]['location']['lng'], \n",
    "                                            lat_house=metadata[pano_id]['house_location']['lat'], \n",
    "                                            lon_house=metadata[pano_id]['house_location']['lng'],\n",
    "                                            beta_yaw_deg=heading,\n",
    "                                            Wim=gsv_pano.width,angle_extend=40)\n",
    "            # clip pano image\n",
    "            gsv_pano_clipped=gsv_pano.crop(box=(location['horizontal_pixel_range_house'][0],\n",
    "                        upper_crop*gsv_pano.height,\n",
    "                        location['horizontal_pixel_range_house'][1],\n",
    "                        lower_crop*gsv_pano.height\n",
    "                        ))\n",
    "            \n",
    "            # clip depth map\n",
    "            gsv_depth_clipped=gsv_depth.crop(box=(location['horizontal_pixel_range_house'][0],\n",
    "                   upper_crop*gsv_pano.height,\n",
    "                   location['horizontal_pixel_range_house'][1],\n",
    "                   lower_crop*gsv_pano.height\n",
    "                   ))\n",
    "            # save files\n",
    "            gsv_pano_clipped.save(os.path.join(out_folder,pano_id+\".jpg\"), \"jpeg\")\n",
    "            gsv_depth_clipped.save(os.path.join(out_folder_depth,pano_id+\".tif\"))\n",
    "        except Exception as e:  # Catch any other unexpected errors:\n",
    "            print(f\"{e}, skipping...\")"
   ]
  }
 ],
 "metadata": {
  "kernelspec": {
   "display_name": "floorheight",
   "language": "python",
   "name": "python3"
  },
  "language_info": {
   "codemirror_mode": {
    "name": "ipython",
    "version": 3
   },
   "file_extension": ".py",
   "mimetype": "text/x-python",
   "name": "python",
   "nbconvert_exporter": "python",
   "pygments_lexer": "ipython3",
   "version": "3.10.15"
  }
 },
 "nbformat": 4,
 "nbformat_minor": 2
}
