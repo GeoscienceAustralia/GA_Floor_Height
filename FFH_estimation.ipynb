{
 "cells": [
  {
   "cell_type": "markdown",
   "metadata": {},
   "source": [
    "## Load modules"
   ]
  },
  {
   "cell_type": "code",
   "execution_count": null,
   "metadata": {},
   "outputs": [],
   "source": [
    "%load_ext autoreload\n",
    "%autoreload 2"
   ]
  },
  {
   "cell_type": "code",
   "execution_count": null,
   "metadata": {},
   "outputs": [],
   "source": [
    "import numpy as np\n",
    "import os\n",
    "from PIL import Image\n",
    "from geometry import extract_feature_bottom, calculate_height_difference"
   ]
  },
  {
   "cell_type": "markdown",
   "metadata": {},
   "source": [
    "## Set input and output folders"
   ]
  },
  {
   "cell_type": "code",
   "execution_count": null,
   "metadata": {},
   "outputs": [],
   "source": [
    "input_folder='output\\Wagga\\Depth_predicted'\n",
    "output_folder=input_folder"
   ]
  },
  {
   "cell_type": "markdown",
   "metadata": {},
   "source": [
    "## Read in segmentation dataset from OneFormer"
   ]
  },
  {
   "cell_type": "code",
   "execution_count": null,
   "metadata": {},
   "outputs": [],
   "source": [
    "label_png = r'C:\\Users\\lliu\\Desktop\\FrontierSI\\projects\\GA_floor_height\\GA-floor-height\\output\\Wagga\\Panos_clipped\\label_testing\\8z3aOgFCC5fbk1vvH3RWuQ\\label.png'\n",
    "# label_png = r'C:\\Users\\lliu\\Desktop\\FrontierSI\\projects\\GA_floor_height\\GA-floor-height\\output\\Wagga\\Panos_clipped\\label_testing\\5q_FunDhOxgGsrQc9WthtQ\\label.png'\n",
    "lbl_arr = np.asarray(Image.open(label_png))\n",
    "print(lbl_arr.dtype)\n",
    "np.unique(lbl_arr)"
   ]
  },
  {
   "cell_type": "markdown",
   "metadata": {},
   "source": [
    "## Read in a depth map"
   ]
  },
  {
   "cell_type": "code",
   "execution_count": null,
   "metadata": {},
   "outputs": [],
   "source": [
    "# depth_files = [os.path.join(input_folder, file) for file in os.listdir(input_folder) if file.endswith('.tif')]\n",
    "# depth_files[0]\n",
    "# depth_map=Image.open(depth_files[0])\n",
    "# depth_map"
   ]
  },
  {
   "cell_type": "code",
   "execution_count": null,
   "metadata": {},
   "outputs": [],
   "source": [
    "# depth_file=r'C:\\Users\\lliu\\Desktop\\FrontierSI\\projects\\GA_floor_height\\GA-floor-height\\output\\Wagga\\Depth_decoded_clipped\\8z3aOgFCC5fbk1vvH3RWuQ.tif'\n",
    "# depth_file=r'C:\\Users\\lliu\\Desktop\\FrontierSI\\projects\\GA_floor_height\\GA-floor-height\\output\\Wagga\\Depth_decoded_clipped\\5q_FunDhOxgGsrQc9WthtQ.tif'\n",
    "depth_file=r'C:\\Users\\lliu\\Desktop\\FrontierSI\\projects\\GA_floor_height\\GA-floor-height\\output\\Wagga\\Depth_predicted\\8z3aOgFCC5fbk1vvH3RWuQ.tif'\n",
    "# depth_file=r'C:\\Users\\lliu\\Desktop\\FrontierSI\\projects\\GA_floor_height\\GA-floor-height\\output\\Wagga\\Depth_predicted\\5q_FunDhOxgGsrQc9WthtQ.tif'\n",
    "depth_arr=np.asarray(Image.open(depth_file))\n",
    "depth_arr"
   ]
  },
  {
   "cell_type": "markdown",
   "metadata": {},
   "source": [
    "## Calculate FFH"
   ]
  },
  {
   "cell_type": "code",
   "execution_count": null,
   "metadata": {},
   "outputs": [],
   "source": [
    "\n",
    "# Assume `door_mask` is a binary 2D numpy array representing the mask with the door labeled as 1.\n",
    "door_mask = (lbl_arr==1)\n",
    "# Assume `stairs_mask` is a binary 2D numpy array representing the mask with the stairs labeled as 1.\n",
    "stairs_mask = (lbl_arr==2)\n",
    "H_img = depth_arr.shape[0]  # Height of the cropped panorama\n",
    "\n",
    "# extract bottom pixels of the door\n",
    "door_bottom_pixels = extract_feature_bottom(door_mask)\n",
    "print(\"Door bottom pixels:\", door_bottom_pixels)\n",
    "\n",
    "# extract bottom pixels of the stairs\n",
    "stairs_bottom_pixels = extract_feature_bottom(stairs_mask)\n",
    "print(\"Stairs bottom pixels:\", stairs_bottom_pixels)\n",
    "\n",
    "# calculate height difference between camera and door bottom\n",
    "delta_camera_door = calculate_height_difference(door_bottom_pixels, depth_arr, H_img)\n",
    "print(\"Estimated Height difference between camera and door bottom:\", delta_camera_door)\n",
    "\n",
    "# calculate height difference between camera and stairs bottom\n",
    "delta_camera_base = calculate_height_difference(stairs_bottom_pixels, depth_arr, H_img)\n",
    "print(\"Estimated Height difference between camera and stairs bottom:\", delta_camera_base)\n",
    "\n",
    "print(\"Estimated First Floor Height (FFH):\", delta_camera_door-delta_camera_base)"
   ]
  }
 ],
 "metadata": {
  "kernelspec": {
   "display_name": "floorheight",
   "language": "python",
   "name": "python3"
  },
  "language_info": {
   "codemirror_mode": {
    "name": "ipython",
    "version": 3
   },
   "file_extension": ".py",
   "mimetype": "text/x-python",
   "name": "python",
   "nbconvert_exporter": "python",
   "pygments_lexer": "ipython3",
   "version": "3.10.15"
  }
 },
 "nbformat": 4,
 "nbformat_minor": 2
}
