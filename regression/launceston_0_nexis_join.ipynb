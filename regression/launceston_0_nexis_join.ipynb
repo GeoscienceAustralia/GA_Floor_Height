{
 "cells": [
  {
   "cell_type": "markdown",
   "metadata": {},
   "source": [
    "# Join NEXIS and Council data for Launceston\n"
   ]
  },
  {
   "cell_type": "code",
   "execution_count": 2,
   "metadata": {},
   "outputs": [],
   "source": [
    "import geopandas as gpd\n",
    "import numpy as np\n",
    "from matplotlib import pyplot as plt"
   ]
  },
  {
   "cell_type": "markdown",
   "metadata": {},
   "source": [
    "### NEXIS data"
   ]
  },
  {
   "cell_type": "code",
   "execution_count": null,
   "metadata": {},
   "outputs": [],
   "source": [
    "nexis_filepath = '/Users/madeleineseehaber/Library/CloudStorage/OneDrive-FrontierSI/127 Residential Dwelling Floor Height/4 Executing/GA_data_documentation/nexis_building_data/launceston_nexis.gpkg'#'/Users/Fangyuan/FrontierSI/Projects - Documents/Projects - Data Analytics/127 Residential Dwelling Floor Height/4 Executing/GA_data_documentation/nexis_building_data/launceston_nexis.gpkg'\n",
    "\n",
    "df_nexis = gpd.read_file(nexis_filepath)\n",
    "df_nexis.head()"
   ]
  },
  {
   "cell_type": "markdown",
   "metadata": {},
   "source": [
    "### City council data"
   ]
  },
  {
   "cell_type": "code",
   "execution_count": 4,
   "metadata": {},
   "outputs": [],
   "source": [
    "# file\n",
    "council_filepath = '/Users/madeleineseehaber/Library/CloudStorage/OneDrive-FrontierSI/127 Residential Dwelling Floor Height/4 Executing/GA_data_documentation/Launceston Exposure Data/LC_Final.zip'#'/Users/Fangyuan/FrontierSI/Projects - Documents/Projects - Data Analytics/127 Residential Dwelling Floor Height/4 Executing/GA_data_documentation/Launceston Exposure Data/LC_Final.zip'"
   ]
  },
  {
   "cell_type": "code",
   "execution_count": null,
   "metadata": {},
   "outputs": [],
   "source": [
    "df = gpd.read_file(council_filepath)\n",
    "df.head()"
   ]
  },
  {
   "cell_type": "code",
   "execution_count": null,
   "metadata": {},
   "outputs": [],
   "source": [
    "df_r = df[df.USE=='Residential']\n",
    "df_r['Floor_Height'] = df_r.LCC_FLOOR - df_r.DEM"
   ]
  },
  {
   "cell_type": "markdown",
   "metadata": {},
   "source": [
    "### Join"
   ]
  },
  {
   "cell_type": "code",
   "execution_count": 21,
   "metadata": {},
   "outputs": [],
   "source": [
    "df_nexis = df_nexis.to_crs(df_r.crs)"
   ]
  },
  {
   "cell_type": "code",
   "execution_count": null,
   "metadata": {},
   "outputs": [],
   "source": [
    "nearby_points = gpd.sjoin_nearest(df_nexis, df_r, max_distance=5, how='inner', distance_col=\"distance\")\n",
    "print(\"# of match\", len(nearby_points))\n",
    "\n",
    "# Calculate correlation\n",
    "correlation = nearby_points['floor_height_(m)'].corr(nearby_points['Floor_Height'])\n",
    "print(f\"Correlation between {'floor_height_(m)'} and {'Floor_Height'}: {correlation}\")\n",
    "\n",
    "one_to_one_matches = nearby_points.groupby('index_right').filter(lambda x: len(x) == 1)\n",
    "print(\"# of one to one match\", len(one_to_one_matches))\n",
    "\n",
    "# of mismatch\n",
    "print(\"# of mismatched height\", (np.abs(nearby_points['floor_height_(m)']-nearby_points.Floor_Height)>1e-3).sum())"
   ]
  },
  {
   "cell_type": "code",
   "execution_count": null,
   "metadata": {},
   "outputs": [],
   "source": [
    "nearby_points.Floor_Height.plot.hist(bins=np.arange(0,df_r.Floor_Height.max()+0.1,0.1), logy=True)"
   ]
  },
  {
   "cell_type": "code",
   "execution_count": null,
   "metadata": {},
   "outputs": [],
   "source": [
    "unique_build_types = np.sort(nearby_points['flood_vulnerability_function_id'].unique())\n",
    "num_build_types = len(unique_build_types)\n",
    "fig, axes = plt.subplots(nrows=(num_build_types + 3) // 4, ncols=4, figsize=(20, 5 * ((num_build_types + 3) // 4)))\n",
    "axes = axes.flatten()\n",
    "\n",
    "ffh_col_1 = 'floor_height_(m)'\n",
    "ffh_col_2 = 'Floor_Height'\n",
    "for ax, build_type in zip(axes, unique_build_types):\n",
    "    group = nearby_points[nearby_points['flood_vulnerability_function_id'] == build_type]\n",
    "        \n",
    "    ax.hist(group[ffh_col_1][group[ffh_col_1]>=0], bins=np.arange(0,2,0.1), alpha=0.7, label=ffh_col_1, density=False)\n",
    "    ax.hist(group[ffh_col_2][group[ffh_col_2]>=0], bins=np.arange(0,2,0.1), alpha=0.7, label=ffh_col_2, density=False)\n",
    "    \n",
    "    ax.set_title(f'Histogram of FFH for {build_type}')\n",
    "    ax.legend()"
   ]
  },
  {
   "cell_type": "markdown",
   "metadata": {},
   "source": [
    "### Building footprint"
   ]
  },
  {
   "cell_type": "code",
   "execution_count": 11,
   "metadata": {},
   "outputs": [],
   "source": [
    "\n",
    "overture_filepath = '/Users/madeleineseehaber/Library/CloudStorage/OneDrive-FrontierSI/127 Residential Dwelling Floor Height/4 Executing/Data Exploration/overture/launceston_building.gpkg'#'/Users/Fangyuan/FrontierSI/Projects - Documents/Projects - Data Analytics/127 Residential Dwelling Floor Height/4 Executing/Data Exploration/overture/launceston_building.gpkg'"
   ]
  },
  {
   "cell_type": "code",
   "execution_count": 12,
   "metadata": {},
   "outputs": [],
   "source": [
    "footprint = gpd.read_file(overture_filepath)"
   ]
  },
  {
   "cell_type": "code",
   "execution_count": null,
   "metadata": {},
   "outputs": [],
   "source": [
    "footprint.head()"
   ]
  },
  {
   "cell_type": "code",
   "execution_count": null,
   "metadata": {},
   "outputs": [],
   "source": [
    "footprint.crs"
   ]
  },
  {
   "cell_type": "code",
   "execution_count": 15,
   "metadata": {},
   "outputs": [],
   "source": [
    "nearby_points.rename(columns={'index_right':'index_nexis'}, inplace=True)"
   ]
  },
  {
   "cell_type": "code",
   "execution_count": null,
   "metadata": {},
   "outputs": [],
   "source": [
    "nearby_points.columns"
   ]
  },
  {
   "cell_type": "code",
   "execution_count": 17,
   "metadata": {},
   "outputs": [],
   "source": [
    "import os\n",
    "\n",
    "if os.path.exists('launceston_FFH_footprint_geometry.geojson'):\n",
    "    df_footprint = gpd.read_file('launceston_FFH_footprint_geometry.geojson')\n",
    "else:\n",
    "    footprint = footprint.to_crs(nearby_points.crs)\n",
    "\n",
    "    # Perform spatial join and retain one-to-one matches\n",
    "\n",
    "    # Step 1: Perform the spatial join\n",
    "    df_intersections = gpd.sjoin(nearby_points, footprint, how='inner', predicate='intersects')\n",
    "\n",
    "    # Step 2: Identify one-to-one matches by counting intersections for each index in both dataframes\n",
    "    one_to_one_matches = df_intersections.groupby('index_right').filter(lambda x: len(x) == 1)\n",
    "    \n",
    "    # Save\n",
    "    one_to_one_matches.to_file('launceston_FFH_with_footprint.geojson')\n",
    "    one_to_one_matches['geometry'] = footprint.loc[one_to_one_matches.index_right].geometry.values\n",
    "    one_to_one_matches.to_file('launceston_FFH_footprint_geometry.geojson')\n",
    "\n",
    "    len(one_to_one_matches)"
   ]
  },
  {
   "cell_type": "code",
   "execution_count": null,
   "metadata": {},
   "outputs": [],
   "source": [
    "one_to_one_matches.head()"
   ]
  },
  {
   "cell_type": "code",
   "execution_count": null,
   "metadata": {},
   "outputs": [],
   "source": [
    "len(one_to_one_matches)"
   ]
  },
  {
   "cell_type": "code",
   "execution_count": null,
   "metadata": {},
   "outputs": [],
   "source": []
  }
 ],
 "metadata": {
  "kernelspec": {
   "display_name": "floorheight",
   "language": "python",
   "name": "python3"
  },
  "language_info": {
   "codemirror_mode": {
    "name": "ipython",
    "version": 3
   },
   "file_extension": ".py",
   "mimetype": "text/x-python",
   "name": "python",
   "nbconvert_exporter": "python",
   "pygments_lexer": "ipython3",
   "version": "3.10.16"
  }
 },
 "nbformat": 4,
 "nbformat_minor": 2
}
