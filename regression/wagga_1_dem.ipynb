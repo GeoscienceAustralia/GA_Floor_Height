{
 "cells": [
  {
   "cell_type": "markdown",
   "metadata": {},
   "source": [
    "# Prepare Wagga DEM"
   ]
  },
  {
   "cell_type": "code",
   "execution_count": 1,
   "metadata": {},
   "outputs": [],
   "source": [
    "import os\n",
    "import glob\n",
    "from osgeo import gdal\n",
    "\n",
    "# Define output path for the VRT\n",
    "vrt_path = '/Users/Fangyuan/FrontierSI/Projects - Documents/Projects - Data Analytics/127 Residential Dwelling Floor Height/4 Executing/Data Exploration/Wagga DEM/NSW_2020_DEM_1m.vrt'\n",
    "\n",
    "if not os.path.exists(vrt_path):\n",
    "    # Define paths\n",
    "    tiff_folder = '/Users/Fangyuan/FrontierSI/Projects - Documents/Projects - Data Analytics/127 Residential Dwelling Floor Height/4 Executing/Data Exploration/Wagga DEM/NSW Government - Spatial Services/DEM/1 Metre/'\n",
    "    # Get a list of all TIFF files in the folder\n",
    "    tiff_files = glob.glob(f\"{tiff_folder}/*.tif\")\n",
    "\n",
    "    # Build the VRT\n",
    "    gdal.BuildVRT(vrt_path, tiff_files)"
   ]
  },
  {
   "cell_type": "markdown",
   "metadata": {},
   "source": [
    "### DEM derivatives\n",
    "\n",
    "hillshade for visual; others for correlation studies; slope is most important"
   ]
  },
  {
   "cell_type": "code",
   "execution_count": 10,
   "metadata": {},
   "outputs": [
    {
     "name": "stdout",
     "output_type": "stream",
     "text": [
      "gdaldem slope '/Users/Fangyuan/FrontierSI/Projects - Documents/Projects - Data Analytics/127 Residential Dwelling Floor Height/4 Executing/Data Exploration/Wagga DEM/NSW_2020_DEM_1m.vrt' '/Users/Fangyuan/FrontierSI/Projects - Documents/Projects - Data Analytics/127 Residential Dwelling Floor Height/4 Executing/Data Exploration/Wagga DEM/NSW_2020_DEM_1m_slope.tif' -of COG\n",
      "b'0...10...20...30...40...50...60...70...80...90...100 - done.\\n'\n",
      "gdaldem hillshade '/Users/Fangyuan/FrontierSI/Projects - Documents/Projects - Data Analytics/127 Residential Dwelling Floor Height/4 Executing/Data Exploration/Wagga DEM/NSW_2020_DEM_1m.vrt' '/Users/Fangyuan/FrontierSI/Projects - Documents/Projects - Data Analytics/127 Residential Dwelling Floor Height/4 Executing/Data Exploration/Wagga DEM/NSW_2020_DEM_1m_hillshade.tif' -of COG\n",
      "b'0...10...20...30...40...50...60...70...80...90...100 - done.\\n'\n",
      "gdaldem TRI '/Users/Fangyuan/FrontierSI/Projects - Documents/Projects - Data Analytics/127 Residential Dwelling Floor Height/4 Executing/Data Exploration/Wagga DEM/NSW_2020_DEM_1m.vrt' '/Users/Fangyuan/FrontierSI/Projects - Documents/Projects - Data Analytics/127 Residential Dwelling Floor Height/4 Executing/Data Exploration/Wagga DEM/NSW_2020_DEM_1m_tri.tif' -of COG\n",
      "b'0...10...20...30...40...50...60...70...80...90...100 - done.\\n'\n",
      "gdaldem TPI '/Users/Fangyuan/FrontierSI/Projects - Documents/Projects - Data Analytics/127 Residential Dwelling Floor Height/4 Executing/Data Exploration/Wagga DEM/NSW_2020_DEM_1m.vrt' '/Users/Fangyuan/FrontierSI/Projects - Documents/Projects - Data Analytics/127 Residential Dwelling Floor Height/4 Executing/Data Exploration/Wagga DEM/NSW_2020_DEM_1m_tpi.tif' -of COG\n",
      "b'0...10...20...30...40...50...60...70...80...90...100 - done.\\n'\n",
      "gdaldem roughness '/Users/Fangyuan/FrontierSI/Projects - Documents/Projects - Data Analytics/127 Residential Dwelling Floor Height/4 Executing/Data Exploration/Wagga DEM/NSW_2020_DEM_1m.vrt' '/Users/Fangyuan/FrontierSI/Projects - Documents/Projects - Data Analytics/127 Residential Dwelling Floor Height/4 Executing/Data Exploration/Wagga DEM/NSW_2020_DEM_1m_roughness.tif' -of COG\n",
      "b'0...10...20...30...40...50...60...70...80...90...100 - done.\\n'\n"
     ]
    }
   ],
   "source": [
    "import subprocess\n",
    "\n",
    "for index in ['slope', 'hillshade', 'TRI', 'TPI', 'roughness']:\n",
    "    output = vrt_path.replace('.vrt', f'_{index.lower()}.tif')\n",
    "    cmd = f\"gdaldem {index} '{vrt_path}' '{output}' -of COG\"\n",
    "    print(cmd)\n",
    "    result = subprocess.run(cmd, shell=True, capture_output=True)\n",
    "\n",
    "    # Check if the command was successful\n",
    "    if result.returncode == 0:\n",
    "        print(result.stdout)\n",
    "    else:\n",
    "        print(\"Error:\", result.stderr)"
   ]
  },
  {
   "cell_type": "code",
   "execution_count": null,
   "metadata": {},
   "outputs": [],
   "source": []
  },
  {
   "cell_type": "code",
   "execution_count": null,
   "metadata": {},
   "outputs": [],
   "source": []
  }
 ],
 "metadata": {
  "kernelspec": {
   "display_name": "geo",
   "language": "python",
   "name": "python3"
  },
  "language_info": {
   "codemirror_mode": {
    "name": "ipython",
    "version": 3
   },
   "file_extension": ".py",
   "mimetype": "text/x-python",
   "name": "python",
   "nbconvert_exporter": "python",
   "pygments_lexer": "ipython3",
   "version": "3.9.19"
  }
 },
 "nbformat": 4,
 "nbformat_minor": 2
}
