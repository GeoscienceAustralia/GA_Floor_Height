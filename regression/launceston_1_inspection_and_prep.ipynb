{
 "cells": [
  {
   "cell_type": "markdown",
   "metadata": {},
   "source": [
    "# Inspect Launceston data\n",
    "\n",
    "Match to footprint and generate cleaned (unique match) dataset\n",
    "\n",
    "Prepare DEM"
   ]
  },
  {
   "cell_type": "code",
   "execution_count": 1,
   "metadata": {},
   "outputs": [],
   "source": [
    "import geopandas as gpd\n",
    "import pandas as pd\n",
    "import numpy as np\n",
    "from matplotlib import pyplot as plt\n",
    "import os"
   ]
  },
  {
   "cell_type": "code",
   "execution_count": 2,
   "metadata": {},
   "outputs": [],
   "source": [
    "pd.set_option('display.max_columns', None)"
   ]
  },
  {
   "cell_type": "code",
   "execution_count": 3,
   "metadata": {},
   "outputs": [],
   "source": [
    "#Floor height file\n",
    "filepath = '/Users/madeleineseehaber/Library/CloudStorage/OneDrive-FrontierSI/127 Residential Dwelling Floor Height/4 Executing/GA_data_documentation/Launceston Exposure Data/LC_Final.zip'#'/Users/Fangyuan/FrontierSI/Projects - Documents/Projects - Data Analytics/127 Residential Dwelling Floor Height/4 Executing/GA_data_documentation/Launceston Exposure Data/LC_Final.zip'"
   ]
  },
  {
   "cell_type": "code",
   "execution_count": null,
   "metadata": {},
   "outputs": [],
   "source": [
    "df = gpd.read_file(filepath)\n",
    "df.head()"
   ]
  },
  {
   "cell_type": "code",
   "execution_count": null,
   "metadata": {},
   "outputs": [],
   "source": [
    "df.columns"
   ]
  },
  {
   "cell_type": "code",
   "execution_count": null,
   "metadata": {},
   "outputs": [],
   "source": [
    "df.select_dtypes(exclude=[float, int]).describe(include='all')"
   ]
  },
  {
   "cell_type": "code",
   "execution_count": null,
   "metadata": {},
   "outputs": [],
   "source": [
    "df.LCC_TYPE.unique()"
   ]
  },
  {
   "cell_type": "code",
   "execution_count": null,
   "metadata": {},
   "outputs": [],
   "source": [
    "# Roof type, Wall type, Commercial construction type, Industrial construction type\n",
    "df.Survey_Roo.value_counts(), df.Survey_Wal.value_counts(), df.Survey_C_2.value_counts(), df.Survey_Ind.value_counts()"
   ]
  },
  {
   "cell_type": "code",
   "execution_count": null,
   "metadata": {},
   "outputs": [],
   "source": [
    "df_r = df[df.USE=='Residential']\n",
    "df_r.Survey_Roo.value_counts(), df_r.Survey_Wal.value_counts(), df_r.Survey_C_2.value_counts(), df_r.Survey_Ind.value_counts()"
   ]
  },
  {
   "cell_type": "code",
   "execution_count": null,
   "metadata": {},
   "outputs": [],
   "source": [
    "df_r.select_dtypes(exclude=[float, int]).describe(include='all')"
   ]
  },
  {
   "cell_type": "code",
   "execution_count": null,
   "metadata": {},
   "outputs": [],
   "source": [
    "#Foundation type\n",
    "# Rubble Trench Footings (RTF), Slab-on-grade (SOG), Timber Frame\n",
    "df_r.Survey_G_1.value_counts()"
   ]
  },
  {
   "cell_type": "code",
   "execution_count": null,
   "metadata": {},
   "outputs": [],
   "source": [
    "df_r.select_dtypes(include=[float, int]).describe(include='all')"
   ]
  },
  {
   "cell_type": "code",
   "execution_count": null,
   "metadata": {},
   "outputs": [],
   "source": [
    "df_r[df_r.LCC_FLOOR>0]"
   ]
  },
  {
   "cell_type": "code",
   "execution_count": null,
   "metadata": {},
   "outputs": [],
   "source": [
    "df_r.LCC_FLOOR.plot.hist(bins=50, label='LCC_FLOOR')\n",
    "df_r.DEM.plot.hist(bins=50, label='DEM', alpha=0.7)\n",
    "(df_r.LCC_FLOOR-df_r.DEM).plot.hist(bins=50, alpha=0.7, label='LCC_FLOOR-DEM')\n",
    "plt.legend()"
   ]
  },
  {
   "cell_type": "code",
   "execution_count": null,
   "metadata": {},
   "outputs": [],
   "source": [
    "(df_r[df_r.LCC_FLOOR>0].LCC_FLOOR-df_r[df_r.LCC_FLOOR>0].DEM).plot.hist(bins=50)"
   ]
  },
  {
   "cell_type": "code",
   "execution_count": null,
   "metadata": {},
   "outputs": [],
   "source": [
    "# Distribution of Floor Height per foundation type\n",
    "\n",
    "df_r['FFH'] = (df_r.LCC_FLOOR-df_r.DEM)\n",
    "\n",
    "def plot_histograms_by_build_type(df_r, type_col='Survey_G_1', ffh_col='FFH'):\n",
    "    # Create a 4-column grid for the subplots\n",
    "    unique_build_types = df_r[type_col].unique()\n",
    "    num_build_types = len(unique_build_types)\n",
    "\n",
    "    fig, axes = plt.subplots(nrows=(num_build_types + 3) // 4, ncols=4, figsize=(20, 5 * ((num_build_types + 3) // 4)))\n",
    "    axes = axes.flatten()\n",
    "\n",
    "    for ax, build_type in zip(axes, unique_build_types):\n",
    "        group = df_r[df_r[type_col] == build_type]\n",
    "        ax.hist(group[ffh_col][group[ffh_col]>=0], bins=np.arange(0,2,0.1), alpha=0.7)\n",
    "        ax.set_title(f'Histogram of FFH for {build_type}')\n",
    "        ax.set_xlabel(ffh_col)\n",
    "        ax.set_ylabel('Frequency')\n",
    "\n",
    "    # Hide any unused subplots\n",
    "    for i in range(len(unique_build_types), len(axes)):\n",
    "        fig.delaxes(axes[i])\n",
    "\n",
    "    plt.tight_layout()\n",
    "    plt.show()\n",
    "\n",
    "# Example usage\n",
    "plot_histograms_by_build_type(df_r)\n"
   ]
  },
  {
   "cell_type": "markdown",
   "metadata": {},
   "source": [
    "## Matching with building footprint"
   ]
  },
  {
   "cell_type": "code",
   "execution_count": null,
   "metadata": {},
   "outputs": [],
   "source": [
    "df_r.crs"
   ]
  },
  {
   "cell_type": "code",
   "execution_count": null,
   "metadata": {},
   "outputs": [],
   "source": [
    "len(df_r)"
   ]
  },
  {
   "cell_type": "code",
   "execution_count": 19,
   "metadata": {},
   "outputs": [],
   "source": [
    "# Footprint \n",
    "filepath = '/Users/madeleineseehaber/Library/CloudStorage/OneDrive-FrontierSI/127 Residential Dwelling Floor Height/4 Executing/Data Exploration/Footprints_080922/sql_statement.shp'#'/Users/Fangyuan/FrontierSI/Projects - Documents/Projects - Data Analytics/127 Residential Dwelling Floor Height/4 Executing/Data Exploration/Footprints_080922/sql_statement.shp'"
   ]
  },
  {
   "cell_type": "code",
   "execution_count": 20,
   "metadata": {},
   "outputs": [],
   "source": [
    "\n",
    "if os.path.exists('launceston_FFH_footprint_geometry.geojson'):\n",
    "    df_footprint = gpd.read_file('launceston_FFH_footprint_geometry.geojson')\n",
    "else:\n",
    "    footprint = gpd.read_file(filepath)\n",
    "    footprint = footprint.to_crs(df_r.crs)\n",
    "\n",
    "    # Perform spatial join and retain one-to-one matches\n",
    "\n",
    "    # Step 1: Perform the spatial join\n",
    "    df_intersections = gpd.sjoin(df_r, footprint, how='inner', predicate='intersects')\n",
    "\n",
    "    # Step 2: Identify one-to-one matches by counting intersections for each index in both dataframes\n",
    "    one_to_one_matches = df_intersections.groupby('index_right').filter(lambda x: len(x) == 1)\n",
    "    \n",
    "    # Save\n",
    "    one_to_one_matches.to_file('launceston_FFH_with_footprint.geojson')\n",
    "    one_to_one_matches['geometry'] = footprint.loc[one_to_one_matches.index_right].geometry.values\n",
    "    one_to_one_matches.to_file('launceston_FFH_footprint_geometry.geojson')\n",
    "\n",
    "    df_footprint = gpd.read_file('launceston_FFH_footprint_geometry.geojson')"
   ]
  },
  {
   "cell_type": "code",
   "execution_count": null,
   "metadata": {},
   "outputs": [],
   "source": [
    "df_footprint"
   ]
  },
  {
   "cell_type": "markdown",
   "metadata": {},
   "source": [
    "## Prepare DEM"
   ]
  },
  {
   "cell_type": "code",
   "execution_count": 25,
   "metadata": {},
   "outputs": [],
   "source": [
    "import os\n",
    "import glob\n",
    "from osgeo import gdal\n",
    "\n",
    "# Define output path for the VRT\n",
    "vrt_path = '/Users/madeleineseehaber/Library/CloudStorage/OneDrive-FrontierSI/127 Residential Dwelling Floor Height/4 Executing/GA_data_documentation/Launceston DEM/1m_DEM.vrt'#'/Users/Fangyuan/FrontierSI/Projects - Documents/Projects - Data Analytics/127 Residential Dwelling Floor Height/4 Executing/GA_data_documentation/Launceston DEM/1m_DEM.vrt'\n",
    "\n",
    "if not os.path.exists(vrt_path):\n",
    "    # Define paths\n",
    "    tiff_folder = '/Users/madeleineseehaber/Library/CloudStorage/OneDrive-FrontierSI/127 Residential Dwelling Floor Height/4 Executing/GA_data_documentation/Launceston DEM/Geoscience Australia/DEM/1 Metre'#'/Users/Fangyuan/FrontierSI/Projects - Documents/Projects - Data Analytics/127 Residential Dwelling Floor Height/4 Executing/GA_data_documentation/Launceston DEM/Geoscience Australia/DEM/1 Metre/'\n",
    "    # Get a list of all TIFF files in the folder\n",
    "    tiff_files = glob.glob(f\"{tiff_folder}/*.tif\")\n",
    "\n",
    "    # Build the VRT\n",
    "    gdal.BuildVRT(vrt_path, tiff_files)\n"
   ]
  },
  {
   "cell_type": "code",
   "execution_count": null,
   "metadata": {},
   "outputs": [],
   "source": []
  }
 ],
 "metadata": {
  "kernelspec": {
   "display_name": "floorheight",
   "language": "python",
   "name": "python3"
  },
  "language_info": {
   "codemirror_mode": {
    "name": "ipython",
    "version": 3
   },
   "file_extension": ".py",
   "mimetype": "text/x-python",
   "name": "python",
   "nbconvert_exporter": "python",
   "pygments_lexer": "ipython3",
   "version": "3.10.16"
  }
 },
 "nbformat": 4,
 "nbformat_minor": 2
}
