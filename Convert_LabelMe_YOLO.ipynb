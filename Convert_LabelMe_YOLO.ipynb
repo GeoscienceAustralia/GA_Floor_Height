{
 "cells": [
  {
   "cell_type": "markdown",
   "metadata": {},
   "source": [
    "## Convert LabelMe segmentations to YOLO format"
   ]
  },
  {
   "cell_type": "code",
   "execution_count": 9,
   "metadata": {},
   "outputs": [],
   "source": [
    "import os\n",
    "import json\n",
    "import cv2\n",
    "import shutil"
   ]
  },
  {
   "cell_type": "code",
   "execution_count": 10,
   "metadata": {},
   "outputs": [],
   "source": [
    "# Example usage\n",
    "input_dir=r\"C:\\Users\\lliu\\FrontierSI\\Projects - 127 Residential Dwelling Floor Height\\4 Executing\\Data Exploration\\GSV\\Wagga\\Panos_clipped_higher_res\"  # Directory with JSON files\n",
    "# input_dir=r\"C:\\Users\\lliu\\FrontierSI\\Projects - 127 Residential Dwelling Floor Height\\4 Executing\\Data Exploration\\RICS\\RICS_wagga_sample_images\"  # Directory with JSON files\n",
    "output_dir = r\"C:\\Users\\lliu\\FrontierSI\\Projects - 127 Residential Dwelling Floor Height\\4 Executing\\Data Exploration\\GSV\\Wagga\\YOLO_test\\finetune\\all\"  # Base output directory\n",
    "# output_dir = r\"C:\\Users\\lliu\\FrontierSI\\Projects - 127 Residential Dwelling Floor Height\\4 Executing\\Data Exploration\\RICS\\YOLO_test\"  # Base output directory\n",
    "# Define the fixed class list directly in the code\n",
    "# original_class_list  = [\"_background_\", \"foundation\", \"partial door\", \"front door\", \"partial garage door\", \"stairs\",\"garage door\"]\n",
    "original_class_list  = [\"foundation\", \"front door\", \"stairs\",\"garage door\"]"
   ]
  },
  {
   "cell_type": "code",
   "execution_count": 11,
   "metadata": {},
   "outputs": [],
   "source": [
    "# Ensure output directories exist\n",
    "os.makedirs(output_dir, exist_ok=True)\n",
    "images_dir = os.path.join(output_dir, \"images\")\n",
    "labels_dir = os.path.join(output_dir, \"labels\")\n",
    "os.makedirs(images_dir, exist_ok=True)\n",
    "os.makedirs(labels_dir, exist_ok=True)"
   ]
  },
  {
   "cell_type": "code",
   "execution_count": 12,
   "metadata": {},
   "outputs": [
    {
     "name": "stdout",
     "output_type": "stream",
     "text": [
      "Processing completed. Images saved to C:\\Users\\lliu\\FrontierSI\\Projects - 127 Residential Dwelling Floor Height\\4 Executing\\Data Exploration\\GSV\\Wagga\\YOLO_test\\finetune\\all\\images, labels saved to C:\\Users\\lliu\\FrontierSI\\Projects - 127 Residential Dwelling Floor Height\\4 Executing\\Data Exploration\\GSV\\Wagga\\YOLO_test\\finetune\\all\\labels.\n"
     ]
    }
   ],
   "source": [
    "# Process each JSON file\n",
    "for file_name in os.listdir(input_dir):\n",
    "    if file_name.endswith(\".json\"):\n",
    "        json_path = os.path.join(input_dir, file_name)\n",
    "        img_path=json_path.replace('.json','.jpg')\n",
    "\n",
    "        image_output_path = os.path.join(images_dir, f\"{file_name.replace('.json', '.jpg')}\")\n",
    "        yolo_label_file = os.path.join(labels_dir, file_name.replace('.json', '.txt'))\n",
    "        if os.path.exists(image_output_path):\n",
    "            print('file exists, skipping...')\n",
    "        else:\n",
    "            img = cv2.imread(img_path)\n",
    "            height, width, _ = img.shape\n",
    "            with open(json_path, 'r') as f:\n",
    "                data = json.load(f)\n",
    "            with open(yolo_label_file, 'w') as out_file:\n",
    "                for shape in data['shapes']:\n",
    "                    points = shape['points']\n",
    "                    class_name = shape['label']\n",
    "                    \n",
    "                    if class_name not in original_class_list:\n",
    "                        continue\n",
    "                    \n",
    "                    class_id = original_class_list.index(class_name)\n",
    "                    \n",
    "                    # Extract bounding box from segmentation points\n",
    "                    x_min = min(p[0] for p in points)\n",
    "                    y_min = min(p[1] for p in points)\n",
    "                    x_max = max(p[0] for p in points)\n",
    "                    y_max = max(p[1] for p in points)\n",
    "                    \n",
    "                    # Normalize to YOLO format\n",
    "                    x_center = (x_min + x_max) / 2 / width\n",
    "                    y_center = (y_min + y_max) / 2 / height\n",
    "                    w_bbox = (x_max - x_min) / width\n",
    "                    h_bbox = (y_max - y_min) / height\n",
    "                    \n",
    "                    # Write to YOLO format\n",
    "                    out_file.write(f\"{class_id} {x_center} {y_center} {w_bbox} {h_bbox}\\n\")\n",
    "\n",
    "                # copy over image file\n",
    "                shutil.copy(img_path, image_output_path)\n",
    "\n",
    "print(f\"Processing completed. Images saved to {images_dir}, labels saved to {labels_dir}.\")"
   ]
  }
 ],
 "metadata": {
  "kernelspec": {
   "display_name": "floorheight",
   "language": "python",
   "name": "python3"
  },
  "language_info": {
   "codemirror_mode": {
    "name": "ipython",
    "version": 3
   },
   "file_extension": ".py",
   "mimetype": "text/x-python",
   "name": "python",
   "nbconvert_exporter": "python",
   "pygments_lexer": "ipython3",
   "version": "3.10.15"
  }
 },
 "nbformat": 4,
 "nbformat_minor": 2
}
