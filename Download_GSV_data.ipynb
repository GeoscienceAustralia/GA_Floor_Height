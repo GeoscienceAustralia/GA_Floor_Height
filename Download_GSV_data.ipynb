{
 "cells": [
  {
   "cell_type": "markdown",
   "metadata": {},
   "source": [
    "## Import modules"
   ]
  },
  {
   "cell_type": "code",
   "execution_count": 15,
   "metadata": {},
   "outputs": [],
   "source": [
    "from streetview.streetview import search, api, download\n",
    "import geopandas as gpd\n",
    "import json"
   ]
  },
  {
   "cell_type": "code",
   "execution_count": 16,
   "metadata": {},
   "outputs": [
    {
     "name": "stdout",
     "output_type": "stream",
     "text": [
      "The autoreload extension is already loaded. To reload it, use:\n",
      "  %reload_ext autoreload\n"
     ]
    }
   ],
   "source": [
    "%load_ext autoreload\n",
    "%autoreload 2"
   ]
  },
  {
   "cell_type": "markdown",
   "metadata": {},
   "source": [
    "## Set Google API key"
   ]
  },
  {
   "cell_type": "code",
   "execution_count": 17,
   "metadata": {},
   "outputs": [],
   "source": [
    "with open('config.json', 'r') as f:\n",
    "    config = json.load(f)\n",
    "GOOGLE_MAPS_API_KEY = config['api_key']"
   ]
  },
  {
   "cell_type": "markdown",
   "metadata": {},
   "source": [
    "## Load GNAF points"
   ]
  },
  {
   "cell_type": "code",
   "execution_count": 18,
   "metadata": {},
   "outputs": [
    {
     "data": {
      "text/html": [
       "<div>\n",
       "<style scoped>\n",
       "    .dataframe tbody tr th:only-of-type {\n",
       "        vertical-align: middle;\n",
       "    }\n",
       "\n",
       "    .dataframe tbody tr th {\n",
       "        vertical-align: top;\n",
       "    }\n",
       "\n",
       "    .dataframe thead th {\n",
       "        text-align: right;\n",
       "    }\n",
       "</style>\n",
       "<table border=\"1\" class=\"dataframe\">\n",
       "  <thead>\n",
       "    <tr style=\"text-align: right;\">\n",
       "      <th></th>\n",
       "      <th>WALL_M</th>\n",
       "      <th>STEPS</th>\n",
       "      <th>USAGE</th>\n",
       "      <th>STOREYS</th>\n",
       "      <th>ASSESSOR</th>\n",
       "      <th>address</th>\n",
       "      <th>Area_1</th>\n",
       "      <th>PMF</th>\n",
       "      <th>Dep_500</th>\n",
       "      <th>Dep_200</th>\n",
       "      <th>Dep_100</th>\n",
       "      <th>Dep_50</th>\n",
       "      <th>Dep_20</th>\n",
       "      <th>Dep_10</th>\n",
       "      <th>Ground_Lev</th>\n",
       "      <th>Floor_Leve</th>\n",
       "      <th>AGE</th>\n",
       "      <th>UFI</th>\n",
       "      <th>ZONE_DESCR</th>\n",
       "      <th>geometry</th>\n",
       "    </tr>\n",
       "  </thead>\n",
       "  <tbody>\n",
       "    <tr>\n",
       "      <th>0</th>\n",
       "      <td>Metal</td>\n",
       "      <td>1</td>\n",
       "      <td>Commercial</td>\n",
       "      <td>1</td>\n",
       "      <td>ROBERT</td>\n",
       "      <td>3 MOORONG STREET</td>\n",
       "      <td>721.960449</td>\n",
       "      <td>3.6338</td>\n",
       "      <td>-9999.0000</td>\n",
       "      <td>-9999.0</td>\n",
       "      <td>-9999.0</td>\n",
       "      <td>-9999.0</td>\n",
       "      <td>-9999.0</td>\n",
       "      <td>-9999.0</td>\n",
       "      <td>178.856</td>\n",
       "      <td>179.136</td>\n",
       "      <td>&gt; 1960</td>\n",
       "      <td>2128</td>\n",
       "      <td>Light Industrial</td>\n",
       "      <td>POINT (147.34855 -35.1025)</td>\n",
       "    </tr>\n",
       "    <tr>\n",
       "      <th>1</th>\n",
       "      <td>Metal</td>\n",
       "      <td>1</td>\n",
       "      <td>Commercial</td>\n",
       "      <td>1</td>\n",
       "      <td>ROBERT</td>\n",
       "      <td>3 MOORONG STREET</td>\n",
       "      <td>314.036351</td>\n",
       "      <td>3.4780</td>\n",
       "      <td>-9999.0000</td>\n",
       "      <td>-9999.0</td>\n",
       "      <td>-9999.0</td>\n",
       "      <td>-9999.0</td>\n",
       "      <td>-9999.0</td>\n",
       "      <td>-9999.0</td>\n",
       "      <td>178.856</td>\n",
       "      <td>179.136</td>\n",
       "      <td>&gt; 1960</td>\n",
       "      <td>2129</td>\n",
       "      <td>Light Industrial</td>\n",
       "      <td>POINT (147.34797 -35.10244)</td>\n",
       "    </tr>\n",
       "    <tr>\n",
       "      <th>2</th>\n",
       "      <td>Metal</td>\n",
       "      <td>1</td>\n",
       "      <td>Commercial</td>\n",
       "      <td>1</td>\n",
       "      <td>ROBERT</td>\n",
       "      <td>UNIT 1 29 MOORONG STREET</td>\n",
       "      <td>1783.805231</td>\n",
       "      <td>3.2973</td>\n",
       "      <td>0.9431</td>\n",
       "      <td>-9999.0</td>\n",
       "      <td>-9999.0</td>\n",
       "      <td>-9999.0</td>\n",
       "      <td>-9999.0</td>\n",
       "      <td>-9999.0</td>\n",
       "      <td>179.137</td>\n",
       "      <td>179.417</td>\n",
       "      <td>&gt; 1960</td>\n",
       "      <td>2130</td>\n",
       "      <td>Light Industrial</td>\n",
       "      <td>POINT (147.34698 -35.10443)</td>\n",
       "    </tr>\n",
       "    <tr>\n",
       "      <th>3</th>\n",
       "      <td>Metal</td>\n",
       "      <td>1</td>\n",
       "      <td>Commercial</td>\n",
       "      <td>1</td>\n",
       "      <td>ROBERT</td>\n",
       "      <td>UNIT 1 29 MOORONG STREET</td>\n",
       "      <td>346.207850</td>\n",
       "      <td>4.6240</td>\n",
       "      <td>-9999.0000</td>\n",
       "      <td>-9999.0</td>\n",
       "      <td>-9999.0</td>\n",
       "      <td>-9999.0</td>\n",
       "      <td>-9999.0</td>\n",
       "      <td>-9999.0</td>\n",
       "      <td>178.455</td>\n",
       "      <td>178.735</td>\n",
       "      <td>&gt; 1960</td>\n",
       "      <td>2141</td>\n",
       "      <td>Light Industrial</td>\n",
       "      <td>POINT (147.34792 -35.10482)</td>\n",
       "    </tr>\n",
       "    <tr>\n",
       "      <th>4</th>\n",
       "      <td>Metal</td>\n",
       "      <td>1</td>\n",
       "      <td>Commercial</td>\n",
       "      <td>1</td>\n",
       "      <td>ROBERT</td>\n",
       "      <td>11 MOORONG STREET</td>\n",
       "      <td>615.235606</td>\n",
       "      <td>3.4026</td>\n",
       "      <td>-9999.0000</td>\n",
       "      <td>-9999.0</td>\n",
       "      <td>-9999.0</td>\n",
       "      <td>-9999.0</td>\n",
       "      <td>-9999.0</td>\n",
       "      <td>-9999.0</td>\n",
       "      <td>178.997</td>\n",
       "      <td>179.277</td>\n",
       "      <td>&gt; 1960</td>\n",
       "      <td>2156</td>\n",
       "      <td>Light Industrial</td>\n",
       "      <td>POINT (147.34845 -35.10319)</td>\n",
       "    </tr>\n",
       "  </tbody>\n",
       "</table>\n",
       "</div>"
      ],
      "text/plain": [
       "  WALL_M  STEPS       USAGE  STOREYS ASSESSOR                   address  \\\n",
       "0  Metal      1  Commercial        1   ROBERT          3 MOORONG STREET   \n",
       "1  Metal      1  Commercial        1   ROBERT          3 MOORONG STREET   \n",
       "2  Metal      1  Commercial        1   ROBERT  UNIT 1 29 MOORONG STREET   \n",
       "3  Metal      1  Commercial        1   ROBERT  UNIT 1 29 MOORONG STREET   \n",
       "4  Metal      1  Commercial        1   ROBERT         11 MOORONG STREET   \n",
       "\n",
       "        Area_1     PMF    Dep_500  Dep_200  Dep_100  Dep_50  Dep_20  Dep_10  \\\n",
       "0   721.960449  3.6338 -9999.0000  -9999.0  -9999.0 -9999.0 -9999.0 -9999.0   \n",
       "1   314.036351  3.4780 -9999.0000  -9999.0  -9999.0 -9999.0 -9999.0 -9999.0   \n",
       "2  1783.805231  3.2973     0.9431  -9999.0  -9999.0 -9999.0 -9999.0 -9999.0   \n",
       "3   346.207850  4.6240 -9999.0000  -9999.0  -9999.0 -9999.0 -9999.0 -9999.0   \n",
       "4   615.235606  3.4026 -9999.0000  -9999.0  -9999.0 -9999.0 -9999.0 -9999.0   \n",
       "\n",
       "   Ground_Lev  Floor_Leve     AGE   UFI        ZONE_DESCR  \\\n",
       "0     178.856     179.136  > 1960  2128  Light Industrial   \n",
       "1     178.856     179.136  > 1960  2129  Light Industrial   \n",
       "2     179.137     179.417  > 1960  2130  Light Industrial   \n",
       "3     178.455     178.735  > 1960  2141  Light Industrial   \n",
       "4     178.997     179.277  > 1960  2156  Light Industrial   \n",
       "\n",
       "                      geometry  \n",
       "0   POINT (147.34855 -35.1025)  \n",
       "1  POINT (147.34797 -35.10244)  \n",
       "2  POINT (147.34698 -35.10443)  \n",
       "3  POINT (147.34792 -35.10482)  \n",
       "4  POINT (147.34845 -35.10319)  "
      ]
     },
     "execution_count": 18,
     "metadata": {},
     "output_type": "execute_result"
    }
   ],
   "source": [
    "add_points=\"data\\Final_Wagga.shp\"\n",
    "gdf_points=gpd.read_file(add_points).to_crs('epsg:4326')\n",
    "gdf_points.head()"
   ]
  },
  {
   "cell_type": "markdown",
   "metadata": {},
   "source": [
    "## Search pano images by coordinates"
   ]
  },
  {
   "cell_type": "code",
   "execution_count": 19,
   "metadata": {},
   "outputs": [
    {
     "name": "stdout",
     "output_type": "stream",
     "text": [
      "pano_id='-pbK0v83ONEeK-n3QiF7Ag' lat=-35.10254664893473 lon=147.3490362904756 heading=6.529406547546387 pitch=89.22122192382812 roll=357.9024658203125 date='2007-11' elevation=None\n",
      "pano_id='c3Z1IlALlZ5WtoioLvhyKQ' lat=-35.10252221327059 lon=147.3490991470692 heading=187.5133514404297 pitch=89.10401916503906 roll=0.8436773419380188 date='2015-05' elevation=None\n",
      "pano_id='dYTwrsWe56ZUOAYbiOd6FQ' lat=-35.10295484603914 lon=147.348963173389 heading=8.860435485839844 pitch=89.7867660522461 roll=358.5726318359375 date=None elevation=None\n",
      "pano_id='VQctKYiRbY4oLSSi4BdafQ' lat=-35.1028713333644 lon=147.3489789521898 heading=8.947954177856445 pitch=89.958251953125 roll=358.3075866699219 date=None elevation=None\n",
      "pano_id='cRj7D5icRyy66mCT2OlseA' lat=-35.10275002930234 lon=147.3490025772842 heading=9.459732055664062 pitch=89.86324310302734 roll=358.1043395996094 date=None elevation=None\n",
      "pano_id='JoWdkyfdlInPh6hOlZDMOA' lat=-35.1023625946625 lon=147.3490843167035 heading=8.395724296569824 pitch=91.07080841064453 roll=358.4158630371094 date=None elevation=None\n",
      "pano_id='pa8acbExcjxr9BlTLqFbCw' lat=-35.10227141033072 lon=147.3490965603774 heading=4.820406913757324 pitch=91.05736541748047 roll=358.1287536621094 date=None elevation=None\n",
      "pano_id='PRFtP5ZvRIk8LcIIuweXSQ' lat=-35.10217910237392 lon=147.3491045791224 heading=3.222724437713623 pitch=91.31844329833984 roll=357.8840637207031 date=None elevation=None\n",
      "pano_id='PpCdEKrZHzej8RGn2I4hGA' lat=-35.10225780049704 lon=147.3494049807285 heading=186.2340850830078 pitch=89.60032653808594 roll=358.3156127929688 date=None elevation=None\n",
      "pano_id='rakP_d0uI85yQn_a9Sn-Pg' lat=-35.10235951917121 lon=147.3493905814351 heading=187.0692596435547 pitch=89.67923736572266 roll=358.4348449707031 date=None elevation=None\n",
      "pano_id='oeJtQxA1niQwaloqohIwCQ' lat=-35.10246793498153 lon=147.3493732505518 heading=187.6664733886719 pitch=90.0024185180664 roll=358.2141418457031 date=None elevation=None\n",
      "pano_id='2G9nSDSt2SFFKN91jt2SQw' lat=-35.10256408437343 lon=147.3493575579137 heading=187.9382171630859 pitch=89.85558319091797 roll=358.2724304199219 date=None elevation=None\n",
      "pano_id='sRIMgaDCY5DPC-hVfA-yVw' lat=-35.10266722264453 lon=147.3493403994824 heading=188.2488250732422 pitch=90.08289337158203 roll=358.112060546875 date=None elevation=None\n",
      "pano_id='EwqVh_BMB3wlknHkNVwu2Q' lat=-35.10277091773884 lon=147.3493216028123 heading=188.7297668457031 pitch=90.13157653808594 roll=358.4140014648438 date=None elevation=None\n",
      "pano_id='_blTJDvGjBdGjdx16VYrYw' lat=-35.10288119454041 lon=147.349300736788 heading=189.2915954589844 pitch=90.34537506103516 roll=358.4223327636719 date=None elevation=None\n",
      "pano_id='KndFCznn6rP9KEDfo-_Snw' lat=-35.10289228128558 lon=147.3491923542425 heading=9.09021282196045 pitch=90.82462310791016 roll=358.0348815917969 date=None elevation=None\n",
      "pano_id='QKSzOmIaANBFQuXgexHLuA' lat=-35.10278051218125 lon=147.3492139962532 heading=8.77341079711914 pitch=90.59385681152344 roll=358.2226867675781 date=None elevation=None\n",
      "pano_id='l-FkzFsHvaW7beaCvYrUag' lat=-35.10267448188019 lon=147.3492342586976 heading=8.506905555725098 pitch=90.83439636230469 roll=357.883544921875 date=None elevation=None\n",
      "pano_id='x5cINfxcnCFuw9I_Zdd40g' lat=-35.10255787387306 lon=147.3492550384852 heading=7.623853206634521 pitch=91.16461944580078 roll=358.0570678710938 date=None elevation=None\n",
      "pano_id='0pNI8Vub2vkbB5AA3wMvSA' lat=-35.1024473277207 lon=147.3492720244558 heading=6.043375015258789 pitch=91.46086120605469 roll=358.0941162109375 date=None elevation=None\n",
      "pano_id='iDtoIT9A0gBPOLvzLtIrwA' lat=-35.10233663631747 lon=147.3492828023574 heading=4.352272033691406 pitch=91.60111999511719 roll=357.9713745117188 date=None elevation=None\n",
      "pano_id='kL2VEWguYXwHHqaPIRS_NQ' lat=-35.10222612060515 lon=147.3492914246794 heading=3.305330991744995 pitch=91.59296417236328 roll=358.0315856933594 date=None elevation=None\n",
      "pano_id='cE7sTNAOVjcakaXh_dbccA' lat=-35.10262828078658 lon=147.34902896152 heading=9.339942932128906 pitch=90.21571350097656 roll=358.0054321289062 date=None elevation=None\n",
      "pano_id='uP81NkZuuEOPnQdZHLtT_g' lat=-35.10245268400065 lon=147.3490659511954 heading=10.07086372375488 pitch=90.8973159790039 roll=358.046630859375 date=None elevation=None\n",
      "pano_id='OhWlnnBJMpUtuvp3gak-8Q' lat=-35.10254278170044 lon=147.3490461198992 heading=9.690051078796387 pitch=90.85441589355469 roll=358.2400512695312 date=None elevation=None\n"
     ]
    }
   ],
   "source": [
    "i=0\n",
    "point=gdf_points.geometry.iloc[i]\n",
    "lon=point.x\n",
    "lat=point.y\n",
    "panos = search.search_panoramas(lat=lat, lon=lon)\n",
    "# first = panos[0]\n",
    "for pano in panos:\n",
    "    print(pano)"
   ]
  },
  {
   "cell_type": "code",
   "execution_count": 13,
   "metadata": {},
   "outputs": [
    {
     "data": {
      "text/plain": [
       "'-pbK0v83ONEeK-n3QiF7Ag'"
      ]
     },
     "execution_count": 13,
     "metadata": {},
     "output_type": "execute_result"
    }
   ],
   "source": [
    "j=0\n",
    "pano_id=panos[j].pano_id\n",
    "pano_id"
   ]
  },
  {
   "cell_type": "code",
   "execution_count": 14,
   "metadata": {},
   "outputs": [
    {
     "name": "stdout",
     "output_type": "stream",
     "text": [
      "date='2007-11' location=Location(lat=-35.10254809395221, lng=147.3490490514819) pano_id='-pbK0v83ONEeK-n3QiF7Ag' copyright='© Google'\n"
     ]
    }
   ],
   "source": [
    "meta = api.get_panorama_meta(pano_id=pano_id, api_key=GOOGLE_MAPS_API_KEY)\n",
    "print(meta)"
   ]
  },
  {
   "cell_type": "markdown",
   "metadata": {},
   "source": [
    "## Download street view image"
   ]
  },
  {
   "cell_type": "code",
   "execution_count": 9,
   "metadata": {},
   "outputs": [],
   "source": [
    "image = api.get_streetview(\n",
    "    pano_id=pano_id,\n",
    "    api_key=GOOGLE_MAPS_API_KEY,\n",
    "    auto_heading=True,\n",
    "    fov=90\n",
    ")\n",
    "\n",
    "image.save(\"street_view.jpg\", \"jpeg\")"
   ]
  },
  {
   "cell_type": "markdown",
   "metadata": {},
   "source": [
    "## Download pano image"
   ]
  },
  {
   "cell_type": "code",
   "execution_count": 35,
   "metadata": {},
   "outputs": [],
   "source": [
    "image = await download.get_panorama_async(pano_id=pano_id,zoom=1)\n",
    "\n",
    "image.save(\"pano.jpg\", \"jpeg\")"
   ]
  },
  {
   "cell_type": "code",
   "execution_count": null,
   "metadata": {},
   "outputs": [],
   "source": []
  }
 ],
 "metadata": {
  "kernelspec": {
   "display_name": "floorheight",
   "language": "python",
   "name": "python3"
  },
  "language_info": {
   "codemirror_mode": {
    "name": "ipython",
    "version": 3
   },
   "file_extension": ".py",
   "mimetype": "text/x-python",
   "name": "python",
   "nbconvert_exporter": "python",
   "pygments_lexer": "ipython3",
   "version": "3.10.15"
  }
 },
 "nbformat": 4,
 "nbformat_minor": 2
}
