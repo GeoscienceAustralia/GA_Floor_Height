{
 "cells": [
  {
   "cell_type": "markdown",
   "metadata": {},
   "source": [
    "## Load modules"
   ]
  },
  {
   "cell_type": "code",
   "execution_count": 17,
   "metadata": {},
   "outputs": [
    {
     "name": "stdout",
     "output_type": "stream",
     "text": [
      "The autoreload extension is already loaded. To reload it, use:\n",
      "  %reload_ext autoreload\n"
     ]
    }
   ],
   "source": [
    "%load_ext autoreload\n",
    "%autoreload 2"
   ]
  },
  {
   "cell_type": "code",
   "execution_count": null,
   "metadata": {},
   "outputs": [],
   "source": [
    "import numpy as np\n",
    "import os\n",
    "import glob\n",
    "from PIL import Image\n",
    "from geometry import extract_feature_pixels, calculate_height_difference\n",
    "import geopandas as gpd\n",
    "import matplotlib.pyplot as plt\n",
    "from sklearn.metrics import mean_squared_error"
   ]
  },
  {
   "cell_type": "markdown",
   "metadata": {},
   "source": [
    "## Set input and output folders"
   ]
  },
  {
   "cell_type": "code",
   "execution_count": 19,
   "metadata": {},
   "outputs": [],
   "source": [
    "in_folder_predictions=r'D:\\Wagga\\GSV\\Pano_clipped_predicted'\n",
    "in_folder_depth=r'D:\\Wagga\\GSV\\Depth_clipped'\n",
    "building_point_file=r'D:\\Wagga\\GSV\\Final_Wagga_meta.geojson'"
   ]
  },
  {
   "cell_type": "markdown",
   "metadata": {},
   "source": [
    "## Read in metadata file"
   ]
  },
  {
   "cell_type": "code",
   "execution_count": 20,
   "metadata": {},
   "outputs": [
    {
     "data": {
      "text/html": [
       "<div>\n",
       "<style scoped>\n",
       "    .dataframe tbody tr th:only-of-type {\n",
       "        vertical-align: middle;\n",
       "    }\n",
       "\n",
       "    .dataframe tbody tr th {\n",
       "        vertical-align: top;\n",
       "    }\n",
       "\n",
       "    .dataframe thead th {\n",
       "        text-align: right;\n",
       "    }\n",
       "</style>\n",
       "<table border=\"1\" class=\"dataframe\">\n",
       "  <thead>\n",
       "    <tr style=\"text-align: right;\">\n",
       "      <th></th>\n",
       "      <th>WALL_M</th>\n",
       "      <th>STEPS</th>\n",
       "      <th>USAGE</th>\n",
       "      <th>STOREYS</th>\n",
       "      <th>ASSESSOR</th>\n",
       "      <th>address</th>\n",
       "      <th>Area_1</th>\n",
       "      <th>PMF</th>\n",
       "      <th>Dep_500</th>\n",
       "      <th>Dep_200</th>\n",
       "      <th>...</th>\n",
       "      <th>Ground_surveyed</th>\n",
       "      <th>pano_id</th>\n",
       "      <th>lat_c</th>\n",
       "      <th>lng_c</th>\n",
       "      <th>heading</th>\n",
       "      <th>pitch</th>\n",
       "      <th>roll</th>\n",
       "      <th>elevation</th>\n",
       "      <th>date</th>\n",
       "      <th>geometry</th>\n",
       "    </tr>\n",
       "  </thead>\n",
       "  <tbody>\n",
       "    <tr>\n",
       "      <th>0</th>\n",
       "      <td>Metal</td>\n",
       "      <td>1</td>\n",
       "      <td>Commercial</td>\n",
       "      <td>1</td>\n",
       "      <td>ROBERT</td>\n",
       "      <td>3 MOORONG STREET</td>\n",
       "      <td>721.960449</td>\n",
       "      <td>3.6338</td>\n",
       "      <td>-9999.0000</td>\n",
       "      <td>-9999.0</td>\n",
       "      <td>...</td>\n",
       "      <td>0</td>\n",
       "      <td>OhWlnnBJMpUtuvp3gak-8Q</td>\n",
       "      <td>-35.102543</td>\n",
       "      <td>147.349046</td>\n",
       "      <td>0.169123</td>\n",
       "      <td>-0.014912</td>\n",
       "      <td>6.252468</td>\n",
       "      <td>181.957260</td>\n",
       "      <td>2019-09</td>\n",
       "      <td>POINT (147.34855 -35.1025)</td>\n",
       "    </tr>\n",
       "    <tr>\n",
       "      <th>1</th>\n",
       "      <td>Metal</td>\n",
       "      <td>1</td>\n",
       "      <td>Commercial</td>\n",
       "      <td>1</td>\n",
       "      <td>ROBERT</td>\n",
       "      <td>3 MOORONG STREET</td>\n",
       "      <td>314.036351</td>\n",
       "      <td>3.4780</td>\n",
       "      <td>-9999.0000</td>\n",
       "      <td>-9999.0</td>\n",
       "      <td>...</td>\n",
       "      <td>0</td>\n",
       "      <td>None</td>\n",
       "      <td>NaN</td>\n",
       "      <td>NaN</td>\n",
       "      <td>NaN</td>\n",
       "      <td>NaN</td>\n",
       "      <td>NaN</td>\n",
       "      <td>NaN</td>\n",
       "      <td>None</td>\n",
       "      <td>POINT (147.34797 -35.10244)</td>\n",
       "    </tr>\n",
       "    <tr>\n",
       "      <th>2</th>\n",
       "      <td>Metal</td>\n",
       "      <td>1</td>\n",
       "      <td>Commercial</td>\n",
       "      <td>1</td>\n",
       "      <td>ROBERT</td>\n",
       "      <td>UNIT 1 29 MOORONG STREET</td>\n",
       "      <td>1783.805231</td>\n",
       "      <td>3.2973</td>\n",
       "      <td>0.9431</td>\n",
       "      <td>-9999.0</td>\n",
       "      <td>...</td>\n",
       "      <td>0</td>\n",
       "      <td>None</td>\n",
       "      <td>NaN</td>\n",
       "      <td>NaN</td>\n",
       "      <td>NaN</td>\n",
       "      <td>NaN</td>\n",
       "      <td>NaN</td>\n",
       "      <td>NaN</td>\n",
       "      <td>None</td>\n",
       "      <td>POINT (147.34698 -35.10443)</td>\n",
       "    </tr>\n",
       "    <tr>\n",
       "      <th>3</th>\n",
       "      <td>Metal</td>\n",
       "      <td>1</td>\n",
       "      <td>Commercial</td>\n",
       "      <td>1</td>\n",
       "      <td>ROBERT</td>\n",
       "      <td>UNIT 1 29 MOORONG STREET</td>\n",
       "      <td>346.207850</td>\n",
       "      <td>4.6240</td>\n",
       "      <td>-9999.0000</td>\n",
       "      <td>-9999.0</td>\n",
       "      <td>...</td>\n",
       "      <td>0</td>\n",
       "      <td>BLJvkN33DWrwpEKVa7q-wQ</td>\n",
       "      <td>-35.104924</td>\n",
       "      <td>147.348552</td>\n",
       "      <td>0.161009</td>\n",
       "      <td>0.002666</td>\n",
       "      <td>6.254132</td>\n",
       "      <td>181.549530</td>\n",
       "      <td>2019-09</td>\n",
       "      <td>POINT (147.34792 -35.10482)</td>\n",
       "    </tr>\n",
       "    <tr>\n",
       "      <th>4</th>\n",
       "      <td>Metal</td>\n",
       "      <td>1</td>\n",
       "      <td>Commercial</td>\n",
       "      <td>1</td>\n",
       "      <td>ROBERT</td>\n",
       "      <td>11 MOORONG STREET</td>\n",
       "      <td>615.235606</td>\n",
       "      <td>3.4026</td>\n",
       "      <td>-9999.0000</td>\n",
       "      <td>-9999.0</td>\n",
       "      <td>...</td>\n",
       "      <td>0</td>\n",
       "      <td>PoUl3uYBjG4p2dgCVbWo9g</td>\n",
       "      <td>-35.103220</td>\n",
       "      <td>147.348914</td>\n",
       "      <td>0.147912</td>\n",
       "      <td>0.003101</td>\n",
       "      <td>6.249268</td>\n",
       "      <td>181.555573</td>\n",
       "      <td>2019-09</td>\n",
       "      <td>POINT (147.34845 -35.10319)</td>\n",
       "    </tr>\n",
       "  </tbody>\n",
       "</table>\n",
       "<p>5 rows × 30 columns</p>\n",
       "</div>"
      ],
      "text/plain": [
       "  WALL_M  STEPS       USAGE  STOREYS ASSESSOR                   address  \\\n",
       "0  Metal      1  Commercial        1   ROBERT          3 MOORONG STREET   \n",
       "1  Metal      1  Commercial        1   ROBERT          3 MOORONG STREET   \n",
       "2  Metal      1  Commercial        1   ROBERT  UNIT 1 29 MOORONG STREET   \n",
       "3  Metal      1  Commercial        1   ROBERT  UNIT 1 29 MOORONG STREET   \n",
       "4  Metal      1  Commercial        1   ROBERT         11 MOORONG STREET   \n",
       "\n",
       "        Area_1     PMF    Dep_500  Dep_200  ...  Ground_surveyed  \\\n",
       "0   721.960449  3.6338 -9999.0000  -9999.0  ...                0   \n",
       "1   314.036351  3.4780 -9999.0000  -9999.0  ...                0   \n",
       "2  1783.805231  3.2973     0.9431  -9999.0  ...                0   \n",
       "3   346.207850  4.6240 -9999.0000  -9999.0  ...                0   \n",
       "4   615.235606  3.4026 -9999.0000  -9999.0  ...                0   \n",
       "\n",
       "                  pano_id      lat_c       lng_c   heading     pitch  \\\n",
       "0  OhWlnnBJMpUtuvp3gak-8Q -35.102543  147.349046  0.169123 -0.014912   \n",
       "1                    None        NaN         NaN       NaN       NaN   \n",
       "2                    None        NaN         NaN       NaN       NaN   \n",
       "3  BLJvkN33DWrwpEKVa7q-wQ -35.104924  147.348552  0.161009  0.002666   \n",
       "4  PoUl3uYBjG4p2dgCVbWo9g -35.103220  147.348914  0.147912  0.003101   \n",
       "\n",
       "       roll   elevation     date                     geometry  \n",
       "0  6.252468  181.957260  2019-09   POINT (147.34855 -35.1025)  \n",
       "1       NaN         NaN     None  POINT (147.34797 -35.10244)  \n",
       "2       NaN         NaN     None  POINT (147.34698 -35.10443)  \n",
       "3  6.254132  181.549530  2019-09  POINT (147.34792 -35.10482)  \n",
       "4  6.249268  181.555573  2019-09  POINT (147.34845 -35.10319)  \n",
       "\n",
       "[5 rows x 30 columns]"
      ]
     },
     "execution_count": 20,
     "metadata": {},
     "output_type": "execute_result"
    }
   ],
   "source": [
    "gdf=gpd.read_file(building_point_file)\n",
    "gdf.head()"
   ]
  },
  {
   "cell_type": "markdown",
   "metadata": {},
   "source": [
    "## Read in segmentation and depth files"
   ]
  },
  {
   "cell_type": "code",
   "execution_count": 21,
   "metadata": {},
   "outputs": [],
   "source": [
    "prediction_files = glob.glob(os.path.join(in_folder_predictions,'*.png'))\n",
    "prediction_file=prediction_files[0]\n",
    "lbl_arr = np.asarray(Image.open(prediction_file))"
   ]
  },
  {
   "cell_type": "code",
   "execution_count": 22,
   "metadata": {},
   "outputs": [
    {
     "name": "stdout",
     "output_type": "stream",
     "text": [
      "OhWlnnBJMpUtuvp3gak-8Q\n"
     ]
    }
   ],
   "source": [
    "pano_id=os.path.basename(prediction_file).split('.')[0]\n",
    "print(pano_id)"
   ]
  },
  {
   "cell_type": "code",
   "execution_count": 23,
   "metadata": {},
   "outputs": [],
   "source": [
    "depth_file=os.path.join(in_folder_depth,os.path.basename(prediction_file).replace('.png','.tif'))\n",
    "depth_arr=np.asarray(Image.open(depth_file))"
   ]
  },
  {
   "cell_type": "markdown",
   "metadata": {},
   "source": [
    "## Calculate FFH/FFE\n",
    "- 1:\"foundation\", 2:\"front door\", 3:\"garage door\", 4:\"stairs\""
   ]
  },
  {
   "cell_type": "code",
   "execution_count": 24,
   "metadata": {},
   "outputs": [],
   "source": [
    "# def estimate_FFH(elev_foundation_top=None, elev_foundation_bottom=None,elev_stairs_top=None, elev_stairs_bottom=None, elev_frontdoor_bottom=None,elev_garagedoor_bottom=None, elev_camera=None):\n",
    "#     '''\n",
    "#     Calculate FFH using elevations of available features\n",
    "#     '''\n",
    "#     elev_ground_features=[elev_stairs_bottom,elev_garagedoor_bottom,elev_foundation_bottom]\n",
    "#     # filter out missing features\n",
    "#     elev_ground_features=[elev for elev in elev_ground_features if elev is not None]\n",
    "#     if not elev_ground_features:\n",
    "#         return None\n",
    "#     elev_ground=min(elev_ground_features)\n",
    "\n",
    "#     # collect available floor-level features elevations\n",
    "#     elev_floor_features=[elev_foundation_top,elev_stairs_top,elev_frontdoor_bottom]\n",
    "#     # filter out missing values\n",
    "#     elev_floor_features=[elev for elev in elev_floor_features if elev is not None]\n",
    "#     if not elev_floor_features:\n",
    "#         return None\n",
    "#     # determine the highest floor level feature elevation\n",
    "#     elev_floor=max(elev_floor_features)\n",
    "    \n",
    "#     if elev_floor<elev_ground:\n",
    "#         return None\n",
    "#     # calculate FFH\n",
    "#     FFH=elev_floor-elev_ground\n",
    "#     return FFH"
   ]
  },
  {
   "cell_type": "code",
   "execution_count": 25,
   "metadata": {},
   "outputs": [],
   "source": [
    "def estimate_FFH(elev_foundation_top=None, elev_foundation_bottom=None,elev_stairs_top=None, elev_stairs_bottom=None, elev_frontdoor_bottom=None,elev_garagedoor_bottom=None, elev_camera=None):\n",
    "    '''\n",
    "    Calculate FFH using elevations of available features\n",
    "    '''\n",
    "    # determine ground elevation\n",
    "    elev_ground=None\n",
    "    if elev_garagedoor_bottom is not None:\n",
    "        elev_ground=elev_garagedoor_bottom\n",
    "    elif elev_stairs_bottom is not None:\n",
    "        elev_ground=elev_stairs_bottom\n",
    "    elif elev_foundation_bottom is not None:\n",
    "        elev_ground=elev_foundation_bottom\n",
    "    if elev_ground is None:\n",
    "        return None\n",
    "    \n",
    "    elev_floor=None\n",
    "    if elev_frontdoor_bottom is not None:\n",
    "        elev_floor=elev_frontdoor_bottom\n",
    "    elif elev_stairs_top is not None:\n",
    "        elev_floor=elev_stairs_top\n",
    "    elif elev_foundation_top is not None:\n",
    "        elev_floor=elev_foundation_top\n",
    "    if elev_floor is None:\n",
    "        return None\n",
    "    if elev_floor<elev_ground:\n",
    "        return None\n",
    "    # calculate FFH\n",
    "    FFH=elev_floor-elev_ground\n",
    "    return FFH"
   ]
  },
  {
   "cell_type": "code",
   "execution_count": 26,
   "metadata": {},
   "outputs": [],
   "source": [
    "# extract bottom pixels of foundation, stairs, front door and garage door\n",
    "foundation_mask=(lbl_arr==1)\n",
    "frontdoor_mask = (lbl_arr==2)\n",
    "garagedoor_mask = (lbl_arr==3)\n",
    "stairs_mask = (lbl_arr==4)\n",
    "foundation_bottom_pixels = extract_feature_pixels(foundation_mask,extract=\"bottom\")\n",
    "stairs_bottom_pixels = extract_feature_pixels(stairs_mask, extract=\"bottom\")\n",
    "frontdoor_bottom_pixels = extract_feature_pixels(frontdoor_mask,extract=\"bottom\")\n",
    "garagedoor_bottom_pixels = extract_feature_pixels(garagedoor_mask,extract=\"bottom\")\n",
    "\n",
    "# extract top pixels of foundation and stairs\n",
    "foundation_top_pixels = extract_feature_pixels(foundation_mask,extract=\"top\")\n",
    "stairs_top_pixels = extract_feature_pixels(stairs_mask,extract=\"top\")\n"
   ]
  },
  {
   "cell_type": "code",
   "execution_count": 27,
   "metadata": {},
   "outputs": [
    {
     "name": "stdout",
     "output_type": "stream",
     "text": [
      "Estimated First Floor Height (FFH): None\n"
     ]
    }
   ],
   "source": [
    "H_img = depth_arr.shape[0]  # Height of the cropped panorama\n",
    "# calculate height difference between feature top/bottom and camera\n",
    "delta_foundation_bottom = calculate_height_difference(foundation_bottom_pixels, depth_arr, H_img)\n",
    "delta_stairs_bottom = calculate_height_difference(stairs_bottom_pixels, depth_arr, H_img)\n",
    "delta_frontdoor_bottom = calculate_height_difference(frontdoor_bottom_pixels, depth_arr, H_img)\n",
    "delta_garagedoor_bottom = calculate_height_difference(garagedoor_bottom_pixels, depth_arr, H_img)\n",
    "delata_foundation_top = calculate_height_difference(foundation_top_pixels, depth_arr, H_img)\n",
    "delata_stairs_top = calculate_height_difference(stairs_top_pixels, depth_arr, H_img)\n",
    "FFH = estimate_FFH(elev_foundation_top=delata_foundation_top, \n",
    "                   elev_foundation_bottom=delta_foundation_bottom,\n",
    "                   elev_stairs_top=delata_stairs_top, \n",
    "                   elev_stairs_bottom=delta_stairs_bottom, \n",
    "                   elev_frontdoor_bottom=delta_frontdoor_bottom,\n",
    "                   elev_garagedoor_bottom=delta_garagedoor_bottom, \n",
    "                   elev_camera=None)\n",
    "print(\"Estimated First Floor Height (FFH):\", FFH)"
   ]
  },
  {
   "cell_type": "code",
   "execution_count": 28,
   "metadata": {},
   "outputs": [],
   "source": [
    "\n",
    "# delta_camera_door = calculate_height_difference(frontdoor_bottom_pixels, depth_arr, H_img)\n",
    "# print(\"Estimated Height difference between camera and door bottom:\", delta_camera_door)\n",
    "# delta_camera_base = calculate_height_difference(stairs_bottom_pixels, depth_arr, H_img)\n",
    "# print(\"Estimated Height difference between camera and stairs bottom:\", delta_camera_base)\n",
    "# print(\"Estimated First Floor Height (FFH):\", delta_camera_door-delta_camera_base)"
   ]
  },
  {
   "cell_type": "markdown",
   "metadata": {},
   "source": [
    "## Batch calculte for all images"
   ]
  },
  {
   "cell_type": "code",
   "execution_count": 29,
   "metadata": {},
   "outputs": [
    {
     "name": "stdout",
     "output_type": "stream",
     "text": [
      "pano id:  OhWlnnBJMpUtuvp3gak-8Q\n",
      "Estimated First Floor Height (FFH): None\n",
      "pano id:  BLJvkN33DWrwpEKVa7q-wQ\n",
      "Estimated First Floor Height (FFH): 0.017978895711631568\n",
      "pano id:  PoUl3uYBjG4p2dgCVbWo9g\n",
      "Estimated First Floor Height (FFH): None\n",
      "pano id:  cRj7D5icRyy66mCT2OlseA\n",
      "Estimated First Floor Height (FFH): 0.9375466728055344\n",
      "pano id:  X8OuJO7ZYXI9MGvJ4Y5TEw\n",
      "Estimated First Floor Height (FFH): 0.5329213787045076\n",
      "pano id:  zE7CxHN89C2RI7W7EZn-og\n",
      "Estimated First Floor Height (FFH): None\n",
      "pano id:  dwTZUTHMHE57Fmc7HcoMRw\n",
      "Estimated First Floor Height (FFH): None\n",
      "pano id:  3Yf0HkNTsXhUfSx-G9nkrw\n",
      "Estimated First Floor Height (FFH): None\n",
      "pano id:  Gu61Mh1dxitAX7rm5wYiug\n",
      "Estimated First Floor Height (FFH): None\n",
      "pano id:  TL8qt0dfu-kzr7RFz_u2vQ\n",
      "Estimated First Floor Height (FFH): None\n",
      "pano id:  7Hq-MjlBBPIdKaMAR6Dy2A\n",
      "Estimated First Floor Height (FFH): 0.32556973460321825\n",
      "pano id:  FlVfvw-30PlotofhiodzIQ\n",
      "Estimated First Floor Height (FFH): 0.10715477264939954\n",
      "pano id:  MxYDlKf3OOJDK7GsKA8EZw\n",
      "Estimated First Floor Height (FFH): 0.20279636249055333\n",
      "pano id:  qAmPjyddmvi3mPzf7ofQNw\n",
      "Estimated First Floor Height (FFH): None\n",
      "pano id:  9IUavtZqyvHUH_ad1Fbjdg\n",
      "Estimated First Floor Height (FFH): 0.14698545519508222\n",
      "pano id:  9XYMuy2qo0ozaqP7mU0POg\n",
      "Estimated First Floor Height (FFH): 1.1192536882902222\n",
      "pano id:  BctTPY0qrCrvzRuSanrjOA\n",
      "Estimated First Floor Height (FFH): None\n",
      "pano id:  8RHDm0iunrI5VkoaIHpcbQ\n",
      "Estimated First Floor Height (FFH): 0.0788356539609204\n",
      "pano id:  hoJD31SYLicmxs43lfP5MQ\n",
      "Estimated First Floor Height (FFH): None\n",
      "pano id:  GxduXxe1N0DvHta_2mxyfw\n",
      "Estimated First Floor Height (FFH): 0.02026925260847734\n",
      "pano id:  cXDtirsWSkCx3tPTZB1MgQ\n",
      "Estimated First Floor Height (FFH): None\n",
      "pano id:  SPq5WD7G9YJRpsem5JefHQ\n",
      "Estimated First Floor Height (FFH): 2.047718330124514\n",
      "pano id:  tckRrdJAwxlA7XhvMkgzeA\n",
      "Estimated First Floor Height (FFH): None\n",
      "pano id:  8YSuFHs7shOF9YMBCDpS8A\n",
      "Estimated First Floor Height (FFH): None\n",
      "pano id:  codC5ZVfxRvS6pIgZCGOfg\n",
      "Estimated First Floor Height (FFH): 0.6075617409665325\n",
      "pano id:  J7wA3-yzprPy4FXVurfx9g\n",
      "Estimated First Floor Height (FFH): None\n",
      "pano id:  uDv5VRtOCF5Z1IDPmnxz8Q\n",
      "Estimated First Floor Height (FFH): 0.3984683797854807\n",
      "pano id:  cdcwX1AzSw2H3i1-58d_Gw\n",
      "Estimated First Floor Height (FFH): None\n",
      "pano id:  i7x4RlSHJ_slyAVD_vdMQg\n",
      "Estimated First Floor Height (FFH): None\n",
      "pano id:  ZLQa6H0uP5Ceww0IPFXnsQ\n",
      "Estimated First Floor Height (FFH): None\n",
      "pano id:  T1cSNLJ8XYeTJWNP9NCtTw\n",
      "Estimated First Floor Height (FFH): 0.17200178692912793\n",
      "pano id:  YNLDZcoRPjFyfEG-1-eWqw\n",
      "Estimated First Floor Height (FFH): None\n",
      "pano id:  ef6cAzGjn5kxa4lmwCAkkQ\n",
      "Estimated First Floor Height (FFH): None\n",
      "pano id:  fs8FmjfrU-MFZJcGO1hFGw\n",
      "Estimated First Floor Height (FFH): 0.4897154073619783\n",
      "pano id:  pwWTpLLpEhESAGPkQtWUMA\n",
      "Estimated First Floor Height (FFH): None\n",
      "pano id:  S2xQ6M91KwaiqGqW9j36rg\n",
      "Estimated First Floor Height (FFH): None\n",
      "pano id:  vdktGJhwZTQeowRD4t2TfA\n",
      "Estimated First Floor Height (FFH): None\n",
      "pano id:  md3Fba54Gtjvvzyhkk6Mag\n",
      "Estimated First Floor Height (FFH): None\n",
      "pano id:  7uPyxoJMiIu-O3lPxpXABQ\n",
      "Estimated First Floor Height (FFH): None\n"
     ]
    }
   ],
   "source": [
    "FFH_all_predicted=[]\n",
    "pano_ids=[]\n",
    "for prediction_file in prediction_files:\n",
    "    pano_id=os.path.basename(prediction_file).split('.')[0]\n",
    "    pano_ids.append(pano_id)\n",
    "    print('pano id: ',pano_id)\n",
    "    lbl_arr = np.asarray(Image.open(prediction_file))\n",
    "    depth_file=os.path.join(in_folder_depth,os.path.basename(prediction_file).replace('.png','.tif'))\n",
    "    depth_arr=np.asarray(Image.open(depth_file))\n",
    "    # extract bottom pixels of foundation, stairs, front door and garage door\n",
    "    foundation_mask=(lbl_arr==1)\n",
    "    frontdoor_mask = (lbl_arr==2)\n",
    "    garagedoor_mask = (lbl_arr==3)\n",
    "    stairs_mask = (lbl_arr==4)\n",
    "    foundation_bottom_pixels = extract_feature_pixels(foundation_mask,extract=\"bottom\")\n",
    "    stairs_bottom_pixels = extract_feature_pixels(stairs_mask, extract=\"bottom\")\n",
    "    frontdoor_bottom_pixels = extract_feature_pixels(frontdoor_mask,extract=\"bottom\")\n",
    "    garagedoor_bottom_pixels = extract_feature_pixels(garagedoor_mask,extract=\"bottom\")\n",
    "\n",
    "    # extract top pixels of foundation and stairs\n",
    "    foundation_top_pixels = extract_feature_pixels(foundation_mask,extract=\"top\")\n",
    "    stairs_top_pixels = extract_feature_pixels(stairs_mask,extract=\"top\")\n",
    "    H_img = depth_arr.shape[0]  # Height of the cropped panorama\n",
    "    # calculate height difference between feature top/bottom and camera\n",
    "    delta_foundation_bottom = calculate_height_difference(foundation_bottom_pixels, depth_arr, H_img)\n",
    "    delta_stairs_bottom = calculate_height_difference(stairs_bottom_pixels, depth_arr, H_img)\n",
    "    delta_frontdoor_bottom = calculate_height_difference(frontdoor_bottom_pixels, depth_arr, H_img)\n",
    "    delta_garagedoor_bottom = calculate_height_difference(garagedoor_bottom_pixels, depth_arr, H_img)\n",
    "    delata_foundation_top = calculate_height_difference(foundation_top_pixels, depth_arr, H_img)\n",
    "    delata_stairs_top = calculate_height_difference(stairs_top_pixels, depth_arr, H_img)\n",
    "    FFH = estimate_FFH(elev_foundation_top=delata_foundation_top, \n",
    "                    elev_foundation_bottom=delta_foundation_bottom,\n",
    "                    elev_stairs_top=delata_stairs_top, \n",
    "                    elev_stairs_bottom=delta_stairs_bottom, \n",
    "                    elev_frontdoor_bottom=delta_frontdoor_bottom,\n",
    "                    elev_garagedoor_bottom=delta_garagedoor_bottom, \n",
    "                    elev_camera=None)\n",
    "    FFH_all_predicted.append(FFH)\n",
    "    print(\"Estimated First Floor Height (FFH):\", FFH)"
   ]
  },
  {
   "cell_type": "code",
   "execution_count": 30,
   "metadata": {},
   "outputs": [],
   "source": [
    "gdf_updated=gdf.copy()\n",
    "pano_id_toFFH=dict(zip(pano_ids, FFH_all_predicted))\n",
    "gdf_updated[\"FFH_GSV\"] = gdf_updated['pano_id'].map(pano_id_toFFH)\n",
    "out_file=building_point_file.replace('.geojson','_FFH_GSV.geojson')\n",
    "gdf_updated.to_file(out_file, driver=\"GeoJSON\")"
   ]
  },
  {
   "cell_type": "code",
   "execution_count": 31,
   "metadata": {},
   "outputs": [
    {
     "name": "stderr",
     "output_type": "stream",
     "text": [
      "c:\\Users\\lliu\\miniconda3\\envs\\floorheight\\lib\\site-packages\\numpy\\lib\\function_base.py:2897: RuntimeWarning: invalid value encountered in divide\n",
      "  c /= stddev[:, None]\n",
      "c:\\Users\\lliu\\miniconda3\\envs\\floorheight\\lib\\site-packages\\numpy\\lib\\function_base.py:2898: RuntimeWarning: invalid value encountered in divide\n",
      "  c /= stddev[None, :]\n"
     ]
    },
    {
     "data": {
      "image/png": "[encoded data removed]",
      "text/plain": [
       "<Figure size 800x600 with 1 Axes>"
      ]
     },
     "metadata": {},
     "output_type": "display_data"
    }
   ],
   "source": [
    "# Calculate RMSE\n",
    "predicted=gdf_updated[\"FFH_GSV\"]\n",
    "gt=gdf_updated[\"Floor_height\"]\n",
    "valid_indices = ~np.isnan(predicted) & ~np.isnan(gt)\n",
    "predicted = predicted[valid_indices]\n",
    "gt = gt[valid_indices]\n",
    "\n",
    "rmse = np.sqrt(mean_squared_error(predicted, gt))\n",
    "# Calculate Correlation Coefficient\n",
    "correlation = np.corrcoef(predicted, gt)[0, 1]\n",
    "# Plot scatter points\n",
    "plt.figure(figsize=(8, 6))\n",
    "plt.scatter(predicted, gt, alpha=0.7, label=f'Points (n={len(predicted)})')\n",
    "# Add a line for ideal correlation (optional)\n",
    "plt.plot([predicted.min(), predicted.max()], [predicted.min(), predicted.max()], 'r--', label='Ideal Line')\n",
    "# Annotate RMSE and Correlation\n",
    "plt.text(0.05, 0.95, f'RMSE: {rmse:.2f}\\nCorrelation: {correlation:.2f}', \n",
    "         transform=plt.gca().transAxes, fontsize=12, \n",
    "         verticalalignment='top', bbox=dict(boxstyle=\"round\", fc=\"wheat\", ec=\"black\", alpha=0.5))\n",
    "# Labeling\n",
    "plt.title('FFH - GSV prediction vs ground truth')\n",
    "plt.xlabel('GSV prediction')\n",
    "plt.ylabel('Ground truth')\n",
    "plt.legend()\n",
    "plt.grid()\n",
    "# Show plot\n",
    "plt.show()"
   ]
  }
 ],
 "metadata": {
  "kernelspec": {
   "display_name": "floorheight",
   "language": "python",
   "name": "python3"
  },
  "language_info": {
   "codemirror_mode": {
    "name": "ipython",
    "version": 3
   },
   "file_extension": ".py",
   "mimetype": "text/x-python",
   "name": "python",
   "nbconvert_exporter": "python",
   "pygments_lexer": "ipython3",
   "version": "3.10.15"
  }
 },
 "nbformat": 4,
 "nbformat_minor": 2
}
