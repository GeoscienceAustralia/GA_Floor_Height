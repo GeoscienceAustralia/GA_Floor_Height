{
 "cells": [
  {
   "cell_type": "markdown",
   "metadata": {},
   "source": [
    "## Inference with PyTorch Hub"
   ]
  },
  {
   "cell_type": "code",
   "execution_count": 1,
   "metadata": {},
   "outputs": [
    {
     "name": "stderr",
     "output_type": "stream",
     "text": [
      "c:\\Users\\lliu\\miniconda3\\envs\\floorheight\\lib\\site-packages\\tqdm\\auto.py:21: TqdmWarning: IProgress not found. Please update jupyter and ipywidgets. See https://ipywidgets.readthedocs.io/en/stable/user_install.html\n",
      "  from .autonotebook import tqdm as notebook_tqdm\n",
      "Using cache found in C:\\Users\\lliu/.cache\\torch\\hub\\ultralytics_yolov5_master\n",
      "YOLOv5  2024-10-14 Python-3.10.15 torch-1.12.1 CPU\n",
      "\n",
      "Fusing layers... \n",
      "YOLOv5s summary: 213 layers, 7225885 parameters, 0 gradients\n",
      "Adding AutoShape... \n",
      "image 1/1: 720x1280 2 persons, 1 tie, 1 cell phone\n",
      "Speed: 3373.3ms pre-process, 182.0ms inference, 0.8ms NMS per image at shape (1, 3, 384, 640)\n"
     ]
    }
   ],
   "source": [
    "import torch\n",
    "\n",
    "# Model loading\n",
    "model = torch.hub.load(\"ultralytics/yolov5\", \"yolov5s\")  # Can be 'yolov5n' - 'yolov5x6', or 'custom'\n",
    "\n",
    "# Inference on images\n",
    "img = \"https://ultralytics.com/images/zidane.jpg\"  # Can be a file, Path, PIL, OpenCV, numpy, or list of images\n",
    "\n",
    "# Run inference\n",
    "results = model(img)\n",
    "\n",
    "# Display results\n",
    "results.print()  # Other options: .show(), .save(), .crop(), .pandas(), etc."
   ]
  }
 ],
 "metadata": {
  "kernelspec": {
   "display_name": "floorheight",
   "language": "python",
   "name": "python3"
  },
  "language_info": {
   "codemirror_mode": {
    "name": "ipython",
    "version": 3
   },
   "file_extension": ".py",
   "mimetype": "text/x-python",
   "name": "python",
   "nbconvert_exporter": "python",
   "pygments_lexer": "ipython3",
   "version": "3.10.15"
  }
 },
 "nbformat": 4,
 "nbformat_minor": 2
}
