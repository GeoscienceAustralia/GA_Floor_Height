{
 "cells": [
  {
   "cell_type": "markdown",
   "metadata": {},
   "source": [
    "## Load modules"
   ]
  },
  {
   "cell_type": "code",
   "execution_count": null,
   "metadata": {},
   "outputs": [],
   "source": [
    "%load_ext autoreload\n",
    "%autoreload 2"
   ]
  },
  {
   "cell_type": "code",
   "execution_count": null,
   "metadata": {},
   "outputs": [],
   "source": [
    "import os\n",
    "import glob\n",
    "import math\n",
    "import numpy as np\n",
    "import geopandas as gpd\n",
    "from shapely.geometry import Point, LineString\n",
    "from PIL import Image\n",
    "from geometry import extract_feature_pixels, focal_length_to_pixels, calculate_height_difference_perspective"
   ]
  },
  {
   "cell_type": "markdown",
   "metadata": {},
   "source": [
    "## Set input and output folders"
   ]
  },
  {
   "cell_type": "code",
   "execution_count": null,
   "metadata": {},
   "outputs": [],
   "source": [
    "in_folder_predictions=r'D:\\Wagga\\RICS\\all_images_predicted'\n",
    "building_point_file=r'D:\\Wagga\\RICS\\Final_Wagga.geojson'"
   ]
  },
  {
   "cell_type": "code",
   "execution_count": null,
   "metadata": {},
   "outputs": [],
   "source": [
    "gdf=gpd.read_file(building_point_file)\n",
    "gdf.head()"
   ]
  },
  {
   "cell_type": "markdown",
   "metadata": {},
   "source": [
    "## Read in segmentation predictions from OneFormer"
   ]
  },
  {
   "cell_type": "code",
   "execution_count": null,
   "metadata": {},
   "outputs": [],
   "source": [
    "prediction_files = glob.glob(os.path.join(in_folder_predictions,'*.png'))\n",
    "prediction_file=prediction_files[0]\n",
    "lbl_arr = np.asarray(Image.open(prediction_file))"
   ]
  },
  {
   "cell_type": "code",
   "execution_count": null,
   "metadata": {},
   "outputs": [],
   "source": [
    "RICS_id=os.path.basename(prediction_file).split('.')[0]\n",
    "print(RICS_id)"
   ]
  },
  {
   "cell_type": "code",
   "execution_count": null,
   "metadata": {},
   "outputs": [],
   "source": [
    "def estimate_FFH(elev_foundation_top=None, elev_foundation_bottom=None,elev_stairs_top=None, elev_stairs_bottom=None, elev_frontdoor_bottom=None,elev_garagedoor_bottom=None, elev_camera=None):\n",
    "    '''\n",
    "    Calculate FFH using elevations of available features\n",
    "    '''\n",
    "    # determine ground elevation\n",
    "    elev_ground=None\n",
    "    if elev_garagedoor_bottom is not None:\n",
    "        elev_ground=elev_garagedoor_bottom\n",
    "    elif elev_stairs_bottom is not None:\n",
    "        elev_ground=elev_stairs_bottom\n",
    "    elif elev_foundation_bottom is not None:\n",
    "        elev_ground=elev_foundation_bottom\n",
    "    if elev_ground is None:\n",
    "        return None\n",
    "    \n",
    "    elev_floor=None\n",
    "    if elev_frontdoor_bottom is not None:\n",
    "        elev_floor=elev_frontdoor_bottom\n",
    "    elif elev_stairs_top is not None:\n",
    "        elev_floor=elev_stairs_top\n",
    "    elif elev_foundation_top is not None:\n",
    "        elev_floor=elev_foundation_top\n",
    "    if elev_floor is None:\n",
    "        return None\n",
    "    if elev_floor<elev_ground:\n",
    "        return None\n",
    "    # calculate FFH\n",
    "    FFH=elev_floor-elev_ground\n",
    "    return FFH"
   ]
  },
  {
   "cell_type": "markdown",
   "metadata": {},
   "source": [
    "## Extract feature bottom pixels"
   ]
  },
  {
   "cell_type": "code",
   "execution_count": null,
   "metadata": {},
   "outputs": [],
   "source": [
    "# extract bottom pixels of foundation, stairs, front door and garage door\n",
    "foundation_mask=(lbl_arr==1)\n",
    "frontdoor_mask = (lbl_arr==2)\n",
    "garagedoor_mask = (lbl_arr==3)\n",
    "stairs_mask = (lbl_arr==4)\n",
    "foundation_bottom_pixels = extract_feature_pixels(foundation_mask,extract=\"bottom\")\n",
    "stairs_bottom_pixels = extract_feature_pixels(stairs_mask, extract=\"bottom\")\n",
    "frontdoor_bottom_pixels = extract_feature_pixels(frontdoor_mask,extract=\"bottom\")\n",
    "garagedoor_bottom_pixels = extract_feature_pixels(garagedoor_mask,extract=\"bottom\")\n",
    "\n",
    "# extract top pixels of foundation and stairs\n",
    "foundation_top_pixels = extract_feature_pixels(foundation_mask,extract=\"top\")\n",
    "stairs_top_pixels = extract_feature_pixels(stairs_mask,extract=\"top\")"
   ]
  },
  {
   "cell_type": "code",
   "execution_count": null,
   "metadata": {},
   "outputs": [],
   "source": [
    "# # Assume `door_mask` is a binary 2D numpy array representing the mask with the door labeled as 1.\n",
    "# door_mask = (lbl_arr==1)\n",
    "# # Assume `stairs_mask` is a binary 2D numpy array representing the mask with the stairs labeled as 1.\n",
    "# stairs_mask = (lbl_arr==2)\n",
    "# H_img = lbl_arr.shape[0]  # Height of image\n",
    "\n",
    "# # extract bottom pixels of the door\n",
    "# door_bottom_pixels = extract_feature_pixels(door_mask,extract='bottom')\n",
    "# print(\"Door bottom pixels:\", door_bottom_pixels)\n",
    "\n",
    "# # extract bottom pixels of the stairs\n",
    "# stairs_bottom_pixels = extract_feature_pixels(stairs_mask,extract='bottom')\n",
    "# print(\"Stairs bottom pixels:\", stairs_bottom_pixels)"
   ]
  },
  {
   "cell_type": "code",
   "execution_count": null,
   "metadata": {},
   "outputs": [],
   "source": [
    "\n",
    "def estimate_Z_for_points(building_outline, building_center, camera_position, image_points, focal_length_px, sensor_width_mm, image_width_px):\n",
    "    \"\"\"\n",
    "    Estimate the distance (Z) to specific points on the building using building outline geometry and image coordinates.\n",
    "    \n",
    "    Parameters:\n",
    "    - building_outline: Polygon representing the building outline.\n",
    "    - building_center: Point representing the building center.\n",
    "    - camera_position: Tuple (x, y, z) representing the camera's real-world position.\n",
    "    - image_points: List of (x, y) tuples representing the points in image coordinates.\n",
    "    - focal_length_px: Focal length in pixels.\n",
    "    - sensor_width_mm: Sensor width in mm.\n",
    "    - image_width_px: Image width in pixels.\n",
    "    \n",
    "    Returns:\n",
    "    - List of estimated Z distances for each point.\n",
    "    \"\"\"\n",
    "    # Calculate the field of view (FOV) of the camera in radians\n",
    "    fov = 2 * math.atan((sensor_width_mm / 2) / (focal_length_px / (image_width_px / sensor_width_mm)))\n",
    "    \n",
    "    # Calculate distances from the camera to each point in the image\n",
    "    Z_distances = []\n",
    "    for point in image_points:\n",
    "        # Calculate the angle of the point relative to the principal point (center of the image)\n",
    "        x = point[0] - (image_width_px / 2)\n",
    "        angle = (x / focal_length_px) * (fov / image_width_px)\n",
    "        \n",
    "        # Create a line from the camera position in the direction of the point\n",
    "        direction_line = LineString([camera_position, (camera_position.x + math.cos(angle), camera_position.y + math.sin(angle))])\n",
    "        \n",
    "        # Calculate intersection with the building outline\n",
    "        intersection = building_outline.intersection(direction_line)\n",
    "        \n",
    "        # If there is an intersection, calculate the distance\n",
    "        if not intersection.is_empty:\n",
    "            Z = camera_position.distance(intersection)\n",
    "        else:\n",
    "            # If no intersection, estimate Z as the distance to the building center\n",
    "            Z = camera_position.distance(building_center)\n",
    "        \n",
    "        Z_distances.append(Z)\n",
    "    \n",
    "    return Z_distances\n"
   ]
  },
  {
   "cell_type": "code",
   "execution_count": null,
   "metadata": {},
   "outputs": [],
   "source": [
    "# # Camera and image parameters\n",
    "# focal_length_mm = 12.5  # Focal length in mm (use 16 or 12.5)\n",
    "# sensor_width_mm = 8.8  # Sensor width in mm (for AVT GC2450 camera)\n",
    "# image_width_px = 2448  # Image width in pixels\n",
    "# image_height_px = 2050  # Image height in pixels\n",
    "\n",
    "# # Convert focal length to pixels\n",
    "# focal_length_px = focal_length_to_pixels(focal_length_mm, sensor_width_mm, image_width_px)\n",
    "# print(f\"Focal length in pixels: {focal_length_px:.2f}\")\n",
    "\n",
    "# # Coordinates of the points in the image (in pixels)\n",
    "# image_points = [(1672, 1420), (1671, 1538)]  # Example points representing pixel coordinates\n",
    "\n",
    "# # Load the shapefile using geopandas\n",
    "# shapefile_path = \"path/to/building_outline.shp\"  # Update with the actual path to your shapefile\n",
    "# building_center_path = \"path/to/building_center.shp\"  # Update with the actual path to your building center shapefile\n",
    "# gdf = gpd.read_file(shapefile_path)\n",
    "# center_gdf = gpd.read_file(building_center_path)\n",
    "\n",
    "# # Assume the shapefile contains a single polygon representing the building outline\n",
    "# building_outline = gdf.geometry.iloc[0]\n",
    "# building_center = center_gdf.geometry.iloc[0]\n",
    "\n",
    "# # Camera position in real-world coordinates (e.g., GPS coordinates)\n",
    "# camera_position = Point(0, 0)  # Example camera position\n",
    "\n",
    "# # Estimate Z distances for the image points\n",
    "# Z_distances = estimate_Z_for_points(building_outline, building_center, camera_position, image_points, focal_length_px, sensor_width_mm, image_width_px)\n",
    "# Z1 = Z_distances[0]\n",
    "# Z2 = Z_distances[1]\n",
    "\n",
    "# # Calculate the height difference\n",
    "# y1 = image_points[0][1]\n",
    "# y2 = image_points[1][1]\n",
    "# height_difference = calculate_height_difference(y1, y2, Z1, Z2, focal_length_px, image_height_px)\n",
    "# print(f\"Estimated height difference: {height_difference:.2f} meters\")"
   ]
  },
  {
   "cell_type": "code",
   "execution_count": null,
   "metadata": {},
   "outputs": [],
   "source": [
    "H_img = lbl_arr.shape[0]  # Height of image\n",
    "# Camera and image parameters\n",
    "focal_length_mm = 8.5  # Focal length in mm\n",
    "sensor_width_mm = 8.8  # Sensor width in mm (for AVT GC2450 camera)\n",
    "image_width_px = 2448  # Image width in pixels\n",
    "image_height_px = 2050  # Image height in pixels\n",
    "\n",
    "# Convert focal length to pixels\n",
    "focal_length_px = focal_length_to_pixels(focal_length_mm, sensor_width_mm, image_width_px)\n",
    "print(f\"Focal length in pixels: {focal_length_px:.2f}\")\n",
    "\n",
    "# Coordinates of the points in the image (in pixels)\n",
    "y1 = 1561  # Example vertical pixel coordinate for point 1\n",
    "y2 = 1462  # Example vertical pixel coordinate for point 2\n",
    "\n",
    "# Real-world distance to the building (in meters)\n",
    "Z1 = 17  # Example distance to the building\n",
    "Z2 = 17.5\n",
    "\n",
    "# Calculate the height difference\n",
    "height_difference = calculate_height_difference_perspective(y1, y2, Z1, Z2, focal_length_px, image_height_px)\n",
    "print(f\"Estimated height difference: {height_difference:.2f} meters\")\n"
   ]
  },
  {
   "cell_type": "code",
   "execution_count": null,
   "metadata": {},
   "outputs": [],
   "source": [
    "# import sqlite3\n",
    "\n",
    "# # Connect to your .sdb file\n",
    "# db_path = r'C:\\Users\\lliu\\FrontierSI\\Projects - 127 Residential Dwelling Floor Height\\4 Executing\\GA_data_documentation\\RICS_DB\\cbd_141112_11404.sdb'  # Replace with the path to your .sdb file\n",
    "# conn = sqlite3.connect(db_path)\n",
    "\n",
    "# # Create a cursor object to interact with the database\n",
    "# cursor = conn.cursor()\n",
    "\n",
    "# # Check the tables in the database (optional, to know which table to use)\n",
    "# cursor.execute(\"SELECT name FROM sqlite_master WHERE type='table';\")\n",
    "# tables = cursor.fetchall()\n",
    "# print(\"Tables:\", tables)  # This will list all the tables in the database\n",
    "\n",
    "# # Query multiple example rows from a specific table\n",
    "# table_name = 'L'  # Replace with the name of the table you want to check\n",
    "# query = f\"SELECT * FROM {table_name} LIMIT 5;\"  # Select a few rows (e.g., 5 rows) from the table\n",
    "# cursor.execute(query)\n",
    "\n",
    "# # Fetch and print the rows\n",
    "# rows = cursor.fetchall()  # Get all selected rows (up to 5)\n",
    "# for i, row in enumerate(rows):\n",
    "#     print(f\"Row {i+1}:\", row)\n",
    "\n",
    "# cursor.execute(f\"PRAGMA table_info({table_name});\")\n",
    "# columns = cursor.fetchall()\n",
    "# print(\"Columns:\", columns)\n",
    "# # Close the connection when done\n",
    "# conn.close()\n"
   ]
  }
 ],
 "metadata": {
  "kernelspec": {
   "display_name": "floorheight",
   "language": "python",
   "name": "python3"
  },
  "language_info": {
   "codemirror_mode": {
    "name": "ipython",
    "version": 3
   },
   "file_extension": ".py",
   "mimetype": "text/x-python",
   "name": "python",
   "nbconvert_exporter": "python",
   "pygments_lexer": "ipython3",
   "version": "3.10.15"
  }
 },
 "nbformat": 4,
 "nbformat_minor": 2
}
