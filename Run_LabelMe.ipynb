{
 "cells": [
  {
   "cell_type": "markdown",
   "metadata": {},
   "source": [
    "### First install Labelme in your python environment\n",
    "pip install labelme"
   ]
  },
  {
   "cell_type": "markdown",
   "metadata": {},
   "source": [
    "### Annotation for a single image:\n",
    "labelme apc2016_obj3.jpg -O apc2016_obj3.json"
   ]
  },
  {
   "cell_type": "markdown",
   "metadata": {},
   "source": [
    "### To view the json file quickly, you can use utility script:\n",
    "labelme_draw_json apc2016_obj3.json"
   ]
  },
  {
   "cell_type": "markdown",
   "metadata": {},
   "source": [
    "### To open annotations directory:\n",
    "labelme \"C:\\\\Users\\\\lliu\\\\FrontierSI\\\\Projects - 127 Residential Dwelling Floor Height\\\\4 Executing\\\\Data Exploration\\\\GSV\\\\Wagga\\\\Panos_clipped\\\\\" --output \"C:\\\\Users\\\\lliu\\\\FrontierSI\\\\Projects - 127 Residential Dwelling Floor Height\\\\4 Executing\\\\Data Exploration\\\\GSV\\\\Wagga\\\\Panos_annotated\\\\\""
   ]
  },
  {
   "cell_type": "markdown",
   "metadata": {},
   "source": [
    "### To convert the json to set of image and label, you can run following:\n",
    "labelme_export_json apc2016_obj3.json -o apc2016_obj3_json"
   ]
  }
 ],
 "metadata": {
  "kernelspec": {
   "display_name": "floorheight",
   "language": "python",
   "name": "python3"
  },
  "language_info": {
   "name": "python",
   "version": "3.10.15"
  }
 },
 "nbformat": 4,
 "nbformat_minor": 2
}
