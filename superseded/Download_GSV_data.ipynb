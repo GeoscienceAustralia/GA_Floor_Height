{
 "cells": [
  {
   "cell_type": "markdown",
   "metadata": {},
   "source": [
    "## Import modules"
   ]
  },
  {
   "cell_type": "code",
   "execution_count": 1,
   "metadata": {},
   "outputs": [],
   "source": [
    "%load_ext autoreload\n",
    "%autoreload 2"
   ]
  },
  {
   "cell_type": "code",
   "execution_count": 2,
   "metadata": {},
   "outputs": [],
   "source": [
    "from streetview.streetview import search, api, download\n",
    "from streetview.streetview import tools\n",
    "import geopandas as gpd\n",
    "import json\n",
    "import os\n",
    "import math\n",
    "import requests\n",
    "import geometry\n",
    "from PIL import Image"
   ]
  },
  {
   "cell_type": "markdown",
   "metadata": {},
   "source": [
    "## Set input and output folders"
   ]
  },
  {
   "cell_type": "code",
   "execution_count": 3,
   "metadata": {},
   "outputs": [],
   "source": [
    "# input_folder='data'\n",
    "input_folder='output\\Wagga'\n",
    "out_folder='output\\Wagga\\Panos'"
   ]
  },
  {
   "cell_type": "markdown",
   "metadata": {},
   "source": [
    "## Set Google API key\n",
    "Create a config.json file containing below to save your API key:  \n",
    "{  \n",
    "    \"api_key\": your_API_Key  \n",
    "}  "
   ]
  },
  {
   "cell_type": "code",
   "execution_count": 4,
   "metadata": {},
   "outputs": [],
   "source": [
    "with open('config.json', 'r') as f:\n",
    "    config = json.load(f)\n",
    "GOOGLE_MAPS_API_KEY = config['api_key']"
   ]
  },
  {
   "cell_type": "markdown",
   "metadata": {},
   "source": [
    "## Load GNAF points\n",
    "We use the points data at Wagga Wagga for demonstration:"
   ]
  },
  {
   "cell_type": "code",
   "execution_count": null,
   "metadata": {},
   "outputs": [],
   "source": [
    "# add_points=os.path.join(input_folder,\"Final_Wagga.shp\")\n",
    "add_points=os.path.join(input_folder,\"Final_Wagga_training_samples.geojson\")\n",
    "gdf_points=gpd.read_file(add_points).to_crs('epsg:4326')\n",
    "gdf_points.head()"
   ]
  },
  {
   "cell_type": "markdown",
   "metadata": {},
   "source": [
    "### View points"
   ]
  },
  {
   "cell_type": "code",
   "execution_count": null,
   "metadata": {},
   "outputs": [],
   "source": [
    "gdf_points.explore(column='USAGE')"
   ]
  },
  {
   "cell_type": "markdown",
   "metadata": {},
   "source": [
    "### Filter by usage - keeping only residential"
   ]
  },
  {
   "cell_type": "code",
   "execution_count": 7,
   "metadata": {},
   "outputs": [],
   "source": [
    "# gdf_points=gdf_points[gdf_points['USAGE'] == 'Residential']\n",
    "# gdf_points"
   ]
  },
  {
   "cell_type": "markdown",
   "metadata": {},
   "source": [
    "Test workflow with first point:"
   ]
  },
  {
   "cell_type": "code",
   "execution_count": 8,
   "metadata": {},
   "outputs": [],
   "source": [
    "i=0\n",
    "lon=gdf_points.geometry.iloc[i].x\n",
    "lat=gdf_points.geometry.iloc[i].y"
   ]
  },
  {
   "cell_type": "markdown",
   "metadata": {},
   "source": [
    "## Get ID of closest panorama using Google API"
   ]
  },
  {
   "cell_type": "code",
   "execution_count": null,
   "metadata": {},
   "outputs": [],
   "source": [
    "# Base URL for the Street View Metadata API (for metadata)\n",
    "metadata_url = f\"https://maps.googleapis.com/maps/api/streetview/metadata?location={lat},{lon}&key={GOOGLE_MAPS_API_KEY}\"\n",
    "\n",
    "# Fetch the metadata\n",
    "metadata_response = requests.get(metadata_url)\n",
    "metadata = metadata_response.json()\n",
    "\n",
    "# Check if metadata request is successful and contains panorama data\n",
    "if metadata.get('status') == 'OK':  \n",
    "    # Print metadata details\n",
    "    print(\"Panorama Metadata:\")\n",
    "    for key, value in metadata.items():\n",
    "        print(f\"{key}: {value}\")\n",
    "else:\n",
    "    print(f\"Error fetching metadata. Status: {metadata.get('status')}\")\n"
   ]
  },
  {
   "cell_type": "markdown",
   "metadata": {},
   "source": [
    "## Search all available panorama images by coordinates using streetview\n",
    "The photos on Google street view are panoramas. Each parnorama has its own unique ID. Retrieving photos is a two step process. First, you must translate GPS coordinates into panorama IDs. The following code retrieves a list of the closest panoramas:"
   ]
  },
  {
   "cell_type": "code",
   "execution_count": null,
   "metadata": {},
   "outputs": [],
   "source": [
    "panos = search.search_panoramas(lat=lat, lon=lon)\n",
    "panos"
   ]
  },
  {
   "cell_type": "markdown",
   "metadata": {},
   "source": [
    "Sort panoramas by distance to the building point and keep only top three panoramas:"
   ]
  },
  {
   "cell_type": "code",
   "execution_count": 11,
   "metadata": {},
   "outputs": [],
   "source": [
    "# panos_filtered={'dists':[],'panos':[]}\n",
    "# for pano in panos:\n",
    "#     dist=math.sqrt((lat-pano.lat)**2+(lon-pano.lon)**2)\n",
    "#     panos_filtered['panos'].append(pano)\n",
    "#     panos_filtered['dists'].append(dist)\n",
    "# sorted_data = sorted(zip(panos_filtered['dists'], panos_filtered['panos']), key=lambda x: x[0])\n",
    "# dists_sorted, panos_sorted = zip(*sorted_data[:3])\n",
    "# panos_filtered['dists'] = list(dists_sorted)\n",
    "# panos_filtered['panos'] = list(panos_sorted)\n",
    "# panos_filtered"
   ]
  },
  {
   "cell_type": "markdown",
   "metadata": {},
   "source": [
    "## Find pano matching the API result to get metadata including:\n",
    "- latitude and longitude\n",
    "- heading/bearing angle\n",
    "- pitch and roll angles (how are they retrieved?)"
   ]
  },
  {
   "cell_type": "code",
   "execution_count": null,
   "metadata": {},
   "outputs": [],
   "source": [
    "for pano in panos:\n",
    "    if pano.pano_id==metadata.get('pano_id'):\n",
    "        heading=pano.heading\n",
    "        pano_id=metadata.get('pano_id')\n",
    "        print('Found matching pano with id of ',pano_id)\n",
    "        print('heading angle of ',heading)"
   ]
  },
  {
   "cell_type": "markdown",
   "metadata": {},
   "source": [
    "## Record metadata from query results"
   ]
  },
  {
   "cell_type": "code",
   "execution_count": null,
   "metadata": {},
   "outputs": [],
   "source": [
    "metadata_all={}\n",
    "all_panos={}\n",
    "new_id=metadata.get('pano_id')\n",
    "for pano in panos:\n",
    "    all_panos[pano.pano_id]={'location': {'lat': pano.lat, 'lng': pano.lon},\n",
    "                             'heading':pano.heading,\n",
    "                             'pitch':pano.pitch,\n",
    "                             'roll':pano.roll,\n",
    "                             'date':pano.date,\n",
    "                             'elevation':pano.elevation}\n",
    "metadata_all[new_id]={'date':metadata.get('date'),\n",
    "                      'location':metadata.get('location'),\n",
    "                      'house_location':{'lat': lat, 'lng': lon},\n",
    "                      'status':metadata.get('status'),\n",
    "                      'All_panos':all_panos}\n",
    "metadata_all"
   ]
  },
  {
   "cell_type": "markdown",
   "metadata": {},
   "source": [
    "## Download pano image\n",
    "The code below uses the panorama ids to download streetview images and the panorama in an asynchronous context. Street View Static API images can be returned in any size up to 640 x 640 pixels."
   ]
  },
  {
   "cell_type": "code",
   "execution_count": null,
   "metadata": {},
   "outputs": [],
   "source": [
    "zoom_level=3 # pano dimension (excluding user-uploaded data): 2^zoom*512, 2^(zoom-1)*512\n",
    "output_pano=os.path.join(out_folder,pano_id+\".jpg\")\n",
    "if not os.path.exists(output_pano):\n",
    "    print('Downloading panorama image...')\n",
    "    # meta = api.get_panorama_meta(pano_id=pano_id, api_key=GOOGLE_MAPS_API_KEY)\n",
    "    gsv_pano = await download.get_panorama_async(pano_id=pano_id,\n",
    "                                                zoom=zoom_level)\n",
    "    # Crop the black border at the bottom and right of the panorama\n",
    "    gsv_pano = tools.crop_bottom_and_right_black_border(gsv_pano)\n",
    "    gsv_pano.save(output_pano, \"jpeg\")\n",
    "else: # avoid redownloading existing pano\n",
    "    print('Panorama image exists, reading it...')\n",
    "    gsv_pano=Image.open(output_pano)\n",
    "gsv_pano"
   ]
  },
  {
   "cell_type": "markdown",
   "metadata": {},
   "source": [
    "## Download street view images (optional)"
   ]
  },
  {
   "cell_type": "code",
   "execution_count": null,
   "metadata": {},
   "outputs": [],
   "source": [
    "# heading_street_view=location['camera_house_bearing']\n",
    "# if heading_street_view<0:\n",
    "#     heading_street_view=heading_street_view+360\n",
    "    \n",
    "# gsv_image = api.get_streetview(pano_id=pano_id,\n",
    "#                                heading=heading_street_view,\n",
    "#                                pitch=0,\n",
    "#                                api_key=GOOGLE_MAPS_API_KEY)\n",
    "# gsv_image.save(os.path.join(out_folder,\"street_view_\"+pano_id+\".jpg\"), \"jpeg\")"
   ]
  },
  {
   "cell_type": "markdown",
   "metadata": {},
   "source": [
    "## Save metadata"
   ]
  },
  {
   "cell_type": "code",
   "execution_count": 15,
   "metadata": {},
   "outputs": [],
   "source": [
    "out_file=os.path.join(out_folder,'metadata_all.json')\n",
    "with open(out_file, 'w') as json_file:\n",
    "    json.dump(metadata_all, json_file, indent=4)"
   ]
  },
  {
   "cell_type": "markdown",
   "metadata": {},
   "source": [
    "## Batch downloading"
   ]
  },
  {
   "cell_type": "code",
   "execution_count": null,
   "metadata": {},
   "outputs": [],
   "source": [
    "metadata_all={}\n",
    "for i in range(len(gdf_points)):\n",
    "# for i in range(10):\n",
    "    lon=gdf_points.geometry.iloc[i].x\n",
    "    lat=gdf_points.geometry.iloc[i].y\n",
    "\n",
    "    # Base URL for the Street View Metadata API (for metadata)\n",
    "    metadata_url = f\"https://maps.googleapis.com/maps/api/streetview/metadata?location={lat},{lon}&key={GOOGLE_MAPS_API_KEY}\"\n",
    "\n",
    "    try:\n",
    "        # Fetch id of closest pano\n",
    "        metadata_response = requests.get(metadata_url)\n",
    "        metadata = metadata_response.json()\n",
    "\n",
    "        # Check if metadata request is successful and contains panorama data\n",
    "        if metadata.get('status') == 'OK':  \n",
    "            # Print metadata details\n",
    "            print(\"Panorama Metadata:\")\n",
    "            for key, value in metadata.items():\n",
    "                print(f\"{key}: {value}\")\n",
    "        else:\n",
    "            print(f\"Error fetching metadata. Status: {metadata.get('status')}\")\n",
    "\n",
    "        # get metadata of all panos\n",
    "        panos = search.search_panoramas(lat=lat, lon=lon)\n",
    "        all_panos_meta={}\n",
    "        for pano in panos:\n",
    "            all_panos_meta[pano.pano_id]={'location': {'lat': pano.lat, 'lng': pano.lon},\n",
    "                             'heading':pano.heading,\n",
    "                             'pitch':pano.pitch,\n",
    "                             'roll':pano.roll,\n",
    "                             'date':pano.date,\n",
    "                             'elevation':pano.elevation}\n",
    "            if pano.pano_id==metadata.get('pano_id'):\n",
    "                heading=pano.heading\n",
    "                pano_id=metadata.get('pano_id')\n",
    "                print('Found matching pano with id of ',pano_id)\n",
    "                print('heading angle of ',heading)\n",
    "        metadata_all[pano_id]={'date':metadata.get('date'),\n",
    "                      'location':metadata.get('location'),\n",
    "                      'house_location':{'lat': lat, 'lng': lon},\n",
    "                      'status':metadata.get('status'),\n",
    "                      'All_panos':all_panos_meta}\n",
    "        \n",
    "        # download closest pano\n",
    "        output_pano=os.path.join(out_folder,pano_id+\".jpg\")\n",
    "        if not os.path.exists(output_pano):\n",
    "            print('Downloading panorama image...')\n",
    "            # meta = api.get_panorama_meta(pano_id=pano_id, api_key=GOOGLE_MAPS_API_KEY)\n",
    "            gsv_pano = await download.get_panorama_async(pano_id=pano_id,\n",
    "                                                        zoom=zoom_level)\n",
    "            # Crop the black border at the bottom and right of the panorama\n",
    "            gsv_pano = tools.crop_bottom_and_right_black_border(gsv_pano)\n",
    "            gsv_pano.save(output_pano, \"jpeg\")\n",
    "        else: # avoid redownloading existing pano\n",
    "            print('Panorama image exists, skipping it...')\n",
    "\n",
    "    except Exception as e:  # Catch any other unexpected errors:\n",
    "        print(f\"An error occurred: {e}, skipping...\")"
   ]
  },
  {
   "cell_type": "markdown",
   "metadata": {},
   "source": [
    "## Save final metadata"
   ]
  },
  {
   "cell_type": "code",
   "execution_count": 24,
   "metadata": {},
   "outputs": [],
   "source": [
    "# save metadata\n",
    "with open(out_file, 'w') as json_file:\n",
    "    json.dump(metadata_all, json_file, indent=4)"
   ]
  },
  {
   "cell_type": "code",
   "execution_count": null,
   "metadata": {},
   "outputs": [],
   "source": [
    "len(metadata_all)"
   ]
  }
 ],
 "metadata": {
  "kernelspec": {
   "display_name": "floorheight",
   "language": "python",
   "name": "python3"
  },
  "language_info": {
   "codemirror_mode": {
    "name": "ipython",
    "version": 3
   },
   "file_extension": ".py",
   "mimetype": "text/x-python",
   "name": "python",
   "nbconvert_exporter": "python",
   "pygments_lexer": "ipython3",
   "version": "3.10.15"
  }
 },
 "nbformat": 4,
 "nbformat_minor": 2
}
