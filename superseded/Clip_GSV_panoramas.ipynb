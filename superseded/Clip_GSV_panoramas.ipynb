{
 "cells": [
  {
   "cell_type": "markdown",
   "metadata": {},
   "source": [
    "## Import modules"
   ]
  },
  {
   "cell_type": "code",
   "execution_count": 1,
   "metadata": {},
   "outputs": [],
   "source": [
    "%load_ext autoreload\n",
    "%autoreload 2"
   ]
  },
  {
   "cell_type": "code",
   "execution_count": 2,
   "metadata": {},
   "outputs": [],
   "source": [
    "import geopandas as gpd\n",
    "import json\n",
    "import os\n",
    "import math\n",
    "import requests\n",
    "import geometry\n",
    "from PIL import Image"
   ]
  },
  {
   "cell_type": "markdown",
   "metadata": {},
   "source": [
    "## Set input and output folders"
   ]
  },
  {
   "cell_type": "code",
   "execution_count": 3,
   "metadata": {},
   "outputs": [],
   "source": [
    "# input_folder='data'\n",
    "input_folder='output\\Wagga\\Panos'\n",
    "input_folder_depth='output\\Wagga\\Depth_decoded'\n",
    "\n",
    "out_folder='output\\Wagga\\Panos_clipped'\n",
    "out_folder_depth='output\\Wagga\\Depth_decoded_clipped'"
   ]
  },
  {
   "cell_type": "markdown",
   "metadata": {},
   "source": [
    "## Load metadata file"
   ]
  },
  {
   "cell_type": "code",
   "execution_count": 4,
   "metadata": {},
   "outputs": [
    {
     "data": {
      "text/plain": [
       "715"
      ]
     },
     "execution_count": 4,
     "metadata": {},
     "output_type": "execute_result"
    }
   ],
   "source": [
    "# Read the JSON file\n",
    "metadata_file=os.path.join(input_folder,'metadata_all.json')\n",
    "with open(metadata_file, 'r') as json_file:\n",
    "    metadata = json.load(json_file)\n",
    "pano_ids = list(metadata.keys())\n",
    "len(pano_ids)"
   ]
  },
  {
   "cell_type": "code",
   "execution_count": 5,
   "metadata": {},
   "outputs": [
    {
     "data": {
      "text/plain": [
       "'5q_FunDhOxgGsrQc9WthtQ'"
      ]
     },
     "execution_count": 5,
     "metadata": {},
     "output_type": "execute_result"
    }
   ],
   "source": [
    "# pano_id=pano_ids[2]\n",
    "# pano_id='8z3aOgFCC5fbk1vvH3RWuQ'\n",
    "pano_id='5q_FunDhOxgGsrQc9WthtQ'\n",
    "pano_id"
   ]
  },
  {
   "cell_type": "code",
   "execution_count": 6,
   "metadata": {},
   "outputs": [
    {
     "data": {
      "text/plain": [
       "{'date': '2020-11',\n",
       " 'location': {'lat': -35.11550745614311, 'lng': 147.3531379146853},\n",
       " 'house_location': {'lat': -35.115337902693575, 'lng': 147.35311978972555},\n",
       " 'status': 'OK',\n",
       " 'All_panos': {'Oa8PdQ0975kz9pyW7MKPCg': {'location': {'lat': -35.11549332525598,\n",
       "    'lng': 147.353164731115},\n",
       "   'heading': 98.7208480834961,\n",
       "   'pitch': 88.89018249511719,\n",
       "   'roll': 359.3814392089844,\n",
       "   'date': '2007-11',\n",
       "   'elevation': None},\n",
       "  '8AlHLkPwbmjCWmOdecOv_A': {'location': {'lat': -35.11549124074901,\n",
       "    'lng': 147.3531286884555},\n",
       "   'heading': 277.5351867675781,\n",
       "   'pitch': 89.40414428710938,\n",
       "   'roll': 1.204930782318115,\n",
       "   'date': '2009-11',\n",
       "   'elevation': None},\n",
       "  'dmFRd3pqiTKFnGCwITVQAA': {'location': {'lat': -35.11549511373619,\n",
       "    'lng': 147.3531746471599},\n",
       "   'heading': 278.7264404296875,\n",
       "   'pitch': 89.68125915527344,\n",
       "   'roll': 0.7817404270172119,\n",
       "   'date': '2015-05',\n",
       "   'elevation': None},\n",
       "  'bnonbrdb2l6yJeATROTtHQ': {'location': {'lat': -35.11512373881086,\n",
       "    'lng': 147.3530510846859},\n",
       "   'heading': 278.5118408203125,\n",
       "   'pitch': 88.85870361328125,\n",
       "   'roll': 0.04875677824020386,\n",
       "   'date': None,\n",
       "   'elevation': None},\n",
       "  'GdAN9WUnn46UrzS-PjoylA': {'location': {'lat': -35.1151364955544,\n",
       "    'lng': 147.3531591263944},\n",
       "   'heading': 278.529296875,\n",
       "   'pitch': 89.27758026123047,\n",
       "   'roll': 1.164625406265259,\n",
       "   'date': None,\n",
       "   'elevation': None},\n",
       "  'TKUyQrfx0p7T3Is-J8-DbQ': {'location': {'lat': -35.11515048448206,\n",
       "    'lng': 147.3532655299117},\n",
       "   'heading': 278.6598205566406,\n",
       "   'pitch': 88.87690734863281,\n",
       "   'roll': 359.9796752929688,\n",
       "   'date': None,\n",
       "   'elevation': None},\n",
       "  'bKBxJbxiJm0TsGPkqnIcyg': {'location': {'lat': -35.11516423387877,\n",
       "    'lng': 147.3533728820323},\n",
       "   'heading': 278.8773803710938,\n",
       "   'pitch': 89.34603118896484,\n",
       "   'roll': 358.7249145507812,\n",
       "   'date': None,\n",
       "   'elevation': None},\n",
       "  '-ymw6zaGSKBtVtiUYXJQIw': {'location': {'lat': -35.11517827458568,\n",
       "    'lng': 147.3534794582244},\n",
       "   'heading': 278.7057495117188,\n",
       "   'pitch': 89.48303985595703,\n",
       "   'roll': 357.9468994140625,\n",
       "   'date': None,\n",
       "   'elevation': None},\n",
       "  'qkaAs3yUz0T886S0DVpl6Q': {'location': {'lat': -35.11555645776286,\n",
       "    'lng': 147.3536629488851},\n",
       "   'heading': 99.26168823242188,\n",
       "   'pitch': 88.79447174072266,\n",
       "   'roll': 358.1705627441406,\n",
       "   'date': None,\n",
       "   'elevation': None},\n",
       "  '6IGFC_6A1Akr1dRjp_S1EA': {'location': {'lat': -35.11554341904819,\n",
       "    'lng': 147.3535587006265},\n",
       "   'heading': 98.73817443847656,\n",
       "   'pitch': 88.92448425292969,\n",
       "   'roll': 359.2859191894531,\n",
       "   'date': None,\n",
       "   'elevation': None},\n",
       "  'Yr5WZt23ZxLGlYKVJwmB5w': {'location': {'lat': -35.11553039781448,\n",
       "    'lng': 147.3534560045545},\n",
       "   'heading': 99.05659484863281,\n",
       "   'pitch': 88.71199798583984,\n",
       "   'roll': 359.4287109375,\n",
       "   'date': None,\n",
       "   'elevation': None},\n",
       "  '7w9EiMkOVtSDSVIhHxjcGw': {'location': {'lat': -35.11551552035004,\n",
       "    'lng': 147.353352877452},\n",
       "   'heading': 99.49468994140625,\n",
       "   'pitch': 88.92261505126953,\n",
       "   'roll': 357.9881591796875,\n",
       "   'date': None,\n",
       "   'elevation': None},\n",
       "  'er8OkSNfWNkCsi-O8O_8Ow': {'location': {'lat': -35.11545823311241,\n",
       "    'lng': 147.3529290744335},\n",
       "   'heading': 99.1163558959961,\n",
       "   'pitch': 89.26152038574219,\n",
       "   'roll': 359.4093627929688,\n",
       "   'date': None,\n",
       "   'elevation': None},\n",
       "  '_JOhZHTQtGDir6OUd5Oxww': {'location': {'lat': -35.11544440254077,\n",
       "    'lng': 147.3528234473},\n",
       "   'heading': 98.21497344970703,\n",
       "   'pitch': 89.3568115234375,\n",
       "   'roll': 358.298828125,\n",
       "   'date': None,\n",
       "   'elevation': None},\n",
       "  'h1NtWXQu8t19vKvry5Aaeg': {'location': {'lat': -35.11543171775342,\n",
       "    'lng': 147.3527173891446},\n",
       "   'heading': 97.63713073730469,\n",
       "   'pitch': 89.2796401977539,\n",
       "   'roll': 357.3838195800781,\n",
       "   'date': None,\n",
       "   'elevation': None},\n",
       "  'Vctuu5sr83c1kqdhpGesOQ': {'location': {'lat': -35.11542070409936,\n",
       "    'lng': 147.3526108999685},\n",
       "   'heading': 97.72062683105469,\n",
       "   'pitch': 89.28014373779297,\n",
       "   'roll': 358.1045227050781,\n",
       "   'date': None,\n",
       "   'elevation': None},\n",
       "  'mKT9YC3vv2-kzaQL_FSlog': {'location': {'lat': -35.11550204237601,\n",
       "    'lng': 147.3532474223362},\n",
       "   'heading': 99.44202423095703,\n",
       "   'pitch': 89.34544372558594,\n",
       "   'roll': 358.3880615234375,\n",
       "   'date': None,\n",
       "   'elevation': None},\n",
       "  'FyyMoa0oWoUDBkYcPHGMYw': {'location': {'lat': -35.11547282581244,\n",
       "    'lng': 147.3530357363918},\n",
       "   'heading': 99.799072265625,\n",
       "   'pitch': 89.34671783447266,\n",
       "   'roll': 358.8435668945312,\n",
       "   'date': None,\n",
       "   'elevation': None},\n",
       "  '5q_FunDhOxgGsrQc9WthtQ': {'location': {'lat': -35.11548788591389,\n",
       "    'lng': 147.3531417086492},\n",
       "   'heading': 99.76911163330078,\n",
       "   'pitch': 89.61846923828125,\n",
       "   'roll': 358.27783203125,\n",
       "   'date': None,\n",
       "   'elevation': None}}}"
      ]
     },
     "execution_count": 6,
     "metadata": {},
     "output_type": "execute_result"
    }
   ],
   "source": [
    "metadata[pano_id]"
   ]
  },
  {
   "cell_type": "markdown",
   "metadata": {},
   "source": [
    "## Read in pano"
   ]
  },
  {
   "cell_type": "code",
   "execution_count": null,
   "metadata": {},
   "outputs": [],
   "source": [
    "pano_file=os.path.join(input_folder,pano_id+\".jpg\")\n",
    "gsv_pano=Image.open(pano_file)\n",
    "gsv_pano"
   ]
  },
  {
   "cell_type": "markdown",
   "metadata": {},
   "source": [
    "## Read in decoded depth map"
   ]
  },
  {
   "cell_type": "code",
   "execution_count": null,
   "metadata": {},
   "outputs": [],
   "source": [
    "depth_file=os.path.join(input_folder_depth,pano_id+\".tif\")\n",
    "gsv_depth=Image.open(depth_file)\n",
    "gsv_depth"
   ]
  },
  {
   "cell_type": "markdown",
   "metadata": {},
   "source": [
    "## Localise building of interest"
   ]
  },
  {
   "cell_type": "markdown",
   "metadata": {},
   "source": [
    "House location (horizontal pixel range) within pano image:"
   ]
  },
  {
   "cell_type": "code",
   "execution_count": null,
   "metadata": {},
   "outputs": [],
   "source": [
    "# below are standard google pano image dimension which does not apply to user uploaded data\n",
    "# width=512*(2**zoom_level) # pano image width\n",
    "# height=512*(2**(zoom_level-1)) # pano image height\n",
    "heading=metadata[pano_id]['All_panos'][pano_id]['heading']\n",
    "location = geometry.localize_house_in_panorama(lat_c=metadata[pano_id]['location']['lat'], \n",
    "                                    lon_c=metadata[pano_id]['location']['lng'], \n",
    "                                    lat_house=metadata[pano_id]['house_location']['lat'], \n",
    "                                    lon_house=metadata[pano_id]['house_location']['lng'],\n",
    "                                    beta_yaw_deg=heading, \n",
    "                                    Wim=gsv_pano.width,angle_extend=40)\n",
    "location"
   ]
  },
  {
   "cell_type": "markdown",
   "metadata": {},
   "source": [
    "## Clip panorama image to localised area\n",
    "- Horizontally clipped to calculated pixel range\n",
    "- Vertically clipped based on hard-coded upper and lower crop proportions range"
   ]
  },
  {
   "cell_type": "code",
   "execution_count": null,
   "metadata": {},
   "outputs": [],
   "source": [
    "upper_crop=0.25\n",
    "lower_crop=0.6"
   ]
  },
  {
   "cell_type": "code",
   "execution_count": null,
   "metadata": {},
   "outputs": [],
   "source": [
    "gsv_pano_clipped=gsv_pano.crop(box=(location['horizontal_pixel_range_house'][0],\n",
    "                   upper_crop*gsv_pano.height,\n",
    "                   location['horizontal_pixel_range_house'][1],\n",
    "                   lower_crop*gsv_pano.height\n",
    "                   ))\n",
    "gsv_pano_clipped"
   ]
  },
  {
   "cell_type": "code",
   "execution_count": null,
   "metadata": {},
   "outputs": [],
   "source": [
    "gsv_depth_clipped=gsv_depth.crop(box=(location['horizontal_pixel_range_house'][0],\n",
    "                   upper_crop*gsv_pano.height,\n",
    "                   location['horizontal_pixel_range_house'][1],\n",
    "                   lower_crop*gsv_pano.height\n",
    "                   ))\n",
    "gsv_depth_clipped"
   ]
  },
  {
   "cell_type": "markdown",
   "metadata": {},
   "source": [
    "### Save clipped images"
   ]
  },
  {
   "cell_type": "code",
   "execution_count": null,
   "metadata": {},
   "outputs": [],
   "source": [
    "gsv_pano_clipped.save(os.path.join(out_folder,pano_id+\".jpg\"), \"jpeg\")"
   ]
  },
  {
   "cell_type": "code",
   "execution_count": null,
   "metadata": {},
   "outputs": [],
   "source": [
    "gsv_depth_clipped.save(os.path.join(out_folder_depth,pano_id+\".tif\"))"
   ]
  },
  {
   "cell_type": "markdown",
   "metadata": {},
   "source": [
    "## Batch clipping"
   ]
  },
  {
   "cell_type": "code",
   "execution_count": null,
   "metadata": {},
   "outputs": [],
   "source": [
    "for pano_id in pano_ids:\n",
    "    if metadata[pano_id].get('status') == 'OK':\n",
    "        try:\n",
    "            # read in pano image\n",
    "            pano_file=os.path.join(input_folder,pano_id+\".jpg\")\n",
    "            gsv_pano=Image.open(pano_file)\n",
    "\n",
    "            # read in depth map\n",
    "            depth_file=os.path.join(input_folder_depth,pano_id+\".tif\")\n",
    "            gsv_depth=Image.open(depth_file)\n",
    "            \n",
    "            # localise house of interest\n",
    "            heading=metadata[pano_id]['All_panos'][pano_id]['heading']\n",
    "            location = geometry.localize_house_in_panorama(lat_c=metadata[pano_id]['location']['lat'], \n",
    "                                            lon_c=metadata[pano_id]['location']['lng'], \n",
    "                                            lat_house=metadata[pano_id]['house_location']['lat'], \n",
    "                                            lon_house=metadata[pano_id]['house_location']['lng'],\n",
    "                                            beta_yaw_deg=heading,\n",
    "                                            Wim=gsv_pano.width,angle_extend=40)\n",
    "            # clip pano image\n",
    "            gsv_pano_clipped=gsv_pano.crop(box=(location['horizontal_pixel_range_house'][0],\n",
    "                        upper_crop*gsv_pano.height,\n",
    "                        location['horizontal_pixel_range_house'][1],\n",
    "                        lower_crop*gsv_pano.height\n",
    "                        ))\n",
    "            \n",
    "            # clip depth map\n",
    "            gsv_depth_clipped=gsv_depth.crop(box=(location['horizontal_pixel_range_house'][0],\n",
    "                   upper_crop*gsv_pano.height,\n",
    "                   location['horizontal_pixel_range_house'][1],\n",
    "                   lower_crop*gsv_pano.height\n",
    "                   ))\n",
    "            # save files\n",
    "            gsv_pano_clipped.save(os.path.join(out_folder,pano_id+\".jpg\"), \"jpeg\")\n",
    "            gsv_depth_clipped.save(os.path.join(out_folder_depth,pano_id+\".tif\"))\n",
    "        except Exception as e:  # Catch any other unexpected errors:\n",
    "            print(f\"{e}, skipping...\")"
   ]
  }
 ],
 "metadata": {
  "kernelspec": {
   "display_name": "floorheight",
   "language": "python",
   "name": "python3"
  },
  "language_info": {
   "codemirror_mode": {
    "name": "ipython",
    "version": 3
   },
   "file_extension": ".py",
   "mimetype": "text/x-python",
   "name": "python",
   "nbconvert_exporter": "python",
   "pygments_lexer": "ipython3",
   "version": "3.10.15"
  }
 },
 "nbformat": 4,
 "nbformat_minor": 2
}
